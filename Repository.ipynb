{
  "cells": [
    {
      "attachments": {},
      "cell_type": "markdown",
      "metadata": {
        "colab_type": "text",
        "id": "view-in-github"
      },
      "source": [
        "<a href=\"https://colab.research.google.com/github/7ft10/C4ArchitectureExamples/blob/main/Repository.ipynb\" target=\"_parent\"><img src=\"https://colab.research.google.com/assets/colab-badge.svg\" alt=\"Open In Colab\"/></a>"
      ]
    },
    {
      "cell_type": "code",
      "execution_count": 10,
      "metadata": {
        "colab": {
          "base_uri": "https://localhost:8080/",
          "height": 1000
        },
        "id": "6zt6xB4p7E0U",
        "outputId": "07a86693-0921-4c46-a760-cb69d975dc99"
      },
      "outputs": [
        {
          "data": {
            "text/markdown": [
              "# Imports"
            ],
            "text/plain": [
              "<IPython.core.display.Markdown object>"
            ]
          },
          "metadata": {},
          "output_type": "display_data"
        },
        {
          "data": {
            "text/markdown": [
              "+ https://raw.githubusercontent.com/7ft10/C4ArchitectureExamples/main/Repository.py"
            ],
            "text/plain": [
              "<IPython.core.display.Markdown object>"
            ]
          },
          "metadata": {},
          "output_type": "display_data"
        },
        {
          "data": {
            "text/plain": [
              "('Markdown', IPython.core.display.Markdown)"
            ]
          },
          "metadata": {},
          "output_type": "display_data"
        },
        {
          "data": {
            "text/plain": [
              "('OurDataStores', Repository.OurDataStores)"
            ]
          },
          "metadata": {},
          "output_type": "display_data"
        },
        {
          "data": {
            "text/plain": [
              "('OurExternalSystems', Repository.OurExternalSystems)"
            ]
          },
          "metadata": {},
          "output_type": "display_data"
        },
        {
          "data": {
            "text/plain": [
              "('OurPersonas', Repository.OurPersonas)"
            ]
          },
          "metadata": {},
          "output_type": "display_data"
        },
        {
          "data": {
            "text/plain": [
              "('OurSystems', Repository.OurSystems)"
            ]
          },
          "metadata": {},
          "output_type": "display_data"
        }
      ],
      "source": [
        "#@title Repository\n",
        "\n",
        "from IPython.display import display, Markdown\n",
        "from urllib import request\n",
        "import sys, inspect\n",
        "\n",
        "display(Markdown('# Imports'))\n",
        "\n",
        "display(Markdown('+ https://raw.githubusercontent.com/7ft10/C4ArchitectureExamples/main/Repository.py'))\n",
        "request.urlretrieve('https://raw.githubusercontent.com/7ft10/C4ArchitectureExamples/main/Repository.py', 'Repository.py')\n",
        "\n",
        "from Repository import * \n",
        "   \n",
        "for cls in inspect.getmembers(sys.modules[__name__], inspect.isclass):\n",
        "  display(cls)\n",
        "  try:\n",
        "    eval(cls[0] + '()').Print()\n",
        "  except:\n",
        "    pass\n"
      ]
    }
  ],
  "metadata": {
    "colab": {
      "authorship_tag": "ABX9TyPdBtZxanvHZwYqPy/NT3M5",
      "include_colab_link": true,
      "provenance": []
    },
    "kernelspec": {
      "display_name": "Python 3",
      "name": "python3"
    },
    "language_info": {
      "codemirror_mode": {
        "name": "ipython",
        "version": 3
      },
      "file_extension": ".py",
      "mimetype": "text/x-python",
      "name": "python",
      "nbconvert_exporter": "python",
      "pygments_lexer": "ipython3",
      "version": "3.11.3"
    }
  },
  "nbformat": 4,
  "nbformat_minor": 0
}
