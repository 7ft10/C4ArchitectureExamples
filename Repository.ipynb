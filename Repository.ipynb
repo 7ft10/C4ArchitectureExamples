{
  "nbformat": 4,
  "nbformat_minor": 0,
  "metadata": {
    "colab": {
      "provenance": [],
      "authorship_tag": "ABX9TyNxUZhBmEaPcRn85ZOt8dyV",
      "include_colab_link": true
    },
    "kernelspec": {
      "name": "python3",
      "display_name": "Python 3"
    },
    "language_info": {
      "name": "python"
    }
  },
  "cells": [
    {
      "cell_type": "markdown",
      "metadata": {
        "id": "view-in-github",
        "colab_type": "text"
      },
      "source": [
        "<a href=\"https://colab.research.google.com/github/7ft10/C4ArchitectureExamples/blob/main/Repository.ipynb\" target=\"_parent\"><img src=\"https://colab.research.google.com/assets/colab-badge.svg\" alt=\"Open In Colab\"/></a>"
      ]
    },
    {
      "cell_type": "code",
      "source": [
        "#@title Install Diagrams\n",
        "!pip install diagrams &> /dev/null"
      ],
      "metadata": {
        "id": "wQcLJFIP7JN8"
      },
      "execution_count": null,
      "outputs": []
    },
    {
      "cell_type": "code",
      "execution_count": null,
      "metadata": {
        "id": "6zt6xB4p7E0U"
      },
      "outputs": [],
      "source": [
        "#@title Respository\n",
        "from urllib.request import urlretrieve\n",
        "\n",
        "#@markdown ----------------------------------------------\n",
        "#@markdown # Our Systems\n",
        "class OurSystems():\n",
        "\n",
        "  #@markdown + Web Application (WebApp)\n",
        "  def WebApp(): \n",
        "    return {\n",
        "      \"name\" : \"Web Application\", \n",
        "      \"technology\" : \"Java and Spring MVC\", \n",
        "      \"description\" : \"Delivers the static content and the Internet banking single page application.\",\n",
        "      \"tech-radar-ring\" : \"adopt\",\n",
        "      \"tech-radar-quadrant\" : \"tools\",\n",
        "      \"isNew\" : \"TRUE\"\n",
        "    }\n",
        "\n",
        "  #@markdown + Single Page Application (SPA)\n",
        "  def SPA(): \n",
        "    return { \n",
        "      \"name\" : \"Single-Page Application\",\n",
        "      \"technology\" : \"Javascript and Angular\",\n",
        "      \"description\" : \"Provides all of the Internet banking functionality to customers via their web browser.\",\n",
        "    }\n",
        "\n",
        "  #@markdown + Mobile Application (MobileApp)\n",
        "  def MobileApp(): \n",
        "    return { \n",
        "      \"name\" : \"Mobile App\",\n",
        "      \"technology\" : \"Xamarin\",\n",
        "      \"description\" : \"Provides a limited subset of the Internet banking functionality to customers via their mobile device.\",\n",
        "    }\n",
        "\n",
        "  #@markdown + Application Programming Interface (API)\n",
        "  def API():\n",
        "    return { \n",
        "      \"name\" : \"API Application\",\n",
        "      \"technology\" : \"Java and Spring MVC\",\n",
        "      \"description\" : \"Provides Internet banking functionality via a JSON/HTTPS API.\",\n",
        "    }\n",
        "\n",
        "  #@markdown + Customer Application (CustomerA)\n",
        "  def CustomA():\n",
        "    diagrams_icon = \"diagrams.png\"\n",
        "    urlretrieve(\"https://github.com/mingrammer/diagrams/raw/master/assets/img/diagrams.png\", diagrams_icon)\n",
        "    return { \n",
        "      \"label\" : \"Custom Application\",\n",
        "      \"icon_path\" : diagrams_icon\n",
        "    }\n",
        "\n",
        "#@markdown ---\n",
        "#@markdown # Our Data Stores\n",
        "class OurDataStores(): \n",
        "\n",
        "  #@markdown + Oracle Database (OracleDB)\n",
        "  def OracleDB(): \n",
        "    return { \n",
        "      \"name\" : \"Oracle DB\",\n",
        "      \"technology\" : \"Oracle Database\",\n",
        "      \"description\" : \"Stores user registration information, hashed authentication credentials, access logs, etc.\",\n",
        "    }\n",
        "\n",
        "#@markdown ----------------------------------------------\n",
        "#@markdown # Our External Systems\n",
        "class OurExternalSystems(): \n",
        "\n",
        "  #@markdown + E-mail System (Email)\n",
        "  def Email(): \n",
        "    return { \n",
        "      \"name\" : \"E-mail System\", \n",
        "      \"description\" : \"The internal Microsoft Exchange e-mail system.\", \n",
        "      \"external\" : True\n",
        "    }\n",
        "\n",
        "  #@markdown + Mainframe Banking System (Mainframe)\n",
        "  def Mainframe(): \n",
        "    return { \n",
        "      \"name\" : \"Mainframe Banking System\",\n",
        "      \"description\" : \"Stores all of the core banking information about customers, accounts, transactions, etc.\",\n",
        "      \"external\" : True\n",
        "    }\n",
        "\n",
        "#@markdown ----------------------------------------------\n",
        "#@markdown # Our Personas\n",
        "class OurPersonas(): \n",
        "\n",
        "  #@markdown + Banking Customer (BankingCustomer)\n",
        "  def BankingCustomer(): \n",
        "    return {\n",
        "      \"name\" : \"Personal Banking Customer\", \n",
        "      \"description\" : \"A customer of the bank, with personal bank accounts.\"\n",
        "    }\n"
      ]
    }
  ]
}