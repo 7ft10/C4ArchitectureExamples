{
  "cells": [
    {
      "attachments": {},
      "cell_type": "markdown",
      "metadata": {
        "colab_type": "text",
        "id": "view-in-github"
      },
      "source": [
        "<a href=\"https://colab.research.google.com/github/7ft10/C4ArchitectureExamples/blob/main/Repository.ipynb\" target=\"_parent\"><img src=\"https://colab.research.google.com/assets/colab-badge.svg\" alt=\"Open In Colab\"/></a>"
      ]
    },
    {
      "cell_type": "code",
      "execution_count": 5,
      "metadata": {
        "colab": {
          "base_uri": "https://localhost:8080/",
          "height": 1000
        },
        "id": "6zt6xB4p7E0U",
        "outputId": "07a86693-0921-4c46-a760-cb69d975dc99"
      },
      "outputs": [
        {
          "data": {
            "text/markdown": [
              "# Imports"
            ],
            "text/plain": [
              "<IPython.core.display.Markdown object>"
            ]
          },
          "metadata": {},
          "output_type": "display_data"
        },
        {
          "data": {
            "text/markdown": [
              "+ https://raw.githubusercontent.com/7ft10/C4ArchitectureExamples/main/Repository.py"
            ],
            "text/plain": [
              "<IPython.core.display.Markdown object>"
            ]
          },
          "metadata": {},
          "output_type": "display_data"
        },
        {
          "data": {
            "text/markdown": [
              "---"
            ],
            "text/plain": [
              "<IPython.core.display.Markdown object>"
            ]
          },
          "metadata": {},
          "output_type": "display_data"
        },
        {
          "data": {
            "text/markdown": [
              "## ActiveDirectory"
            ],
            "text/plain": [
              "<IPython.core.display.Markdown object>"
            ]
          },
          "metadata": {},
          "output_type": "display_data"
        },
        {
          "data": {
            "text/markdown": [
              "| Key         | Value       |\n",
              "                   | ----------- | ----------- |\n",
              "| label | Active Directory |\n",
              "| icon_path | ActiveDirectory.png |\n",
              "| name | Name missing |\n",
              "| description |  |"
            ],
            "text/plain": [
              "<IPython.core.display.Markdown object>"
            ]
          },
          "metadata": {},
          "output_type": "display_data"
        },
        {
          "data": {
            "text/markdown": [
              "---"
            ],
            "text/plain": [
              "<IPython.core.display.Markdown object>"
            ]
          },
          "metadata": {},
          "output_type": "display_data"
        },
        {
          "data": {
            "text/markdown": [
              "## Bamboo"
            ],
            "text/plain": [
              "<IPython.core.display.Markdown object>"
            ]
          },
          "metadata": {},
          "output_type": "display_data"
        },
        {
          "data": {
            "text/markdown": [
              "| Key         | Value       |\n",
              "                   | ----------- | ----------- |\n",
              "| name | Bamboo (Server) |\n",
              "| technology | Linux |\n",
              "| description | Bamboo. |\n",
              "| label | <<font point-size=\"12\"><b>Bamboo (Server)</b></font><br/><font point-size=\"9\">[Container]<br/></font><br/><font point-size=\"10\">Linux <br/> bamboo.budgetdirect.com.au <br/> 192.168.61.150</font>> |\n",
              "| _attributes | {'CPU': '', 'RAM': '', 'Storage': '124.5GB', 'Type': 'V', 'OS': 'Linux', 'Network Zone': '', 'Confluence Application Version': '8.13.2'} |"
            ],
            "text/plain": [
              "<IPython.core.display.Markdown object>"
            ]
          },
          "metadata": {},
          "output_type": "display_data"
        },
        {
          "data": {
            "text/markdown": [
              "---"
            ],
            "text/plain": [
              "<IPython.core.display.Markdown object>"
            ]
          },
          "metadata": {},
          "output_type": "display_data"
        },
        {
          "data": {
            "text/markdown": [
              "## Confluence"
            ],
            "text/plain": [
              "<IPython.core.display.Markdown object>"
            ]
          },
          "metadata": {},
          "output_type": "display_data"
        },
        {
          "data": {
            "text/markdown": [
              "| Key         | Value       |\n",
              "                   | ----------- | ----------- |\n",
              "| name | Confluence (Server) |\n",
              "| technology | Linux |\n",
              "| description | Confluence |\n",
              "| label | <<font point-size=\"12\"><b>Confluence (Server)</b></font><br/><font point-size=\"9\">[Container]<br/></font><br/><font point-size=\"10\">Linux <br/> confluence.budgetdirect.com.au <br/> 192.168.110.100</font>> |\n",
              "| _attributes | {'CPU': '', 'RAM': '', 'Storage': '124.5GB', 'Type': 'V', 'OS': 'Linux', 'Network Zone': '', 'Confluence Application Version': '8.13.2'} |"
            ],
            "text/plain": [
              "<IPython.core.display.Markdown object>"
            ]
          },
          "metadata": {},
          "output_type": "display_data"
        },
        {
          "data": {
            "text/markdown": [
              "---"
            ],
            "text/plain": [
              "<IPython.core.display.Markdown object>"
            ]
          },
          "metadata": {},
          "output_type": "display_data"
        },
        {
          "data": {
            "text/markdown": [
              "## Disc"
            ],
            "text/plain": [
              "<IPython.core.display.Markdown object>"
            ]
          },
          "metadata": {},
          "output_type": "display_data"
        },
        {
          "data": {
            "text/markdown": [
              "| Key         | Value       |\n",
              "                   | ----------- | ----------- |\n",
              "| name | Disc |\n",
              "| technology | IBMi |\n",
              "| description | http://ddafsd/dsf |\n",
              "| icon_path | NewRelic.png |\n",
              "| one | two |"
            ],
            "text/plain": [
              "<IPython.core.display.Markdown object>"
            ]
          },
          "metadata": {},
          "output_type": "display_data"
        },
        {
          "data": {
            "text/markdown": [
              "---"
            ],
            "text/plain": [
              "<IPython.core.display.Markdown object>"
            ]
          },
          "metadata": {},
          "output_type": "display_data"
        },
        {
          "data": {
            "text/markdown": [
              "## Jira"
            ],
            "text/plain": [
              "<IPython.core.display.Markdown object>"
            ]
          },
          "metadata": {},
          "output_type": "display_data"
        },
        {
          "data": {
            "text/markdown": [
              "| Key         | Value       |\n",
              "                   | ----------- | ----------- |\n",
              "| name | Jira (Server) |\n",
              "| technology | Linux |\n",
              "| description | jira.budgetdirect.com.au |\n",
              "| label | <<font point-size=\"12\"><b>Jira (Server)</b></font><br/><font point-size=\"9\">[Container]<br/></font><br/><font point-size=\"10\">Linux <br/> jira.budgetdirect.com.au <br/> 192.168.110.46</font>> |\n",
              "| _attributes | {'CPU': '', 'RAM': '', 'Storage': '124.5GB', 'Type': 'V', 'OS': 'Linux', 'Network Zone': '', 'Confluence Application Version': '8.13.2'} |"
            ],
            "text/plain": [
              "<IPython.core.display.Markdown object>"
            ]
          },
          "metadata": {},
          "output_type": "display_data"
        },
        {
          "data": {
            "text/markdown": [
              "---"
            ],
            "text/plain": [
              "<IPython.core.display.Markdown object>"
            ]
          },
          "metadata": {},
          "output_type": "display_data"
        },
        {
          "data": {
            "text/markdown": [
              "## TheHub"
            ],
            "text/plain": [
              "<IPython.core.display.Markdown object>"
            ]
          },
          "metadata": {},
          "output_type": "display_data"
        },
        {
          "data": {
            "text/markdown": [
              "| Key         | Value       |\n",
              "                   | ----------- | ----------- |\n",
              "| name | The Hub |\n",
              "| description | The hub. |\n",
              "| _attributes | {'Notes': '\\n                Part of the on-prem confluence implementation,\\n                to be migrated not a new system.\\n                '} |"
            ],
            "text/plain": [
              "<IPython.core.display.Markdown object>"
            ]
          },
          "metadata": {},
          "output_type": "display_data"
        }
      ],
      "source": [
        "#@title Repository\n",
        "\n",
        "from IPython.display import display, Markdown\n",
        "from urllib import request\n",
        "import sys, inspect\n",
        "\n",
        "display(Markdown('# Imports'))\n",
        "\n",
        "display(Markdown('+ https://raw.githubusercontent.com/7ft10/C4ArchitectureExamples/main/Repository.py'))\n",
        "request.urlretrieve('https://raw.githubusercontent.com/7ft10/C4ArchitectureExamples/main/Repository.py', 'Repository.tmp')\n",
        "\n",
        "from Repository import * \n",
        "   \n",
        "for cls in inspect.getmembers(sys.modules[__name__], inspect.isclass):\n",
        "  try:\n",
        "    eval(cls[0] + '()').Print()\n",
        "  except:\n",
        "    pass\n"
      ]
    }
  ],
  "metadata": {
    "colab": {
      "authorship_tag": "ABX9TyPdBtZxanvHZwYqPy/NT3M5",
      "include_colab_link": true,
      "provenance": []
    },
    "kernelspec": {
      "display_name": "Python 3",
      "name": "python3"
    },
    "language_info": {
      "codemirror_mode": {
        "name": "ipython",
        "version": 3
      },
      "file_extension": ".py",
      "mimetype": "text/x-python",
      "name": "python",
      "nbconvert_exporter": "python",
      "pygments_lexer": "ipython3",
      "version": "3.11.3"
    }
  },
  "nbformat": 4,
  "nbformat_minor": 0
}
