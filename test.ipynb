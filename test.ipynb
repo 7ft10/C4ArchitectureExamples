{
 "cells": [
  {
   "cell_type": "code",
   "execution_count": 1,
   "metadata": {},
   "outputs": [
    {
     "data": {
      "text/plain": [
       "0"
      ]
     },
     "execution_count": 1,
     "metadata": {},
     "output_type": "execute_result"
    }
   ],
   "source": [
    "#@title Install YAML\n",
    "import os\n",
    "os.system('pip install pyyaml')"
   ]
  },
  {
   "cell_type": "code",
   "execution_count": 3,
   "metadata": {},
   "outputs": [
    {
     "data": {
      "text/markdown": [
       "---"
      ],
      "text/plain": [
       "<IPython.core.display.Markdown object>"
      ]
     },
     "metadata": {},
     "output_type": "display_data"
    },
    {
     "data": {
      "text/markdown": [
       "## InternalUser"
      ],
      "text/plain": [
       "<IPython.core.display.Markdown object>"
      ]
     },
     "metadata": {},
     "output_type": "display_data"
    },
    {
     "data": {
      "text/markdown": [
       "| Key         | Value       |\n",
       "                   | ----------- | ----------- |\n",
       "| id | InternalUser |\n",
       "| name | Internal Users |\n",
       "| description | Several lines of text,\n",
       "with some \"quotes\" of various 'types',\n",
       "and also a blank line:\n",
       "\n",
       "and some text with\n",
       "  extra indentation\n",
       "on the next line,\n",
       "plus another line at the end. |"
      ],
      "text/plain": [
       "<IPython.core.display.Markdown object>"
      ]
     },
     "metadata": {},
     "output_type": "display_data"
    },
    {
     "data": {
      "text/markdown": [
       "---"
      ],
      "text/plain": [
       "<IPython.core.display.Markdown object>"
      ]
     },
     "metadata": {},
     "output_type": "display_data"
    },
    {
     "data": {
      "text/markdown": [
       "## Disc"
      ],
      "text/plain": [
       "<IPython.core.display.Markdown object>"
      ]
     },
     "metadata": {},
     "output_type": "display_data"
    },
    {
     "data": {
      "text/markdown": [
       "| Key         | Value       |\n",
       "                   | ----------- | ----------- |\n",
       "| id | Disc |\n",
       "| name | Disc |\n",
       "| description | Several lines of text |\n",
       "| technology | IBMi |"
      ],
      "text/plain": [
       "<IPython.core.display.Markdown object>"
      ]
     },
     "metadata": {},
     "output_type": "display_data"
    },
    {
     "data": {
      "text/markdown": [
       "---"
      ],
      "text/plain": [
       "<IPython.core.display.Markdown object>"
      ]
     },
     "metadata": {},
     "output_type": "display_data"
    },
    {
     "data": {
      "text/markdown": [
       "## Bamboo"
      ],
      "text/plain": [
       "<IPython.core.display.Markdown object>"
      ]
     },
     "metadata": {},
     "output_type": "display_data"
    },
    {
     "data": {
      "text/markdown": [
       "| Key         | Value       |\n",
       "                   | ----------- | ----------- |\n",
       "| id | Bamboo |\n",
       "| name | Bamboo (Server) |\n",
       "| description | Bamboo |\n",
       "| technology | Linux |\n",
       "| icon | https://w7.pngwing.com/pngs/126/46/png-transparent-bamboo-atlassian-continuous-integration-jira-confluence-vision-blue-text-trademark.png |\n",
       "| label | Bamboo (Server)\n",
       "Container Linux <br/>\n",
       "bamboo.internal.server.com.au <br/>\n",
       "192.168.61.150 |\n",
       "| CPU | None |\n",
       "| RAM | None |\n",
       "| Storage | 124.5GB |\n",
       "| Type | V |\n",
       "| OS | Linux |\n",
       "| Network Zone | None |\n",
       "| Application Version | 8.13.2 |"
      ],
      "text/plain": [
       "<IPython.core.display.Markdown object>"
      ]
     },
     "metadata": {},
     "output_type": "display_data"
    },
    {
     "data": {
      "text/markdown": [
       "---"
      ],
      "text/plain": [
       "<IPython.core.display.Markdown object>"
      ]
     },
     "metadata": {},
     "output_type": "display_data"
    },
    {
     "data": {
      "text/markdown": [
       "## Confluence"
      ],
      "text/plain": [
       "<IPython.core.display.Markdown object>"
      ]
     },
     "metadata": {},
     "output_type": "display_data"
    },
    {
     "data": {
      "text/markdown": [
       "| Key         | Value       |\n",
       "                   | ----------- | ----------- |\n",
       "| id | Confluence |\n",
       "| name | Confluence (Server) |\n",
       "| description | Confluence |\n",
       "| technology | Linux |\n",
       "| icon | https://w7.pngwing.com/pngs/282/343/png-transparent-confluence-atlassian-logo-jira-sharepoint-confluence-health-mares-building-text-logo-area.png |\n",
       "| label | Bamboo (Server)\n",
       "Container Linux <br/>\n",
       "confluence.internal.server.com.au <br/>\n",
       "192.168.110.100 |\n",
       "| CPU | None |\n",
       "| RAM | None |\n",
       "| Storage | 124.5GB |\n",
       "| Type | V |\n",
       "| OS | Linux |\n",
       "| Network Zone | None |\n",
       "| Application Version | 8.13.2 |"
      ],
      "text/plain": [
       "<IPython.core.display.Markdown object>"
      ]
     },
     "metadata": {},
     "output_type": "display_data"
    },
    {
     "data": {
      "text/markdown": [
       "---"
      ],
      "text/plain": [
       "<IPython.core.display.Markdown object>"
      ]
     },
     "metadata": {},
     "output_type": "display_data"
    },
    {
     "data": {
      "text/markdown": [
       "## NewRelic"
      ],
      "text/plain": [
       "<IPython.core.display.Markdown object>"
      ]
     },
     "metadata": {},
     "output_type": "display_data"
    },
    {
     "data": {
      "text/markdown": [
       "| Key         | Value       |\n",
       "                   | ----------- | ----------- |\n",
       "| id | NewRelic |\n",
       "| name | NewRelic |\n",
       "| description | NewRelic |\n",
       "| icon | https://newrelic.com/themes/custom/erno/assets/mediakit/new_relic_logo_vertical.png |"
      ],
      "text/plain": [
       "<IPython.core.display.Markdown object>"
      ]
     },
     "metadata": {},
     "output_type": "display_data"
    }
   ],
   "source": [
    "from urllib import request\n",
    "#from Repository.Repository import Personas, InternalSystems\n",
    "\n",
    "baseUrl = \"https://raw.githubusercontent.com/7ft10/C4ArchitectureExamples/main/\"\n",
    "request.urlretrieve(baseUrl + 'Repository/Repository.py', '_Repository_.py')\n",
    "from _Repository_ import Personas, InternalSystems, ExternalSystems\n",
    "\n",
    "Personas.InternalUser.Print()\n",
    "InternalSystems.Disc.Print()\n",
    "InternalSystems.Bamboo.Print()\n",
    "InternalSystems.Confluence.Print()\n",
    "\n",
    "ExternalSystems.NewRelic.Print()"
   ]
  },
  {
   "cell_type": "code",
   "execution_count": 5,
   "metadata": {},
   "outputs": [
    {
     "ename": "KeyError",
     "evalue": "'icon_path'",
     "output_type": "error",
     "traceback": [
      "\u001b[1;31m---------------------------------------------------------------------------\u001b[0m",
      "\u001b[1;31mKeyError\u001b[0m                                  Traceback (most recent call last)",
      "Cell \u001b[1;32mIn[5], line 24\u001b[0m\n\u001b[0;32m     21\u001b[0m internalUsers \u001b[39m=\u001b[39m Personas\u001b[39m.\u001b[39mInternalUser\u001b[39m.\u001b[39mGet()\n\u001b[0;32m     23\u001b[0m \u001b[39mwith\u001b[39;00m SystemBoundary(\u001b[39m\"\u001b[39m\u001b[39mOn-Premise\u001b[39m\u001b[39m\"\u001b[39m):\n\u001b[1;32m---> 24\u001b[0m   disc \u001b[39m=\u001b[39m InternalSystems\u001b[39m.\u001b[39;49mDisc\u001b[39m.\u001b[39;49mGet()\n\u001b[0;32m     25\u001b[0m   bamboo \u001b[39m=\u001b[39m InternalSystems\u001b[39m.\u001b[39mBamboo\u001b[39m.\u001b[39mGet()\n\u001b[0;32m     26\u001b[0m   confluence \u001b[39m=\u001b[39m InternalSystems\u001b[39m.\u001b[39mConfluence\u001b[39m.\u001b[39mGet()\n",
      "File \u001b[1;32mc:\\Users\\mike\\Documents\\Github\\C4ArchitectureExamples\\_SeventFtNode_.py:98\u001b[0m, in \u001b[0;36mSevenftNode.Get\u001b[1;34m(self)\u001b[0m\n\u001b[0;32m     96\u001b[0m   \u001b[39melse\u001b[39;00m:\n\u001b[0;32m     97\u001b[0m     \u001b[39mpass\u001b[39;00m\n\u001b[1;32m---> 98\u001b[0m   \u001b[39mself\u001b[39m\u001b[39m.\u001b[39minstance \u001b[39m=\u001b[39m Custom(name, md\u001b[39m.\u001b[39;49mpop(\u001b[39m'\u001b[39;49m\u001b[39micon_path\u001b[39;49m\u001b[39m'\u001b[39;49m), \u001b[39m*\u001b[39m\u001b[39m*\u001b[39mmd)\n\u001b[0;32m     99\u001b[0m \u001b[39mcase\u001b[39;00m \u001b[39m\"\u001b[39m\u001b[39mDatabase\u001b[39m\u001b[39m\"\u001b[39m:\n\u001b[0;32m    100\u001b[0m   md\u001b[39m.\u001b[39msetdefault(\u001b[39m'\u001b[39m\u001b[39mtechnology\u001b[39m\u001b[39m'\u001b[39m, \u001b[39m\"\u001b[39m\u001b[39mTechnology missing\u001b[39m\u001b[39m\"\u001b[39m)\n",
      "\u001b[1;31mKeyError\u001b[0m: 'icon_path'"
     ]
    }
   ],
   "source": [
    "#@title Transition State Definition\n",
    "from diagrams import Diagram\n",
    "from diagrams.c4 import SystemBoundary, Relationship \n",
    "from _Repository_ import Personas, InternalSystems, ExternalSystems\n",
    "\n",
    "with Diagram(** {\n",
    "  \"name\": \"_test\",\n",
    "  \"outformat\": \"png\",\n",
    "  \"direction\": \"TB\",\n",
    "  \"graph_attr\": {\n",
    "     \"splines\": \"spline\",\n",
    "      \"fontsize\": \"10\",\n",
    "      \"bgcolor\": \"transparent\"\n",
    "  },\n",
    "  \"node_attr\": {\n",
    "    \"fontsize\": \"8px\",\n",
    "    \"width\": \"1.8\"\t\n",
    "  }\n",
    "}) as test:\n",
    "  \n",
    "  internalUsers = Personas.InternalUser.Get()\n",
    "\n",
    "  with SystemBoundary(\"On-Premise\"):\n",
    "    disc = InternalSystems.Disc.Get()\n",
    "    bamboo = InternalSystems.Bamboo.Get()\n",
    "    confluence = InternalSystems.Confluence.Get()\n",
    "\n",
    "  newRelic = ExternalSystems.NewRelic.Get()\n",
    "\n",
    "  internalUsers >> Relationship(\"Access via\") >> confluence\n",
    "\n",
    "test "
   ]
  }
 ],
 "metadata": {
  "kernelspec": {
   "display_name": "Python 3",
   "language": "python",
   "name": "python3"
  },
  "language_info": {
   "codemirror_mode": {
    "name": "ipython",
    "version": 3
   },
   "file_extension": ".py",
   "mimetype": "text/x-python",
   "name": "python",
   "nbconvert_exporter": "python",
   "pygments_lexer": "ipython3",
   "version": "3.11.4"
  },
  "orig_nbformat": 4
 },
 "nbformat": 4,
 "nbformat_minor": 2
}
