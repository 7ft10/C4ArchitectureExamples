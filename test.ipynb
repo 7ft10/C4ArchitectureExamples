{
 "cells": [
  {
   "cell_type": "code",
   "execution_count": 1,
   "metadata": {},
   "outputs": [
    {
     "data": {
      "text/plain": [
       "0"
      ]
     },
     "execution_count": 1,
     "metadata": {},
     "output_type": "execute_result"
    }
   ],
   "source": [
    "#@title Install YAML\n",
    "import os\n",
    "os.system('pip install pyyaml')"
   ]
  },
  {
   "cell_type": "code",
   "execution_count": 2,
   "metadata": {},
   "outputs": [
    {
     "ename": "AttributeError",
     "evalue": "type object 'SevenftNode' has no attribute 'LoadFromYaml'",
     "output_type": "error",
     "traceback": [
      "\u001b[1;31m---------------------------------------------------------------------------\u001b[0m",
      "\u001b[1;31mAttributeError\u001b[0m                            Traceback (most recent call last)",
      "Cell \u001b[1;32mIn[2], line 11\u001b[0m\n\u001b[0;32m      7\u001b[0m request\u001b[39m.\u001b[39murlretrieve(\u001b[39m'\u001b[39m\u001b[39mhttps://raw.githubusercontent.com/7ft10/C4ArchitectureExamples/main/SeventFtNode.py\u001b[39m\u001b[39m'\u001b[39m, \u001b[39m'\u001b[39m\u001b[39m_SeventFtNode_.py\u001b[39m\u001b[39m'\u001b[39m)\n\u001b[0;32m      9\u001b[0m \u001b[39mfrom\u001b[39;00m \u001b[39m_SeventFtNode_\u001b[39;00m \u001b[39mimport\u001b[39;00m \u001b[39m*\u001b[39m\n\u001b[1;32m---> 11\u001b[0m _Class \u001b[39m=\u001b[39m SevenftNode\u001b[39m.\u001b[39;49mLoadFromYaml(\u001b[39m\"\u001b[39m\u001b[39m./Repository/Personas/Internal Users.yaml\u001b[39m\u001b[39m\"\u001b[39m)\n\u001b[0;32m     13\u001b[0m InternalUser()\u001b[39m.\u001b[39mPrint()\n\u001b[0;32m     15\u001b[0m _Class()\u001b[39m.\u001b[39mPrint()\n",
      "\u001b[1;31mAttributeError\u001b[0m: type object 'SevenftNode' has no attribute 'LoadFromYaml'"
     ]
    }
   ],
   "source": [
    "import yaml\n",
    "from urllib import request\n",
    "from SeventFtNode import SevenftNode\n",
    "from IPython.display import display, Markdown\n",
    "import sys, inspect\n",
    "\n",
    "request.urlretrieve('https://raw.githubusercontent.com/7ft10/C4ArchitectureExamples/main/SeventFtNode.py', '_SeventFtNode_.py')\n",
    "\n",
    "from _SeventFtNode_ import *\n",
    "\n",
    "_Class = SevenftNode.LoadFromYaml(\"./Repository/Personas/Internal Users.yaml\")\n",
    "\n",
    "InternalUser().Print()\n",
    "\n",
    "_Class().Print()\n",
    "\n",
    "for cls in inspect.getmembers(sys.modules[__name__], inspect.isclass):\n",
    "  try:\n",
    "    eval(cls[0] + '()').Print()\n",
    "  except:\n",
    "    pass\n"
   ]
  }
 ],
 "metadata": {
  "kernelspec": {
   "display_name": "Python 3",
   "language": "python",
   "name": "python3"
  },
  "language_info": {
   "codemirror_mode": {
    "name": "ipython",
    "version": 3
   },
   "file_extension": ".py",
   "mimetype": "text/x-python",
   "name": "python",
   "nbconvert_exporter": "python",
   "pygments_lexer": "ipython3",
   "version": "3.11.4"
  },
  "orig_nbformat": 4
 },
 "nbformat": 4,
 "nbformat_minor": 2
}
