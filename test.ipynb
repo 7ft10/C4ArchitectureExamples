{
 "cells": [
  {
   "cell_type": "code",
   "execution_count": 1,
   "metadata": {},
   "outputs": [
    {
     "data": {
      "text/plain": [
       "0"
      ]
     },
     "execution_count": 1,
     "metadata": {},
     "output_type": "execute_result"
    }
   ],
   "source": [
    "#@title Install YAML\n",
    "import os\n",
    "os.system('pip install pyyaml')"
   ]
  },
  {
   "cell_type": "code",
   "execution_count": 2,
   "metadata": {},
   "outputs": [
    {
     "data": {
      "text/markdown": [
       "---"
      ],
      "text/plain": [
       "<IPython.core.display.Markdown object>"
      ]
     },
     "metadata": {},
     "output_type": "display_data"
    },
    {
     "data": {
      "text/markdown": [
       "## InternalUser"
      ],
      "text/plain": [
       "<IPython.core.display.Markdown object>"
      ]
     },
     "metadata": {},
     "output_type": "display_data"
    },
    {
     "data": {
      "text/markdown": [
       "| Key         | Value       |\n",
       "                   | ----------- | ----------- |\n",
       "| id | InternalUser |\n",
       "| name | Internal Users |\n",
       "| description | Several lines of text,\n",
       "with some \"quotes\" of various 'types',\n",
       "and also a blank line:\n",
       "\n",
       "and some text with\n",
       "  extra indentation\n",
       "on the next line,\n",
       "plus another line at the end. |"
      ],
      "text/plain": [
       "<IPython.core.display.Markdown object>"
      ]
     },
     "metadata": {},
     "output_type": "display_data"
    },
    {
     "data": {
      "text/markdown": [
       "---"
      ],
      "text/plain": [
       "<IPython.core.display.Markdown object>"
      ]
     },
     "metadata": {},
     "output_type": "display_data"
    },
    {
     "data": {
      "text/markdown": [
       "## Disc"
      ],
      "text/plain": [
       "<IPython.core.display.Markdown object>"
      ]
     },
     "metadata": {},
     "output_type": "display_data"
    },
    {
     "data": {
      "text/markdown": [
       "| Key         | Value       |\n",
       "                   | ----------- | ----------- |\n",
       "| id | Disc |\n",
       "| name | Disc |\n",
       "| description | Several lines of text |\n",
       "| technology | IBMi |\n",
       "| icon | https://w7.pngwing.com/pngs/1/875/png-transparent-as400-ibm.png |"
      ],
      "text/plain": [
       "<IPython.core.display.Markdown object>"
      ]
     },
     "metadata": {},
     "output_type": "display_data"
    },
    {
     "data": {
      "text/markdown": [
       "---"
      ],
      "text/plain": [
       "<IPython.core.display.Markdown object>"
      ]
     },
     "metadata": {},
     "output_type": "display_data"
    },
    {
     "data": {
      "text/markdown": [
       "## Bamboo"
      ],
      "text/plain": [
       "<IPython.core.display.Markdown object>"
      ]
     },
     "metadata": {},
     "output_type": "display_data"
    },
    {
     "data": {
      "text/markdown": [
       "| Key         | Value       |\n",
       "                   | ----------- | ----------- |\n",
       "| id | Bamboo |\n",
       "| name | Bamboo (Server) |\n",
       "| description | Bamboo |\n",
       "| technology | Linux |\n",
       "| icon | https://w7.pngwing.com/pngs/126/46/png-transparent-bamboo-atlassian-continuous-integration-jira-confluence-vision-blue-text-trademark.png |\n",
       "| label | Bamboo (Server)\n",
       "Container Linux <br/>\n",
       "bamboo.internal.server.com.au <br/>\n",
       "192.168.61.150 |\n",
       "| CPU | None |\n",
       "| RAM | None |\n",
       "| Storage | 124.5GB |\n",
       "| Type | V |\n",
       "| OS | Linux |\n",
       "| Network Zone | None |\n",
       "| Application Version | 8.13.2 |"
      ],
      "text/plain": [
       "<IPython.core.display.Markdown object>"
      ]
     },
     "metadata": {},
     "output_type": "display_data"
    },
    {
     "data": {
      "text/markdown": [
       "---"
      ],
      "text/plain": [
       "<IPython.core.display.Markdown object>"
      ]
     },
     "metadata": {},
     "output_type": "display_data"
    },
    {
     "data": {
      "text/markdown": [
       "## Confluence"
      ],
      "text/plain": [
       "<IPython.core.display.Markdown object>"
      ]
     },
     "metadata": {},
     "output_type": "display_data"
    },
    {
     "data": {
      "text/markdown": [
       "| Key         | Value       |\n",
       "                   | ----------- | ----------- |\n",
       "| id | Confluence |\n",
       "| name | Confluence (Server) |\n",
       "| description | Confluence |\n",
       "| technology | Linux |\n",
       "| icon | https://w7.pngwing.com/pngs/282/343/png-transparent-confluence-atlassian-logo-jira-sharepoint-confluence-health-mares-building-text-logo-area.png |\n",
       "| label | Bamboo (Server)\n",
       "Container Linux <br/>\n",
       "confluence.internal.server.com.au <br/>\n",
       "192.168.110.100 |\n",
       "| CPU | None |\n",
       "| RAM | None |\n",
       "| Storage | 124.5GB |\n",
       "| Type | V |\n",
       "| OS | Linux |\n",
       "| Network Zone | None |\n",
       "| Application Version | 8.13.2 |"
      ],
      "text/plain": [
       "<IPython.core.display.Markdown object>"
      ]
     },
     "metadata": {},
     "output_type": "display_data"
    },
    {
     "data": {
      "text/markdown": [
       "---"
      ],
      "text/plain": [
       "<IPython.core.display.Markdown object>"
      ]
     },
     "metadata": {},
     "output_type": "display_data"
    },
    {
     "data": {
      "text/markdown": [
       "## NewRelic"
      ],
      "text/plain": [
       "<IPython.core.display.Markdown object>"
      ]
     },
     "metadata": {},
     "output_type": "display_data"
    },
    {
     "data": {
      "text/markdown": [
       "| Key         | Value       |\n",
       "                   | ----------- | ----------- |\n",
       "| id | NewRelic |\n",
       "| name | NewRelic |\n",
       "| description | NewRelic |\n",
       "| icon | https://newrelic.com/themes/custom/erno/assets/mediakit/new_relic_logo_vertical.png |"
      ],
      "text/plain": [
       "<IPython.core.display.Markdown object>"
      ]
     },
     "metadata": {},
     "output_type": "display_data"
    }
   ],
   "source": [
    "from urllib import request\n",
    "#from Repository.Repository import Personas, InternalSystems\n",
    "\n",
    "baseUrl = \"https://raw.githubusercontent.com/7ft10/C4ArchitectureExamples/main/\"\n",
    "request.urlretrieve(baseUrl + 'Repository/Repository.py', '_Repository_.py')\n",
    "from _Repository_ import Personas, InternalSystems, ExternalSystems\n",
    "\n",
    "Personas.InternalUser.Print()\n",
    "InternalSystems.Disc.Print()\n",
    "InternalSystems.Bamboo.Print()\n",
    "InternalSystems.Confluence.Print()\n",
    "\n",
    "ExternalSystems.NewRelic.Print()"
   ]
  },
  {
   "cell_type": "code",
   "execution_count": 4,
   "metadata": {},
   "outputs": [
    {
     "ename": "AttributeError",
     "evalue": "type object 'SevenftNode' has no attribute 'default_icon'",
     "output_type": "error",
     "traceback": [
      "\u001b[1;31m---------------------------------------------------------------------------\u001b[0m",
      "\u001b[1;31mHTTPError\u001b[0m                                 Traceback (most recent call last)",
      "File \u001b[1;32mc:\\Users\\mike\\Documents\\Github\\C4ArchitectureExamples\\_SeventFtNode_.py:27\u001b[0m, in \u001b[0;36mSevenftNode.GetIcon\u001b[1;34m(name, url)\u001b[0m\n\u001b[0;32m     26\u001b[0m \u001b[39mtry\u001b[39;00m:\n\u001b[1;32m---> 27\u001b[0m   request\u001b[39m.\u001b[39;49murlretrieve(url, name)\n\u001b[0;32m     28\u001b[0m \u001b[39mexcept\u001b[39;00m:\n",
      "File \u001b[1;32mC:\\Program Files\\WindowsApps\\PythonSoftwareFoundation.Python.3.11_3.11.1264.0_x64__qbz5n2kfra8p0\\Lib\\urllib\\request.py:241\u001b[0m, in \u001b[0;36murlretrieve\u001b[1;34m(url, filename, reporthook, data)\u001b[0m\n\u001b[0;32m    239\u001b[0m url_type, path \u001b[39m=\u001b[39m _splittype(url)\n\u001b[1;32m--> 241\u001b[0m \u001b[39mwith\u001b[39;00m contextlib\u001b[39m.\u001b[39mclosing(urlopen(url, data)) \u001b[39mas\u001b[39;00m fp:\n\u001b[0;32m    242\u001b[0m     headers \u001b[39m=\u001b[39m fp\u001b[39m.\u001b[39minfo()\n",
      "File \u001b[1;32mC:\\Program Files\\WindowsApps\\PythonSoftwareFoundation.Python.3.11_3.11.1264.0_x64__qbz5n2kfra8p0\\Lib\\urllib\\request.py:216\u001b[0m, in \u001b[0;36murlopen\u001b[1;34m(url, data, timeout, cafile, capath, cadefault, context)\u001b[0m\n\u001b[0;32m    215\u001b[0m     opener \u001b[39m=\u001b[39m _opener\n\u001b[1;32m--> 216\u001b[0m \u001b[39mreturn\u001b[39;00m opener\u001b[39m.\u001b[39;49mopen(url, data, timeout)\n",
      "File \u001b[1;32mC:\\Program Files\\WindowsApps\\PythonSoftwareFoundation.Python.3.11_3.11.1264.0_x64__qbz5n2kfra8p0\\Lib\\urllib\\request.py:525\u001b[0m, in \u001b[0;36mOpenerDirector.open\u001b[1;34m(self, fullurl, data, timeout)\u001b[0m\n\u001b[0;32m    524\u001b[0m     meth \u001b[39m=\u001b[39m \u001b[39mgetattr\u001b[39m(processor, meth_name)\n\u001b[1;32m--> 525\u001b[0m     response \u001b[39m=\u001b[39m meth(req, response)\n\u001b[0;32m    527\u001b[0m \u001b[39mreturn\u001b[39;00m response\n",
      "File \u001b[1;32mC:\\Program Files\\WindowsApps\\PythonSoftwareFoundation.Python.3.11_3.11.1264.0_x64__qbz5n2kfra8p0\\Lib\\urllib\\request.py:634\u001b[0m, in \u001b[0;36mHTTPErrorProcessor.http_response\u001b[1;34m(self, request, response)\u001b[0m\n\u001b[0;32m    633\u001b[0m \u001b[39mif\u001b[39;00m \u001b[39mnot\u001b[39;00m (\u001b[39m200\u001b[39m \u001b[39m<\u001b[39m\u001b[39m=\u001b[39m code \u001b[39m<\u001b[39m \u001b[39m300\u001b[39m):\n\u001b[1;32m--> 634\u001b[0m     response \u001b[39m=\u001b[39m \u001b[39mself\u001b[39;49m\u001b[39m.\u001b[39;49mparent\u001b[39m.\u001b[39;49merror(\n\u001b[0;32m    635\u001b[0m         \u001b[39m'\u001b[39;49m\u001b[39mhttp\u001b[39;49m\u001b[39m'\u001b[39;49m, request, response, code, msg, hdrs)\n\u001b[0;32m    637\u001b[0m \u001b[39mreturn\u001b[39;00m response\n",
      "File \u001b[1;32mC:\\Program Files\\WindowsApps\\PythonSoftwareFoundation.Python.3.11_3.11.1264.0_x64__qbz5n2kfra8p0\\Lib\\urllib\\request.py:563\u001b[0m, in \u001b[0;36mOpenerDirector.error\u001b[1;34m(self, proto, *args)\u001b[0m\n\u001b[0;32m    562\u001b[0m args \u001b[39m=\u001b[39m (\u001b[39mdict\u001b[39m, \u001b[39m'\u001b[39m\u001b[39mdefault\u001b[39m\u001b[39m'\u001b[39m, \u001b[39m'\u001b[39m\u001b[39mhttp_error_default\u001b[39m\u001b[39m'\u001b[39m) \u001b[39m+\u001b[39m orig_args\n\u001b[1;32m--> 563\u001b[0m \u001b[39mreturn\u001b[39;00m \u001b[39mself\u001b[39;49m\u001b[39m.\u001b[39;49m_call_chain(\u001b[39m*\u001b[39;49margs)\n",
      "File \u001b[1;32mC:\\Program Files\\WindowsApps\\PythonSoftwareFoundation.Python.3.11_3.11.1264.0_x64__qbz5n2kfra8p0\\Lib\\urllib\\request.py:496\u001b[0m, in \u001b[0;36mOpenerDirector._call_chain\u001b[1;34m(self, chain, kind, meth_name, *args)\u001b[0m\n\u001b[0;32m    495\u001b[0m func \u001b[39m=\u001b[39m \u001b[39mgetattr\u001b[39m(handler, meth_name)\n\u001b[1;32m--> 496\u001b[0m result \u001b[39m=\u001b[39m func(\u001b[39m*\u001b[39;49margs)\n\u001b[0;32m    497\u001b[0m \u001b[39mif\u001b[39;00m result \u001b[39mis\u001b[39;00m \u001b[39mnot\u001b[39;00m \u001b[39mNone\u001b[39;00m:\n",
      "File \u001b[1;32mC:\\Program Files\\WindowsApps\\PythonSoftwareFoundation.Python.3.11_3.11.1264.0_x64__qbz5n2kfra8p0\\Lib\\urllib\\request.py:643\u001b[0m, in \u001b[0;36mHTTPDefaultErrorHandler.http_error_default\u001b[1;34m(self, req, fp, code, msg, hdrs)\u001b[0m\n\u001b[0;32m    642\u001b[0m \u001b[39mdef\u001b[39;00m \u001b[39mhttp_error_default\u001b[39m(\u001b[39mself\u001b[39m, req, fp, code, msg, hdrs):\n\u001b[1;32m--> 643\u001b[0m     \u001b[39mraise\u001b[39;00m HTTPError(req\u001b[39m.\u001b[39mfull_url, code, msg, hdrs, fp)\n",
      "\u001b[1;31mHTTPError\u001b[0m: HTTP Error 403: Forbidden",
      "\nDuring handling of the above exception, another exception occurred:\n",
      "\u001b[1;31mAttributeError\u001b[0m                            Traceback (most recent call last)",
      "Cell \u001b[1;32mIn[4], line 24\u001b[0m\n\u001b[0;32m     21\u001b[0m internalUsers \u001b[39m=\u001b[39m Personas\u001b[39m.\u001b[39mInternalUser\u001b[39m.\u001b[39mGet()\n\u001b[0;32m     23\u001b[0m \u001b[39mwith\u001b[39;00m SystemBoundary(\u001b[39m\"\u001b[39m\u001b[39mOn-Premise\u001b[39m\u001b[39m\"\u001b[39m):\n\u001b[1;32m---> 24\u001b[0m   disc \u001b[39m=\u001b[39m InternalSystems\u001b[39m.\u001b[39;49mDisc\u001b[39m.\u001b[39;49mGet()\n\u001b[0;32m     25\u001b[0m   bamboo \u001b[39m=\u001b[39m InternalSystems\u001b[39m.\u001b[39mBamboo\u001b[39m.\u001b[39mGet()\n\u001b[0;32m     26\u001b[0m   confluence \u001b[39m=\u001b[39m InternalSystems\u001b[39m.\u001b[39mConfluence\u001b[39m.\u001b[39mGet()\n",
      "File \u001b[1;32mc:\\Users\\mike\\Documents\\Github\\C4ArchitectureExamples\\_SeventFtNode_.py:76\u001b[0m, in \u001b[0;36mSevenftNode.Get\u001b[1;34m(self)\u001b[0m\n\u001b[0;32m     74\u001b[0m \u001b[39mif\u001b[39;00m (\u001b[39mself\u001b[39m\u001b[39m.\u001b[39minstance \u001b[39m==\u001b[39m \u001b[39mNone\u001b[39;00m):\n\u001b[0;32m     75\u001b[0m   \u001b[39mif\u001b[39;00m (md\u001b[39m.\u001b[39mget(\u001b[39m\"\u001b[39m\u001b[39micon\u001b[39m\u001b[39m\"\u001b[39m) \u001b[39m!=\u001b[39m \u001b[39mNone\u001b[39;00m):\n\u001b[1;32m---> 76\u001b[0m     md[\u001b[39m\"\u001b[39m\u001b[39micon_path\u001b[39m\u001b[39m\"\u001b[39m] \u001b[39m=\u001b[39m SevenftNode\u001b[39m.\u001b[39;49mGetIcon(\u001b[39m\"\u001b[39;49m\u001b[39m_\u001b[39;49m\u001b[39m\"\u001b[39;49m \u001b[39m+\u001b[39;49m md\u001b[39m.\u001b[39;49mget(\u001b[39m'\u001b[39;49m\u001b[39mid\u001b[39;49m\u001b[39m'\u001b[39;49m) \u001b[39m+\u001b[39;49m \u001b[39m\"\u001b[39;49m\u001b[39m.png\u001b[39;49m\u001b[39m\"\u001b[39;49m, md\u001b[39m.\u001b[39;49mget(\u001b[39m\"\u001b[39;49m\u001b[39micon\u001b[39;49m\u001b[39m\"\u001b[39;49m))\n\u001b[0;32m     77\u001b[0m   \u001b[39mmatch\u001b[39;00m \u001b[39mself\u001b[39m\u001b[39m.\u001b[39mnodeType:\n\u001b[0;32m     78\u001b[0m     \u001b[39mcase\u001b[39;00m \u001b[39m\"\u001b[39m\u001b[39mContainer\u001b[39m\u001b[39m\"\u001b[39m:\n",
      "File \u001b[1;32mc:\\Users\\mike\\Documents\\Github\\C4ArchitectureExamples\\_SeventFtNode_.py:29\u001b[0m, in \u001b[0;36mSevenftNode.GetIcon\u001b[1;34m(name, url)\u001b[0m\n\u001b[0;32m     27\u001b[0m   request\u001b[39m.\u001b[39murlretrieve(url, name)\n\u001b[0;32m     28\u001b[0m \u001b[39mexcept\u001b[39;00m:\n\u001b[1;32m---> 29\u001b[0m   \u001b[39mreturn\u001b[39;00m SevenftNode\u001b[39m.\u001b[39;49mdefault_icon\n\u001b[0;32m     30\u001b[0m \u001b[39mreturn\u001b[39;00m name\n",
      "\u001b[1;31mAttributeError\u001b[0m: type object 'SevenftNode' has no attribute 'default_icon'"
     ]
    }
   ],
   "source": [
    "#@title Transition State Definition\n",
    "from diagrams import Diagram\n",
    "from diagrams.c4 import SystemBoundary, Relationship \n",
    "from _Repository_ import Personas, InternalSystems, ExternalSystems\n",
    "\n",
    "with Diagram(** {\n",
    "  \"name\": \"_test\",\n",
    "  \"outformat\": \"png\",\n",
    "  \"direction\": \"TB\",\n",
    "  \"graph_attr\": {\n",
    "     \"splines\": \"spline\",\n",
    "      \"fontsize\": \"10\",\n",
    "      \"bgcolor\": \"transparent\"\n",
    "  },\n",
    "  \"node_attr\": {\n",
    "    \"fontsize\": \"8px\",\n",
    "    \"width\": \"1.8\"\t\n",
    "  }\n",
    "}) as test:\n",
    "  \n",
    "  internalUsers = Personas.InternalUser.Get()\n",
    "\n",
    "  with SystemBoundary(\"On-Premise\"):\n",
    "    disc = InternalSystems.Disc.Get()\n",
    "    bamboo = InternalSystems.Bamboo.Get()\n",
    "    confluence = InternalSystems.Confluence.Get()\n",
    "\n",
    "  newRelic = ExternalSystems.NewRelic.Get()\n",
    "\n",
    "  internalUsers >> Relationship(\"Access via\") >> confluence\n",
    "\n",
    "test "
   ]
  }
 ],
 "metadata": {
  "kernelspec": {
   "display_name": "Python 3",
   "language": "python",
   "name": "python3"
  },
  "language_info": {
   "codemirror_mode": {
    "name": "ipython",
    "version": 3
   },
   "file_extension": ".py",
   "mimetype": "text/x-python",
   "name": "python",
   "nbconvert_exporter": "python",
   "pygments_lexer": "ipython3",
   "version": "3.11.4"
  },
  "orig_nbformat": 4
 },
 "nbformat": 4,
 "nbformat_minor": 2
}
