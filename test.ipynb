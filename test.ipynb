{
 "cells": [
  {
   "cell_type": "code",
   "execution_count": 8,
   "metadata": {},
   "outputs": [
    {
     "data": {
      "text/plain": [
       "0"
      ]
     },
     "execution_count": 8,
     "metadata": {},
     "output_type": "execute_result"
    }
   ],
   "source": [
    "#@title Install YAML\n",
    "import os\n",
    "os.system('pip install pyyaml')"
   ]
  },
  {
   "cell_type": "code",
   "execution_count": 10,
   "metadata": {},
   "outputs": [
    {
     "data": {
      "text/markdown": [
       "---"
      ],
      "text/plain": [
       "<IPython.core.display.Markdown object>"
      ]
     },
     "metadata": {},
     "output_type": "display_data"
    },
    {
     "data": {
      "text/markdown": [
       "## InternalUser"
      ],
      "text/plain": [
       "<IPython.core.display.Markdown object>"
      ]
     },
     "metadata": {},
     "output_type": "display_data"
    },
    {
     "data": {
      "text/markdown": [
       "| Key         | Value       |\n",
       "                   | ----------- | ----------- |\n",
       "| name | Internal Users |\n",
       "| description | Several lines of text,\n",
       "with some \"quotes\" of various 'types',\n",
       "and also a blank line:\n",
       "\n",
       "and some text with\n",
       "  extra indentation\n",
       "on the next line,\n",
       "plus another line at the end. |"
      ],
      "text/plain": [
       "<IPython.core.display.Markdown object>"
      ]
     },
     "metadata": {},
     "output_type": "display_data"
    },
    {
     "data": {
      "text/markdown": [
       "---"
      ],
      "text/plain": [
       "<IPython.core.display.Markdown object>"
      ]
     },
     "metadata": {},
     "output_type": "display_data"
    },
    {
     "data": {
      "text/markdown": [
       "## Disc"
      ],
      "text/plain": [
       "<IPython.core.display.Markdown object>"
      ]
     },
     "metadata": {},
     "output_type": "display_data"
    },
    {
     "data": {
      "text/markdown": [
       "| Key         | Value       |\n",
       "                   | ----------- | ----------- |\n",
       "| name | Disc |\n",
       "| description | Several lines of text |\n",
       "| technology | IBMi |\n",
       "| icon | https://newrelic.com/themes/custom/erno/assets/mediakit/new_relic_logo_vertical.png |\n",
       "| one | two |"
      ],
      "text/plain": [
       "<IPython.core.display.Markdown object>"
      ]
     },
     "metadata": {},
     "output_type": "display_data"
    }
   ],
   "source": [
    "from urllib import request\n",
    "\n",
    "baseUrl = \"https://raw.githubusercontent.com/7ft10/C4ArchitectureExamples/main/\"\n",
    "\n",
    "request.urlretrieve(baseUrl + 'SeventFtNode.py', '_SeventFtNode_.py')\n",
    "from _SeventFtNode_ import SevenftNode\n",
    "\n",
    "InternalUser = SevenftNode.LoadFromYaml(baseUrl + 'Repository/Personas/Internal%20User.yaml')\n",
    "InternalUser.Print()\n",
    "\n",
    "Disc = SevenftNode.LoadFromYaml(baseUrl + 'Repository/Systems/Disc.yaml')\n",
    "Disc.Print()"
   ]
  },
  {
   "cell_type": "code",
   "execution_count": 12,
   "metadata": {},
   "outputs": [
    {
     "ename": "TypeError",
     "evalue": "expected string or bytes-like object, got 'tuple'",
     "output_type": "error",
     "traceback": [
      "\u001b[1;31m---------------------------------------------------------------------------\u001b[0m",
      "\u001b[1;31mTypeError\u001b[0m                                 Traceback (most recent call last)",
      "Cell \u001b[1;32mIn[12], line 29\u001b[0m\n\u001b[0;32m     26\u001b[0m   internalUsers \u001b[39m=\u001b[39m InternalUser\u001b[39m.\u001b[39mGet()\n\u001b[0;32m     28\u001b[0m   \u001b[39m#@markdown + AGRemoteUsers\u001b[39;00m\n\u001b[1;32m---> 29\u001b[0m   disc \u001b[39m=\u001b[39m Disc\u001b[39m.\u001b[39;49mGet()\n\u001b[0;32m     31\u001b[0m _test \n",
      "File \u001b[1;32mc:\\Users\\mike\\Documents\\Github\\C4ArchitectureExamples\\_SeventFtNode_.py:98\u001b[0m, in \u001b[0;36mSevenftNode.Get\u001b[1;34m(self)\u001b[0m\n\u001b[0;32m     96\u001b[0m   \u001b[39melse\u001b[39;00m:\n\u001b[0;32m     97\u001b[0m     \u001b[39mpass\u001b[39;00m\n\u001b[1;32m---> 98\u001b[0m   \u001b[39mself\u001b[39m\u001b[39m.\u001b[39minstance \u001b[39m=\u001b[39m Custom(name, md\u001b[39m.\u001b[39;49mpop(\u001b[39m'\u001b[39;49m\u001b[39micon_path\u001b[39;49m\u001b[39m'\u001b[39;49m), \u001b[39m*\u001b[39;49m\u001b[39m*\u001b[39;49mmd)\n\u001b[0;32m     99\u001b[0m \u001b[39mcase\u001b[39;00m \u001b[39m\"\u001b[39m\u001b[39mDatabase\u001b[39m\u001b[39m\"\u001b[39m:\n\u001b[0;32m    100\u001b[0m   md\u001b[39m.\u001b[39msetdefault(\u001b[39m'\u001b[39m\u001b[39mtechnology\u001b[39m\u001b[39m'\u001b[39m, \u001b[39m\"\u001b[39m\u001b[39mTechnology missing\u001b[39m\u001b[39m\"\u001b[39m)\n",
      "File \u001b[1;32m~\\AppData\\Local\\Packages\\PythonSoftwareFoundation.Python.3.11_qbz5n2kfra8p0\\LocalCache\\local-packages\\Python311\\site-packages\\diagrams\\custom\\__init__.py:20\u001b[0m, in \u001b[0;36mCustom.__init__\u001b[1;34m(self, label, icon_path, *args, **kwargs)\u001b[0m\n\u001b[0;32m     18\u001b[0m \u001b[39mdef\u001b[39;00m \u001b[39m__init__\u001b[39m(\u001b[39mself\u001b[39m, label, icon_path, \u001b[39m*\u001b[39margs, \u001b[39m*\u001b[39m\u001b[39m*\u001b[39mkwargs):\n\u001b[0;32m     19\u001b[0m     \u001b[39mself\u001b[39m\u001b[39m.\u001b[39m_icon \u001b[39m=\u001b[39m icon_path\n\u001b[1;32m---> 20\u001b[0m     \u001b[39msuper\u001b[39;49m()\u001b[39m.\u001b[39;49m\u001b[39m__init__\u001b[39;49m(label, \u001b[39m*\u001b[39;49margs, \u001b[39m*\u001b[39;49m\u001b[39m*\u001b[39;49mkwargs)\n",
      "File \u001b[1;32m~\\AppData\\Local\\Packages\\PythonSoftwareFoundation.Python.3.11_qbz5n2kfra8p0\\LocalCache\\local-packages\\Python311\\site-packages\\diagrams\\__init__.py:328\u001b[0m, in \u001b[0;36mNode.__init__\u001b[1;34m(self, label, nodeid, **attrs)\u001b[0m\n\u001b[0;32m    326\u001b[0m     \u001b[39mself\u001b[39m\u001b[39m.\u001b[39m_cluster\u001b[39m.\u001b[39mnode(\u001b[39mself\u001b[39m\u001b[39m.\u001b[39m_id, \u001b[39mself\u001b[39m\u001b[39m.\u001b[39mlabel, \u001b[39m*\u001b[39m\u001b[39m*\u001b[39m\u001b[39mself\u001b[39m\u001b[39m.\u001b[39m_attrs)\n\u001b[0;32m    327\u001b[0m \u001b[39melse\u001b[39;00m:\n\u001b[1;32m--> 328\u001b[0m     \u001b[39mself\u001b[39;49m\u001b[39m.\u001b[39;49m_diagram\u001b[39m.\u001b[39;49mnode(\u001b[39mself\u001b[39;49m\u001b[39m.\u001b[39;49m_id, \u001b[39mself\u001b[39;49m\u001b[39m.\u001b[39;49mlabel, \u001b[39m*\u001b[39;49m\u001b[39m*\u001b[39;49m\u001b[39mself\u001b[39;49m\u001b[39m.\u001b[39;49m_attrs)\n",
      "File \u001b[1;32m~\\AppData\\Local\\Packages\\PythonSoftwareFoundation.Python.3.11_qbz5n2kfra8p0\\LocalCache\\local-packages\\Python311\\site-packages\\diagrams\\__init__.py:177\u001b[0m, in \u001b[0;36mDiagram.node\u001b[1;34m(self, nodeid, label, **attrs)\u001b[0m\n\u001b[0;32m    175\u001b[0m \u001b[39mdef\u001b[39;00m \u001b[39mnode\u001b[39m(\u001b[39mself\u001b[39m, nodeid: \u001b[39mstr\u001b[39m, label: \u001b[39mstr\u001b[39m, \u001b[39m*\u001b[39m\u001b[39m*\u001b[39mattrs) \u001b[39m-\u001b[39m\u001b[39m>\u001b[39m \u001b[39mNone\u001b[39;00m:\n\u001b[0;32m    176\u001b[0m \u001b[39m    \u001b[39m\u001b[39m\"\"\"Create a new node.\"\"\"\u001b[39;00m\n\u001b[1;32m--> 177\u001b[0m     \u001b[39mself\u001b[39;49m\u001b[39m.\u001b[39;49mdot\u001b[39m.\u001b[39;49mnode(nodeid, label\u001b[39m=\u001b[39;49mlabel, \u001b[39m*\u001b[39;49m\u001b[39m*\u001b[39;49mattrs)\n",
      "File \u001b[1;32m~\\AppData\\Local\\Packages\\PythonSoftwareFoundation.Python.3.11_qbz5n2kfra8p0\\LocalCache\\local-packages\\Python311\\site-packages\\graphviz\\_tools.py:171\u001b[0m, in \u001b[0;36mdeprecate_positional_args.<locals>.decorator.<locals>.wrapper\u001b[1;34m(*args, **kwargs)\u001b[0m\n\u001b[0;32m    162\u001b[0m     wanted \u001b[39m=\u001b[39m \u001b[39m'\u001b[39m\u001b[39m, \u001b[39m\u001b[39m'\u001b[39m\u001b[39m.\u001b[39mjoin(\u001b[39mf\u001b[39m\u001b[39m'\u001b[39m\u001b[39m{\u001b[39;00mname\u001b[39m}\u001b[39;00m\u001b[39m=\u001b[39m\u001b[39m{\u001b[39;00mvalue\u001b[39m!r}\u001b[39;00m\u001b[39m'\u001b[39m\n\u001b[0;32m    163\u001b[0m                        \u001b[39mfor\u001b[39;00m name, value \u001b[39min\u001b[39;00m deprecated\u001b[39m.\u001b[39mitems())\n\u001b[0;32m    164\u001b[0m     warnings\u001b[39m.\u001b[39mwarn(\u001b[39mf\u001b[39m\u001b[39m'\u001b[39m\u001b[39mThe signature of \u001b[39m\u001b[39m{\u001b[39;00mfunc\u001b[39m.\u001b[39m\u001b[39m__name__\u001b[39m\u001b[39m}\u001b[39;00m\u001b[39m will be reduced\u001b[39m\u001b[39m'\u001b[39m\n\u001b[0;32m    165\u001b[0m                   \u001b[39mf\u001b[39m\u001b[39m'\u001b[39m\u001b[39m to \u001b[39m\u001b[39m{\u001b[39;00msupported_number\u001b[39m}\u001b[39;00m\u001b[39m positional args\u001b[39m\u001b[39m'\u001b[39m\n\u001b[0;32m    166\u001b[0m                   \u001b[39mf\u001b[39m\u001b[39m'\u001b[39m\u001b[39m \u001b[39m\u001b[39m{\u001b[39;00m\u001b[39mlist\u001b[39m(supported)\u001b[39m}\u001b[39;00m\u001b[39m: pass \u001b[39m\u001b[39m{\u001b[39;00mwanted\u001b[39m}\u001b[39;00m\u001b[39m'\u001b[39m\n\u001b[0;32m    167\u001b[0m                   \u001b[39m'\u001b[39m\u001b[39m as keyword arg(s)\u001b[39m\u001b[39m'\u001b[39m,\n\u001b[0;32m    168\u001b[0m                   stacklevel\u001b[39m=\u001b[39mstacklevel,\n\u001b[0;32m    169\u001b[0m                   category\u001b[39m=\u001b[39mcategory)\n\u001b[1;32m--> 171\u001b[0m \u001b[39mreturn\u001b[39;00m func(\u001b[39m*\u001b[39;49margs, \u001b[39m*\u001b[39;49m\u001b[39m*\u001b[39;49mkwargs)\n",
      "File \u001b[1;32m~\\AppData\\Local\\Packages\\PythonSoftwareFoundation.Python.3.11_qbz5n2kfra8p0\\LocalCache\\local-packages\\Python311\\site-packages\\graphviz\\dot.py:196\u001b[0m, in \u001b[0;36mDot.node\u001b[1;34m(self, name, label, _attributes, **attrs)\u001b[0m\n\u001b[0;32m    188\u001b[0m \u001b[39m\u001b[39m\u001b[39m\"\"\"Create a node.\u001b[39;00m\n\u001b[0;32m    189\u001b[0m \n\u001b[0;32m    190\u001b[0m \u001b[39mArgs:\u001b[39;00m\n\u001b[1;32m   (...)\u001b[0m\n\u001b[0;32m    193\u001b[0m \u001b[39m    attrs: Any additional node attributes (must be strings).\u001b[39;00m\n\u001b[0;32m    194\u001b[0m \u001b[39m\"\"\"\u001b[39;00m\n\u001b[0;32m    195\u001b[0m name \u001b[39m=\u001b[39m \u001b[39mself\u001b[39m\u001b[39m.\u001b[39m_quote(name)\n\u001b[1;32m--> 196\u001b[0m attr_list \u001b[39m=\u001b[39m \u001b[39mself\u001b[39;49m\u001b[39m.\u001b[39;49m_attr_list(label, kwargs\u001b[39m=\u001b[39;49mattrs, attributes\u001b[39m=\u001b[39;49m_attributes)\n\u001b[0;32m    197\u001b[0m line \u001b[39m=\u001b[39m \u001b[39mself\u001b[39m\u001b[39m.\u001b[39m_node(name, attr_list)\n\u001b[0;32m    198\u001b[0m \u001b[39mself\u001b[39m\u001b[39m.\u001b[39mbody\u001b[39m.\u001b[39mappend(line)\n",
      "File \u001b[1;32m~\\AppData\\Local\\Packages\\PythonSoftwareFoundation.Python.3.11_qbz5n2kfra8p0\\LocalCache\\local-packages\\Python311\\site-packages\\graphviz\\_tools.py:171\u001b[0m, in \u001b[0;36mdeprecate_positional_args.<locals>.decorator.<locals>.wrapper\u001b[1;34m(*args, **kwargs)\u001b[0m\n\u001b[0;32m    162\u001b[0m     wanted \u001b[39m=\u001b[39m \u001b[39m'\u001b[39m\u001b[39m, \u001b[39m\u001b[39m'\u001b[39m\u001b[39m.\u001b[39mjoin(\u001b[39mf\u001b[39m\u001b[39m'\u001b[39m\u001b[39m{\u001b[39;00mname\u001b[39m}\u001b[39;00m\u001b[39m=\u001b[39m\u001b[39m{\u001b[39;00mvalue\u001b[39m!r}\u001b[39;00m\u001b[39m'\u001b[39m\n\u001b[0;32m    163\u001b[0m                        \u001b[39mfor\u001b[39;00m name, value \u001b[39min\u001b[39;00m deprecated\u001b[39m.\u001b[39mitems())\n\u001b[0;32m    164\u001b[0m     warnings\u001b[39m.\u001b[39mwarn(\u001b[39mf\u001b[39m\u001b[39m'\u001b[39m\u001b[39mThe signature of \u001b[39m\u001b[39m{\u001b[39;00mfunc\u001b[39m.\u001b[39m\u001b[39m__name__\u001b[39m\u001b[39m}\u001b[39;00m\u001b[39m will be reduced\u001b[39m\u001b[39m'\u001b[39m\n\u001b[0;32m    165\u001b[0m                   \u001b[39mf\u001b[39m\u001b[39m'\u001b[39m\u001b[39m to \u001b[39m\u001b[39m{\u001b[39;00msupported_number\u001b[39m}\u001b[39;00m\u001b[39m positional args\u001b[39m\u001b[39m'\u001b[39m\n\u001b[0;32m    166\u001b[0m                   \u001b[39mf\u001b[39m\u001b[39m'\u001b[39m\u001b[39m \u001b[39m\u001b[39m{\u001b[39;00m\u001b[39mlist\u001b[39m(supported)\u001b[39m}\u001b[39;00m\u001b[39m: pass \u001b[39m\u001b[39m{\u001b[39;00mwanted\u001b[39m}\u001b[39;00m\u001b[39m'\u001b[39m\n\u001b[0;32m    167\u001b[0m                   \u001b[39m'\u001b[39m\u001b[39m as keyword arg(s)\u001b[39m\u001b[39m'\u001b[39m,\n\u001b[0;32m    168\u001b[0m                   stacklevel\u001b[39m=\u001b[39mstacklevel,\n\u001b[0;32m    169\u001b[0m                   category\u001b[39m=\u001b[39mcategory)\n\u001b[1;32m--> 171\u001b[0m \u001b[39mreturn\u001b[39;00m func(\u001b[39m*\u001b[39;49margs, \u001b[39m*\u001b[39;49m\u001b[39m*\u001b[39;49mkwargs)\n",
      "File \u001b[1;32m~\\AppData\\Local\\Packages\\PythonSoftwareFoundation.Python.3.11_qbz5n2kfra8p0\\LocalCache\\local-packages\\Python311\\site-packages\\graphviz\\quoting.py:152\u001b[0m, in \u001b[0;36mattr_list\u001b[1;34m(label, kwargs, attributes)\u001b[0m\n\u001b[0;32m    135\u001b[0m \u001b[39m@_tools\u001b[39m\u001b[39m.\u001b[39mdeprecate_positional_args(supported_number\u001b[39m=\u001b[39m\u001b[39m1\u001b[39m)\n\u001b[0;32m    136\u001b[0m \u001b[39mdef\u001b[39;00m \u001b[39mattr_list\u001b[39m(label: typing\u001b[39m.\u001b[39mOptional[\u001b[39mstr\u001b[39m] \u001b[39m=\u001b[39m \u001b[39mNone\u001b[39;00m,\n\u001b[0;32m    137\u001b[0m               kwargs\u001b[39m=\u001b[39m\u001b[39mNone\u001b[39;00m, attributes\u001b[39m=\u001b[39m\u001b[39mNone\u001b[39;00m) \u001b[39m-\u001b[39m\u001b[39m>\u001b[39m \u001b[39mstr\u001b[39m:\n\u001b[0;32m    138\u001b[0m \u001b[39m    \u001b[39m\u001b[39m\"\"\"Return assembled DOT attribute list string.\u001b[39;00m\n\u001b[0;32m    139\u001b[0m \n\u001b[0;32m    140\u001b[0m \u001b[39m    Sorts ``kwargs`` and ``attributes`` if they are plain dicts\u001b[39;00m\n\u001b[1;32m   (...)\u001b[0m\n\u001b[0;32m    150\u001b[0m \u001b[39m    ' [eggs=\"\"]'\u001b[39;00m\n\u001b[0;32m    151\u001b[0m \u001b[39m    \"\"\"\u001b[39;00m\n\u001b[1;32m--> 152\u001b[0m     content \u001b[39m=\u001b[39m a_list(label, kwargs\u001b[39m=\u001b[39;49mkwargs, attributes\u001b[39m=\u001b[39;49mattributes)\n\u001b[0;32m    153\u001b[0m     \u001b[39mif\u001b[39;00m \u001b[39mnot\u001b[39;00m content:\n\u001b[0;32m    154\u001b[0m         \u001b[39mreturn\u001b[39;00m \u001b[39m'\u001b[39m\u001b[39m'\u001b[39m\n",
      "File \u001b[1;32m~\\AppData\\Local\\Packages\\PythonSoftwareFoundation.Python.3.11_qbz5n2kfra8p0\\LocalCache\\local-packages\\Python311\\site-packages\\graphviz\\_tools.py:171\u001b[0m, in \u001b[0;36mdeprecate_positional_args.<locals>.decorator.<locals>.wrapper\u001b[1;34m(*args, **kwargs)\u001b[0m\n\u001b[0;32m    162\u001b[0m     wanted \u001b[39m=\u001b[39m \u001b[39m'\u001b[39m\u001b[39m, \u001b[39m\u001b[39m'\u001b[39m\u001b[39m.\u001b[39mjoin(\u001b[39mf\u001b[39m\u001b[39m'\u001b[39m\u001b[39m{\u001b[39;00mname\u001b[39m}\u001b[39;00m\u001b[39m=\u001b[39m\u001b[39m{\u001b[39;00mvalue\u001b[39m!r}\u001b[39;00m\u001b[39m'\u001b[39m\n\u001b[0;32m    163\u001b[0m                        \u001b[39mfor\u001b[39;00m name, value \u001b[39min\u001b[39;00m deprecated\u001b[39m.\u001b[39mitems())\n\u001b[0;32m    164\u001b[0m     warnings\u001b[39m.\u001b[39mwarn(\u001b[39mf\u001b[39m\u001b[39m'\u001b[39m\u001b[39mThe signature of \u001b[39m\u001b[39m{\u001b[39;00mfunc\u001b[39m.\u001b[39m\u001b[39m__name__\u001b[39m\u001b[39m}\u001b[39;00m\u001b[39m will be reduced\u001b[39m\u001b[39m'\u001b[39m\n\u001b[0;32m    165\u001b[0m                   \u001b[39mf\u001b[39m\u001b[39m'\u001b[39m\u001b[39m to \u001b[39m\u001b[39m{\u001b[39;00msupported_number\u001b[39m}\u001b[39;00m\u001b[39m positional args\u001b[39m\u001b[39m'\u001b[39m\n\u001b[0;32m    166\u001b[0m                   \u001b[39mf\u001b[39m\u001b[39m'\u001b[39m\u001b[39m \u001b[39m\u001b[39m{\u001b[39;00m\u001b[39mlist\u001b[39m(supported)\u001b[39m}\u001b[39;00m\u001b[39m: pass \u001b[39m\u001b[39m{\u001b[39;00mwanted\u001b[39m}\u001b[39;00m\u001b[39m'\u001b[39m\n\u001b[0;32m    167\u001b[0m                   \u001b[39m'\u001b[39m\u001b[39m as keyword arg(s)\u001b[39m\u001b[39m'\u001b[39m,\n\u001b[0;32m    168\u001b[0m                   stacklevel\u001b[39m=\u001b[39mstacklevel,\n\u001b[0;32m    169\u001b[0m                   category\u001b[39m=\u001b[39mcategory)\n\u001b[1;32m--> 171\u001b[0m \u001b[39mreturn\u001b[39;00m func(\u001b[39m*\u001b[39;49margs, \u001b[39m*\u001b[39;49m\u001b[39m*\u001b[39;49mkwargs)\n",
      "File \u001b[1;32m~\\AppData\\Local\\Packages\\PythonSoftwareFoundation.Python.3.11_qbz5n2kfra8p0\\LocalCache\\local-packages\\Python311\\site-packages\\graphviz\\quoting.py:125\u001b[0m, in \u001b[0;36ma_list\u001b[1;34m(label, kwargs, attributes)\u001b[0m\n\u001b[0;32m    123\u001b[0m result \u001b[39m=\u001b[39m [\u001b[39mf\u001b[39m\u001b[39m'\u001b[39m\u001b[39mlabel=\u001b[39m\u001b[39m{\u001b[39;00mquote(label)\u001b[39m}\u001b[39;00m\u001b[39m'\u001b[39m] \u001b[39mif\u001b[39;00m label \u001b[39mis\u001b[39;00m \u001b[39mnot\u001b[39;00m \u001b[39mNone\u001b[39;00m \u001b[39melse\u001b[39;00m []\n\u001b[0;32m    124\u001b[0m \u001b[39mif\u001b[39;00m kwargs:\n\u001b[1;32m--> 125\u001b[0m     result \u001b[39m+\u001b[39m\u001b[39m=\u001b[39m [\u001b[39mf\u001b[39;49m\u001b[39m'\u001b[39;49m\u001b[39m{\u001b[39;49;00mquote(k)\u001b[39m}\u001b[39;49;00m\u001b[39m=\u001b[39;49m\u001b[39m{\u001b[39;49;00mquote(v)\u001b[39m}\u001b[39;49;00m\u001b[39m'\u001b[39;49m\n\u001b[0;32m    126\u001b[0m                \u001b[39mfor\u001b[39;49;00m k, v \u001b[39min\u001b[39;49;00m _tools\u001b[39m.\u001b[39;49mmapping_items(kwargs) \u001b[39mif\u001b[39;49;00m v \u001b[39mis\u001b[39;49;00m \u001b[39mnot\u001b[39;49;00m \u001b[39mNone\u001b[39;49;00m]\n\u001b[0;32m    127\u001b[0m \u001b[39mif\u001b[39;00m attributes:\n\u001b[0;32m    128\u001b[0m     \u001b[39mif\u001b[39;00m \u001b[39mhasattr\u001b[39m(attributes, \u001b[39m'\u001b[39m\u001b[39mitems\u001b[39m\u001b[39m'\u001b[39m):\n",
      "File \u001b[1;32m~\\AppData\\Local\\Packages\\PythonSoftwareFoundation.Python.3.11_qbz5n2kfra8p0\\LocalCache\\local-packages\\Python311\\site-packages\\graphviz\\quoting.py:125\u001b[0m, in \u001b[0;36m<listcomp>\u001b[1;34m(.0)\u001b[0m\n\u001b[0;32m    123\u001b[0m result \u001b[39m=\u001b[39m [\u001b[39mf\u001b[39m\u001b[39m'\u001b[39m\u001b[39mlabel=\u001b[39m\u001b[39m{\u001b[39;00mquote(label)\u001b[39m}\u001b[39;00m\u001b[39m'\u001b[39m] \u001b[39mif\u001b[39;00m label \u001b[39mis\u001b[39;00m \u001b[39mnot\u001b[39;00m \u001b[39mNone\u001b[39;00m \u001b[39melse\u001b[39;00m []\n\u001b[0;32m    124\u001b[0m \u001b[39mif\u001b[39;00m kwargs:\n\u001b[1;32m--> 125\u001b[0m     result \u001b[39m+\u001b[39m\u001b[39m=\u001b[39m [\u001b[39mf\u001b[39m\u001b[39m'\u001b[39m\u001b[39m{\u001b[39;00mquote(k)\u001b[39m}\u001b[39;00m\u001b[39m=\u001b[39m\u001b[39m{\u001b[39;00mquote(v)\u001b[39m}\u001b[39;00m\u001b[39m'\u001b[39m\n\u001b[0;32m    126\u001b[0m                \u001b[39mfor\u001b[39;00m k, v \u001b[39min\u001b[39;00m _tools\u001b[39m.\u001b[39mmapping_items(kwargs) \u001b[39mif\u001b[39;00m v \u001b[39mis\u001b[39;00m \u001b[39mnot\u001b[39;00m \u001b[39mNone\u001b[39;00m]\n\u001b[0;32m    127\u001b[0m \u001b[39mif\u001b[39;00m attributes:\n\u001b[0;32m    128\u001b[0m     \u001b[39mif\u001b[39;00m \u001b[39mhasattr\u001b[39m(attributes, \u001b[39m'\u001b[39m\u001b[39mitems\u001b[39m\u001b[39m'\u001b[39m):\n",
      "File \u001b[1;32m~\\AppData\\Local\\Packages\\PythonSoftwareFoundation.Python.3.11_qbz5n2kfra8p0\\LocalCache\\local-packages\\Python311\\site-packages\\graphviz\\_tools.py:171\u001b[0m, in \u001b[0;36mdeprecate_positional_args.<locals>.decorator.<locals>.wrapper\u001b[1;34m(*args, **kwargs)\u001b[0m\n\u001b[0;32m    162\u001b[0m     wanted \u001b[39m=\u001b[39m \u001b[39m'\u001b[39m\u001b[39m, \u001b[39m\u001b[39m'\u001b[39m\u001b[39m.\u001b[39mjoin(\u001b[39mf\u001b[39m\u001b[39m'\u001b[39m\u001b[39m{\u001b[39;00mname\u001b[39m}\u001b[39;00m\u001b[39m=\u001b[39m\u001b[39m{\u001b[39;00mvalue\u001b[39m!r}\u001b[39;00m\u001b[39m'\u001b[39m\n\u001b[0;32m    163\u001b[0m                        \u001b[39mfor\u001b[39;00m name, value \u001b[39min\u001b[39;00m deprecated\u001b[39m.\u001b[39mitems())\n\u001b[0;32m    164\u001b[0m     warnings\u001b[39m.\u001b[39mwarn(\u001b[39mf\u001b[39m\u001b[39m'\u001b[39m\u001b[39mThe signature of \u001b[39m\u001b[39m{\u001b[39;00mfunc\u001b[39m.\u001b[39m\u001b[39m__name__\u001b[39m\u001b[39m}\u001b[39;00m\u001b[39m will be reduced\u001b[39m\u001b[39m'\u001b[39m\n\u001b[0;32m    165\u001b[0m                   \u001b[39mf\u001b[39m\u001b[39m'\u001b[39m\u001b[39m to \u001b[39m\u001b[39m{\u001b[39;00msupported_number\u001b[39m}\u001b[39;00m\u001b[39m positional args\u001b[39m\u001b[39m'\u001b[39m\n\u001b[0;32m    166\u001b[0m                   \u001b[39mf\u001b[39m\u001b[39m'\u001b[39m\u001b[39m \u001b[39m\u001b[39m{\u001b[39;00m\u001b[39mlist\u001b[39m(supported)\u001b[39m}\u001b[39;00m\u001b[39m: pass \u001b[39m\u001b[39m{\u001b[39;00mwanted\u001b[39m}\u001b[39;00m\u001b[39m'\u001b[39m\n\u001b[0;32m    167\u001b[0m                   \u001b[39m'\u001b[39m\u001b[39m as keyword arg(s)\u001b[39m\u001b[39m'\u001b[39m,\n\u001b[0;32m    168\u001b[0m                   stacklevel\u001b[39m=\u001b[39mstacklevel,\n\u001b[0;32m    169\u001b[0m                   category\u001b[39m=\u001b[39mcategory)\n\u001b[1;32m--> 171\u001b[0m \u001b[39mreturn\u001b[39;00m func(\u001b[39m*\u001b[39;49margs, \u001b[39m*\u001b[39;49m\u001b[39m*\u001b[39;49mkwargs)\n",
      "File \u001b[1;32m~\\AppData\\Local\\Packages\\PythonSoftwareFoundation.Python.3.11_qbz5n2kfra8p0\\LocalCache\\local-packages\\Python311\\site-packages\\graphviz\\quoting.py:82\u001b[0m, in \u001b[0;36mquote\u001b[1;34m(identifier, is_html_string, is_valid_id, dot_keywords, endswith_odd_number_of_backslashes, escape_unescaped_quotes)\u001b[0m\n\u001b[0;32m     40\u001b[0m \u001b[39m@_tools\u001b[39m\u001b[39m.\u001b[39mdeprecate_positional_args(supported_number\u001b[39m=\u001b[39m\u001b[39m1\u001b[39m)\n\u001b[0;32m     41\u001b[0m \u001b[39mdef\u001b[39;00m \u001b[39mquote\u001b[39m(identifier: \u001b[39mstr\u001b[39m,\n\u001b[0;32m     42\u001b[0m           is_html_string\u001b[39m=\u001b[39mHTML_STRING\u001b[39m.\u001b[39mmatch,\n\u001b[1;32m   (...)\u001b[0m\n\u001b[0;32m     45\u001b[0m           endswith_odd_number_of_backslashes\u001b[39m=\u001b[39mFINAL_ODD_BACKSLASHES\u001b[39m.\u001b[39msearch,\n\u001b[0;32m     46\u001b[0m           escape_unescaped_quotes\u001b[39m=\u001b[39mESCAPE_UNESCAPED_QUOTES) \u001b[39m-\u001b[39m\u001b[39m>\u001b[39m \u001b[39mstr\u001b[39m:\n\u001b[0;32m     47\u001b[0m \u001b[39m    \u001b[39m\u001b[39mr\u001b[39m\u001b[39m\"\"\"Return DOT identifier from string, quote if needed.\u001b[39;00m\n\u001b[0;32m     48\u001b[0m \n\u001b[0;32m     49\u001b[0m \u001b[39m    >>> quote('')  # doctest: +NO_EXE\u001b[39;00m\n\u001b[1;32m   (...)\u001b[0m\n\u001b[0;32m     80\u001b[0m \u001b[39m    \"\\\\\\\"\"\u001b[39;00m\n\u001b[0;32m     81\u001b[0m \u001b[39m    \"\"\"\u001b[39;00m\n\u001b[1;32m---> 82\u001b[0m     \u001b[39mif\u001b[39;00m is_html_string(identifier) \u001b[39mand\u001b[39;00m \u001b[39mnot\u001b[39;00m \u001b[39misinstance\u001b[39m(identifier, NoHtml):\n\u001b[0;32m     83\u001b[0m         \u001b[39mpass\u001b[39;00m\n\u001b[0;32m     84\u001b[0m     \u001b[39melif\u001b[39;00m \u001b[39mnot\u001b[39;00m is_valid_id(identifier) \u001b[39mor\u001b[39;00m identifier\u001b[39m.\u001b[39mlower() \u001b[39min\u001b[39;00m dot_keywords:\n",
      "\u001b[1;31mTypeError\u001b[0m: expected string or bytes-like object, got 'tuple'"
     ]
    }
   ],
   "source": [
    "#@title Transition State Definition\n",
    "from diagrams import Diagram\n",
    "from diagrams.c4 import SystemBoundary, Relationship \n",
    "\n",
    "test_settings =  {\n",
    "  \"name\": \"Transition State Atlassian Suite Context Diagram\",\n",
    "  \"outformat\": \"png\",\n",
    "  \"direction\": \"TB\",\n",
    "  \"graph_attr\": {\n",
    " \t\"splines\": \"spline\",\n",
    "  \t\"fontsize\": \"10\",\n",
    "  \t\"bgcolor\": \"transparent\"\n",
    "  },\n",
    "  \"node_attr\": {\n",
    "\t\"fontsize\": \"8px\",\n",
    "\t\"width\": \"1.8\"\t\n",
    "  }\n",
    "}\n",
    "\n",
    "with Diagram(** test_settings) as _test:\n",
    "  \n",
    "  #@markdown ----------------------------------------------\n",
    "  #@markdown ## Personas\n",
    "\n",
    "  #@markdown + AGInternalUsers\n",
    "  internalUsers = InternalUser.Get()\n",
    "\n",
    "  #@markdown + AGRemoteUsers\n",
    "  disc = Disc.Get()\n",
    "\n",
    "_test "
   ]
  }
 ],
 "metadata": {
  "kernelspec": {
   "display_name": "Python 3",
   "language": "python",
   "name": "python3"
  },
  "language_info": {
   "codemirror_mode": {
    "name": "ipython",
    "version": 3
   },
   "file_extension": ".py",
   "mimetype": "text/x-python",
   "name": "python",
   "nbconvert_exporter": "python",
   "pygments_lexer": "ipython3",
   "version": "3.11.4"
  },
  "orig_nbformat": 4
 },
 "nbformat": 4,
 "nbformat_minor": 2
}
