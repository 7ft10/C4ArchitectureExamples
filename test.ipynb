{
 "cells": [
  {
   "cell_type": "code",
   "execution_count": 1,
   "metadata": {},
   "outputs": [
    {
     "data": {
      "text/plain": [
       "0"
      ]
     },
     "execution_count": 1,
     "metadata": {},
     "output_type": "execute_result"
    }
   ],
   "source": [
    "#@title Install YAML\n",
    "import os\n",
    "os.system('pip install pyyaml')"
   ]
  },
  {
   "cell_type": "code",
   "execution_count": 1,
   "metadata": {},
   "outputs": [
    {
     "ename": "OSError",
     "evalue": "[Errno 22] Invalid argument: 'https://raw.githubusercontent.com/7ft10/C4ArchitectureExamples/main/Repository/Personas/Internal%20Users.yaml'",
     "output_type": "error",
     "traceback": [
      "\u001b[1;31m---------------------------------------------------------------------------\u001b[0m",
      "\u001b[1;31mOSError\u001b[0m                                   Traceback (most recent call last)",
      "Cell \u001b[1;32mIn[1], line 6\u001b[0m\n\u001b[0;32m      3\u001b[0m request\u001b[39m.\u001b[39murlretrieve(\u001b[39m'\u001b[39m\u001b[39mhttps://raw.githubusercontent.com/7ft10/C4ArchitectureExamples/main/SeventFtNode.py\u001b[39m\u001b[39m'\u001b[39m, \u001b[39m'\u001b[39m\u001b[39m_SeventFtNode_.py\u001b[39m\u001b[39m'\u001b[39m)\n\u001b[0;32m      4\u001b[0m \u001b[39mfrom\u001b[39;00m \u001b[39m_SeventFtNode_\u001b[39;00m \u001b[39mimport\u001b[39;00m SevenftNode\n\u001b[1;32m----> 6\u001b[0m InternalUser \u001b[39m=\u001b[39m SevenftNode\u001b[39m.\u001b[39;49mLoadFromYaml(\u001b[39m\"\u001b[39;49m\u001b[39mhttps://raw.githubusercontent.com/7ft10/C4ArchitectureExamples/main/Repository/Personas/Internal\u001b[39;49m\u001b[39m%\u001b[39;49m\u001b[39m20Users.yaml\u001b[39;49m\u001b[39m\"\u001b[39;49m)\n\u001b[0;32m      8\u001b[0m InternalUser\u001b[39m.\u001b[39mPrint()\n",
      "File \u001b[1;32mc:\\Users\\mike\\Documents\\Github\\C4ArchitectureExamples\\_SeventFtNode_.py:43\u001b[0m, in \u001b[0;36mSevenftNode.LoadFromYaml\u001b[1;34m(yamlFileLoc)\u001b[0m\n\u001b[0;32m     40\u001b[0m \u001b[39m@staticmethod\u001b[39m\n\u001b[0;32m     41\u001b[0m \u001b[39mdef\u001b[39;00m \u001b[39mLoadFromYaml\u001b[39m(yamlFileLoc: \u001b[39mstr\u001b[39m):\n\u001b[0;32m     42\u001b[0m   archetype \u001b[39m=\u001b[39m \u001b[39mNone\u001b[39;00m\n\u001b[1;32m---> 43\u001b[0m   \u001b[39mwith\u001b[39;00m \u001b[39mopen\u001b[39;49m(yamlFileLoc, \u001b[39m\"\u001b[39;49m\u001b[39mr\u001b[39;49m\u001b[39m\"\u001b[39;49m) \u001b[39mas\u001b[39;00m stream:\n\u001b[0;32m     44\u001b[0m       \u001b[39mtry\u001b[39;00m:\n\u001b[0;32m     45\u001b[0m           archetype \u001b[39m=\u001b[39m yaml\u001b[39m.\u001b[39msafe_load(stream)\n",
      "\u001b[1;31mOSError\u001b[0m: [Errno 22] Invalid argument: 'https://raw.githubusercontent.com/7ft10/C4ArchitectureExamples/main/Repository/Personas/Internal%20Users.yaml'"
     ]
    }
   ],
   "source": [
    "from urllib import request\n",
    "\n",
    "request.urlretrieve('https://raw.githubusercontent.com/7ft10/C4ArchitectureExamples/main/SeventFtNode.py', '_SeventFtNode_.py')\n",
    "from _SeventFtNode_ import SevenftNode\n",
    "\n",
    "InternalUser = SevenftNode.LoadFromYaml(\"https://raw.githubusercontent.com/7ft10/C4ArchitectureExamples/main/Repository/Personas/Internal%20Users.yaml\")\n",
    "\n",
    "InternalUser.Print()\n"
   ]
  }
 ],
 "metadata": {
  "kernelspec": {
   "display_name": "Python 3",
   "language": "python",
   "name": "python3"
  },
  "language_info": {
   "codemirror_mode": {
    "name": "ipython",
    "version": 3
   },
   "file_extension": ".py",
   "mimetype": "text/x-python",
   "name": "python",
   "nbconvert_exporter": "python",
   "pygments_lexer": "ipython3",
   "version": "3.11.4"
  },
  "orig_nbformat": 4
 },
 "nbformat": 4,
 "nbformat_minor": 2
}
