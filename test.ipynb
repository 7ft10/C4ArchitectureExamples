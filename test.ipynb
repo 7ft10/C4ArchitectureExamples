{
 "cells": [
  {
   "cell_type": "code",
   "execution_count": 1,
   "metadata": {},
   "outputs": [
    {
     "data": {
      "text/plain": [
       "0"
      ]
     },
     "execution_count": 1,
     "metadata": {},
     "output_type": "execute_result"
    }
   ],
   "source": [
    "#@title Install YAML\n",
    "import os\n",
    "os.system('pip install pyyaml')"
   ]
  },
  {
   "cell_type": "code",
   "execution_count": 2,
   "metadata": {},
   "outputs": [
    {
     "data": {
      "text/markdown": [
       "---"
      ],
      "text/plain": [
       "<IPython.core.display.Markdown object>"
      ]
     },
     "metadata": {},
     "output_type": "display_data"
    },
    {
     "data": {
      "text/markdown": [
       "## InternalUser"
      ],
      "text/plain": [
       "<IPython.core.display.Markdown object>"
      ]
     },
     "metadata": {},
     "output_type": "display_data"
    },
    {
     "data": {
      "text/markdown": [
       "| Key         | Value       |\n",
       "                   | ----------- | ----------- |\n",
       "| id | InternalUser |\n",
       "| name | Internal Users |\n",
       "| description | Several lines of text,\n",
       "with some \"quotes\" of various 'types',\n",
       "and also a blank line:\n",
       "\n",
       "and some text with\n",
       "  extra indentation\n",
       "on the next line,\n",
       "plus another line at the end. |"
      ],
      "text/plain": [
       "<IPython.core.display.Markdown object>"
      ]
     },
     "metadata": {},
     "output_type": "display_data"
    },
    {
     "data": {
      "text/markdown": [
       "---"
      ],
      "text/plain": [
       "<IPython.core.display.Markdown object>"
      ]
     },
     "metadata": {},
     "output_type": "display_data"
    },
    {
     "data": {
      "text/markdown": [
       "## Disc"
      ],
      "text/plain": [
       "<IPython.core.display.Markdown object>"
      ]
     },
     "metadata": {},
     "output_type": "display_data"
    },
    {
     "data": {
      "text/markdown": [
       "| Key         | Value       |\n",
       "                   | ----------- | ----------- |\n",
       "| id | Disc |\n",
       "| name | Disc |\n",
       "| description | Several lines of text |\n",
       "| technology | IBMi |\n",
       "| icon | https://w7.pngwing.com/pngs/1/875/png-transparent-as400-ibm.png |"
      ],
      "text/plain": [
       "<IPython.core.display.Markdown object>"
      ]
     },
     "metadata": {},
     "output_type": "display_data"
    },
    {
     "data": {
      "text/markdown": [
       "---"
      ],
      "text/plain": [
       "<IPython.core.display.Markdown object>"
      ]
     },
     "metadata": {},
     "output_type": "display_data"
    },
    {
     "data": {
      "text/markdown": [
       "## Bamboo"
      ],
      "text/plain": [
       "<IPython.core.display.Markdown object>"
      ]
     },
     "metadata": {},
     "output_type": "display_data"
    },
    {
     "data": {
      "text/markdown": [
       "| Key         | Value       |\n",
       "                   | ----------- | ----------- |\n",
       "| id | Bamboo |\n",
       "| name | Bamboo (Server) |\n",
       "| description | Bamboo |\n",
       "| technology | Linux |\n",
       "| icon | https://w7.pngwing.com/pngs/126/46/png-transparent-bamboo-atlassian-continuous-integration-jira-confluence-vision-blue-text-trademark.png |\n",
       "| label | Bamboo (Server)\n",
       "Container Linux <br/>\n",
       "bamboo.internal.server.com.au <br/>\n",
       "192.168.61.150 |\n",
       "| CPU | None |\n",
       "| RAM | None |\n",
       "| Storage | 124.5GB |\n",
       "| Type | V |\n",
       "| OS | Linux |\n",
       "| Network Zone | None |\n",
       "| Application Version | 8.13.2 |"
      ],
      "text/plain": [
       "<IPython.core.display.Markdown object>"
      ]
     },
     "metadata": {},
     "output_type": "display_data"
    },
    {
     "data": {
      "text/markdown": [
       "---"
      ],
      "text/plain": [
       "<IPython.core.display.Markdown object>"
      ]
     },
     "metadata": {},
     "output_type": "display_data"
    },
    {
     "data": {
      "text/markdown": [
       "## Confluence"
      ],
      "text/plain": [
       "<IPython.core.display.Markdown object>"
      ]
     },
     "metadata": {},
     "output_type": "display_data"
    },
    {
     "data": {
      "text/markdown": [
       "| Key         | Value       |\n",
       "                   | ----------- | ----------- |\n",
       "| id | Confluence |\n",
       "| name | Confluence (Server) |\n",
       "| description | Confluence |\n",
       "| technology | Linux |\n",
       "| icon | https://w7.pngwing.com/pngs/282/343/png-transparent-confluence-atlassian-logo-jira-sharepoint-confluence-health-mares-building-text-logo-area.png |\n",
       "| label | Bamboo (Server)\n",
       "Container Linux <br/>\n",
       "confluence.internal.server.com.au <br/>\n",
       "192.168.110.100 |\n",
       "| CPU | None |\n",
       "| RAM | None |\n",
       "| Storage | 124.5GB |\n",
       "| Type | V |\n",
       "| OS | Linux |\n",
       "| Network Zone | None |\n",
       "| Application Version | 8.13.2 |"
      ],
      "text/plain": [
       "<IPython.core.display.Markdown object>"
      ]
     },
     "metadata": {},
     "output_type": "display_data"
    },
    {
     "data": {
      "text/markdown": [
       "---"
      ],
      "text/plain": [
       "<IPython.core.display.Markdown object>"
      ]
     },
     "metadata": {},
     "output_type": "display_data"
    },
    {
     "data": {
      "text/markdown": [
       "## NewRelic"
      ],
      "text/plain": [
       "<IPython.core.display.Markdown object>"
      ]
     },
     "metadata": {},
     "output_type": "display_data"
    },
    {
     "data": {
      "text/markdown": [
       "| Key         | Value       |\n",
       "                   | ----------- | ----------- |\n",
       "| id | NewRelic |\n",
       "| name | NewRelic |\n",
       "| description | NewRelic |\n",
       "| icon | https://newrelic.com/themes/custom/erno/assets/mediakit/new_relic_logo_vertical.png |"
      ],
      "text/plain": [
       "<IPython.core.display.Markdown object>"
      ]
     },
     "metadata": {},
     "output_type": "display_data"
    }
   ],
   "source": [
    "from urllib import request\n",
    "\n",
    "baseUrl = \"https://raw.githubusercontent.com/7ft10/C4ArchitectureExamples/main/\"\n",
    "request.urlretrieve(baseUrl + 'Repository/Repository.py', '_Repository_.py')\n",
    "from _Repository_ import Personas, InternalSystems, ExternalSystems\n",
    "\n",
    "Personas.InternalUser.Print()\n",
    "InternalSystems.Disc.Print()\n",
    "InternalSystems.Bamboo.Print()\n",
    "InternalSystems.Confluence.Print()\n",
    "\n",
    "ExternalSystems.NewRelic.Print()"
   ]
  },
  {
   "cell_type": "code",
   "execution_count": 6,
   "metadata": {},
   "outputs": [
    {
     "ename": "TypeError",
     "evalue": "'NoneType' object is not iterable",
     "output_type": "error",
     "traceback": [
      "\u001b[1;31m---------------------------------------------------------------------------\u001b[0m",
      "\u001b[1;31mTypeError\u001b[0m                                 Traceback (most recent call last)",
      "Cell \u001b[1;32mIn[6], line 30\u001b[0m\n\u001b[0;32m     26\u001b[0m     confluence \u001b[39m=\u001b[39m InternalSystems\u001b[39m.\u001b[39mConfluence\u001b[39m.\u001b[39mGet()\n\u001b[0;32m     28\u001b[0m   newRelic \u001b[39m=\u001b[39m ExternalSystems\u001b[39m.\u001b[39mNewRelic\u001b[39m.\u001b[39mGet()\n\u001b[1;32m---> 30\u001b[0m   internalUsers \u001b[39m>>\u001b[39;49m Relationship(\u001b[39m\"\u001b[39;49m\u001b[39mAccess via\u001b[39;49m\u001b[39m\"\u001b[39;49m) \u001b[39m>>\u001b[39m confluence\n\u001b[0;32m     32\u001b[0m test \n",
      "File \u001b[1;32m~\\AppData\\Local\\Packages\\PythonSoftwareFoundation.Python.3.11_qbz5n2kfra8p0\\LocalCache\\local-packages\\Python311\\site-packages\\diagrams\\__init__.py:501\u001b[0m, in \u001b[0;36mEdge.__rrshift__\u001b[1;34m(self, other)\u001b[0m\n\u001b[0;32m    499\u001b[0m \u001b[39mdef\u001b[39;00m \u001b[39m__rrshift__\u001b[39m(\u001b[39mself\u001b[39m, other: Union[List[\u001b[39m\"\u001b[39m\u001b[39mNode\u001b[39m\u001b[39m\"\u001b[39m], List[\u001b[39m\"\u001b[39m\u001b[39mEdge\u001b[39m\u001b[39m\"\u001b[39m]]) \u001b[39m-\u001b[39m\u001b[39m>\u001b[39m List[\u001b[39m\"\u001b[39m\u001b[39mEdge\u001b[39m\u001b[39m\"\u001b[39m]:\n\u001b[0;32m    500\u001b[0m \u001b[39m    \u001b[39m\u001b[39m\"\"\"Called for [Nodes] or [Edges] >> Self because list of Edges don't have __rshift__ operators.\"\"\"\u001b[39;00m\n\u001b[1;32m--> 501\u001b[0m     \u001b[39mreturn\u001b[39;00m \u001b[39mself\u001b[39;49m\u001b[39m.\u001b[39;49mappend(other, forward\u001b[39m=\u001b[39;49m\u001b[39mTrue\u001b[39;49;00m)\n",
      "File \u001b[1;32m~\\AppData\\Local\\Packages\\PythonSoftwareFoundation.Python.3.11_qbz5n2kfra8p0\\LocalCache\\local-packages\\Python311\\site-packages\\diagrams\\__init__.py:509\u001b[0m, in \u001b[0;36mEdge.append\u001b[1;34m(self, other, forward, reverse)\u001b[0m\n\u001b[0;32m    507\u001b[0m \u001b[39mdef\u001b[39;00m \u001b[39mappend\u001b[39m(\u001b[39mself\u001b[39m, other: Union[List[\u001b[39m\"\u001b[39m\u001b[39mNode\u001b[39m\u001b[39m\"\u001b[39m], List[\u001b[39m\"\u001b[39m\u001b[39mEdge\u001b[39m\u001b[39m\"\u001b[39m]], forward\u001b[39m=\u001b[39m\u001b[39mNone\u001b[39;00m, reverse\u001b[39m=\u001b[39m\u001b[39mNone\u001b[39;00m) \u001b[39m-\u001b[39m\u001b[39m>\u001b[39m List[\u001b[39m\"\u001b[39m\u001b[39mEdge\u001b[39m\u001b[39m\"\u001b[39m]:\n\u001b[0;32m    508\u001b[0m     result \u001b[39m=\u001b[39m []\n\u001b[1;32m--> 509\u001b[0m     \u001b[39mfor\u001b[39;00m o \u001b[39min\u001b[39;00m other:\n\u001b[0;32m    510\u001b[0m         \u001b[39mif\u001b[39;00m \u001b[39misinstance\u001b[39m(o, Edge):\n\u001b[0;32m    511\u001b[0m             o\u001b[39m.\u001b[39mforward \u001b[39m=\u001b[39m forward \u001b[39mif\u001b[39;00m forward \u001b[39melse\u001b[39;00m o\u001b[39m.\u001b[39mforward\n",
      "\u001b[1;31mTypeError\u001b[0m: 'NoneType' object is not iterable"
     ]
    }
   ],
   "source": [
    "#@title Transition State Definition\n",
    "from diagrams import Diagram\n",
    "from diagrams.c4 import SystemBoundary, Relationship \n",
    "from _Repository_ import Personas, InternalSystems, ExternalSystems\n",
    "\n",
    "with Diagram(** {\n",
    "  \"name\": \"_test\",\n",
    "  \"outformat\": \"png\",\n",
    "  \"direction\": \"TB\",\n",
    "  \"graph_attr\": {\n",
    "     \"splines\": \"spline\",\n",
    "      \"fontsize\": \"10\",\n",
    "      \"bgcolor\": \"transparent\"\n",
    "  },\n",
    "  \"node_attr\": {\n",
    "    \"fontsize\": \"8px\",\n",
    "    \"width\": \"1.8\"\t\n",
    "  }\n",
    "}) as test:\n",
    "  \n",
    "  internalUsers = Personas.InternalUser.Get()\n",
    "\n",
    "  with SystemBoundary(\"On-Premise\"):\n",
    "    disc = InternalSystems.Disc.Get()\n",
    "    bamboo = InternalSystems.Bamboo.Get()\n",
    "    confluence = InternalSystems.Confluence.Get()\n",
    "\n",
    "  newRelic = ExternalSystems.NewRelic.Get()\n",
    "\n",
    "  internalUsers >> Relationship(\"Access via\") >> confluence\n",
    "\n",
    "test "
   ]
  }
 ],
 "metadata": {
  "kernelspec": {
   "display_name": "Python 3",
   "language": "python",
   "name": "python3"
  },
  "language_info": {
   "codemirror_mode": {
    "name": "ipython",
    "version": 3
   },
   "file_extension": ".py",
   "mimetype": "text/x-python",
   "name": "python",
   "nbconvert_exporter": "python",
   "pygments_lexer": "ipython3",
   "version": "3.11.4"
  },
  "orig_nbformat": 4
 },
 "nbformat": 4,
 "nbformat_minor": 2
}
