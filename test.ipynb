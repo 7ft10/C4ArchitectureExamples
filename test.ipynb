{
 "cells": [
  {
   "cell_type": "code",
   "execution_count": 9,
   "metadata": {},
   "outputs": [
    {
     "data": {
      "text/plain": [
       "0"
      ]
     },
     "execution_count": 9,
     "metadata": {},
     "output_type": "execute_result"
    }
   ],
   "source": [
    "#@title Install YAML\n",
    "import os\n",
    "os.system('pip install pyyaml')"
   ]
  },
  {
   "cell_type": "code",
   "execution_count": 7,
   "metadata": {},
   "outputs": [
    {
     "ename": "TypeError",
     "evalue": "'InternalUser' object is not callable",
     "output_type": "error",
     "traceback": [
      "\u001b[1;31m---------------------------------------------------------------------------\u001b[0m",
      "\u001b[1;31mTypeError\u001b[0m                                 Traceback (most recent call last)",
      "Cell \u001b[1;32mIn[7], line 8\u001b[0m\n\u001b[0;32m      5\u001b[0m \u001b[39m#request.urlretrieve(baseUrl + 'Repository/Repository.py', '_Repository_.py')\u001b[39;00m\n\u001b[0;32m      6\u001b[0m \u001b[39mfrom\u001b[39;00m \u001b[39mRepository\u001b[39;00m\u001b[39m.\u001b[39;00m\u001b[39mRepository\u001b[39;00m \u001b[39mimport\u001b[39;00m InternalUser, Disc \u001b[39m##, Bamboo\u001b[39;00m\n\u001b[1;32m----> 8\u001b[0m internalUser \u001b[39m=\u001b[39m InternalUser()\n\u001b[0;32m      9\u001b[0m internalUser\u001b[39m.\u001b[39mPrint()\n\u001b[0;32m     10\u001b[0m Disc()\u001b[39m.\u001b[39mPrint()\n",
      "\u001b[1;31mTypeError\u001b[0m: 'InternalUser' object is not callable"
     ]
    }
   ],
   "source": [
    "from urllib import request\n",
    "\n",
    "baseUrl = \"https://raw.githubusercontent.com/7ft10/C4ArchitectureExamples/main/\"\n",
    "\n",
    "#request.urlretrieve(baseUrl + 'Repository/Repository.py', '_Repository_.py')\n",
    "from Repository.Repository import InternalUser, Disc ##, Bamboo\n",
    "\n",
    "internalUser = InternalUser()\n",
    "internalUser.Print()\n",
    "Disc().Print()\n",
    "#Bamboo().Print()"
   ]
  },
  {
   "cell_type": "code",
   "execution_count": 4,
   "metadata": {},
   "outputs": [
    {
     "data": {
      "image/png": "[encoded data removed]",
      "text/plain": [
       "<diagrams.Diagram at 0x1b683c4e790>"
      ]
     },
     "execution_count": 4,
     "metadata": {},
     "output_type": "execute_result"
    }
   ],
   "source": [
    "#@title Transition State Definition\n",
    "from diagrams import Diagram\n",
    "from diagrams.c4 import SystemBoundary, Relationship \n",
    "\n",
    "test_settings =  {\n",
    "  \"name\": \"_test\",\n",
    "  \"outformat\": \"png\",\n",
    "  \"direction\": \"TB\",\n",
    "  \"graph_attr\": {\n",
    " \t\"splines\": \"spline\",\n",
    "  \t\"fontsize\": \"10\",\n",
    "  \t\"bgcolor\": \"transparent\"\n",
    "  },\n",
    "  \"node_attr\": {\n",
    "\t\"fontsize\": \"8px\",\n",
    "\t\"width\": \"1.8\"\t\n",
    "  }\n",
    "}\n",
    "\n",
    "with Diagram(** test_settings) as test:\n",
    "  \n",
    "  #@markdown ----------------------------------------------\n",
    "  #@markdown ## Personas\n",
    "\n",
    "  #@markdown + AGInternalUsers\n",
    "  internalUsers = InternalUser().Get()\n",
    "\n",
    "  #@markdown + AGRemoteUsers\n",
    "  disc = Disc().Get()\n",
    "\n",
    "test "
   ]
  }
 ],
 "metadata": {
  "kernelspec": {
   "display_name": "Python 3",
   "language": "python",
   "name": "python3"
  },
  "language_info": {
   "codemirror_mode": {
    "name": "ipython",
    "version": 3
   },
   "file_extension": ".py",
   "mimetype": "text/x-python",
   "name": "python",
   "nbconvert_exporter": "python",
   "pygments_lexer": "ipython3",
   "version": "3.11.4"
  },
  "orig_nbformat": 4
 },
 "nbformat": 4,
 "nbformat_minor": 2
}
