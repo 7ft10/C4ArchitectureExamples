{
 "cells": [
  {
   "cell_type": "code",
   "execution_count": 1,
   "metadata": {},
   "outputs": [
    {
     "data": {
      "text/plain": [
       "0"
      ]
     },
     "execution_count": 1,
     "metadata": {},
     "output_type": "execute_result"
    }
   ],
   "source": [
    "#@title Install YAML\n",
    "import os\n",
    "os.system('pip install pyyaml')"
   ]
  },
  {
   "cell_type": "code",
   "execution_count": 1,
   "metadata": {},
   "outputs": [
    {
     "ename": "FileNotFoundError",
     "evalue": "[Errno 2] No such file or directory: 'Internal%20Users.yaml'",
     "output_type": "error",
     "traceback": [
      "\u001b[1;31m---------------------------------------------------------------------------\u001b[0m",
      "\u001b[1;31mFileNotFoundError\u001b[0m                         Traceback (most recent call last)",
      "Cell \u001b[1;32mIn[1], line 8\u001b[0m\n\u001b[0;32m      5\u001b[0m request\u001b[39m.\u001b[39murlretrieve(baseUrl \u001b[39m+\u001b[39m \u001b[39m'\u001b[39m\u001b[39mSeventFtNode.py\u001b[39m\u001b[39m'\u001b[39m, \u001b[39m'\u001b[39m\u001b[39m_SeventFtNode_.py\u001b[39m\u001b[39m'\u001b[39m)\n\u001b[0;32m      6\u001b[0m \u001b[39mfrom\u001b[39;00m \u001b[39m_SeventFtNode_\u001b[39;00m \u001b[39mimport\u001b[39;00m SevenftNode\n\u001b[1;32m----> 8\u001b[0m InternalUser \u001b[39m=\u001b[39m SevenftNode\u001b[39m.\u001b[39;49mLoadFromYaml(baseUrl \u001b[39m+\u001b[39;49m \u001b[39m'\u001b[39;49m\u001b[39mRepository/Personas/Internal\u001b[39;49m\u001b[39m%\u001b[39;49m\u001b[39m20Users.yaml\u001b[39;49m\u001b[39m'\u001b[39;49m)\n\u001b[0;32m     10\u001b[0m InternalUser\u001b[39m.\u001b[39mPrint()\n",
      "File \u001b[1;32mc:\\Users\\mike\\Documents\\Github\\C4ArchitectureExamples\\_SeventFtNode_.py:48\u001b[0m, in \u001b[0;36mSevenftNode.LoadFromYaml\u001b[1;34m(url)\u001b[0m\n\u001b[0;32m     45\u001b[0m path \u001b[39m=\u001b[39m os\u001b[39m.\u001b[39mpath\u001b[39m.\u001b[39mbasename(a\u001b[39m.\u001b[39mpath)\n\u001b[0;32m     46\u001b[0m request\u001b[39m.\u001b[39murlretrieve(url, \u001b[39m\"\u001b[39m\u001b[39m_\u001b[39m\u001b[39m\"\u001b[39m \u001b[39m+\u001b[39m path)\n\u001b[1;32m---> 48\u001b[0m \u001b[39mwith\u001b[39;00m \u001b[39mopen\u001b[39;49m(path, \u001b[39m\"\u001b[39;49m\u001b[39mr\u001b[39;49m\u001b[39m\"\u001b[39;49m) \u001b[39mas\u001b[39;00m stream:\n\u001b[0;32m     49\u001b[0m     \u001b[39mtry\u001b[39;00m:\n\u001b[0;32m     50\u001b[0m         archetype \u001b[39m=\u001b[39m yaml\u001b[39m.\u001b[39msafe_load(stream)\n",
      "\u001b[1;31mFileNotFoundError\u001b[0m: [Errno 2] No such file or directory: 'Internal%20Users.yaml'"
     ]
    }
   ],
   "source": [
    "from urllib import request\n",
    "\n",
    "baseUrl = \"https://raw.githubusercontent.com/7ft10/C4ArchitectureExamples/main/\"\n",
    "\n",
    "request.urlretrieve(baseUrl + 'SeventFtNode.py', '_SeventFtNode_.py')\n",
    "from _SeventFtNode_ import SevenftNode\n",
    "\n",
    "InternalUser = SevenftNode.LoadFromYaml(baseUrl + 'Repository/Personas/Internal%20Users.yaml')\n",
    "\n",
    "InternalUser.Print()\n"
   ]
  }
 ],
 "metadata": {
  "kernelspec": {
   "display_name": "Python 3",
   "language": "python",
   "name": "python3"
  },
  "language_info": {
   "codemirror_mode": {
    "name": "ipython",
    "version": 3
   },
   "file_extension": ".py",
   "mimetype": "text/x-python",
   "name": "python",
   "nbconvert_exporter": "python",
   "pygments_lexer": "ipython3",
   "version": "3.11.4"
  },
  "orig_nbformat": 4
 },
 "nbformat": 4,
 "nbformat_minor": 2
}
