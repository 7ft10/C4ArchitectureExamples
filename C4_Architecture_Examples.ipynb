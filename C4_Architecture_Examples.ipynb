{
  "cells": [
    {
      "attachments": {},
      "cell_type": "markdown",
      "metadata": {
        "colab_type": "text",
        "id": "view-in-github"
      },
      "source": [
        "<a href=\"https://colab.research.google.com/github/7ft10/C4ArchitectureExamples/blob/main/C4_Architecture_Examples.ipynb\" target=\"_parent\"><img src=\"https://colab.research.google.com/assets/colab-badge.svg\" alt=\"Open In Colab\"/></a>"
      ]
    },
    {
      "attachments": {},
      "cell_type": "markdown",
      "metadata": {},
      "source": [
        "# C4 Architecture Examples\n",
        "\n",
        "How to guide can be found in the read me."
      ]
    },
    {
      "cell_type": "code",
      "execution_count": 1,
      "metadata": {
        "collapsed": true,
        "id": "iIYChmlOj0fT",
        "slideshow": {
          "slide_type": "slide"
        }
      },
      "outputs": [],
      "source": [
        "#@title Install Diagrams\n",
        "import os\n",
        "result = os.system('pip install diagrams')\n",
        "result = os.system('pip install httpimport')"
      ]
    },
    {
      "cell_type": "code",
      "execution_count": 2,
      "metadata": {},
      "outputs": [],
      "source": [
        "#@markdown ## Get Repository\n",
        "from urllib import request\n",
        "\n",
        "baseUrl = \"https://raw.githubusercontent.com/7ft10/C4ArchitectureExamples/main/\"\n",
        "[name, response] = request.urlretrieve(baseUrl + 'Repository/Repository.py', '_Repository.py')"
      ]
    },
    {
      "cell_type": "code",
      "execution_count": 3,
      "metadata": {
        "cellView": "form",
        "id": "CwzcIaUIRE9M"
      },
      "outputs": [],
      "source": [
        "#@markdown ## Settings\n",
        "\n",
        "default_settings = {\n",
        "  \"show\": False,\n",
        "  \"outformat\": \"png\",\n",
        "  \"graph_attr\":  {\n",
        "    \"splines\": \"spline\",\n",
        "    \"fontsize\": \"10\",\n",
        "    \"bgcolor\": \"lightgrey\"\n",
        "  },\n",
        "  \"node_attr\": {\n",
        "    \"fontsize\": \"8px\",\n",
        "    \"width\": \"1.8\"\n",
        "  }\n",
        "} "
      ]
    },
    {
      "cell_type": "code",
      "execution_count": 4,
      "metadata": {},
      "outputs": [
        {
          "data": {
            "text/markdown": [
              "---"
            ],
            "text/plain": [
              "<IPython.core.display.Markdown object>"
            ]
          },
          "metadata": {},
          "output_type": "display_data"
        },
        {
          "data": {
            "text/markdown": [
              "## BankingCustomer"
            ],
            "text/plain": [
              "<IPython.core.display.Markdown object>"
            ]
          },
          "metadata": {},
          "output_type": "display_data"
        },
        {
          "data": {
            "text/markdown": [
              "| Key         | Value       |\n",
              "                   | ----------- | ----------- |\n",
              "| id | BankingCustomer |\n",
              "| nodeType | Persona |\n",
              "| name | Personal Banking Customer |\n",
              "| description | A customer of the bank with\n",
              "personal bank accounts |"
            ],
            "text/plain": [
              "<IPython.core.display.Markdown object>"
            ]
          },
          "metadata": {},
          "output_type": "display_data"
        },
        {
          "data": {
            "text/markdown": [
              "---"
            ],
            "text/plain": [
              "<IPython.core.display.Markdown object>"
            ]
          },
          "metadata": {},
          "output_type": "display_data"
        },
        {
          "data": {
            "text/markdown": [
              "## Email"
            ],
            "text/plain": [
              "<IPython.core.display.Markdown object>"
            ]
          },
          "metadata": {},
          "output_type": "display_data"
        },
        {
          "data": {
            "text/markdown": [
              "| Key         | Value       |\n",
              "                   | ----------- | ----------- |\n",
              "| id | Email |\n",
              "| nodeType | System |\n",
              "| name | Email |\n",
              "| external | True |\n",
              "| description | The internal Microsoft Exchange Email system |\n",
              "| technology | Exchange |"
            ],
            "text/plain": [
              "<IPython.core.display.Markdown object>"
            ]
          },
          "metadata": {},
          "output_type": "display_data"
        },
        {
          "data": {
            "text/markdown": [
              "---"
            ],
            "text/plain": [
              "<IPython.core.display.Markdown object>"
            ]
          },
          "metadata": {},
          "output_type": "display_data"
        },
        {
          "data": {
            "text/markdown": [
              "## BankingSystem"
            ],
            "text/plain": [
              "<IPython.core.display.Markdown object>"
            ]
          },
          "metadata": {},
          "output_type": "display_data"
        },
        {
          "data": {
            "text/markdown": [
              "| Key         | Value       |\n",
              "                   | ----------- | ----------- |\n",
              "| id | BankingSystem |\n",
              "| nodeType | System |\n",
              "| name | Internet Banking System |\n",
              "| description | Allows customers to view information about\n",
              "their bank accounts, and make payments. |"
            ],
            "text/plain": [
              "<IPython.core.display.Markdown object>"
            ]
          },
          "metadata": {},
          "output_type": "display_data"
        },
        {
          "data": {
            "text/markdown": [
              "---"
            ],
            "text/plain": [
              "<IPython.core.display.Markdown object>"
            ]
          },
          "metadata": {},
          "output_type": "display_data"
        },
        {
          "data": {
            "text/markdown": [
              "## Mainframe"
            ],
            "text/plain": [
              "<IPython.core.display.Markdown object>"
            ]
          },
          "metadata": {},
          "output_type": "display_data"
        },
        {
          "data": {
            "text/markdown": [
              "| Key         | Value       |\n",
              "                   | ----------- | ----------- |\n",
              "| id | Mainframe |\n",
              "| nodeType | System |\n",
              "| name | Mainframe Banking System |\n",
              "| description | Store all of the core banking\n",
              "information about customers,\n",
              "accounts, transactions, etc. |\n",
              "| technology | AS400 IBM Mainframe |"
            ],
            "text/plain": [
              "<IPython.core.display.Markdown object>"
            ]
          },
          "metadata": {},
          "output_type": "display_data"
        },
        {
          "data": {
            "text/markdown": [
              "---"
            ],
            "text/plain": [
              "<IPython.core.display.Markdown object>"
            ]
          },
          "metadata": {},
          "output_type": "display_data"
        },
        {
          "data": {
            "text/markdown": [
              "## API"
            ],
            "text/plain": [
              "<IPython.core.display.Markdown object>"
            ]
          },
          "metadata": {},
          "output_type": "display_data"
        },
        {
          "data": {
            "text/markdown": [
              "| Key         | Value       |\n",
              "                   | ----------- | ----------- |\n",
              "| id | API |\n",
              "| nodeType | Container |\n",
              "| name | API |\n",
              "| description | C# application |"
            ],
            "text/plain": [
              "<IPython.core.display.Markdown object>"
            ]
          },
          "metadata": {},
          "output_type": "display_data"
        },
        {
          "data": {
            "text/markdown": [
              "---"
            ],
            "text/plain": [
              "<IPython.core.display.Markdown object>"
            ]
          },
          "metadata": {},
          "output_type": "display_data"
        },
        {
          "data": {
            "text/markdown": [
              "## Database"
            ],
            "text/plain": [
              "<IPython.core.display.Markdown object>"
            ]
          },
          "metadata": {},
          "output_type": "display_data"
        },
        {
          "data": {
            "text/markdown": [
              "| Key         | Value       |\n",
              "                   | ----------- | ----------- |\n",
              "| id | Database |\n",
              "| nodeType | Container |\n",
              "| name | Database |\n",
              "| description | Stores user registration information,\n",
              "hashed authentication, credentials, access logs, etc. |\n",
              "| external | SQL Server |"
            ],
            "text/plain": [
              "<IPython.core.display.Markdown object>"
            ]
          },
          "metadata": {},
          "output_type": "display_data"
        },
        {
          "data": {
            "text/markdown": [
              "---"
            ],
            "text/plain": [
              "<IPython.core.display.Markdown object>"
            ]
          },
          "metadata": {},
          "output_type": "display_data"
        },
        {
          "data": {
            "text/markdown": [
              "## MobileApp"
            ],
            "text/plain": [
              "<IPython.core.display.Markdown object>"
            ]
          },
          "metadata": {},
          "output_type": "display_data"
        },
        {
          "data": {
            "text/markdown": [
              "| Key         | Value       |\n",
              "                   | ----------- | ----------- |\n",
              "| id | MobileApp |\n",
              "| nodeType | Container |\n",
              "| name | Android App |\n",
              "| description | Android App |"
            ],
            "text/plain": [
              "<IPython.core.display.Markdown object>"
            ]
          },
          "metadata": {},
          "output_type": "display_data"
        },
        {
          "data": {
            "text/markdown": [
              "---"
            ],
            "text/plain": [
              "<IPython.core.display.Markdown object>"
            ]
          },
          "metadata": {},
          "output_type": "display_data"
        },
        {
          "data": {
            "text/markdown": [
              "## SPA"
            ],
            "text/plain": [
              "<IPython.core.display.Markdown object>"
            ]
          },
          "metadata": {},
          "output_type": "display_data"
        },
        {
          "data": {
            "text/markdown": [
              "| Key         | Value       |\n",
              "                   | ----------- | ----------- |\n",
              "| id | SPA |\n",
              "| nodeType | Container |\n",
              "| name | Single Page App |\n",
              "| description | Single Page App |"
            ],
            "text/plain": [
              "<IPython.core.display.Markdown object>"
            ]
          },
          "metadata": {},
          "output_type": "display_data"
        },
        {
          "data": {
            "text/markdown": [
              "---"
            ],
            "text/plain": [
              "<IPython.core.display.Markdown object>"
            ]
          },
          "metadata": {},
          "output_type": "display_data"
        },
        {
          "data": {
            "text/markdown": [
              "## WebApp"
            ],
            "text/plain": [
              "<IPython.core.display.Markdown object>"
            ]
          },
          "metadata": {},
          "output_type": "display_data"
        },
        {
          "data": {
            "text/markdown": [
              "| Key         | Value       |\n",
              "                   | ----------- | ----------- |\n",
              "| id | WebApp |\n",
              "| nodeType | Container |\n",
              "| name | WebApp |\n",
              "| description | C# Web application |"
            ],
            "text/plain": [
              "<IPython.core.display.Markdown object>"
            ]
          },
          "metadata": {},
          "output_type": "display_data"
        }
      ],
      "source": [
        "#@markdown ## Print Repository\n",
        "from _Repository import Personas, Systems, Applications\n",
        "\n",
        "Personas.Print()\n",
        "Systems.Print()\n",
        "Applications.Print()"
      ]
    },
    {
      "cell_type": "code",
      "execution_count": 9,
      "metadata": {},
      "outputs": [
        {
          "ename": "TypeError",
          "evalue": "C4Node.__init__() got multiple values for argument 'type'",
          "output_type": "error",
          "traceback": [
            "\u001b[1;31m---------------------------------------------------------------------------\u001b[0m",
            "\u001b[1;31mTypeError\u001b[0m                                 Traceback (most recent call last)",
            "Cell \u001b[1;32mIn[9], line 13\u001b[0m\n\u001b[0;32m      7\u001b[0m settings \u001b[39m=\u001b[39m { \u001b[39m*\u001b[39m\u001b[39m*\u001b[39mdefault_settings, \u001b[39m*\u001b[39m\u001b[39m*\u001b[39m{\n\u001b[0;32m      8\u001b[0m   \u001b[39m\"\u001b[39m\u001b[39mname\u001b[39m\u001b[39m\"\u001b[39m: \u001b[39m\"\u001b[39m\u001b[39mSystem Context Diagram\u001b[39m\u001b[39m\"\u001b[39m,\n\u001b[0;32m      9\u001b[0m   \u001b[39m\"\u001b[39m\u001b[39mdirection\u001b[39m\u001b[39m\"\u001b[39m: \u001b[39m\"\u001b[39m\u001b[39mTB\u001b[39m\u001b[39m\"\u001b[39m\n\u001b[0;32m     10\u001b[0m }}\n\u001b[0;32m     12\u001b[0m \u001b[39mwith\u001b[39;00m Diagram(\u001b[39m*\u001b[39m\u001b[39m*\u001b[39msettings) \u001b[39mas\u001b[39;00m diagram:\n\u001b[1;32m---> 13\u001b[0m   customer \u001b[39m=\u001b[39m Personas\u001b[39m.\u001b[39;49mBankingCustomer\u001b[39m.\u001b[39;49mGet()\n\u001b[0;32m     14\u001b[0m   banking \u001b[39m=\u001b[39m Systems\u001b[39m.\u001b[39mInternetBankingSystem\u001b[39m.\u001b[39mGet()\n\u001b[0;32m     15\u001b[0m   email \u001b[39m=\u001b[39m Systems\u001b[39m.\u001b[39mEmail\u001b[39m.\u001b[39mGet()\n",
            "File \u001b[1;32mc:\\Users\\mike\\Documents\\Github\\C4ArchitectureExamples\\_SeventFtNode.py:222\u001b[0m, in \u001b[0;36mSevenftNode.Get\u001b[1;34m(self)\u001b[0m\n\u001b[0;32m    220\u001b[0m \u001b[39mcase\u001b[39;00m \u001b[39m\"\u001b[39m\u001b[39mPersona\u001b[39m\u001b[39m\"\u001b[39m:\n\u001b[0;32m    221\u001b[0m   md\u001b[39m.\u001b[39msetdefault(\u001b[39m'\u001b[39m\u001b[39micon_path\u001b[39m\u001b[39m'\u001b[39m, \u001b[39mself\u001b[39m\u001b[39m.\u001b[39mdefault_persona_icon)\n\u001b[1;32m--> 222\u001b[0m   \u001b[39mreturn\u001b[39;00m Persona( md\u001b[39m.\u001b[39;49mpop(\u001b[39m'\u001b[39;49m\u001b[39mname\u001b[39;49m\u001b[39m'\u001b[39;49m), md\u001b[39m.\u001b[39;49mpop(\u001b[39m'\u001b[39;49m\u001b[39msummary\u001b[39;49m\u001b[39m'\u001b[39;49m), md\u001b[39m.\u001b[39;49mpop(\u001b[39m'\u001b[39;49m\u001b[39mdescription\u001b[39;49m\u001b[39m'\u001b[39;49m), \u001b[39m*\u001b[39;49m\u001b[39m*\u001b[39;49mmd )\n\u001b[0;32m    223\u001b[0m \u001b[39mcase\u001b[39;00m \u001b[39m\"\u001b[39m\u001b[39mDatabase\u001b[39m\u001b[39m\"\u001b[39m:\n\u001b[0;32m    224\u001b[0m   \u001b[39mreturn\u001b[39;00m Database( md\u001b[39m.\u001b[39mpop(\u001b[39m'\u001b[39m\u001b[39mname\u001b[39m\u001b[39m'\u001b[39m), md\u001b[39m.\u001b[39mpop(\u001b[39m'\u001b[39m\u001b[39msummary\u001b[39m\u001b[39m'\u001b[39m), md\u001b[39m.\u001b[39mpop(\u001b[39m'\u001b[39m\u001b[39mdescription\u001b[39m\u001b[39m'\u001b[39m), \u001b[39m*\u001b[39m\u001b[39m*\u001b[39mmd )\n",
            "File \u001b[1;32mc:\\Users\\mike\\Documents\\Github\\C4ArchitectureExamples\\_SeventFtNode.py:109\u001b[0m, in \u001b[0;36mPersona.__init__\u001b[1;34m(self, name, summary, description, **kwargs)\u001b[0m\n\u001b[0;32m    103\u001b[0m attributes \u001b[39m=\u001b[39m {\n\u001b[0;32m    104\u001b[0m     \u001b[39m\"\u001b[39m\u001b[39mtype\u001b[39m\u001b[39m\"\u001b[39m: \u001b[39m\"\u001b[39m\u001b[39mExternal Person\u001b[39m\u001b[39m\"\u001b[39m \u001b[39mif\u001b[39;00m external \u001b[39melse\u001b[39;00m \u001b[39m\"\u001b[39m\u001b[39mPerson\u001b[39m\u001b[39m\"\u001b[39m,\n\u001b[0;32m    105\u001b[0m     \u001b[39m\"\u001b[39m\u001b[39mfillcolor\u001b[39m\u001b[39m\"\u001b[39m: \u001b[39m\"\u001b[39m\u001b[39mgray60\u001b[39m\u001b[39m\"\u001b[39m \u001b[39mif\u001b[39;00m external \u001b[39melse\u001b[39;00m \u001b[39m\"\u001b[39m\u001b[39mdodgerblue4\u001b[39m\u001b[39m\"\u001b[39m,\n\u001b[0;32m    106\u001b[0m     \u001b[39m\"\u001b[39m\u001b[39mstyle\u001b[39m\u001b[39m\"\u001b[39m: \u001b[39m\"\u001b[39m\u001b[39mrounded,filled\u001b[39m\u001b[39m\"\u001b[39m,\n\u001b[0;32m    107\u001b[0m }\n\u001b[0;32m    108\u001b[0m attributes\u001b[39m.\u001b[39mupdate(kwargs)\n\u001b[1;32m--> 109\u001b[0m \u001b[39msuper\u001b[39;49m()\u001b[39m.\u001b[39;49m\u001b[39m__init__\u001b[39;49m(name, summary, description, \u001b[39m\"\u001b[39;49m\u001b[39mDatabase\u001b[39;49m\u001b[39m\"\u001b[39;49m, \u001b[39m*\u001b[39;49m\u001b[39m*\u001b[39;49mattributes)\n",
            "\u001b[1;31mTypeError\u001b[0m: C4Node.__init__() got multiple values for argument 'type'"
          ]
        }
      ],
      "source": [
        "#@title System Context Diagram\n",
        "from IPython.display import display, Markdown\n",
        "from diagrams import Diagram\n",
        "from diagrams.c4 import Relationship\n",
        "from _Repository import Personas, Systems\n",
        "\n",
        "settings = { **default_settings, **{\n",
        "  \"name\": \"System Context Diagram\",\n",
        "  \"direction\": \"TB\"\n",
        "}}\n",
        "\n",
        "with Diagram(**settings) as diagram:\n",
        "  customer = Personas.BankingCustomer.Get()\n",
        "  banking = Systems.InternetBankingSystem.Get()\n",
        "  email = Systems.Email.Get()\n",
        "  mainframe = Systems.Mainframe.Get()\n",
        "\n",
        "  customer >> Relationship(\"Sends email to\") >> [email]\n",
        "  customer >> Relationship(\"Views account balances and makes payments using\") >> [banking]\n",
        "  banking >> Relationship(\"Gets account information from and makes payments using\") >> [mainframe]\n",
        "  banking >> Relationship(\"Sends email using\") >> [email]\n",
        "\n",
        "display(Markdown(\"## \" + settings[\"name\"]))\n",
        "display(diagram)"
      ]
    },
    {
      "cell_type": "code",
      "execution_count": 8,
      "metadata": {
        "id": "tfcbX9THkvDP",
        "notebookRunGroups": {
          "groupValue": ""
        },
        "tags": [
          "parameters"
        ]
      },
      "outputs": [
        {
          "ename": "TypeError",
          "evalue": "C4Node.__init__() got multiple values for argument 'type'",
          "output_type": "error",
          "traceback": [
            "\u001b[1;31m---------------------------------------------------------------------------\u001b[0m",
            "\u001b[1;31mTypeError\u001b[0m                                 Traceback (most recent call last)",
            "Cell \u001b[1;32mIn[8], line 13\u001b[0m\n\u001b[0;32m      7\u001b[0m settings \u001b[39m=\u001b[39m { \u001b[39m*\u001b[39m\u001b[39m*\u001b[39mdefault_settings, \u001b[39m*\u001b[39m\u001b[39m*\u001b[39m{\n\u001b[0;32m      8\u001b[0m   \u001b[39m\"\u001b[39m\u001b[39mname\u001b[39m\u001b[39m\"\u001b[39m: \u001b[39m\"\u001b[39m\u001b[39mContainer Diagram\u001b[39m\u001b[39m\"\u001b[39m,\n\u001b[0;32m      9\u001b[0m   \u001b[39m\"\u001b[39m\u001b[39mdirection\u001b[39m\u001b[39m\"\u001b[39m: \u001b[39m\"\u001b[39m\u001b[39mRL\u001b[39m\u001b[39m\"\u001b[39m\n\u001b[0;32m     10\u001b[0m }}\n\u001b[0;32m     12\u001b[0m \u001b[39mwith\u001b[39;00m Diagram(\u001b[39m*\u001b[39m\u001b[39m*\u001b[39msettings) \u001b[39mas\u001b[39;00m diagram:\n\u001b[1;32m---> 13\u001b[0m   customer \u001b[39m=\u001b[39m Personas\u001b[39m.\u001b[39;49mBankingCustomer\u001b[39m.\u001b[39;49mGet()\n\u001b[0;32m     15\u001b[0m   \u001b[39mwith\u001b[39;00m SystemBoundary(\u001b[39m\"\u001b[39m\u001b[39mInternet Banking System\u001b[39m\u001b[39m\"\u001b[39m):\n\u001b[0;32m     16\u001b[0m     webapp \u001b[39m=\u001b[39m Applications\u001b[39m.\u001b[39mWebApp\u001b[39m.\u001b[39mGet()\n",
            "File \u001b[1;32mc:\\Users\\mike\\Documents\\Github\\C4ArchitectureExamples\\_SeventFtNode.py:222\u001b[0m, in \u001b[0;36mSevenftNode.Get\u001b[1;34m(self)\u001b[0m\n\u001b[0;32m    220\u001b[0m \u001b[39mcase\u001b[39;00m \u001b[39m\"\u001b[39m\u001b[39mPersona\u001b[39m\u001b[39m\"\u001b[39m:\n\u001b[0;32m    221\u001b[0m   md\u001b[39m.\u001b[39msetdefault(\u001b[39m'\u001b[39m\u001b[39micon_path\u001b[39m\u001b[39m'\u001b[39m, \u001b[39mself\u001b[39m\u001b[39m.\u001b[39mdefault_persona_icon)\n\u001b[1;32m--> 222\u001b[0m   \u001b[39mreturn\u001b[39;00m Persona( md\u001b[39m.\u001b[39;49mpop(\u001b[39m'\u001b[39;49m\u001b[39mname\u001b[39;49m\u001b[39m'\u001b[39;49m), md\u001b[39m.\u001b[39;49mpop(\u001b[39m'\u001b[39;49m\u001b[39msummary\u001b[39;49m\u001b[39m'\u001b[39;49m), md\u001b[39m.\u001b[39;49mpop(\u001b[39m'\u001b[39;49m\u001b[39mdescription\u001b[39;49m\u001b[39m'\u001b[39;49m), \u001b[39m*\u001b[39;49m\u001b[39m*\u001b[39;49mmd )\n\u001b[0;32m    223\u001b[0m \u001b[39mcase\u001b[39;00m \u001b[39m\"\u001b[39m\u001b[39mDatabase\u001b[39m\u001b[39m\"\u001b[39m:\n\u001b[0;32m    224\u001b[0m   \u001b[39mreturn\u001b[39;00m Database( md\u001b[39m.\u001b[39mpop(\u001b[39m'\u001b[39m\u001b[39mname\u001b[39m\u001b[39m'\u001b[39m), md\u001b[39m.\u001b[39mpop(\u001b[39m'\u001b[39m\u001b[39msummary\u001b[39m\u001b[39m'\u001b[39m), md\u001b[39m.\u001b[39mpop(\u001b[39m'\u001b[39m\u001b[39mdescription\u001b[39m\u001b[39m'\u001b[39m), \u001b[39m*\u001b[39m\u001b[39m*\u001b[39mmd )\n",
            "File \u001b[1;32mc:\\Users\\mike\\Documents\\Github\\C4ArchitectureExamples\\_SeventFtNode.py:109\u001b[0m, in \u001b[0;36mPersona.__init__\u001b[1;34m(self, name, summary, description, **kwargs)\u001b[0m\n\u001b[0;32m    103\u001b[0m attributes \u001b[39m=\u001b[39m {\n\u001b[0;32m    104\u001b[0m     \u001b[39m\"\u001b[39m\u001b[39mtype\u001b[39m\u001b[39m\"\u001b[39m: \u001b[39m\"\u001b[39m\u001b[39mExternal Person\u001b[39m\u001b[39m\"\u001b[39m \u001b[39mif\u001b[39;00m external \u001b[39melse\u001b[39;00m \u001b[39m\"\u001b[39m\u001b[39mPerson\u001b[39m\u001b[39m\"\u001b[39m,\n\u001b[0;32m    105\u001b[0m     \u001b[39m\"\u001b[39m\u001b[39mfillcolor\u001b[39m\u001b[39m\"\u001b[39m: \u001b[39m\"\u001b[39m\u001b[39mgray60\u001b[39m\u001b[39m\"\u001b[39m \u001b[39mif\u001b[39;00m external \u001b[39melse\u001b[39;00m \u001b[39m\"\u001b[39m\u001b[39mdodgerblue4\u001b[39m\u001b[39m\"\u001b[39m,\n\u001b[0;32m    106\u001b[0m     \u001b[39m\"\u001b[39m\u001b[39mstyle\u001b[39m\u001b[39m\"\u001b[39m: \u001b[39m\"\u001b[39m\u001b[39mrounded,filled\u001b[39m\u001b[39m\"\u001b[39m,\n\u001b[0;32m    107\u001b[0m }\n\u001b[0;32m    108\u001b[0m attributes\u001b[39m.\u001b[39mupdate(kwargs)\n\u001b[1;32m--> 109\u001b[0m \u001b[39msuper\u001b[39;49m()\u001b[39m.\u001b[39;49m\u001b[39m__init__\u001b[39;49m(name, summary, description, \u001b[39m\"\u001b[39;49m\u001b[39mDatabase\u001b[39;49m\u001b[39m\"\u001b[39;49m, \u001b[39m*\u001b[39;49m\u001b[39m*\u001b[39;49mattributes)\n",
            "\u001b[1;31mTypeError\u001b[0m: C4Node.__init__() got multiple values for argument 'type'"
          ]
        }
      ],
      "source": [
        "#@title Container Diagram\n",
        "from IPython.display import display, Markdown\n",
        "from diagrams import Diagram\n",
        "from diagrams.c4 import SystemBoundary, Relationship\n",
        "from _Repository import Personas, Systems, Applications\n",
        "\n",
        "settings = { **default_settings, **{\n",
        "  \"name\": \"Container Diagram\",\n",
        "  \"direction\": \"RL\"\n",
        "}}\n",
        "\n",
        "with Diagram(**settings) as diagram:\n",
        "  customer = Personas.BankingCustomer.Get()\n",
        "\n",
        "  with SystemBoundary(\"Internet Banking System\"):\n",
        "    webapp = Applications.WebApp.Get()\n",
        "    spa = Applications.SPA.Get()\n",
        "    mobileApp = Applications.MobileApp.Get()\n",
        "    api = Applications.API.Get()\n",
        "    database = Applications.Database.Get()\n",
        "\n",
        "  email = Systems.Email.Get()\n",
        "  mainframe = Systems.Mainframe.Get()\n",
        "\n",
        "  customer >> Relationship(\"Visits big.bank.com/ib using [HTTPS]\") >> [webapp]\n",
        "  customer >> Relationship(\"Views account balances, and makes payments using\") >> [spa, mobileApp]\n",
        "  webapp >> Relationship(\"Delivers to the customer's web browser\") >> [spa]\n",
        "  api << Relationship(\"Make API calls to [JSON/HTTPS]\") << [spa, mobileApp]\n",
        "  api >> Relationship(\"reads from and writes to\") >> [database]\n",
        "  api >> Relationship(\"Sends email using [SMTP]\") >> [email]\n",
        "  api >> Relationship(\"Makes API calls to [XML/HTTPS]\") >> [mainframe]\n",
        "  email >> Relationship(\"Sends e-mails to\") >> [customer]\n",
        "\n",
        "display(Markdown(\"## \" + settings[\"name\"]))\n",
        "display(diagram)"
      ]
    },
    {
      "cell_type": "code",
      "execution_count": 7,
      "metadata": {},
      "outputs": [
        {
          "ename": "TypeError",
          "evalue": "expected string or bytes-like object, got 'bool'",
          "output_type": "error",
          "traceback": [
            "\u001b[1;31m---------------------------------------------------------------------------\u001b[0m",
            "\u001b[1;31mTypeError\u001b[0m                                 Traceback (most recent call last)",
            "Cell \u001b[1;32mIn[7], line 15\u001b[0m\n\u001b[0;32m      8\u001b[0m settings \u001b[39m=\u001b[39m { \u001b[39m*\u001b[39m\u001b[39m*\u001b[39mdefault_settings, \u001b[39m*\u001b[39m\u001b[39m*\u001b[39m{\n\u001b[0;32m      9\u001b[0m   \u001b[39m\"\u001b[39m\u001b[39mname\u001b[39m\u001b[39m\"\u001b[39m: \u001b[39m\"\u001b[39m\u001b[39mComponent Diagram\u001b[39m\u001b[39m\"\u001b[39m,\n\u001b[0;32m     10\u001b[0m   \u001b[39m\"\u001b[39m\u001b[39mdirection\u001b[39m\u001b[39m\"\u001b[39m: \u001b[39m\"\u001b[39m\u001b[39mTB\u001b[39m\u001b[39m\"\u001b[39m\n\u001b[0;32m     11\u001b[0m }}\n\u001b[0;32m     13\u001b[0m \u001b[39mwith\u001b[39;00m Diagram(\u001b[39m*\u001b[39m\u001b[39m*\u001b[39msettings) \u001b[39mas\u001b[39;00m diagram:\n\u001b[1;32m---> 15\u001b[0m   spa \u001b[39m=\u001b[39m Applications\u001b[39m.\u001b[39;49mSPA\u001b[39m.\u001b[39;49mGet()\n\u001b[0;32m     16\u001b[0m   mobileApp \u001b[39m=\u001b[39m Applications\u001b[39m.\u001b[39mMobileApp\u001b[39m.\u001b[39mGet()\n\u001b[0;32m     18\u001b[0m   \u001b[39mwith\u001b[39;00m SystemBoundary(\u001b[39m\"\u001b[39m\u001b[39mAPI Application\u001b[39m\u001b[39m\"\u001b[39m):\n",
            "File \u001b[1;32mc:\\Users\\mike\\Documents\\Github\\C4ArchitectureExamples\\_SeventFtNode.py:219\u001b[0m, in \u001b[0;36mSevenftNode.Get\u001b[1;34m(self)\u001b[0m\n\u001b[0;32m    217\u001b[0m \u001b[39mmatch\u001b[39;00m \u001b[39mself\u001b[39m\u001b[39m.\u001b[39mnodeType:\n\u001b[0;32m    218\u001b[0m   \u001b[39mcase\u001b[39;00m \u001b[39m\"\u001b[39m\u001b[39mContainer\u001b[39m\u001b[39m\"\u001b[39m:\n\u001b[1;32m--> 219\u001b[0m     \u001b[39mreturn\u001b[39;00m Container( md\u001b[39m.\u001b[39;49mpop(\u001b[39m'\u001b[39;49m\u001b[39mname\u001b[39;49m\u001b[39m'\u001b[39;49m), md\u001b[39m.\u001b[39;49mpop(\u001b[39m'\u001b[39;49m\u001b[39msummary\u001b[39;49m\u001b[39m'\u001b[39;49m), md\u001b[39m.\u001b[39;49mpop(\u001b[39m'\u001b[39;49m\u001b[39mdescription\u001b[39;49m\u001b[39m'\u001b[39;49m), \u001b[39m*\u001b[39;49m\u001b[39m*\u001b[39;49mmd )\n\u001b[0;32m    220\u001b[0m   \u001b[39mcase\u001b[39;00m \u001b[39m\"\u001b[39m\u001b[39mPersona\u001b[39m\u001b[39m\"\u001b[39m:\n\u001b[0;32m    221\u001b[0m     md\u001b[39m.\u001b[39msetdefault(\u001b[39m'\u001b[39m\u001b[39micon_path\u001b[39m\u001b[39m'\u001b[39m, \u001b[39mself\u001b[39m\u001b[39m.\u001b[39mdefault_persona_icon)\n",
            "File \u001b[1;32mc:\\Users\\mike\\Documents\\Github\\C4ArchitectureExamples\\_SeventFtNode.py:73\u001b[0m, in \u001b[0;36mContainer.__init__\u001b[1;34m(self, name, summary, description, **kwargs)\u001b[0m\n\u001b[0;32m     71\u001b[0m attributes \u001b[39m=\u001b[39m { }\n\u001b[0;32m     72\u001b[0m attributes\u001b[39m.\u001b[39mupdate(kwargs)\n\u001b[1;32m---> 73\u001b[0m \u001b[39msuper\u001b[39;49m()\u001b[39m.\u001b[39;49m\u001b[39m__init__\u001b[39;49m(name, summary, description, \u001b[39m\"\u001b[39;49m\u001b[39mContainer\u001b[39;49m\u001b[39m\"\u001b[39;49m, \u001b[39m*\u001b[39;49m\u001b[39m*\u001b[39;49mattributes)\n",
            "File \u001b[1;32mc:\\Users\\mike\\Documents\\Github\\C4ArchitectureExamples\\_SeventFtNode.py:61\u001b[0m, in \u001b[0;36mC4Node.__init__\u001b[1;34m(self, name, summary, description, type, **kwargs)\u001b[0m\n\u001b[0;32m     59\u001b[0m     attributes\u001b[39m.\u001b[39mupdate({\u001b[39m\"\u001b[39m\u001b[39mwidth\u001b[39m\u001b[39m\"\u001b[39m: \u001b[39m\"\u001b[39m\u001b[39m2\u001b[39m\u001b[39m\"\u001b[39m, \u001b[39m\"\u001b[39m\u001b[39mheight\u001b[39m\u001b[39m\"\u001b[39m: \u001b[39m\"\u001b[39m\u001b[39m1\u001b[39m\u001b[39m\"\u001b[39m})\n\u001b[0;32m     60\u001b[0m attributes\u001b[39m.\u001b[39mupdate(kwargs)\n\u001b[1;32m---> 61\u001b[0m \u001b[39msuper\u001b[39;49m()\u001b[39m.\u001b[39;49m\u001b[39m__init__\u001b[39;49m(label, \u001b[39m*\u001b[39;49m\u001b[39m*\u001b[39;49mattributes)\n",
            "File \u001b[1;32m~\\AppData\\Local\\Packages\\PythonSoftwareFoundation.Python.3.11_qbz5n2kfra8p0\\LocalCache\\local-packages\\Python311\\site-packages\\diagrams\\__init__.py:328\u001b[0m, in \u001b[0;36mNode.__init__\u001b[1;34m(self, label, nodeid, **attrs)\u001b[0m\n\u001b[0;32m    326\u001b[0m     \u001b[39mself\u001b[39m\u001b[39m.\u001b[39m_cluster\u001b[39m.\u001b[39mnode(\u001b[39mself\u001b[39m\u001b[39m.\u001b[39m_id, \u001b[39mself\u001b[39m\u001b[39m.\u001b[39mlabel, \u001b[39m*\u001b[39m\u001b[39m*\u001b[39m\u001b[39mself\u001b[39m\u001b[39m.\u001b[39m_attrs)\n\u001b[0;32m    327\u001b[0m \u001b[39melse\u001b[39;00m:\n\u001b[1;32m--> 328\u001b[0m     \u001b[39mself\u001b[39;49m\u001b[39m.\u001b[39;49m_diagram\u001b[39m.\u001b[39;49mnode(\u001b[39mself\u001b[39;49m\u001b[39m.\u001b[39;49m_id, \u001b[39mself\u001b[39;49m\u001b[39m.\u001b[39;49mlabel, \u001b[39m*\u001b[39;49m\u001b[39m*\u001b[39;49m\u001b[39mself\u001b[39;49m\u001b[39m.\u001b[39;49m_attrs)\n",
            "File \u001b[1;32m~\\AppData\\Local\\Packages\\PythonSoftwareFoundation.Python.3.11_qbz5n2kfra8p0\\LocalCache\\local-packages\\Python311\\site-packages\\diagrams\\__init__.py:177\u001b[0m, in \u001b[0;36mDiagram.node\u001b[1;34m(self, nodeid, label, **attrs)\u001b[0m\n\u001b[0;32m    175\u001b[0m \u001b[39mdef\u001b[39;00m \u001b[39mnode\u001b[39m(\u001b[39mself\u001b[39m, nodeid: \u001b[39mstr\u001b[39m, label: \u001b[39mstr\u001b[39m, \u001b[39m*\u001b[39m\u001b[39m*\u001b[39mattrs) \u001b[39m-\u001b[39m\u001b[39m>\u001b[39m \u001b[39mNone\u001b[39;00m:\n\u001b[0;32m    176\u001b[0m \u001b[39m    \u001b[39m\u001b[39m\"\"\"Create a new node.\"\"\"\u001b[39;00m\n\u001b[1;32m--> 177\u001b[0m     \u001b[39mself\u001b[39;49m\u001b[39m.\u001b[39;49mdot\u001b[39m.\u001b[39;49mnode(nodeid, label\u001b[39m=\u001b[39;49mlabel, \u001b[39m*\u001b[39;49m\u001b[39m*\u001b[39;49mattrs)\n",
            "File \u001b[1;32m~\\AppData\\Local\\Packages\\PythonSoftwareFoundation.Python.3.11_qbz5n2kfra8p0\\LocalCache\\local-packages\\Python311\\site-packages\\graphviz\\_tools.py:171\u001b[0m, in \u001b[0;36mdeprecate_positional_args.<locals>.decorator.<locals>.wrapper\u001b[1;34m(*args, **kwargs)\u001b[0m\n\u001b[0;32m    162\u001b[0m     wanted \u001b[39m=\u001b[39m \u001b[39m'\u001b[39m\u001b[39m, \u001b[39m\u001b[39m'\u001b[39m\u001b[39m.\u001b[39mjoin(\u001b[39mf\u001b[39m\u001b[39m'\u001b[39m\u001b[39m{\u001b[39;00mname\u001b[39m}\u001b[39;00m\u001b[39m=\u001b[39m\u001b[39m{\u001b[39;00mvalue\u001b[39m!r}\u001b[39;00m\u001b[39m'\u001b[39m\n\u001b[0;32m    163\u001b[0m                        \u001b[39mfor\u001b[39;00m name, value \u001b[39min\u001b[39;00m deprecated\u001b[39m.\u001b[39mitems())\n\u001b[0;32m    164\u001b[0m     warnings\u001b[39m.\u001b[39mwarn(\u001b[39mf\u001b[39m\u001b[39m'\u001b[39m\u001b[39mThe signature of \u001b[39m\u001b[39m{\u001b[39;00mfunc\u001b[39m.\u001b[39m\u001b[39m__name__\u001b[39m\u001b[39m}\u001b[39;00m\u001b[39m will be reduced\u001b[39m\u001b[39m'\u001b[39m\n\u001b[0;32m    165\u001b[0m                   \u001b[39mf\u001b[39m\u001b[39m'\u001b[39m\u001b[39m to \u001b[39m\u001b[39m{\u001b[39;00msupported_number\u001b[39m}\u001b[39;00m\u001b[39m positional args\u001b[39m\u001b[39m'\u001b[39m\n\u001b[0;32m    166\u001b[0m                   \u001b[39mf\u001b[39m\u001b[39m'\u001b[39m\u001b[39m \u001b[39m\u001b[39m{\u001b[39;00m\u001b[39mlist\u001b[39m(supported)\u001b[39m}\u001b[39;00m\u001b[39m: pass \u001b[39m\u001b[39m{\u001b[39;00mwanted\u001b[39m}\u001b[39;00m\u001b[39m'\u001b[39m\n\u001b[0;32m    167\u001b[0m                   \u001b[39m'\u001b[39m\u001b[39m as keyword arg(s)\u001b[39m\u001b[39m'\u001b[39m,\n\u001b[0;32m    168\u001b[0m                   stacklevel\u001b[39m=\u001b[39mstacklevel,\n\u001b[0;32m    169\u001b[0m                   category\u001b[39m=\u001b[39mcategory)\n\u001b[1;32m--> 171\u001b[0m \u001b[39mreturn\u001b[39;00m func(\u001b[39m*\u001b[39;49margs, \u001b[39m*\u001b[39;49m\u001b[39m*\u001b[39;49mkwargs)\n",
            "File \u001b[1;32m~\\AppData\\Local\\Packages\\PythonSoftwareFoundation.Python.3.11_qbz5n2kfra8p0\\LocalCache\\local-packages\\Python311\\site-packages\\graphviz\\dot.py:196\u001b[0m, in \u001b[0;36mDot.node\u001b[1;34m(self, name, label, _attributes, **attrs)\u001b[0m\n\u001b[0;32m    188\u001b[0m \u001b[39m\u001b[39m\u001b[39m\"\"\"Create a node.\u001b[39;00m\n\u001b[0;32m    189\u001b[0m \n\u001b[0;32m    190\u001b[0m \u001b[39mArgs:\u001b[39;00m\n\u001b[1;32m   (...)\u001b[0m\n\u001b[0;32m    193\u001b[0m \u001b[39m    attrs: Any additional node attributes (must be strings).\u001b[39;00m\n\u001b[0;32m    194\u001b[0m \u001b[39m\"\"\"\u001b[39;00m\n\u001b[0;32m    195\u001b[0m name \u001b[39m=\u001b[39m \u001b[39mself\u001b[39m\u001b[39m.\u001b[39m_quote(name)\n\u001b[1;32m--> 196\u001b[0m attr_list \u001b[39m=\u001b[39m \u001b[39mself\u001b[39;49m\u001b[39m.\u001b[39;49m_attr_list(label, kwargs\u001b[39m=\u001b[39;49mattrs, attributes\u001b[39m=\u001b[39;49m_attributes)\n\u001b[0;32m    197\u001b[0m line \u001b[39m=\u001b[39m \u001b[39mself\u001b[39m\u001b[39m.\u001b[39m_node(name, attr_list)\n\u001b[0;32m    198\u001b[0m \u001b[39mself\u001b[39m\u001b[39m.\u001b[39mbody\u001b[39m.\u001b[39mappend(line)\n",
            "File \u001b[1;32m~\\AppData\\Local\\Packages\\PythonSoftwareFoundation.Python.3.11_qbz5n2kfra8p0\\LocalCache\\local-packages\\Python311\\site-packages\\graphviz\\_tools.py:171\u001b[0m, in \u001b[0;36mdeprecate_positional_args.<locals>.decorator.<locals>.wrapper\u001b[1;34m(*args, **kwargs)\u001b[0m\n\u001b[0;32m    162\u001b[0m     wanted \u001b[39m=\u001b[39m \u001b[39m'\u001b[39m\u001b[39m, \u001b[39m\u001b[39m'\u001b[39m\u001b[39m.\u001b[39mjoin(\u001b[39mf\u001b[39m\u001b[39m'\u001b[39m\u001b[39m{\u001b[39;00mname\u001b[39m}\u001b[39;00m\u001b[39m=\u001b[39m\u001b[39m{\u001b[39;00mvalue\u001b[39m!r}\u001b[39;00m\u001b[39m'\u001b[39m\n\u001b[0;32m    163\u001b[0m                        \u001b[39mfor\u001b[39;00m name, value \u001b[39min\u001b[39;00m deprecated\u001b[39m.\u001b[39mitems())\n\u001b[0;32m    164\u001b[0m     warnings\u001b[39m.\u001b[39mwarn(\u001b[39mf\u001b[39m\u001b[39m'\u001b[39m\u001b[39mThe signature of \u001b[39m\u001b[39m{\u001b[39;00mfunc\u001b[39m.\u001b[39m\u001b[39m__name__\u001b[39m\u001b[39m}\u001b[39;00m\u001b[39m will be reduced\u001b[39m\u001b[39m'\u001b[39m\n\u001b[0;32m    165\u001b[0m                   \u001b[39mf\u001b[39m\u001b[39m'\u001b[39m\u001b[39m to \u001b[39m\u001b[39m{\u001b[39;00msupported_number\u001b[39m}\u001b[39;00m\u001b[39m positional args\u001b[39m\u001b[39m'\u001b[39m\n\u001b[0;32m    166\u001b[0m                   \u001b[39mf\u001b[39m\u001b[39m'\u001b[39m\u001b[39m \u001b[39m\u001b[39m{\u001b[39;00m\u001b[39mlist\u001b[39m(supported)\u001b[39m}\u001b[39;00m\u001b[39m: pass \u001b[39m\u001b[39m{\u001b[39;00mwanted\u001b[39m}\u001b[39;00m\u001b[39m'\u001b[39m\n\u001b[0;32m    167\u001b[0m                   \u001b[39m'\u001b[39m\u001b[39m as keyword arg(s)\u001b[39m\u001b[39m'\u001b[39m,\n\u001b[0;32m    168\u001b[0m                   stacklevel\u001b[39m=\u001b[39mstacklevel,\n\u001b[0;32m    169\u001b[0m                   category\u001b[39m=\u001b[39mcategory)\n\u001b[1;32m--> 171\u001b[0m \u001b[39mreturn\u001b[39;00m func(\u001b[39m*\u001b[39;49margs, \u001b[39m*\u001b[39;49m\u001b[39m*\u001b[39;49mkwargs)\n",
            "File \u001b[1;32m~\\AppData\\Local\\Packages\\PythonSoftwareFoundation.Python.3.11_qbz5n2kfra8p0\\LocalCache\\local-packages\\Python311\\site-packages\\graphviz\\quoting.py:152\u001b[0m, in \u001b[0;36mattr_list\u001b[1;34m(label, kwargs, attributes)\u001b[0m\n\u001b[0;32m    135\u001b[0m \u001b[39m@_tools\u001b[39m\u001b[39m.\u001b[39mdeprecate_positional_args(supported_number\u001b[39m=\u001b[39m\u001b[39m1\u001b[39m)\n\u001b[0;32m    136\u001b[0m \u001b[39mdef\u001b[39;00m \u001b[39mattr_list\u001b[39m(label: typing\u001b[39m.\u001b[39mOptional[\u001b[39mstr\u001b[39m] \u001b[39m=\u001b[39m \u001b[39mNone\u001b[39;00m,\n\u001b[0;32m    137\u001b[0m               kwargs\u001b[39m=\u001b[39m\u001b[39mNone\u001b[39;00m, attributes\u001b[39m=\u001b[39m\u001b[39mNone\u001b[39;00m) \u001b[39m-\u001b[39m\u001b[39m>\u001b[39m \u001b[39mstr\u001b[39m:\n\u001b[0;32m    138\u001b[0m \u001b[39m    \u001b[39m\u001b[39m\"\"\"Return assembled DOT attribute list string.\u001b[39;00m\n\u001b[0;32m    139\u001b[0m \n\u001b[0;32m    140\u001b[0m \u001b[39m    Sorts ``kwargs`` and ``attributes`` if they are plain dicts\u001b[39;00m\n\u001b[1;32m   (...)\u001b[0m\n\u001b[0;32m    150\u001b[0m \u001b[39m    ' [eggs=\"\"]'\u001b[39;00m\n\u001b[0;32m    151\u001b[0m \u001b[39m    \"\"\"\u001b[39;00m\n\u001b[1;32m--> 152\u001b[0m     content \u001b[39m=\u001b[39m a_list(label, kwargs\u001b[39m=\u001b[39;49mkwargs, attributes\u001b[39m=\u001b[39;49mattributes)\n\u001b[0;32m    153\u001b[0m     \u001b[39mif\u001b[39;00m \u001b[39mnot\u001b[39;00m content:\n\u001b[0;32m    154\u001b[0m         \u001b[39mreturn\u001b[39;00m \u001b[39m'\u001b[39m\u001b[39m'\u001b[39m\n",
            "File \u001b[1;32m~\\AppData\\Local\\Packages\\PythonSoftwareFoundation.Python.3.11_qbz5n2kfra8p0\\LocalCache\\local-packages\\Python311\\site-packages\\graphviz\\_tools.py:171\u001b[0m, in \u001b[0;36mdeprecate_positional_args.<locals>.decorator.<locals>.wrapper\u001b[1;34m(*args, **kwargs)\u001b[0m\n\u001b[0;32m    162\u001b[0m     wanted \u001b[39m=\u001b[39m \u001b[39m'\u001b[39m\u001b[39m, \u001b[39m\u001b[39m'\u001b[39m\u001b[39m.\u001b[39mjoin(\u001b[39mf\u001b[39m\u001b[39m'\u001b[39m\u001b[39m{\u001b[39;00mname\u001b[39m}\u001b[39;00m\u001b[39m=\u001b[39m\u001b[39m{\u001b[39;00mvalue\u001b[39m!r}\u001b[39;00m\u001b[39m'\u001b[39m\n\u001b[0;32m    163\u001b[0m                        \u001b[39mfor\u001b[39;00m name, value \u001b[39min\u001b[39;00m deprecated\u001b[39m.\u001b[39mitems())\n\u001b[0;32m    164\u001b[0m     warnings\u001b[39m.\u001b[39mwarn(\u001b[39mf\u001b[39m\u001b[39m'\u001b[39m\u001b[39mThe signature of \u001b[39m\u001b[39m{\u001b[39;00mfunc\u001b[39m.\u001b[39m\u001b[39m__name__\u001b[39m\u001b[39m}\u001b[39;00m\u001b[39m will be reduced\u001b[39m\u001b[39m'\u001b[39m\n\u001b[0;32m    165\u001b[0m                   \u001b[39mf\u001b[39m\u001b[39m'\u001b[39m\u001b[39m to \u001b[39m\u001b[39m{\u001b[39;00msupported_number\u001b[39m}\u001b[39;00m\u001b[39m positional args\u001b[39m\u001b[39m'\u001b[39m\n\u001b[0;32m    166\u001b[0m                   \u001b[39mf\u001b[39m\u001b[39m'\u001b[39m\u001b[39m \u001b[39m\u001b[39m{\u001b[39;00m\u001b[39mlist\u001b[39m(supported)\u001b[39m}\u001b[39;00m\u001b[39m: pass \u001b[39m\u001b[39m{\u001b[39;00mwanted\u001b[39m}\u001b[39;00m\u001b[39m'\u001b[39m\n\u001b[0;32m    167\u001b[0m                   \u001b[39m'\u001b[39m\u001b[39m as keyword arg(s)\u001b[39m\u001b[39m'\u001b[39m,\n\u001b[0;32m    168\u001b[0m                   stacklevel\u001b[39m=\u001b[39mstacklevel,\n\u001b[0;32m    169\u001b[0m                   category\u001b[39m=\u001b[39mcategory)\n\u001b[1;32m--> 171\u001b[0m \u001b[39mreturn\u001b[39;00m func(\u001b[39m*\u001b[39;49margs, \u001b[39m*\u001b[39;49m\u001b[39m*\u001b[39;49mkwargs)\n",
            "File \u001b[1;32m~\\AppData\\Local\\Packages\\PythonSoftwareFoundation.Python.3.11_qbz5n2kfra8p0\\LocalCache\\local-packages\\Python311\\site-packages\\graphviz\\quoting.py:125\u001b[0m, in \u001b[0;36ma_list\u001b[1;34m(label, kwargs, attributes)\u001b[0m\n\u001b[0;32m    123\u001b[0m result \u001b[39m=\u001b[39m [\u001b[39mf\u001b[39m\u001b[39m'\u001b[39m\u001b[39mlabel=\u001b[39m\u001b[39m{\u001b[39;00mquote(label)\u001b[39m}\u001b[39;00m\u001b[39m'\u001b[39m] \u001b[39mif\u001b[39;00m label \u001b[39mis\u001b[39;00m \u001b[39mnot\u001b[39;00m \u001b[39mNone\u001b[39;00m \u001b[39melse\u001b[39;00m []\n\u001b[0;32m    124\u001b[0m \u001b[39mif\u001b[39;00m kwargs:\n\u001b[1;32m--> 125\u001b[0m     result \u001b[39m+\u001b[39m\u001b[39m=\u001b[39m [\u001b[39mf\u001b[39;49m\u001b[39m'\u001b[39;49m\u001b[39m{\u001b[39;49;00mquote(k)\u001b[39m}\u001b[39;49;00m\u001b[39m=\u001b[39;49m\u001b[39m{\u001b[39;49;00mquote(v)\u001b[39m}\u001b[39;49;00m\u001b[39m'\u001b[39;49m\n\u001b[0;32m    126\u001b[0m                \u001b[39mfor\u001b[39;49;00m k, v \u001b[39min\u001b[39;49;00m _tools\u001b[39m.\u001b[39;49mmapping_items(kwargs) \u001b[39mif\u001b[39;49;00m v \u001b[39mis\u001b[39;49;00m \u001b[39mnot\u001b[39;49;00m \u001b[39mNone\u001b[39;49;00m]\n\u001b[0;32m    127\u001b[0m \u001b[39mif\u001b[39;00m attributes:\n\u001b[0;32m    128\u001b[0m     \u001b[39mif\u001b[39;00m \u001b[39mhasattr\u001b[39m(attributes, \u001b[39m'\u001b[39m\u001b[39mitems\u001b[39m\u001b[39m'\u001b[39m):\n",
            "File \u001b[1;32m~\\AppData\\Local\\Packages\\PythonSoftwareFoundation.Python.3.11_qbz5n2kfra8p0\\LocalCache\\local-packages\\Python311\\site-packages\\graphviz\\quoting.py:125\u001b[0m, in \u001b[0;36m<listcomp>\u001b[1;34m(.0)\u001b[0m\n\u001b[0;32m    123\u001b[0m result \u001b[39m=\u001b[39m [\u001b[39mf\u001b[39m\u001b[39m'\u001b[39m\u001b[39mlabel=\u001b[39m\u001b[39m{\u001b[39;00mquote(label)\u001b[39m}\u001b[39;00m\u001b[39m'\u001b[39m] \u001b[39mif\u001b[39;00m label \u001b[39mis\u001b[39;00m \u001b[39mnot\u001b[39;00m \u001b[39mNone\u001b[39;00m \u001b[39melse\u001b[39;00m []\n\u001b[0;32m    124\u001b[0m \u001b[39mif\u001b[39;00m kwargs:\n\u001b[1;32m--> 125\u001b[0m     result \u001b[39m+\u001b[39m\u001b[39m=\u001b[39m [\u001b[39mf\u001b[39m\u001b[39m'\u001b[39m\u001b[39m{\u001b[39;00mquote(k)\u001b[39m}\u001b[39;00m\u001b[39m=\u001b[39m\u001b[39m{\u001b[39;00mquote(v)\u001b[39m}\u001b[39;00m\u001b[39m'\u001b[39m\n\u001b[0;32m    126\u001b[0m                \u001b[39mfor\u001b[39;00m k, v \u001b[39min\u001b[39;00m _tools\u001b[39m.\u001b[39mmapping_items(kwargs) \u001b[39mif\u001b[39;00m v \u001b[39mis\u001b[39;00m \u001b[39mnot\u001b[39;00m \u001b[39mNone\u001b[39;00m]\n\u001b[0;32m    127\u001b[0m \u001b[39mif\u001b[39;00m attributes:\n\u001b[0;32m    128\u001b[0m     \u001b[39mif\u001b[39;00m \u001b[39mhasattr\u001b[39m(attributes, \u001b[39m'\u001b[39m\u001b[39mitems\u001b[39m\u001b[39m'\u001b[39m):\n",
            "File \u001b[1;32m~\\AppData\\Local\\Packages\\PythonSoftwareFoundation.Python.3.11_qbz5n2kfra8p0\\LocalCache\\local-packages\\Python311\\site-packages\\graphviz\\_tools.py:171\u001b[0m, in \u001b[0;36mdeprecate_positional_args.<locals>.decorator.<locals>.wrapper\u001b[1;34m(*args, **kwargs)\u001b[0m\n\u001b[0;32m    162\u001b[0m     wanted \u001b[39m=\u001b[39m \u001b[39m'\u001b[39m\u001b[39m, \u001b[39m\u001b[39m'\u001b[39m\u001b[39m.\u001b[39mjoin(\u001b[39mf\u001b[39m\u001b[39m'\u001b[39m\u001b[39m{\u001b[39;00mname\u001b[39m}\u001b[39;00m\u001b[39m=\u001b[39m\u001b[39m{\u001b[39;00mvalue\u001b[39m!r}\u001b[39;00m\u001b[39m'\u001b[39m\n\u001b[0;32m    163\u001b[0m                        \u001b[39mfor\u001b[39;00m name, value \u001b[39min\u001b[39;00m deprecated\u001b[39m.\u001b[39mitems())\n\u001b[0;32m    164\u001b[0m     warnings\u001b[39m.\u001b[39mwarn(\u001b[39mf\u001b[39m\u001b[39m'\u001b[39m\u001b[39mThe signature of \u001b[39m\u001b[39m{\u001b[39;00mfunc\u001b[39m.\u001b[39m\u001b[39m__name__\u001b[39m\u001b[39m}\u001b[39;00m\u001b[39m will be reduced\u001b[39m\u001b[39m'\u001b[39m\n\u001b[0;32m    165\u001b[0m                   \u001b[39mf\u001b[39m\u001b[39m'\u001b[39m\u001b[39m to \u001b[39m\u001b[39m{\u001b[39;00msupported_number\u001b[39m}\u001b[39;00m\u001b[39m positional args\u001b[39m\u001b[39m'\u001b[39m\n\u001b[0;32m    166\u001b[0m                   \u001b[39mf\u001b[39m\u001b[39m'\u001b[39m\u001b[39m \u001b[39m\u001b[39m{\u001b[39;00m\u001b[39mlist\u001b[39m(supported)\u001b[39m}\u001b[39;00m\u001b[39m: pass \u001b[39m\u001b[39m{\u001b[39;00mwanted\u001b[39m}\u001b[39;00m\u001b[39m'\u001b[39m\n\u001b[0;32m    167\u001b[0m                   \u001b[39m'\u001b[39m\u001b[39m as keyword arg(s)\u001b[39m\u001b[39m'\u001b[39m,\n\u001b[0;32m    168\u001b[0m                   stacklevel\u001b[39m=\u001b[39mstacklevel,\n\u001b[0;32m    169\u001b[0m                   category\u001b[39m=\u001b[39mcategory)\n\u001b[1;32m--> 171\u001b[0m \u001b[39mreturn\u001b[39;00m func(\u001b[39m*\u001b[39;49margs, \u001b[39m*\u001b[39;49m\u001b[39m*\u001b[39;49mkwargs)\n",
            "File \u001b[1;32m~\\AppData\\Local\\Packages\\PythonSoftwareFoundation.Python.3.11_qbz5n2kfra8p0\\LocalCache\\local-packages\\Python311\\site-packages\\graphviz\\quoting.py:82\u001b[0m, in \u001b[0;36mquote\u001b[1;34m(identifier, is_html_string, is_valid_id, dot_keywords, endswith_odd_number_of_backslashes, escape_unescaped_quotes)\u001b[0m\n\u001b[0;32m     40\u001b[0m \u001b[39m@_tools\u001b[39m\u001b[39m.\u001b[39mdeprecate_positional_args(supported_number\u001b[39m=\u001b[39m\u001b[39m1\u001b[39m)\n\u001b[0;32m     41\u001b[0m \u001b[39mdef\u001b[39;00m \u001b[39mquote\u001b[39m(identifier: \u001b[39mstr\u001b[39m,\n\u001b[0;32m     42\u001b[0m           is_html_string\u001b[39m=\u001b[39mHTML_STRING\u001b[39m.\u001b[39mmatch,\n\u001b[1;32m   (...)\u001b[0m\n\u001b[0;32m     45\u001b[0m           endswith_odd_number_of_backslashes\u001b[39m=\u001b[39mFINAL_ODD_BACKSLASHES\u001b[39m.\u001b[39msearch,\n\u001b[0;32m     46\u001b[0m           escape_unescaped_quotes\u001b[39m=\u001b[39mESCAPE_UNESCAPED_QUOTES) \u001b[39m-\u001b[39m\u001b[39m>\u001b[39m \u001b[39mstr\u001b[39m:\n\u001b[0;32m     47\u001b[0m \u001b[39m    \u001b[39m\u001b[39mr\u001b[39m\u001b[39m\"\"\"Return DOT identifier from string, quote if needed.\u001b[39;00m\n\u001b[0;32m     48\u001b[0m \n\u001b[0;32m     49\u001b[0m \u001b[39m    >>> quote('')  # doctest: +NO_EXE\u001b[39;00m\n\u001b[1;32m   (...)\u001b[0m\n\u001b[0;32m     80\u001b[0m \u001b[39m    \"\\\\\\\"\"\u001b[39;00m\n\u001b[0;32m     81\u001b[0m \u001b[39m    \"\"\"\u001b[39;00m\n\u001b[1;32m---> 82\u001b[0m     \u001b[39mif\u001b[39;00m is_html_string(identifier) \u001b[39mand\u001b[39;00m \u001b[39mnot\u001b[39;00m \u001b[39misinstance\u001b[39m(identifier, NoHtml):\n\u001b[0;32m     83\u001b[0m         \u001b[39mpass\u001b[39;00m\n\u001b[0;32m     84\u001b[0m     \u001b[39melif\u001b[39;00m \u001b[39mnot\u001b[39;00m is_valid_id(identifier) \u001b[39mor\u001b[39;00m identifier\u001b[39m.\u001b[39mlower() \u001b[39min\u001b[39;00m dot_keywords:\n",
            "\u001b[1;31mTypeError\u001b[0m: expected string or bytes-like object, got 'bool'"
          ]
        }
      ],
      "source": [
        "#@title Component Diagram\n",
        "from IPython.display import display, Markdown\n",
        "from diagrams import Diagram\n",
        "from diagrams.c4 import SystemBoundary, Relationship\n",
        "from _Repository import Systems, Applications\n",
        "from _SeventFtNode import Component\n",
        "\n",
        "settings = { **default_settings, **{\n",
        "  \"name\": \"Component Diagram\",\n",
        "  \"direction\": \"TB\"\n",
        "}}\n",
        "\n",
        "with Diagram(**settings) as diagram:\n",
        "\n",
        "  spa = Applications.SPA.Get()\n",
        "  mobileApp = Applications.MobileApp.Get()\n",
        "\n",
        "  with SystemBoundary(\"API Application\"):\n",
        "    signInController = Component(\"Sign In Controller\", \"Spring MVC Rest Controller\", \"Allows users to sign into the internet banking system\")\n",
        "    passwordController = Component(\"Reset Password Controller\", \"Spring MVC Rest Controller\", \"Allows users to reset their passwords with a single use URL\")\n",
        "    accountController = Component(\"Accounts Summary Controller\", \"Spring MVC Rest Controller\", \"Provides customers with a summary of their bank accounts\")\n",
        "    securityComponent = Component(\"Security Component\", \"Sprint Bean\", \"Provides functionality related to signing in, changing passwords, etc.\")\n",
        "    emailComponent = Component(\"Email Component\", \"Spring Bean\", \"Sends email to users\")\n",
        "    mainframeFacade = Component(\"Mainframe Banking System Facade\", \"Spring Bean\", \"A facade onto the mainframe banking system\")\n",
        " \n",
        "  database = Applications.Database.Get()\n",
        "  email = Systems.Email.Get()\n",
        "  mainframe = Systems.Mainframe.Get()\n",
        "\n",
        "  spa >> Relationship(\"Makes API calls to [JSON/HTTPS]\") >> [signInController, passwordController, accountController]\n",
        "  mobileApp >> Relationship(\"Makes API calls to [JSON/HTTPS]\") >> [signInController, passwordController, accountController]\n",
        "\n",
        "  signInController >> Relationship(\"Uses\") >> [securityComponent]\n",
        "  passwordController >> Relationship(\"Uses\") >> [securityComponent, emailComponent]\n",
        "  accountController >> Relationship(\"Uses\") >> [mainframeFacade]\n",
        "\n",
        "  securityComponent >> Relationship(\"Reads from and writes to\") >> [database]\n",
        "  emailComponent >> Relationship(\"Sends email using\") >> [email]\n",
        "  mainframeFacade >> Relationship(\"A facade onto the mainframe baking system\") >> [mainframe]\n",
        "\n",
        "display(Markdown(\"## \" + settings[\"name\"]))\n",
        "display(diagram)"
      ]
    },
    {
      "cell_type": "code",
      "execution_count": 6,
      "metadata": {},
      "outputs": [
        {
          "ename": "TypeError",
          "evalue": "Code.__init__() takes from 2 to 4 positional arguments but 6 were given",
          "output_type": "error",
          "traceback": [
            "\u001b[1;31m---------------------------------------------------------------------------\u001b[0m",
            "\u001b[1;31mTypeError\u001b[0m                                 Traceback (most recent call last)",
            "Cell \u001b[1;32mIn[6], line 14\u001b[0m\n\u001b[0;32m      7\u001b[0m settings \u001b[39m=\u001b[39m { \u001b[39m*\u001b[39m\u001b[39m*\u001b[39mdefault_settings, \u001b[39m*\u001b[39m\u001b[39m*\u001b[39m{\n\u001b[0;32m      8\u001b[0m   \u001b[39m\"\u001b[39m\u001b[39mname\u001b[39m\u001b[39m\"\u001b[39m: \u001b[39m\"\u001b[39m\u001b[39mCode Diagram\u001b[39m\u001b[39m\"\u001b[39m,\n\u001b[0;32m      9\u001b[0m   \u001b[39m\"\u001b[39m\u001b[39mdirection\u001b[39m\u001b[39m\"\u001b[39m: \u001b[39m\"\u001b[39m\u001b[39mTB\u001b[39m\u001b[39m\"\u001b[39m\n\u001b[0;32m     10\u001b[0m }}\n\u001b[0;32m     12\u001b[0m \u001b[39mwith\u001b[39;00m Diagram(\u001b[39m*\u001b[39m\u001b[39m*\u001b[39msettings) \u001b[39mas\u001b[39;00m diagram:\n\u001b[1;32m---> 14\u001b[0m   internetBankingSystemException \u001b[39m=\u001b[39m Code(\u001b[39m\"\u001b[39;49m\u001b[39mInternetBankingSystemException\u001b[39;49m\u001b[39m\"\u001b[39;49m, \u001b[39m\"\u001b[39;49m\u001b[39mabstract\u001b[39;49m\u001b[39m\"\u001b[39;49m, \u001b[39m\"\u001b[39;49m\u001b[39mJava\u001b[39;49m\u001b[39m\"\u001b[39;49m, \u001b[39m\"\u001b[39;49m\u001b[39mExtends SystemException\u001b[39;49m\u001b[39m\"\u001b[39;49m, \u001b[39mTrue\u001b[39;49;00m)\n\u001b[0;32m     16\u001b[0m   \u001b[39mwith\u001b[39;00m SystemBoundary(\u001b[39m\"\u001b[39m\u001b[39mcom.bigbankplc.internetbankingcomponent.mainframe\u001b[39m\u001b[39m\"\u001b[39m):\n\u001b[0;32m     17\u001b[0m     mainframeBankingSystemFacade \u001b[39m=\u001b[39m Code(\u001b[39m\"\u001b[39m\u001b[39mMainframeBankingSystemFacade\u001b[39m\u001b[39m\"\u001b[39m, \u001b[39m\"\u001b[39m\u001b[39minterface\u001b[39m\u001b[39m\"\u001b[39m, \u001b[39m\"\u001b[39m\u001b[39mJava\u001b[39m\u001b[39m\"\u001b[39m)\n",
            "\u001b[1;31mTypeError\u001b[0m: Code.__init__() takes from 2 to 4 positional arguments but 6 were given"
          ]
        }
      ],
      "source": [
        "#@title Code Diagram\n",
        "from IPython.display import display, Markdown\n",
        "from diagrams import Diagram\n",
        "from diagrams.c4 import SystemBoundary, Relationship\n",
        "from _SeventFtNode import Code\n",
        "\n",
        "settings = { **default_settings, **{\n",
        "  \"name\": \"Code Diagram\",\n",
        "  \"direction\": \"TB\"\n",
        "}}\n",
        "\n",
        "with Diagram(**settings) as diagram:\n",
        "\n",
        "  internetBankingSystemException = Code(\"InternetBankingSystemException\", \"abstract\", \"Java\", \"Extends SystemException\", True)\n",
        "\n",
        "  with SystemBoundary(\"com.bigbankplc.internetbankingcomponent.mainframe\"):\n",
        "    mainframeBankingSystemFacade = Code(\"MainframeBankingSystemFacade\", \"interface\", \"Java\")\n",
        "\n",
        "    mainframeBankingSystemFacadeImpl = Code(\"MainframeBankingSystemFacadeImpl\", \"module\", \"Java\")\n",
        "    mainframeBankingSystemException = Code(\"MainframeBankingSystemException\", \"module\", \"Java\")\n",
        "\n",
        "    getBalanceResponse = Code(\"GetBalanceResponse\", \"module\", \"Java\")\n",
        "    getBalanceRequest = Code(\"GetBalanceRequest\", \"module\", \"Java\")\n",
        "\n",
        "    abstractResponse = Code(\"AbstractResponse\", \"abstract\", \"Java\", \"\", True)\n",
        "    abstractRequest = Code(\"AbstractRequest\", \"abstract\", \"Java\", \"\", True)\n",
        "\n",
        "    bankingSystemConnection = Code(\"BankingSystemConnection\", \"module\", \"Java\")\n",
        "\n",
        "  mainframeBankingSystemFacade << Relationship() << mainframeBankingSystemFacadeImpl \n",
        "  mainframeBankingSystemFacadeImpl >> Relationship(\"+throws\") >> mainframeBankingSystemException\n",
        "  mainframeBankingSystemFacadeImpl >> Relationship(\"+parses\") >> getBalanceResponse\n",
        "  mainframeBankingSystemFacadeImpl >> Relationship(\"+creates\") >> getBalanceRequest\n",
        "  mainframeBankingSystemFacadeImpl >> Relationship(\"+uses\") >> bankingSystemConnection\n",
        "\n",
        "  mainframeBankingSystemException >> Relationship() >> internetBankingSystemException\n",
        "\n",
        "  getBalanceRequest >> Relationship() >> abstractRequest\n",
        "  getBalanceResponse >> Relationship() >> abstractResponse\n",
        "\n",
        "  bankingSystemConnection >> Relationship(\"+sends\") >> abstractRequest\n",
        "  bankingSystemConnection >> Relationship(\"+receives\") >> abstractResponse\n",
        "\n",
        "display(Markdown(\"## \" + settings[\"name\"]))\n",
        "display(diagram)"
      ]
    }
  ],
  "metadata": {
    "colab": {
      "include_colab_link": true,
      "provenance": []
    },
    "kernelspec": {
      "display_name": "Python 3",
      "language": "python",
      "name": "python3"
    },
    "language_info": {
      "codemirror_mode": {
        "name": "ipython",
        "version": 3
      },
      "file_extension": ".py",
      "mimetype": "text/x-python",
      "name": "python",
      "nbconvert_exporter": "python",
      "pygments_lexer": "ipython3",
      "version": "3.11.4"
    },
    "polyglot_notebook": {
      "kernelInfo": {
        "defaultKernelName": "csharp",
        "items": [
          {
            "aliases": [],
            "name": "csharp"
          }
        ]
      }
    }
  },
  "nbformat": 4,
  "nbformat_minor": 0
}
