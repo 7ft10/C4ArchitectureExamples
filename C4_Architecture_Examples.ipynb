{
  "cells": [
    {
      "attachments": {},
      "cell_type": "markdown",
      "metadata": {
        "colab_type": "text",
        "id": "view-in-github"
      },
      "source": [
        "<a href=\"https://colab.research.google.com/github/7ft10/C4ArchitectureExamples/blob/main/C4_Architecture_Examples.ipynb\" target=\"_parent\"><img src=\"https://colab.research.google.com/assets/colab-badge.svg\" alt=\"Open In Colab\"/></a>"
      ]
    },
    {
      "attachments": {},
      "cell_type": "markdown",
      "metadata": {},
      "source": [
        "# C4 Architecture Examples\n",
        "\n",
        "How to guide can be found in the read me."
      ]
    },
    {
      "cell_type": "code",
      "execution_count": 12,
      "metadata": {
        "collapsed": true,
        "id": "iIYChmlOj0fT",
        "slideshow": {
          "slide_type": "slide"
        }
      },
      "outputs": [],
      "source": [
        "#@title Install Diagrams\n",
        "import os\n",
        "result = os.system('pip install diagrams')\n",
        "result = os.system('pip install httpimport')"
      ]
    },
    {
      "cell_type": "code",
      "execution_count": 13,
      "metadata": {},
      "outputs": [],
      "source": [
        "#@markdown ## Get Repository\n",
        "from urllib import request\n",
        "\n",
        "baseUrl = \"https://raw.githubusercontent.com/7ft10/C4ArchitectureExamples/main/\"\n",
        "[name, response] = request.urlretrieve(baseUrl + 'Repository/Repository.py', '_Repository.py')"
      ]
    },
    {
      "cell_type": "code",
      "execution_count": 14,
      "metadata": {
        "cellView": "form",
        "id": "CwzcIaUIRE9M"
      },
      "outputs": [],
      "source": [
        "#@markdown ## Settings\n",
        "\n",
        "default_settings = {\n",
        "  \"show\": False,\n",
        "  \"outformat\": \"png\",\n",
        "  \"graph_attr\":  {\n",
        "    \"splines\": \"spline\",\n",
        "    \"fontsize\": \"10\",\n",
        "    \"bgcolor\": \"lightgrey\"\n",
        "  },\n",
        "  \"node_attr\": {\n",
        "    \"fontsize\": \"8px\",\n",
        "    \"width\": \"1.8\"\n",
        "  }\n",
        "} "
      ]
    },
    {
      "cell_type": "code",
      "execution_count": 15,
      "metadata": {},
      "outputs": [
        {
          "data": {
            "text/markdown": [
              "---"
            ],
            "text/plain": [
              "<IPython.core.display.Markdown object>"
            ]
          },
          "metadata": {},
          "output_type": "display_data"
        },
        {
          "data": {
            "text/markdown": [
              "## BankingCustomer"
            ],
            "text/plain": [
              "<IPython.core.display.Markdown object>"
            ]
          },
          "metadata": {},
          "output_type": "display_data"
        },
        {
          "data": {
            "text/markdown": [
              "| Key         | Value       |\n",
              "                   | ----------- | ----------- |\n",
              "| id | BankingCustomer |\n",
              "| nodeType | Persona |\n",
              "| name | Personal Banking Customer |\n",
              "| description | A customer of the bank with\n",
              "personal bank accounts |"
            ],
            "text/plain": [
              "<IPython.core.display.Markdown object>"
            ]
          },
          "metadata": {},
          "output_type": "display_data"
        },
        {
          "data": {
            "text/markdown": [
              "---"
            ],
            "text/plain": [
              "<IPython.core.display.Markdown object>"
            ]
          },
          "metadata": {},
          "output_type": "display_data"
        },
        {
          "data": {
            "text/markdown": [
              "## Email"
            ],
            "text/plain": [
              "<IPython.core.display.Markdown object>"
            ]
          },
          "metadata": {},
          "output_type": "display_data"
        },
        {
          "data": {
            "text/markdown": [
              "| Key         | Value       |\n",
              "                   | ----------- | ----------- |\n",
              "| id | Email |\n",
              "| nodeType | System |\n",
              "| name | Email |\n",
              "| external | True |\n",
              "| description | The internal Microsoft Exchange Email system |\n",
              "| technology | Exchange |"
            ],
            "text/plain": [
              "<IPython.core.display.Markdown object>"
            ]
          },
          "metadata": {},
          "output_type": "display_data"
        },
        {
          "data": {
            "text/markdown": [
              "---"
            ],
            "text/plain": [
              "<IPython.core.display.Markdown object>"
            ]
          },
          "metadata": {},
          "output_type": "display_data"
        },
        {
          "data": {
            "text/markdown": [
              "## BankingSystem"
            ],
            "text/plain": [
              "<IPython.core.display.Markdown object>"
            ]
          },
          "metadata": {},
          "output_type": "display_data"
        },
        {
          "data": {
            "text/markdown": [
              "| Key         | Value       |\n",
              "                   | ----------- | ----------- |\n",
              "| id | BankingSystem |\n",
              "| nodeType | System |\n",
              "| name | Internet Banking System |\n",
              "| description | Allows customers to view information about\n",
              "their bank accounts, and make payments. |"
            ],
            "text/plain": [
              "<IPython.core.display.Markdown object>"
            ]
          },
          "metadata": {},
          "output_type": "display_data"
        },
        {
          "data": {
            "text/markdown": [
              "---"
            ],
            "text/plain": [
              "<IPython.core.display.Markdown object>"
            ]
          },
          "metadata": {},
          "output_type": "display_data"
        },
        {
          "data": {
            "text/markdown": [
              "## Mainframe"
            ],
            "text/plain": [
              "<IPython.core.display.Markdown object>"
            ]
          },
          "metadata": {},
          "output_type": "display_data"
        },
        {
          "data": {
            "text/markdown": [
              "| Key         | Value       |\n",
              "                   | ----------- | ----------- |\n",
              "| id | Mainframe |\n",
              "| nodeType | System |\n",
              "| name | Mainframe Banking System |\n",
              "| description | Store all of the core banking\n",
              "information about customers,\n",
              "accounts, transactions, etc. |\n",
              "| technology | AS400 IBM Mainframe |"
            ],
            "text/plain": [
              "<IPython.core.display.Markdown object>"
            ]
          },
          "metadata": {},
          "output_type": "display_data"
        },
        {
          "data": {
            "text/markdown": [
              "---"
            ],
            "text/plain": [
              "<IPython.core.display.Markdown object>"
            ]
          },
          "metadata": {},
          "output_type": "display_data"
        },
        {
          "data": {
            "text/markdown": [
              "## API"
            ],
            "text/plain": [
              "<IPython.core.display.Markdown object>"
            ]
          },
          "metadata": {},
          "output_type": "display_data"
        },
        {
          "data": {
            "text/markdown": [
              "| Key         | Value       |\n",
              "                   | ----------- | ----------- |\n",
              "| id | API |\n",
              "| nodeType | Container |\n",
              "| name | API |\n",
              "| description | C# application |"
            ],
            "text/plain": [
              "<IPython.core.display.Markdown object>"
            ]
          },
          "metadata": {},
          "output_type": "display_data"
        },
        {
          "data": {
            "text/markdown": [
              "---"
            ],
            "text/plain": [
              "<IPython.core.display.Markdown object>"
            ]
          },
          "metadata": {},
          "output_type": "display_data"
        },
        {
          "data": {
            "text/markdown": [
              "## Database"
            ],
            "text/plain": [
              "<IPython.core.display.Markdown object>"
            ]
          },
          "metadata": {},
          "output_type": "display_data"
        },
        {
          "data": {
            "text/markdown": [
              "| Key         | Value       |\n",
              "                   | ----------- | ----------- |\n",
              "| id | Database |\n",
              "| nodeType | Container |\n",
              "| name | Database |\n",
              "| description | Stores user registration information,\n",
              "hashed authentication, credentials, access logs, etc. |\n",
              "| external | SQL Server |"
            ],
            "text/plain": [
              "<IPython.core.display.Markdown object>"
            ]
          },
          "metadata": {},
          "output_type": "display_data"
        },
        {
          "data": {
            "text/markdown": [
              "---"
            ],
            "text/plain": [
              "<IPython.core.display.Markdown object>"
            ]
          },
          "metadata": {},
          "output_type": "display_data"
        },
        {
          "data": {
            "text/markdown": [
              "## MobileApp"
            ],
            "text/plain": [
              "<IPython.core.display.Markdown object>"
            ]
          },
          "metadata": {},
          "output_type": "display_data"
        },
        {
          "data": {
            "text/markdown": [
              "| Key         | Value       |\n",
              "                   | ----------- | ----------- |\n",
              "| id | MobileApp |\n",
              "| nodeType | Container |\n",
              "| name | Android App |\n",
              "| description | Android App |"
            ],
            "text/plain": [
              "<IPython.core.display.Markdown object>"
            ]
          },
          "metadata": {},
          "output_type": "display_data"
        },
        {
          "data": {
            "text/markdown": [
              "---"
            ],
            "text/plain": [
              "<IPython.core.display.Markdown object>"
            ]
          },
          "metadata": {},
          "output_type": "display_data"
        },
        {
          "data": {
            "text/markdown": [
              "## SPA"
            ],
            "text/plain": [
              "<IPython.core.display.Markdown object>"
            ]
          },
          "metadata": {},
          "output_type": "display_data"
        },
        {
          "data": {
            "text/markdown": [
              "| Key         | Value       |\n",
              "                   | ----------- | ----------- |\n",
              "| id | SPA |\n",
              "| nodeType | Container |\n",
              "| name | Single Page App |\n",
              "| description | Single Page App |"
            ],
            "text/plain": [
              "<IPython.core.display.Markdown object>"
            ]
          },
          "metadata": {},
          "output_type": "display_data"
        },
        {
          "data": {
            "text/markdown": [
              "---"
            ],
            "text/plain": [
              "<IPython.core.display.Markdown object>"
            ]
          },
          "metadata": {},
          "output_type": "display_data"
        },
        {
          "data": {
            "text/markdown": [
              "## WebApp"
            ],
            "text/plain": [
              "<IPython.core.display.Markdown object>"
            ]
          },
          "metadata": {},
          "output_type": "display_data"
        },
        {
          "data": {
            "text/markdown": [
              "| Key         | Value       |\n",
              "                   | ----------- | ----------- |\n",
              "| id | WebApp |\n",
              "| nodeType | Container |\n",
              "| name | WebApp |\n",
              "| description | C# Web application |"
            ],
            "text/plain": [
              "<IPython.core.display.Markdown object>"
            ]
          },
          "metadata": {},
          "output_type": "display_data"
        }
      ],
      "source": [
        "#@markdown ## Print Repository\n",
        "from _Repository import Personas, Systems, Applications\n",
        "\n",
        "Personas.Print()\n",
        "Systems.Print()\n",
        "Applications.Print()"
      ]
    },
    {
      "cell_type": "code",
      "execution_count": 16,
      "metadata": {},
      "outputs": [
        {
          "ename": "TypeError",
          "evalue": "Node.__init__() got multiple values for argument 'label'",
          "output_type": "error",
          "traceback": [
            "\u001b[1;31m---------------------------------------------------------------------------\u001b[0m",
            "\u001b[1;31mTypeError\u001b[0m                                 Traceback (most recent call last)",
            "Cell \u001b[1;32mIn[16], line 13\u001b[0m\n\u001b[0;32m      7\u001b[0m settings \u001b[39m=\u001b[39m { \u001b[39m*\u001b[39m\u001b[39m*\u001b[39mdefault_settings, \u001b[39m*\u001b[39m\u001b[39m*\u001b[39m{\n\u001b[0;32m      8\u001b[0m   \u001b[39m\"\u001b[39m\u001b[39mname\u001b[39m\u001b[39m\"\u001b[39m: \u001b[39m\"\u001b[39m\u001b[39mSystem Context Diagram\u001b[39m\u001b[39m\"\u001b[39m,\n\u001b[0;32m      9\u001b[0m   \u001b[39m\"\u001b[39m\u001b[39mdirection\u001b[39m\u001b[39m\"\u001b[39m: \u001b[39m\"\u001b[39m\u001b[39mTB\u001b[39m\u001b[39m\"\u001b[39m\n\u001b[0;32m     10\u001b[0m }}\n\u001b[0;32m     12\u001b[0m \u001b[39mwith\u001b[39;00m Diagram(\u001b[39m*\u001b[39m\u001b[39m*\u001b[39msettings) \u001b[39mas\u001b[39;00m diagram:\n\u001b[1;32m---> 13\u001b[0m   customer \u001b[39m=\u001b[39m Personas\u001b[39m.\u001b[39;49mBankingCustomer\u001b[39m.\u001b[39;49mGet()\n\u001b[0;32m     14\u001b[0m   banking \u001b[39m=\u001b[39m Systems\u001b[39m.\u001b[39mInternetBankingSystem\u001b[39m.\u001b[39mGet()\n\u001b[0;32m     15\u001b[0m   email \u001b[39m=\u001b[39m Systems\u001b[39m.\u001b[39mEmail\u001b[39m.\u001b[39mGet()\n",
            "File \u001b[1;32mc:\\Users\\mike\\Documents\\Github\\C4ArchitectureExamples\\_SeventFtNode.py:222\u001b[0m, in \u001b[0;36mSevenftNode.Get\u001b[1;34m(self)\u001b[0m\n\u001b[0;32m    220\u001b[0m \u001b[39mcase\u001b[39;00m \u001b[39m\"\u001b[39m\u001b[39mPersona\u001b[39m\u001b[39m\"\u001b[39m:\n\u001b[0;32m    221\u001b[0m   md\u001b[39m.\u001b[39msetdefault(\u001b[39m'\u001b[39m\u001b[39micon_path\u001b[39m\u001b[39m'\u001b[39m, \u001b[39mself\u001b[39m\u001b[39m.\u001b[39mdefault_persona_icon)\n\u001b[1;32m--> 222\u001b[0m   \u001b[39mreturn\u001b[39;00m Persona( md\u001b[39m.\u001b[39;49mpop(\u001b[39m'\u001b[39;49m\u001b[39mname\u001b[39;49m\u001b[39m'\u001b[39;49m), md\u001b[39m.\u001b[39;49mpop(\u001b[39m'\u001b[39;49m\u001b[39msummary\u001b[39;49m\u001b[39m'\u001b[39;49m), md\u001b[39m.\u001b[39;49mpop(\u001b[39m'\u001b[39;49m\u001b[39mdescription\u001b[39;49m\u001b[39m'\u001b[39;49m), \u001b[39m*\u001b[39;49m\u001b[39m*\u001b[39;49mmd )\n\u001b[0;32m    223\u001b[0m \u001b[39mcase\u001b[39;00m \u001b[39m\"\u001b[39m\u001b[39mDatabase\u001b[39m\u001b[39m\"\u001b[39m:\n\u001b[0;32m    224\u001b[0m   \u001b[39mreturn\u001b[39;00m Database( md\u001b[39m.\u001b[39mpop(\u001b[39m'\u001b[39m\u001b[39mname\u001b[39m\u001b[39m'\u001b[39m), md\u001b[39m.\u001b[39mpop(\u001b[39m'\u001b[39m\u001b[39msummary\u001b[39m\u001b[39m'\u001b[39m), md\u001b[39m.\u001b[39mpop(\u001b[39m'\u001b[39m\u001b[39mdescription\u001b[39m\u001b[39m'\u001b[39m), \u001b[39m*\u001b[39m\u001b[39m*\u001b[39mmd )\n",
            "File \u001b[1;32mc:\\Users\\mike\\Documents\\Github\\C4ArchitectureExamples\\_SeventFtNode.py:109\u001b[0m, in \u001b[0;36mPersona.__init__\u001b[1;34m(self, name, summary, description, **kwargs)\u001b[0m\n\u001b[0;32m    103\u001b[0m attributes \u001b[39m=\u001b[39m {\n\u001b[0;32m    104\u001b[0m     \u001b[39m\"\u001b[39m\u001b[39mlabel\u001b[39m\u001b[39m\"\u001b[39m: \u001b[39m\"\u001b[39m\u001b[39mExternal Person\u001b[39m\u001b[39m\"\u001b[39m \u001b[39mif\u001b[39;00m external \u001b[39melse\u001b[39;00m \u001b[39m\"\u001b[39m\u001b[39mPerson\u001b[39m\u001b[39m\"\u001b[39m,\n\u001b[0;32m    105\u001b[0m     \u001b[39m\"\u001b[39m\u001b[39mfillcolor\u001b[39m\u001b[39m\"\u001b[39m: \u001b[39m\"\u001b[39m\u001b[39mgray60\u001b[39m\u001b[39m\"\u001b[39m \u001b[39mif\u001b[39;00m external \u001b[39melse\u001b[39;00m \u001b[39m\"\u001b[39m\u001b[39mdodgerblue4\u001b[39m\u001b[39m\"\u001b[39m,\n\u001b[0;32m    106\u001b[0m     \u001b[39m\"\u001b[39m\u001b[39mstyle\u001b[39m\u001b[39m\"\u001b[39m: \u001b[39m\"\u001b[39m\u001b[39mrounded,filled\u001b[39m\u001b[39m\"\u001b[39m,\n\u001b[0;32m    107\u001b[0m }\n\u001b[0;32m    108\u001b[0m attributes\u001b[39m.\u001b[39mupdate(kwargs)\n\u001b[1;32m--> 109\u001b[0m \u001b[39msuper\u001b[39;49m()\u001b[39m.\u001b[39;49m\u001b[39m__init__\u001b[39;49m(name, summary, description, \u001b[39m\"\u001b[39;49m\u001b[39mDatabase\u001b[39;49m\u001b[39m\"\u001b[39;49m, \u001b[39m*\u001b[39;49m\u001b[39m*\u001b[39;49mattributes)\n",
            "File \u001b[1;32mc:\\Users\\mike\\Documents\\Github\\C4ArchitectureExamples\\_SeventFtNode.py:61\u001b[0m, in \u001b[0;36mC4Node.__init__\u001b[1;34m(self, name, summary, description, type, **kwargs)\u001b[0m\n\u001b[0;32m     59\u001b[0m     attributes\u001b[39m.\u001b[39mupdate({\u001b[39m\"\u001b[39m\u001b[39mwidth\u001b[39m\u001b[39m\"\u001b[39m: \u001b[39m\"\u001b[39m\u001b[39m2\u001b[39m\u001b[39m\"\u001b[39m, \u001b[39m\"\u001b[39m\u001b[39mheight\u001b[39m\u001b[39m\"\u001b[39m: \u001b[39m\"\u001b[39m\u001b[39m1\u001b[39m\u001b[39m\"\u001b[39m})\n\u001b[0;32m     60\u001b[0m attributes\u001b[39m.\u001b[39mupdate(kwargs)\n\u001b[1;32m---> 61\u001b[0m \u001b[39msuper\u001b[39;49m()\u001b[39m.\u001b[39;49m\u001b[39m__init__\u001b[39;49m(label, \u001b[39m*\u001b[39;49m\u001b[39m*\u001b[39;49mattributes)\n",
            "\u001b[1;31mTypeError\u001b[0m: Node.__init__() got multiple values for argument 'label'"
          ]
        }
      ],
      "source": [
        "#@title System Context Diagram\n",
        "from IPython.display import display, Markdown\n",
        "from diagrams import Diagram\n",
        "from diagrams.c4 import Relationship\n",
        "from _Repository import Personas, Systems\n",
        "\n",
        "settings = { **default_settings, **{\n",
        "  \"name\": \"System Context Diagram\",\n",
        "  \"direction\": \"TB\"\n",
        "}}\n",
        "\n",
        "with Diagram(**settings) as diagram:\n",
        "  customer = Personas.BankingCustomer.Get()\n",
        "  banking = Systems.InternetBankingSystem.Get()\n",
        "  email = Systems.Email.Get()\n",
        "  mainframe = Systems.Mainframe.Get()\n",
        "\n",
        "  customer >> Relationship(\"Sends email to\") >> [email]\n",
        "  customer >> Relationship(\"Views account balances and makes payments using\") >> [banking]\n",
        "  banking >> Relationship(\"Gets account information from and makes payments using\") >> [mainframe]\n",
        "  banking >> Relationship(\"Sends email using\") >> [email]\n",
        "\n",
        "display(Markdown(\"## \" + settings[\"name\"]))\n",
        "display(diagram)"
      ]
    },
    {
      "cell_type": "code",
      "execution_count": null,
      "metadata": {
        "id": "tfcbX9THkvDP",
        "notebookRunGroups": {
          "groupValue": ""
        },
        "tags": [
          "parameters"
        ]
      },
      "outputs": [],
      "source": [
        "#@title Container Diagram\n",
        "from IPython.display import display, Markdown\n",
        "from diagrams import Diagram\n",
        "from diagrams.c4 import SystemBoundary, Relationship\n",
        "from _Repository import Personas, Systems, Applications\n",
        "\n",
        "settings = { **default_settings, **{\n",
        "  \"name\": \"Container Diagram\",\n",
        "  \"direction\": \"RL\"\n",
        "}}\n",
        "\n",
        "with Diagram(**settings) as diagram:\n",
        "  customer = Personas.BankingCustomer.Get()\n",
        "\n",
        "  with SystemBoundary(\"Internet Banking System\"):\n",
        "    webapp = Applications.WebApp.Get()\n",
        "    spa = Applications.SPA.Get()\n",
        "    mobileApp = Applications.MobileApp.Get()\n",
        "    api = Applications.API.Get()\n",
        "    database = Applications.Database.Get()\n",
        "\n",
        "  email = Systems.Email.Get()\n",
        "  mainframe = Systems.Mainframe.Get()\n",
        "\n",
        "  customer >> Relationship(\"Visits big.bank.com/ib using [HTTPS]\") >> [webapp]\n",
        "  customer >> Relationship(\"Views account balances, and makes payments using\") >> [spa, mobileApp]\n",
        "  webapp >> Relationship(\"Delivers to the customer's web browser\") >> [spa]\n",
        "  api << Relationship(\"Make API calls to [JSON/HTTPS]\") << [spa, mobileApp]\n",
        "  api >> Relationship(\"reads from and writes to\") >> [database]\n",
        "  api >> Relationship(\"Sends email using [SMTP]\") >> [email]\n",
        "  api >> Relationship(\"Makes API calls to [XML/HTTPS]\") >> [mainframe]\n",
        "  email >> Relationship(\"Sends e-mails to\") >> [customer]\n",
        "\n",
        "display(Markdown(\"## \" + settings[\"name\"]))\n",
        "display(diagram)"
      ]
    },
    {
      "cell_type": "code",
      "execution_count": null,
      "metadata": {},
      "outputs": [],
      "source": [
        "#@title Component Diagram\n",
        "from IPython.display import display, Markdown\n",
        "from diagrams import Diagram\n",
        "from diagrams.c4 import SystemBoundary, Relationship\n",
        "from _Repository import Systems, Applications\n",
        "from _SeventFtNode import Component\n",
        "\n",
        "settings = { **default_settings, **{\n",
        "  \"name\": \"Component Diagram\",\n",
        "  \"direction\": \"TB\"\n",
        "}}\n",
        "\n",
        "with Diagram(**settings) as diagram:\n",
        "\n",
        "  spa = Applications.SPA.Get()\n",
        "  mobileApp = Applications.MobileApp.Get()\n",
        "\n",
        "  with SystemBoundary(\"API Application\"):\n",
        "    signInController = Component(\"Sign In Controller\", \"Spring MVC Rest Controller\", \"Allows users to sign into the internet banking system\")\n",
        "    passwordController = Component(\"Reset Password Controller\", \"Spring MVC Rest Controller\", \"Allows users to reset their passwords with a single use URL\")\n",
        "    accountController = Component(\"Accounts Summary Controller\", \"Spring MVC Rest Controller\", \"Provides customers with a summary of their bank accounts\")\n",
        "    securityComponent = Component(\"Security Component\", \"Sprint Bean\", \"Provides functionality related to signing in, changing passwords, etc.\")\n",
        "    emailComponent = Component(\"Email Component\", \"Spring Bean\", \"Sends email to users\")\n",
        "    mainframeFacade = Component(\"Mainframe Banking System Facade\", \"Spring Bean\", \"A facade onto the mainframe banking system\")\n",
        " \n",
        "  database = Applications.Database.Get()\n",
        "  email = Systems.Email.Get()\n",
        "  mainframe = Systems.Mainframe.Get()\n",
        "\n",
        "  spa >> Relationship(\"Makes API calls to [JSON/HTTPS]\") >> [signInController, passwordController, accountController]\n",
        "  mobileApp >> Relationship(\"Makes API calls to [JSON/HTTPS]\") >> [signInController, passwordController, accountController]\n",
        "\n",
        "  signInController >> Relationship(\"Uses\") >> [securityComponent]\n",
        "  passwordController >> Relationship(\"Uses\") >> [securityComponent, emailComponent]\n",
        "  accountController >> Relationship(\"Uses\") >> [mainframeFacade]\n",
        "\n",
        "  securityComponent >> Relationship(\"Reads from and writes to\") >> [database]\n",
        "  emailComponent >> Relationship(\"Sends email using\") >> [email]\n",
        "  mainframeFacade >> Relationship(\"A facade onto the mainframe baking system\") >> [mainframe]\n",
        "\n",
        "display(Markdown(\"## \" + settings[\"name\"]))\n",
        "display(diagram)"
      ]
    },
    {
      "cell_type": "code",
      "execution_count": null,
      "metadata": {},
      "outputs": [],
      "source": [
        "#@title Code Diagram\n",
        "from IPython.display import display, Markdown\n",
        "from diagrams import Diagram\n",
        "from diagrams.c4 import SystemBoundary, Relationship\n",
        "from _SeventFtNode import Code\n",
        "\n",
        "settings = { **default_settings, **{\n",
        "  \"name\": \"Code Diagram\",\n",
        "  \"direction\": \"TB\"\n",
        "}}\n",
        "\n",
        "with Diagram(**settings) as diagram:\n",
        "\n",
        "  internetBankingSystemException = Code(\"InternetBankingSystemException\", \"abstract\", \"Java\", \"Extends SystemException\", True)\n",
        "\n",
        "  with SystemBoundary(\"com.bigbankplc.internetbankingcomponent.mainframe\"):\n",
        "    mainframeBankingSystemFacade = Code(\"MainframeBankingSystemFacade\", \"interface\", \"Java\")\n",
        "\n",
        "    mainframeBankingSystemFacadeImpl = Code(\"MainframeBankingSystemFacadeImpl\", \"module\", \"Java\")\n",
        "    mainframeBankingSystemException = Code(\"MainframeBankingSystemException\", \"module\", \"Java\")\n",
        "\n",
        "    getBalanceResponse = Code(\"GetBalanceResponse\", \"module\", \"Java\")\n",
        "    getBalanceRequest = Code(\"GetBalanceRequest\", \"module\", \"Java\")\n",
        "\n",
        "    abstractResponse = Code(\"AbstractResponse\", \"abstract\", \"Java\", \"\", True)\n",
        "    abstractRequest = Code(\"AbstractRequest\", \"abstract\", \"Java\", \"\", True)\n",
        "\n",
        "    bankingSystemConnection = Code(\"BankingSystemConnection\", \"module\", \"Java\")\n",
        "\n",
        "  mainframeBankingSystemFacade << Relationship() << mainframeBankingSystemFacadeImpl \n",
        "  mainframeBankingSystemFacadeImpl >> Relationship(\"+throws\") >> mainframeBankingSystemException\n",
        "  mainframeBankingSystemFacadeImpl >> Relationship(\"+parses\") >> getBalanceResponse\n",
        "  mainframeBankingSystemFacadeImpl >> Relationship(\"+creates\") >> getBalanceRequest\n",
        "  mainframeBankingSystemFacadeImpl >> Relationship(\"+uses\") >> bankingSystemConnection\n",
        "\n",
        "  mainframeBankingSystemException >> Relationship() >> internetBankingSystemException\n",
        "\n",
        "  getBalanceRequest >> Relationship() >> abstractRequest\n",
        "  getBalanceResponse >> Relationship() >> abstractResponse\n",
        "\n",
        "  bankingSystemConnection >> Relationship(\"+sends\") >> abstractRequest\n",
        "  bankingSystemConnection >> Relationship(\"+receives\") >> abstractResponse\n",
        "\n",
        "display(Markdown(\"## \" + settings[\"name\"]))\n",
        "display(diagram)"
      ]
    }
  ],
  "metadata": {
    "colab": {
      "include_colab_link": true,
      "provenance": []
    },
    "kernelspec": {
      "display_name": "Python 3",
      "language": "python",
      "name": "python3"
    },
    "language_info": {
      "codemirror_mode": {
        "name": "ipython",
        "version": 3
      },
      "file_extension": ".py",
      "mimetype": "text/x-python",
      "name": "python",
      "nbconvert_exporter": "python",
      "pygments_lexer": "ipython3",
      "version": "3.11.4"
    },
    "polyglot_notebook": {
      "kernelInfo": {
        "defaultKernelName": "csharp",
        "items": [
          {
            "aliases": [],
            "name": "csharp"
          }
        ]
      }
    }
  },
  "nbformat": 4,
  "nbformat_minor": 0
}
