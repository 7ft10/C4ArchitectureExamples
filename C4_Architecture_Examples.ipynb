{
  "cells": [
    {
      "attachments": {},
      "cell_type": "markdown",
      "metadata": {
        "colab_type": "text",
        "id": "view-in-github"
      },
      "source": [
        "<a href=\"https://colab.research.google.com/github/7ft10/C4ArchitectureExamples/blob/main/C4_Architecture_Examples.ipynb\" target=\"_parent\"><img src=\"https://colab.research.google.com/assets/colab-badge.svg\" alt=\"Open In Colab\"/></a>"
      ]
    },
    {
      "attachments": {},
      "cell_type": "markdown",
      "metadata": {
        "id": "j2E0Uo9Nj3ju"
      },
      "source": [
        "# C4 Architecture Examples"
      ]
    },
    {
      "cell_type": "code",
      "execution_count": 13,
      "metadata": {
        "collapsed": true,
        "id": "iIYChmlOj0fT",
        "slideshow": {
          "slide_type": "slide"
        }
      },
      "outputs": [],
      "source": [
        "#@title Install Diagrams\n",
        "import os\n",
        "result = os.system('pip install diagrams')\n",
        "result = os.system('pip install httpimport')"
      ]
    },
    {
      "cell_type": "code",
      "execution_count": 14,
      "metadata": {},
      "outputs": [],
      "source": [
        "from urllib import request\n",
        "\n",
        "baseUrl = \"https://raw.githubusercontent.com/7ft10/C4ArchitectureExamples/main/\"\n",
        "[name, response] = request.urlretrieve(baseUrl + 'Repository/Repository.py', '_Repository.py')"
      ]
    },
    {
      "cell_type": "code",
      "execution_count": 15,
      "metadata": {
        "cellView": "form",
        "id": "CwzcIaUIRE9M"
      },
      "outputs": [],
      "source": [
        "#@markdown ----------------------------------------------\n",
        "#@markdown ## Attributes\n",
        "\n",
        "#@markdown + Graph Attributes\n",
        "global_graph_attr = {\n",
        "  \"splines\": \"spline\",\n",
        "  \"fontsize\": \"10\",\n",
        "  \"bgcolor\": \"transparent\"\n",
        "}\n",
        "\n",
        "#@markdown + Node Attributes\n",
        "global_node_attr = {\n",
        "  \"fontsize\": \"8px\",\n",
        "  \"width\": \"1.8\"#,\n",
        "  #\"height\": \"1.4\"\n",
        "}\n"
      ]
    },
    {
      "cell_type": "code",
      "execution_count": 17,
      "metadata": {},
      "outputs": [
        {
          "ename": "TypeError",
          "evalue": "descriptor '__init__' requires a 'super' object but received a 'BankingCustomer'",
          "output_type": "error",
          "traceback": [
            "\u001b[1;31m---------------------------------------------------------------------------\u001b[0m",
            "\u001b[1;31mTypeError\u001b[0m                                 Traceback (most recent call last)",
            "Cell \u001b[1;32mIn[17], line 1\u001b[0m\n\u001b[1;32m----> 1\u001b[0m \u001b[39mfrom\u001b[39;00m \u001b[39m_Repository\u001b[39;00m \u001b[39mimport\u001b[39;00m Personas, Systems\n\u001b[0;32m      3\u001b[0m Personas\u001b[39m.\u001b[39mPrint()\n\u001b[0;32m      4\u001b[0m Systems\u001b[39m.\u001b[39mPrint()\n",
            "File \u001b[1;32mc:\\Users\\mike\\Documents\\Github\\C4ArchitectureExamples\\_Repository.py:12\u001b[0m\n\u001b[0;32m     10\u001b[0m   \u001b[39mdef\u001b[39;00m \u001b[39m__init__\u001b[39m(\u001b[39mself\u001b[39m):\n\u001b[0;32m     11\u001b[0m     \u001b[39mself\u001b[39m\u001b[39m.\u001b[39mBankingCustomer:SevenftNode \u001b[39m=\u001b[39m SevenftNode\u001b[39m.\u001b[39mLoadFromYaml(baseUrl \u001b[39m+\u001b[39m \u001b[39m'\u001b[39m\u001b[39mRepository/Personas/Banking\u001b[39m\u001b[39m%\u001b[39m\u001b[39m20Customer.yaml\u001b[39m\u001b[39m'\u001b[39m)\n\u001b[1;32m---> 12\u001b[0m \u001b[39mglobals\u001b[39m()[\u001b[39m'\u001b[39m\u001b[39mPersonas\u001b[39m\u001b[39m'\u001b[39m] \u001b[39m=\u001b[39m _Personas()\n\u001b[0;32m     14\u001b[0m \u001b[39m#@markdown # Internal Systems\u001b[39;00m\n\u001b[0;32m     15\u001b[0m \u001b[39mclass\u001b[39;00m \u001b[39m_Systems\u001b[39;00m(SevenftRepository):\n",
            "File \u001b[1;32mc:\\Users\\mike\\Documents\\Github\\C4ArchitectureExamples\\_Repository.py:11\u001b[0m, in \u001b[0;36m_Personas.__init__\u001b[1;34m(self)\u001b[0m\n\u001b[0;32m     10\u001b[0m \u001b[39mdef\u001b[39;00m \u001b[39m__init__\u001b[39m(\u001b[39mself\u001b[39m):\n\u001b[1;32m---> 11\u001b[0m   \u001b[39mself\u001b[39m\u001b[39m.\u001b[39mBankingCustomer:SevenftNode \u001b[39m=\u001b[39m SevenftNode\u001b[39m.\u001b[39;49mLoadFromYaml(baseUrl \u001b[39m+\u001b[39;49m \u001b[39m'\u001b[39;49m\u001b[39mRepository/Personas/Banking\u001b[39;49m\u001b[39m%\u001b[39;49m\u001b[39m20Customer.yaml\u001b[39;49m\u001b[39m'\u001b[39;49m)\n",
            "File \u001b[1;32mc:\\Users\\mike\\Documents\\Github\\C4ArchitectureExamples\\_SeventFtNode.py:58\u001b[0m, in \u001b[0;36mSevenftNode.LoadFromYaml\u001b[1;34m(url)\u001b[0m\n\u001b[0;32m     53\u001b[0m \u001b[39mid\u001b[39m \u001b[39m=\u001b[39m \u001b[39mstr\u001b[39m(archetype\u001b[39m.\u001b[39mget(\u001b[39m'\u001b[39m\u001b[39mid\u001b[39m\u001b[39m'\u001b[39m))\n\u001b[0;32m     54\u001b[0m \u001b[39mglobals\u001b[39m()[\u001b[39mid\u001b[39m] \u001b[39m=\u001b[39m \u001b[39mtype\u001b[39m(\u001b[39mid\u001b[39m, (SevenftNode, ), {\n\u001b[0;32m     55\u001b[0m   \u001b[39m\"\u001b[39m\u001b[39m__init__\u001b[39m\u001b[39m\"\u001b[39m: \u001b[39mlambda\u001b[39;00m \u001b[39mself\u001b[39m : \u001b[39msuper\u001b[39m\u001b[39m.\u001b[39m\u001b[39m__init__\u001b[39m(\u001b[39mself\u001b[39m, archetype\u001b[39m.\u001b[39mpop(\u001b[39m\"\u001b[39m\u001b[39mnodeType\u001b[39m\u001b[39m\"\u001b[39m)),\n\u001b[0;32m     56\u001b[0m   \u001b[39m\"\u001b[39m\u001b[39mmetadata\u001b[39m\u001b[39m\"\u001b[39m: archetype\n\u001b[0;32m     57\u001b[0m })\n\u001b[1;32m---> 58\u001b[0m \u001b[39mreturn\u001b[39;00m \u001b[39mglobals\u001b[39;49m()[\u001b[39mid\u001b[39;49m]()\n",
            "File \u001b[1;32mc:\\Users\\mike\\Documents\\Github\\C4ArchitectureExamples\\_SeventFtNode.py:55\u001b[0m, in \u001b[0;36mSevenftNode.LoadFromYaml.<locals>.<lambda>\u001b[1;34m(self)\u001b[0m\n\u001b[0;32m     52\u001b[0m   archetype \u001b[39m=\u001b[39m yaml\u001b[39m.\u001b[39msafe_load(stream)\n\u001b[0;32m     53\u001b[0m \u001b[39mid\u001b[39m \u001b[39m=\u001b[39m \u001b[39mstr\u001b[39m(archetype\u001b[39m.\u001b[39mget(\u001b[39m'\u001b[39m\u001b[39mid\u001b[39m\u001b[39m'\u001b[39m))\n\u001b[0;32m     54\u001b[0m \u001b[39mglobals\u001b[39m()[\u001b[39mid\u001b[39m] \u001b[39m=\u001b[39m \u001b[39mtype\u001b[39m(\u001b[39mid\u001b[39m, (SevenftNode, ), {\n\u001b[1;32m---> 55\u001b[0m   \u001b[39m\"\u001b[39m\u001b[39m__init__\u001b[39m\u001b[39m\"\u001b[39m: \u001b[39mlambda\u001b[39;00m \u001b[39mself\u001b[39m : \u001b[39msuper\u001b[39;49m\u001b[39m.\u001b[39;49m\u001b[39m__init__\u001b[39;49m(\u001b[39mself\u001b[39;49m, archetype\u001b[39m.\u001b[39;49mpop(\u001b[39m\"\u001b[39;49m\u001b[39mnodeType\u001b[39;49m\u001b[39m\"\u001b[39;49m)),\n\u001b[0;32m     56\u001b[0m   \u001b[39m\"\u001b[39m\u001b[39mmetadata\u001b[39m\u001b[39m\"\u001b[39m: archetype\n\u001b[0;32m     57\u001b[0m })\n\u001b[0;32m     58\u001b[0m \u001b[39mreturn\u001b[39;00m \u001b[39mglobals\u001b[39m()[\u001b[39mid\u001b[39m]()\n",
            "\u001b[1;31mTypeError\u001b[0m: descriptor '__init__' requires a 'super' object but received a 'BankingCustomer'"
          ]
        }
      ],
      "source": [
        "from _Repository import Personas, Systems\n",
        "\n",
        "Personas.Print()\n",
        "Systems.Print()"
      ]
    },
    {
      "cell_type": "code",
      "execution_count": null,
      "metadata": {
        "id": "tfcbX9THkvDP",
        "notebookRunGroups": {
          "groupValue": ""
        },
        "tags": [
          "parameters"
        ]
      },
      "outputs": [
        {
          "ename": "TypeError",
          "evalue": "descriptor '__init__' requires a 'super' object but received a 'BankingCustomer'",
          "output_type": "error",
          "traceback": [
            "\u001b[1;31m---------------------------------------------------------------------------\u001b[0m",
            "\u001b[1;31mTypeError\u001b[0m                                 Traceback (most recent call last)",
            "Cell \u001b[1;32mIn[7], line 4\u001b[0m\n\u001b[0;32m      2\u001b[0m \u001b[39mfrom\u001b[39;00m \u001b[39mdiagrams\u001b[39;00m \u001b[39mimport\u001b[39;00m Diagram\n\u001b[0;32m      3\u001b[0m \u001b[39mfrom\u001b[39;00m \u001b[39mdiagrams\u001b[39;00m\u001b[39m.\u001b[39;00m\u001b[39mc4\u001b[39;00m \u001b[39mimport\u001b[39;00m SystemBoundary, Relationship\n\u001b[1;32m----> 4\u001b[0m \u001b[39mfrom\u001b[39;00m \u001b[39m_Repository\u001b[39;00m \u001b[39mimport\u001b[39;00m Personas, Systems\n\u001b[0;32m      6\u001b[0m settings \u001b[39m=\u001b[39m  {\n\u001b[0;32m      7\u001b[0m   \u001b[39m\"\u001b[39m\u001b[39mname\u001b[39m\u001b[39m\"\u001b[39m: \u001b[39m\"\u001b[39m\u001b[39m_Internet Banking System Context Diagram\u001b[39m\u001b[39m\"\u001b[39m,\n\u001b[0;32m      8\u001b[0m   \u001b[39m\"\u001b[39m\u001b[39mshow\u001b[39m\u001b[39m\"\u001b[39m: \u001b[39mFalse\u001b[39;00m,\n\u001b[1;32m   (...)\u001b[0m\n\u001b[0;32m     12\u001b[0m   \u001b[39m\"\u001b[39m\u001b[39mnode_attr\u001b[39m\u001b[39m\"\u001b[39m: global_node_attr\n\u001b[0;32m     13\u001b[0m }\n\u001b[0;32m     15\u001b[0m \u001b[39mwith\u001b[39;00m Diagram(\u001b[39m*\u001b[39m\u001b[39m*\u001b[39m settings) \u001b[39mas\u001b[39;00m diagram:\n",
            "File \u001b[1;32mc:\\Users\\mike\\Documents\\Github\\C4ArchitectureExamples\\_Repository.py:12\u001b[0m\n\u001b[0;32m     10\u001b[0m   \u001b[39mdef\u001b[39;00m \u001b[39m__init__\u001b[39m(\u001b[39mself\u001b[39m):\n\u001b[0;32m     11\u001b[0m     \u001b[39mself\u001b[39m\u001b[39m.\u001b[39mBankingCustomer:SevenftNode \u001b[39m=\u001b[39m SevenftNode\u001b[39m.\u001b[39mLoadFromYaml(baseUrl \u001b[39m+\u001b[39m \u001b[39m'\u001b[39m\u001b[39mRepository/Personas/Banking\u001b[39m\u001b[39m%\u001b[39m\u001b[39m20Customer.yaml\u001b[39m\u001b[39m'\u001b[39m)\n\u001b[1;32m---> 12\u001b[0m \u001b[39mglobals\u001b[39m()[\u001b[39m'\u001b[39m\u001b[39mPersonas\u001b[39m\u001b[39m'\u001b[39m] \u001b[39m=\u001b[39m _Personas()\n\u001b[0;32m     14\u001b[0m \u001b[39m#@markdown # Internal Systems\u001b[39;00m\n\u001b[0;32m     15\u001b[0m \u001b[39mclass\u001b[39;00m \u001b[39m_Systems\u001b[39;00m(SevenftRepository):\n",
            "File \u001b[1;32mc:\\Users\\mike\\Documents\\Github\\C4ArchitectureExamples\\_Repository.py:11\u001b[0m, in \u001b[0;36m_Personas.__init__\u001b[1;34m(self)\u001b[0m\n\u001b[0;32m     10\u001b[0m \u001b[39mdef\u001b[39;00m \u001b[39m__init__\u001b[39m(\u001b[39mself\u001b[39m):\n\u001b[1;32m---> 11\u001b[0m   \u001b[39mself\u001b[39m\u001b[39m.\u001b[39mBankingCustomer:SevenftNode \u001b[39m=\u001b[39m SevenftNode\u001b[39m.\u001b[39;49mLoadFromYaml(baseUrl \u001b[39m+\u001b[39;49m \u001b[39m'\u001b[39;49m\u001b[39mRepository/Personas/Banking\u001b[39;49m\u001b[39m%\u001b[39;49m\u001b[39m20Customer.yaml\u001b[39;49m\u001b[39m'\u001b[39;49m)\n",
            "File \u001b[1;32mc:\\Users\\mike\\Documents\\Github\\C4ArchitectureExamples\\_SeventFtNode.py:58\u001b[0m, in \u001b[0;36mSevenftNode.LoadFromYaml\u001b[1;34m(url)\u001b[0m\n\u001b[0;32m     53\u001b[0m \u001b[39mid\u001b[39m \u001b[39m=\u001b[39m \u001b[39mstr\u001b[39m(archetype\u001b[39m.\u001b[39mget(\u001b[39m'\u001b[39m\u001b[39mid\u001b[39m\u001b[39m'\u001b[39m))\n\u001b[0;32m     54\u001b[0m \u001b[39mglobals\u001b[39m()[\u001b[39mid\u001b[39m] \u001b[39m=\u001b[39m \u001b[39mtype\u001b[39m(\u001b[39mid\u001b[39m, (SevenftNode, ), {\n\u001b[0;32m     55\u001b[0m   \u001b[39m\"\u001b[39m\u001b[39m__init__\u001b[39m\u001b[39m\"\u001b[39m: \u001b[39mlambda\u001b[39;00m \u001b[39mself\u001b[39m : \u001b[39msuper\u001b[39m\u001b[39m.\u001b[39m\u001b[39m__init__\u001b[39m(\u001b[39mself\u001b[39m, archetype\u001b[39m.\u001b[39mpop(\u001b[39m\"\u001b[39m\u001b[39mnodeType\u001b[39m\u001b[39m\"\u001b[39m)),\n\u001b[0;32m     56\u001b[0m   \u001b[39m\"\u001b[39m\u001b[39mmetadata\u001b[39m\u001b[39m\"\u001b[39m: archetype\n\u001b[0;32m     57\u001b[0m })\n\u001b[1;32m---> 58\u001b[0m \u001b[39mreturn\u001b[39;00m \u001b[39mglobals\u001b[39;49m()[\u001b[39mid\u001b[39;49m]()\n",
            "File \u001b[1;32mc:\\Users\\mike\\Documents\\Github\\C4ArchitectureExamples\\_SeventFtNode.py:55\u001b[0m, in \u001b[0;36mSevenftNode.LoadFromYaml.<locals>.<lambda>\u001b[1;34m(self)\u001b[0m\n\u001b[0;32m     52\u001b[0m   archetype \u001b[39m=\u001b[39m yaml\u001b[39m.\u001b[39msafe_load(stream)\n\u001b[0;32m     53\u001b[0m \u001b[39mid\u001b[39m \u001b[39m=\u001b[39m \u001b[39mstr\u001b[39m(archetype\u001b[39m.\u001b[39mget(\u001b[39m'\u001b[39m\u001b[39mid\u001b[39m\u001b[39m'\u001b[39m))\n\u001b[0;32m     54\u001b[0m \u001b[39mglobals\u001b[39m()[\u001b[39mid\u001b[39m] \u001b[39m=\u001b[39m \u001b[39mtype\u001b[39m(\u001b[39mid\u001b[39m, (SevenftNode, ), {\n\u001b[1;32m---> 55\u001b[0m   \u001b[39m\"\u001b[39m\u001b[39m__init__\u001b[39m\u001b[39m\"\u001b[39m: \u001b[39mlambda\u001b[39;00m \u001b[39mself\u001b[39m : \u001b[39msuper\u001b[39;49m\u001b[39m.\u001b[39;49m\u001b[39m__init__\u001b[39;49m(\u001b[39mself\u001b[39;49m, archetype\u001b[39m.\u001b[39;49mpop(\u001b[39m\"\u001b[39;49m\u001b[39mnodeType\u001b[39;49m\u001b[39m\"\u001b[39;49m)),\n\u001b[0;32m     56\u001b[0m   \u001b[39m\"\u001b[39m\u001b[39mmetadata\u001b[39m\u001b[39m\"\u001b[39m: archetype\n\u001b[0;32m     57\u001b[0m })\n\u001b[0;32m     58\u001b[0m \u001b[39mreturn\u001b[39;00m \u001b[39mglobals\u001b[39m()[\u001b[39mid\u001b[39m]()\n",
            "\u001b[1;31mTypeError\u001b[0m: descriptor '__init__' requires a 'super' object but received a 'BankingCustomer'"
          ]
        }
      ],
      "source": [
        "#@title Internet Banking System Context Diagram\n",
        "from diagrams import Diagram\n",
        "from diagrams.c4 import SystemBoundary, Relationship\n",
        "from _Repository import Personas, Systems\n",
        "\n",
        "settings =  {\n",
        "  \"name\": \"_Internet Banking System Context Diagram\",\n",
        "  \"show\": False,\n",
        "  \"outformat\": \"png\",\n",
        "  \"direction\": \"TB\",\n",
        "  \"graph_attr\": global_graph_attr,\n",
        "  \"node_attr\": global_node_attr\n",
        "}\n",
        "\n",
        "with Diagram(** settings) as diagram:\n",
        "  \n",
        "  customer = Personas.BankingCustomer.Get()\n",
        "\n",
        "  with SystemBoundary(\"Internet Banking System\"):\n",
        "    webapp = Systems.WebApp.Get()\n",
        "    spa = Systems.SPA.Get()\n",
        "    mobileApp = Systems.MobileApp.Get()\n",
        "    api = Systems.API.Get()\n",
        "    database = Systems.OracleDB.Get()\n",
        "    diagrams = Systems.CustomA.Get()\n",
        "\n",
        "  email = Systems.Email.Get()\n",
        "  mainframe = Systems.Mainframe.Get()\n",
        "\n",
        "  customer >> Relationship(\"Visits big.bank.com/ib using [HTTPS]\") >> webapp\n",
        "  customer >> Relationship(\"Views account balances, and makes payments using\") >> [spa, mobileApp]\n",
        "  webapp >> Relationship(\"Delivers to the customer's web browser\") >> spa\n",
        "  spa >> Relationship(\"Make API calls to [JSON/HTTPS]\") >> api\n",
        "  mobileApp >> Relationship(\"Make API calls to [JSON/HTTPS]\") >> api\n",
        "\n",
        "  api >> Relationship(\"reads from and writes to\") >> database\n",
        "  api >> Relationship(\"Sends email using [SMTP]\") >> email\n",
        "  api >> Relationship(\"Makes API calls to [XML/HTTPS]\") >> mainframe\n",
        "  customer << Relationship(\"Sends e-mails to\") << email\n",
        "\n",
        "diagram"
      ]
    }
  ],
  "metadata": {
    "colab": {
      "include_colab_link": true,
      "provenance": []
    },
    "kernelspec": {
      "display_name": "Python 3",
      "language": "python",
      "name": "python3"
    },
    "language_info": {
      "codemirror_mode": {
        "name": "ipython",
        "version": 3
      },
      "file_extension": ".py",
      "mimetype": "text/x-python",
      "name": "python",
      "nbconvert_exporter": "python",
      "pygments_lexer": "ipython3",
      "version": "3.11.4"
    },
    "polyglot_notebook": {
      "kernelInfo": {
        "defaultKernelName": "csharp",
        "items": [
          {
            "aliases": [],
            "name": "csharp"
          }
        ]
      }
    }
  },
  "nbformat": 4,
  "nbformat_minor": 0
}
