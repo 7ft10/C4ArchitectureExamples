{
  "cells": [
    {
      "attachments": {},
      "cell_type": "markdown",
      "metadata": {
        "colab_type": "text",
        "id": "view-in-github"
      },
      "source": [
        "<a href=\"https://colab.research.google.com/github/7ft10/C4ArchitectureExamples/blob/main/C4_Architecture_Examples.ipynb\" target=\"_parent\"><img src=\"https://colab.research.google.com/assets/colab-badge.svg\" alt=\"Open In Colab\"/></a>"
      ]
    },
    {
      "attachments": {},
      "cell_type": "markdown",
      "metadata": {
        "id": "j2E0Uo9Nj3ju"
      },
      "source": [
        "# C4 Architecture Examples"
      ]
    },
    {
      "cell_type": "code",
      "execution_count": 1,
      "metadata": {
        "collapsed": true,
        "id": "iIYChmlOj0fT",
        "slideshow": {
          "slide_type": "slide"
        }
      },
      "outputs": [],
      "source": [
        "#@title Install Diagrams\n",
        "import os\n",
        "result = os.system('pip install diagrams')\n",
        "result = os.system('pip install httpimport')"
      ]
    },
    {
      "cell_type": "code",
      "execution_count": 2,
      "metadata": {},
      "outputs": [],
      "source": [
        "from urllib import request\n",
        "\n",
        "baseUrl = \"https://raw.githubusercontent.com/7ft10/C4ArchitectureExamples/main/\"\n",
        "[name, response] = request.urlretrieve(baseUrl + 'Repository/Repository.py', '_Repository.py')"
      ]
    },
    {
      "cell_type": "code",
      "execution_count": 3,
      "metadata": {
        "cellView": "form",
        "id": "CwzcIaUIRE9M"
      },
      "outputs": [],
      "source": [
        "#@markdown ----------------------------------------------\n",
        "#@markdown ## Attributes\n",
        "\n",
        "#@markdown + Graph Attributes\n",
        "global_graph_attr = {\n",
        "  \"splines\": \"spline\",\n",
        "  \"fontsize\": \"10\",\n",
        "  \"bgcolor\": \"transparent\"\n",
        "}\n",
        "\n",
        "#@markdown + Node Attributes\n",
        "global_node_attr = {\n",
        "  \"fontsize\": \"8px\",\n",
        "  \"width\": \"1.8\"#,\n",
        "  #\"height\": \"1.4\"\n",
        "}\n"
      ]
    },
    {
      "cell_type": "code",
      "execution_count": 4,
      "metadata": {},
      "outputs": [
        {
          "data": {
            "text/markdown": [
              "---"
            ],
            "text/plain": [
              "<IPython.core.display.Markdown object>"
            ]
          },
          "metadata": {},
          "output_type": "display_data"
        },
        {
          "data": {
            "text/markdown": [
              "## BankingCustomer"
            ],
            "text/plain": [
              "<IPython.core.display.Markdown object>"
            ]
          },
          "metadata": {},
          "output_type": "display_data"
        },
        {
          "data": {
            "text/markdown": [
              "| Key         | Value       |\n",
              "                   | ----------- | ----------- |\n",
              "| id | BankingCustomer |\n",
              "| name | Banking Customer |\n",
              "| description | Several lines of text, |"
            ],
            "text/plain": [
              "<IPython.core.display.Markdown object>"
            ]
          },
          "metadata": {},
          "output_type": "display_data"
        },
        {
          "data": {
            "text/markdown": [
              "---"
            ],
            "text/plain": [
              "<IPython.core.display.Markdown object>"
            ]
          },
          "metadata": {},
          "output_type": "display_data"
        },
        {
          "data": {
            "text/markdown": [
              "## API"
            ],
            "text/plain": [
              "<IPython.core.display.Markdown object>"
            ]
          },
          "metadata": {},
          "output_type": "display_data"
        },
        {
          "data": {
            "text/markdown": [
              "| Key         | Value       |\n",
              "                   | ----------- | ----------- |\n",
              "| id | API |\n",
              "| name | API |\n",
              "| description | C# application |"
            ],
            "text/plain": [
              "<IPython.core.display.Markdown object>"
            ]
          },
          "metadata": {},
          "output_type": "display_data"
        },
        {
          "data": {
            "text/markdown": [
              "---"
            ],
            "text/plain": [
              "<IPython.core.display.Markdown object>"
            ]
          },
          "metadata": {},
          "output_type": "display_data"
        },
        {
          "data": {
            "text/markdown": [
              "## CustomA"
            ],
            "text/plain": [
              "<IPython.core.display.Markdown object>"
            ]
          },
          "metadata": {},
          "output_type": "display_data"
        },
        {
          "data": {
            "text/markdown": [
              "| Key         | Value       |\n",
              "                   | ----------- | ----------- |\n",
              "| id | CustomA |\n",
              "| name | Custom App |\n",
              "| description | Custom Application |"
            ],
            "text/plain": [
              "<IPython.core.display.Markdown object>"
            ]
          },
          "metadata": {},
          "output_type": "display_data"
        },
        {
          "data": {
            "text/markdown": [
              "---"
            ],
            "text/plain": [
              "<IPython.core.display.Markdown object>"
            ]
          },
          "metadata": {},
          "output_type": "display_data"
        },
        {
          "data": {
            "text/markdown": [
              "## Email"
            ],
            "text/plain": [
              "<IPython.core.display.Markdown object>"
            ]
          },
          "metadata": {},
          "output_type": "display_data"
        },
        {
          "data": {
            "text/markdown": [
              "| Key         | Value       |\n",
              "                   | ----------- | ----------- |\n",
              "| id | Email |\n",
              "| name | Email |\n",
              "| description | Microsoft Exchange Email |\n",
              "| technology | Exchange |"
            ],
            "text/plain": [
              "<IPython.core.display.Markdown object>"
            ]
          },
          "metadata": {},
          "output_type": "display_data"
        },
        {
          "data": {
            "text/markdown": [
              "---"
            ],
            "text/plain": [
              "<IPython.core.display.Markdown object>"
            ]
          },
          "metadata": {},
          "output_type": "display_data"
        },
        {
          "data": {
            "text/markdown": [
              "## Mainframe"
            ],
            "text/plain": [
              "<IPython.core.display.Markdown object>"
            ]
          },
          "metadata": {},
          "output_type": "display_data"
        },
        {
          "data": {
            "text/markdown": [
              "| Key         | Value       |\n",
              "                   | ----------- | ----------- |\n",
              "| id | Mainframe |\n",
              "| name | Mainframe |\n",
              "| description | AS400 IBM Mainframe |"
            ],
            "text/plain": [
              "<IPython.core.display.Markdown object>"
            ]
          },
          "metadata": {},
          "output_type": "display_data"
        },
        {
          "data": {
            "text/markdown": [
              "---"
            ],
            "text/plain": [
              "<IPython.core.display.Markdown object>"
            ]
          },
          "metadata": {},
          "output_type": "display_data"
        },
        {
          "data": {
            "text/markdown": [
              "## MobileApp"
            ],
            "text/plain": [
              "<IPython.core.display.Markdown object>"
            ]
          },
          "metadata": {},
          "output_type": "display_data"
        },
        {
          "data": {
            "text/markdown": [
              "| Key         | Value       |\n",
              "                   | ----------- | ----------- |\n",
              "| id | MobileApp |\n",
              "| name | Android App |\n",
              "| description | Android App |"
            ],
            "text/plain": [
              "<IPython.core.display.Markdown object>"
            ]
          },
          "metadata": {},
          "output_type": "display_data"
        },
        {
          "data": {
            "text/markdown": [
              "---"
            ],
            "text/plain": [
              "<IPython.core.display.Markdown object>"
            ]
          },
          "metadata": {},
          "output_type": "display_data"
        },
        {
          "data": {
            "text/markdown": [
              "## OracleDB"
            ],
            "text/plain": [
              "<IPython.core.display.Markdown object>"
            ]
          },
          "metadata": {},
          "output_type": "display_data"
        },
        {
          "data": {
            "text/markdown": [
              "| Key         | Value       |\n",
              "                   | ----------- | ----------- |\n",
              "| id | OracleDB |\n",
              "| name | OracleDB |\n",
              "| description | Oracle Database |"
            ],
            "text/plain": [
              "<IPython.core.display.Markdown object>"
            ]
          },
          "metadata": {},
          "output_type": "display_data"
        },
        {
          "data": {
            "text/markdown": [
              "---"
            ],
            "text/plain": [
              "<IPython.core.display.Markdown object>"
            ]
          },
          "metadata": {},
          "output_type": "display_data"
        },
        {
          "data": {
            "text/markdown": [
              "## SPA"
            ],
            "text/plain": [
              "<IPython.core.display.Markdown object>"
            ]
          },
          "metadata": {},
          "output_type": "display_data"
        },
        {
          "data": {
            "text/markdown": [
              "| Key         | Value       |\n",
              "                   | ----------- | ----------- |\n",
              "| id | SPA |\n",
              "| name | Single Page App |\n",
              "| description | Single Page App |"
            ],
            "text/plain": [
              "<IPython.core.display.Markdown object>"
            ]
          },
          "metadata": {},
          "output_type": "display_data"
        },
        {
          "data": {
            "text/markdown": [
              "---"
            ],
            "text/plain": [
              "<IPython.core.display.Markdown object>"
            ]
          },
          "metadata": {},
          "output_type": "display_data"
        },
        {
          "data": {
            "text/markdown": [
              "## WebApp"
            ],
            "text/plain": [
              "<IPython.core.display.Markdown object>"
            ]
          },
          "metadata": {},
          "output_type": "display_data"
        },
        {
          "data": {
            "text/markdown": [
              "| Key         | Value       |\n",
              "                   | ----------- | ----------- |\n",
              "| id | WebApp |\n",
              "| name | WebApp |\n",
              "| description | C# Web application |"
            ],
            "text/plain": [
              "<IPython.core.display.Markdown object>"
            ]
          },
          "metadata": {},
          "output_type": "display_data"
        }
      ],
      "source": [
        "from _Repository import Personas, Systems\n",
        "\n",
        "Personas.Print()\n",
        "Systems.Print()"
      ]
    },
    {
      "cell_type": "code",
      "execution_count": 7,
      "metadata": {
        "id": "tfcbX9THkvDP",
        "notebookRunGroups": {
          "groupValue": ""
        },
        "tags": [
          "parameters"
        ]
      },
      "outputs": [],
      "source": [
        "#@title Internet Banking System Context Diagram\n",
        "from diagrams import Diagram, Edge\n",
        "from diagrams.c4 import SystemBoundary, Relationship\n",
        "from _Repository import Personas, Systems\n",
        "\n",
        "internet_banking_system_settings =  {\n",
        "  \"name\": \"_Internet Banking System Context Diagram\",\n",
        "  \"show\": False,\n",
        "  \"outformat\": \"png\",\n",
        "  \"direction\": \"TB\",\n",
        "  \"graph_attr\": global_graph_attr,\n",
        "  \"node_attr\": global_node_attr\n",
        "}\n",
        "\n",
        "with Diagram(** internet_banking_system_settings) as internet_banking_system_context_diagram:\n",
        "  \n",
        "  #@markdown ----------------------------------------------\n",
        "  #@markdown ## Personas\n",
        "\n",
        "  #@markdown + BankingCustomer\n",
        "  customer = Personas.BankingCustomer.Get()\n",
        "\n",
        "  #@markdown ----------------------------------------------\n",
        "  #@markdown ## Context\n",
        "\n",
        "  #@markdown System: Internet Banking System\n",
        "  with SystemBoundary(\"Internet Banking System\"):\n",
        "    #@markdown + WebApp\n",
        "    webapp = Systems.WebApp.Get()\n",
        "\n",
        "    #@markdown + SPA\n",
        "    spa = Systems.SPA.Get()\n",
        "\n",
        "    #@markdown + MobileApp\n",
        "    mobileApp = Systems.MobileApp.Get()\n",
        "\n",
        "    #@markdown + API\n",
        "    api = Systems.API.Get()\n",
        "\n",
        "    #@markdown + OracleDB\n",
        "    database = Systems.OracleDB.Get()\n",
        "\n",
        "    #@markdown + CustomA\n",
        "    diagrams = Systems.CustomA.Get()\n",
        "\n",
        "  #@markdown ----------------------------------------------\n",
        "  #@markdown ## External Systems   \n",
        "\n",
        "  #@markdown + Email\n",
        "  ##email = Systems.Email.Get()\n",
        "\n",
        "  #@markdown + Mainframe\n",
        "  mainframe = Systems.Mainframe.Get()\n",
        "\n",
        "  Systems.Mainframe.Get().connect(Systems.Email.Get(), Relationship(\"calls\"))\n",
        "\n",
        "  #@markdown ----------------------------------------------\n",
        "  #@markdown ## Relationships\n",
        "  #@markdown Shown in code\n",
        "  customer >> Relationship(\"Visits big.bank.com/ib using [HTTPS]\") >> webapp\n",
        "  customer >> Relationship(\"Views account balances, and makes payments using\") >> [spa, mobileApp]\n",
        "  webapp >> Relationship(\"Delivers to the customer's web browser\") >> spa\n",
        "  spa >> Relationship(\"Make API calls to [JSON/HTTPS]\") >> api\n",
        "  mobileApp >> Relationship(\"Make API calls to [JSON/HTTPS]\") >> api\n",
        "\n",
        "  api >> Relationship(\"reads from and writes to\") >> database\n",
        "  ##api >> Relationship(\"Sends email using [SMTP]\") >> email\n",
        "  api >> Relationship(\"Makes API calls to [XML/HTTPS]\") >> mainframe\n",
        "  ##customer << Relationship(\"Sends e-mails to\") << email\n"
      ]
    },
    {
      "cell_type": "code",
      "execution_count": 8,
      "metadata": {
        "colab": {
          "base_uri": "https://localhost:8080/",
          "height": 1000
        },
        "id": "BjyDN1qoqIIE",
        "outputId": "23cfd609-8cc4-4c71-d292-434ef7438000"
      },
      "outputs": [
        {
          "data": {
            "image/png": "[encoded data removed]",
            "text/plain": [
              "<diagrams.Diagram at 0x25c6a8b5d10>"
            ]
          },
          "execution_count": 8,
          "metadata": {},
          "output_type": "execute_result"
        }
      ],
      "source": [
        "#@title Context Diagram\n",
        "internet_banking_system_context_diagram"
      ]
    }
  ],
  "metadata": {
    "colab": {
      "include_colab_link": true,
      "provenance": []
    },
    "kernelspec": {
      "display_name": "Python 3",
      "language": "python",
      "name": "python3"
    },
    "language_info": {
      "codemirror_mode": {
        "name": "ipython",
        "version": 3
      },
      "file_extension": ".py",
      "mimetype": "text/x-python",
      "name": "python",
      "nbconvert_exporter": "python",
      "pygments_lexer": "ipython3",
      "version": "3.11.4"
    },
    "polyglot_notebook": {
      "kernelInfo": {
        "defaultKernelName": "csharp",
        "items": [
          {
            "aliases": [],
            "name": "csharp"
          }
        ]
      }
    }
  },
  "nbformat": 4,
  "nbformat_minor": 0
}
