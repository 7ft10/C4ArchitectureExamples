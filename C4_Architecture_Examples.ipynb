{
  "cells": [
    {
      "attachments": {},
      "cell_type": "markdown",
      "metadata": {
        "colab_type": "text",
        "id": "view-in-github"
      },
      "source": [
        "<a href=\"https://colab.research.google.com/github/7ft10/C4ArchitectureExamples/blob/main/C4_Architecture_Examples.ipynb\" target=\"_parent\"><img src=\"https://colab.research.google.com/assets/colab-badge.svg\" alt=\"Open In Colab\"/></a>"
      ]
    },
    {
      "attachments": {},
      "cell_type": "markdown",
      "metadata": {},
      "source": [
        "# C4 Architecture Examples\n",
        "\n",
        "How to guide can be found in the read me."
      ]
    },
    {
      "cell_type": "code",
      "execution_count": 6,
      "metadata": {
        "collapsed": true,
        "id": "iIYChmlOj0fT",
        "slideshow": {
          "slide_type": "slide"
        }
      },
      "outputs": [],
      "source": [
        "#@title Install Diagrams\n",
        "import os\n",
        "result = os.system('pip install diagrams')\n",
        "result = os.system('pip install httpimport')"
      ]
    },
    {
      "cell_type": "code",
      "execution_count": 7,
      "metadata": {},
      "outputs": [],
      "source": [
        "#@markdown ## Get Repository\n",
        "from urllib import request\n",
        "\n",
        "baseUrl = \"https://raw.githubusercontent.com/7ft10/C4ArchitectureExamples/main/\"\n",
        "[name, response] = request.urlretrieve(baseUrl + 'Repository/Repository.py', '_Repository.py')"
      ]
    },
    {
      "cell_type": "code",
      "execution_count": 8,
      "metadata": {
        "cellView": "form",
        "id": "CwzcIaUIRE9M"
      },
      "outputs": [],
      "source": [
        "#@markdown ## Settings\n",
        "\n",
        "default_settings = {\n",
        "  \"show\": False,\n",
        "  \"outformat\": \"png\",\n",
        "  \"graph_attr\":  {\n",
        "    \"splines\": \"spline\",\n",
        "    \"fontsize\": \"10\",\n",
        "    \"bgcolor\": \"lightgrey\"\n",
        "  },\n",
        "  \"node_attr\": {\n",
        "    \"fontsize\": \"8px\",\n",
        "    \"width\": \"1.8\"\n",
        "  }\n",
        "} "
      ]
    },
    {
      "cell_type": "code",
      "execution_count": 9,
      "metadata": {},
      "outputs": [
        {
          "data": {
            "text/markdown": [
              "---"
            ],
            "text/plain": [
              "<IPython.core.display.Markdown object>"
            ]
          },
          "metadata": {},
          "output_type": "display_data"
        },
        {
          "data": {
            "text/markdown": [
              "## BankingCustomer"
            ],
            "text/plain": [
              "<IPython.core.display.Markdown object>"
            ]
          },
          "metadata": {},
          "output_type": "display_data"
        },
        {
          "data": {
            "text/markdown": [
              "| Key         | Value       |\n",
              "                   | ----------- | ----------- |\n",
              "| id | BankingCustomer |\n",
              "| nodeType | Person |\n",
              "| name | Personal Banking Customer |\n",
              "| description | A customer of the bank with\n",
              "personal bank accounts |"
            ],
            "text/plain": [
              "<IPython.core.display.Markdown object>"
            ]
          },
          "metadata": {},
          "output_type": "display_data"
        },
        {
          "data": {
            "text/markdown": [
              "---"
            ],
            "text/plain": [
              "<IPython.core.display.Markdown object>"
            ]
          },
          "metadata": {},
          "output_type": "display_data"
        },
        {
          "data": {
            "text/markdown": [
              "## Email"
            ],
            "text/plain": [
              "<IPython.core.display.Markdown object>"
            ]
          },
          "metadata": {},
          "output_type": "display_data"
        },
        {
          "data": {
            "text/markdown": [
              "| Key         | Value       |\n",
              "                   | ----------- | ----------- |\n",
              "| id | Email |\n",
              "| nodeType | Custom |\n",
              "| name | Email |\n",
              "| description | The internal Microsoft Exchange Email system |\n",
              "| technology | Exchange |"
            ],
            "text/plain": [
              "<IPython.core.display.Markdown object>"
            ]
          },
          "metadata": {},
          "output_type": "display_data"
        },
        {
          "data": {
            "text/markdown": [
              "---"
            ],
            "text/plain": [
              "<IPython.core.display.Markdown object>"
            ]
          },
          "metadata": {},
          "output_type": "display_data"
        },
        {
          "data": {
            "text/markdown": [
              "## BankingSystem"
            ],
            "text/plain": [
              "<IPython.core.display.Markdown object>"
            ]
          },
          "metadata": {},
          "output_type": "display_data"
        },
        {
          "data": {
            "text/markdown": [
              "| Key         | Value       |\n",
              "                   | ----------- | ----------- |\n",
              "| id | BankingSystem |\n",
              "| nodeType | System |\n",
              "| name | Internet Banking System |\n",
              "| description | Allows customers to view information about\n",
              "their bank accounts, and make payments. |"
            ],
            "text/plain": [
              "<IPython.core.display.Markdown object>"
            ]
          },
          "metadata": {},
          "output_type": "display_data"
        },
        {
          "data": {
            "text/markdown": [
              "---"
            ],
            "text/plain": [
              "<IPython.core.display.Markdown object>"
            ]
          },
          "metadata": {},
          "output_type": "display_data"
        },
        {
          "data": {
            "text/markdown": [
              "## Mainframe"
            ],
            "text/plain": [
              "<IPython.core.display.Markdown object>"
            ]
          },
          "metadata": {},
          "output_type": "display_data"
        },
        {
          "data": {
            "text/markdown": [
              "| Key         | Value       |\n",
              "                   | ----------- | ----------- |\n",
              "| id | Mainframe |\n",
              "| nodeType | System |\n",
              "| name | Mainframe Banking System |\n",
              "| description | Store all of the core banking\n",
              "information about customers,\n",
              "accounts, transactions, etc. |\n",
              "| technology | AS400 IBM Mainframe |"
            ],
            "text/plain": [
              "<IPython.core.display.Markdown object>"
            ]
          },
          "metadata": {},
          "output_type": "display_data"
        }
      ],
      "source": [
        "#@markdown ## Print Repository\n",
        "from _Repository import Personas, Systems\n",
        "\n",
        "Personas.Print()\n",
        "Systems.Print()"
      ]
    },
    {
      "cell_type": "code",
      "execution_count": 10,
      "metadata": {},
      "outputs": [
        {
          "ename": "CalledProcessError",
          "evalue": "Command '[WindowsPath('dot'), '-Kdot', '-Tpng', '-O', 'system_context_diagram']' returned non-zero exit status 1. [stderr: b\"Error: not well-formed (invalid token) in line 1 \\r\\n... [<class 'type'> ...\\r\\n\"]",
          "output_type": "error",
          "traceback": [
            "\u001b[1;31m---------------------------------------------------------------------------\u001b[0m",
            "\u001b[1;31mCalledProcessError\u001b[0m                        Traceback (most recent call last)",
            "File \u001b[1;32m~\\AppData\\Local\\Packages\\PythonSoftwareFoundation.Python.3.11_qbz5n2kfra8p0\\LocalCache\\local-packages\\Python311\\site-packages\\graphviz\\backend\\execute.py:91\u001b[0m, in \u001b[0;36mrun_check\u001b[1;34m(cmd, input_lines, encoding, quiet, **kwargs)\u001b[0m\n\u001b[0;32m     90\u001b[0m \u001b[39mtry\u001b[39;00m:\n\u001b[1;32m---> 91\u001b[0m     proc\u001b[39m.\u001b[39;49mcheck_returncode()\n\u001b[0;32m     92\u001b[0m \u001b[39mexcept\u001b[39;00m subprocess\u001b[39m.\u001b[39mCalledProcessError \u001b[39mas\u001b[39;00m e:\n",
            "File \u001b[1;32mC:\\Program Files\\WindowsApps\\PythonSoftwareFoundation.Python.3.11_3.11.1264.0_x64__qbz5n2kfra8p0\\Lib\\subprocess.py:502\u001b[0m, in \u001b[0;36mCompletedProcess.check_returncode\u001b[1;34m(self)\u001b[0m\n\u001b[0;32m    501\u001b[0m \u001b[39mif\u001b[39;00m \u001b[39mself\u001b[39m\u001b[39m.\u001b[39mreturncode:\n\u001b[1;32m--> 502\u001b[0m     \u001b[39mraise\u001b[39;00m CalledProcessError(\u001b[39mself\u001b[39m\u001b[39m.\u001b[39mreturncode, \u001b[39mself\u001b[39m\u001b[39m.\u001b[39margs, \u001b[39mself\u001b[39m\u001b[39m.\u001b[39mstdout,\n\u001b[0;32m    503\u001b[0m                              \u001b[39mself\u001b[39m\u001b[39m.\u001b[39mstderr)\n",
            "\u001b[1;31mCalledProcessError\u001b[0m: Command '[WindowsPath('dot'), '-Kdot', '-Tpng', '-O', 'system_context_diagram']' returned non-zero exit status 1.",
            "\nDuring handling of the above exception, another exception occurred:\n",
            "\u001b[1;31mCalledProcessError\u001b[0m                        Traceback (most recent call last)",
            "Cell \u001b[1;32mIn[10], line 12\u001b[0m\n\u001b[0;32m      5\u001b[0m \u001b[39mfrom\u001b[39;00m \u001b[39m_Repository\u001b[39;00m \u001b[39mimport\u001b[39;00m Personas, Systems\n\u001b[0;32m      7\u001b[0m settings \u001b[39m=\u001b[39m { \u001b[39m*\u001b[39m\u001b[39m*\u001b[39mdefault_settings, \u001b[39m*\u001b[39m\u001b[39m*\u001b[39m{\n\u001b[0;32m      8\u001b[0m   \u001b[39m\"\u001b[39m\u001b[39mname\u001b[39m\u001b[39m\"\u001b[39m: \u001b[39m\"\u001b[39m\u001b[39mSystem Context Diagram\u001b[39m\u001b[39m\"\u001b[39m,\n\u001b[0;32m      9\u001b[0m   \u001b[39m\"\u001b[39m\u001b[39mdirection\u001b[39m\u001b[39m\"\u001b[39m: \u001b[39m\"\u001b[39m\u001b[39mTB\u001b[39m\u001b[39m\"\u001b[39m\n\u001b[0;32m     10\u001b[0m }}\n\u001b[1;32m---> 12\u001b[0m \u001b[39mwith\u001b[39;49;00m Diagram(\u001b[39m*\u001b[39;49m\u001b[39m*\u001b[39;49msettings) \u001b[39mas\u001b[39;49;00m diagram:\n\u001b[0;32m     13\u001b[0m   customer \u001b[39m=\u001b[39;49m Personas\u001b[39m.\u001b[39;49mBankingCustomer\u001b[39m.\u001b[39;49mGet()\n\u001b[0;32m     14\u001b[0m   banking \u001b[39m=\u001b[39;49m Systems\u001b[39m.\u001b[39;49mInternetBankingSystem\u001b[39m.\u001b[39;49mGet()\n",
            "File \u001b[1;32m~\\AppData\\Local\\Packages\\PythonSoftwareFoundation.Python.3.11_qbz5n2kfra8p0\\LocalCache\\local-packages\\Python311\\site-packages\\diagrams\\__init__.py:158\u001b[0m, in \u001b[0;36mDiagram.__exit__\u001b[1;34m(self, exc_type, exc_value, traceback)\u001b[0m\n\u001b[0;32m    157\u001b[0m \u001b[39mdef\u001b[39;00m \u001b[39m__exit__\u001b[39m(\u001b[39mself\u001b[39m, exc_type, exc_value, traceback):\n\u001b[1;32m--> 158\u001b[0m     \u001b[39mself\u001b[39;49m\u001b[39m.\u001b[39;49mrender()\n\u001b[0;32m    159\u001b[0m     \u001b[39m# Remove the graphviz file leaving only the image.\u001b[39;00m\n\u001b[0;32m    160\u001b[0m     os\u001b[39m.\u001b[39mremove(\u001b[39mself\u001b[39m\u001b[39m.\u001b[39mfilename)\n",
            "File \u001b[1;32m~\\AppData\\Local\\Packages\\PythonSoftwareFoundation.Python.3.11_qbz5n2kfra8p0\\LocalCache\\local-packages\\Python311\\site-packages\\diagrams\\__init__.py:192\u001b[0m, in \u001b[0;36mDiagram.render\u001b[1;34m(self)\u001b[0m\n\u001b[0;32m    190\u001b[0m         \u001b[39mself\u001b[39m\u001b[39m.\u001b[39mdot\u001b[39m.\u001b[39mrender(\u001b[39mformat\u001b[39m\u001b[39m=\u001b[39mone_format, view\u001b[39m=\u001b[39m\u001b[39mself\u001b[39m\u001b[39m.\u001b[39mshow, quiet\u001b[39m=\u001b[39m\u001b[39mTrue\u001b[39;00m)\n\u001b[0;32m    191\u001b[0m \u001b[39melse\u001b[39;00m:\n\u001b[1;32m--> 192\u001b[0m     \u001b[39mself\u001b[39;49m\u001b[39m.\u001b[39;49mdot\u001b[39m.\u001b[39;49mrender(\u001b[39mformat\u001b[39;49m\u001b[39m=\u001b[39;49m\u001b[39mself\u001b[39;49m\u001b[39m.\u001b[39;49moutformat, view\u001b[39m=\u001b[39;49m\u001b[39mself\u001b[39;49m\u001b[39m.\u001b[39;49mshow, quiet\u001b[39m=\u001b[39;49m\u001b[39mTrue\u001b[39;49;00m)\n",
            "File \u001b[1;32m~\\AppData\\Local\\Packages\\PythonSoftwareFoundation.Python.3.11_qbz5n2kfra8p0\\LocalCache\\local-packages\\Python311\\site-packages\\graphviz\\_tools.py:171\u001b[0m, in \u001b[0;36mdeprecate_positional_args.<locals>.decorator.<locals>.wrapper\u001b[1;34m(*args, **kwargs)\u001b[0m\n\u001b[0;32m    162\u001b[0m     wanted \u001b[39m=\u001b[39m \u001b[39m'\u001b[39m\u001b[39m, \u001b[39m\u001b[39m'\u001b[39m\u001b[39m.\u001b[39mjoin(\u001b[39mf\u001b[39m\u001b[39m'\u001b[39m\u001b[39m{\u001b[39;00mname\u001b[39m}\u001b[39;00m\u001b[39m=\u001b[39m\u001b[39m{\u001b[39;00mvalue\u001b[39m!r}\u001b[39;00m\u001b[39m'\u001b[39m\n\u001b[0;32m    163\u001b[0m                        \u001b[39mfor\u001b[39;00m name, value \u001b[39min\u001b[39;00m deprecated\u001b[39m.\u001b[39mitems())\n\u001b[0;32m    164\u001b[0m     warnings\u001b[39m.\u001b[39mwarn(\u001b[39mf\u001b[39m\u001b[39m'\u001b[39m\u001b[39mThe signature of \u001b[39m\u001b[39m{\u001b[39;00mfunc\u001b[39m.\u001b[39m\u001b[39m__name__\u001b[39m\u001b[39m}\u001b[39;00m\u001b[39m will be reduced\u001b[39m\u001b[39m'\u001b[39m\n\u001b[0;32m    165\u001b[0m                   \u001b[39mf\u001b[39m\u001b[39m'\u001b[39m\u001b[39m to \u001b[39m\u001b[39m{\u001b[39;00msupported_number\u001b[39m}\u001b[39;00m\u001b[39m positional args\u001b[39m\u001b[39m'\u001b[39m\n\u001b[0;32m    166\u001b[0m                   \u001b[39mf\u001b[39m\u001b[39m'\u001b[39m\u001b[39m \u001b[39m\u001b[39m{\u001b[39;00m\u001b[39mlist\u001b[39m(supported)\u001b[39m}\u001b[39;00m\u001b[39m: pass \u001b[39m\u001b[39m{\u001b[39;00mwanted\u001b[39m}\u001b[39;00m\u001b[39m'\u001b[39m\n\u001b[0;32m    167\u001b[0m                   \u001b[39m'\u001b[39m\u001b[39m as keyword arg(s)\u001b[39m\u001b[39m'\u001b[39m,\n\u001b[0;32m    168\u001b[0m                   stacklevel\u001b[39m=\u001b[39mstacklevel,\n\u001b[0;32m    169\u001b[0m                   category\u001b[39m=\u001b[39mcategory)\n\u001b[1;32m--> 171\u001b[0m \u001b[39mreturn\u001b[39;00m func(\u001b[39m*\u001b[39;49margs, \u001b[39m*\u001b[39;49m\u001b[39m*\u001b[39;49mkwargs)\n",
            "File \u001b[1;32m~\\AppData\\Local\\Packages\\PythonSoftwareFoundation.Python.3.11_qbz5n2kfra8p0\\LocalCache\\local-packages\\Python311\\site-packages\\graphviz\\rendering.py:122\u001b[0m, in \u001b[0;36mRender.render\u001b[1;34m(self, filename, directory, view, cleanup, format, renderer, formatter, neato_no_op, quiet, quiet_view, outfile, engine, raise_if_result_exists, overwrite_source)\u001b[0m\n\u001b[0;32m    118\u001b[0m filepath \u001b[39m=\u001b[39m \u001b[39mself\u001b[39m\u001b[39m.\u001b[39msave(filename, directory\u001b[39m=\u001b[39mdirectory, skip_existing\u001b[39m=\u001b[39m\u001b[39mNone\u001b[39;00m)\n\u001b[0;32m    120\u001b[0m args\u001b[39m.\u001b[39mappend(filepath)\n\u001b[1;32m--> 122\u001b[0m rendered \u001b[39m=\u001b[39m \u001b[39mself\u001b[39;49m\u001b[39m.\u001b[39;49m_render(\u001b[39m*\u001b[39;49margs, \u001b[39m*\u001b[39;49m\u001b[39m*\u001b[39;49mkwargs)\n\u001b[0;32m    124\u001b[0m \u001b[39mif\u001b[39;00m cleanup:\n\u001b[0;32m    125\u001b[0m     log\u001b[39m.\u001b[39mdebug(\u001b[39m'\u001b[39m\u001b[39mdelete \u001b[39m\u001b[39m%r\u001b[39;00m\u001b[39m'\u001b[39m, filepath)\n",
            "File \u001b[1;32m~\\AppData\\Local\\Packages\\PythonSoftwareFoundation.Python.3.11_qbz5n2kfra8p0\\LocalCache\\local-packages\\Python311\\site-packages\\graphviz\\_tools.py:171\u001b[0m, in \u001b[0;36mdeprecate_positional_args.<locals>.decorator.<locals>.wrapper\u001b[1;34m(*args, **kwargs)\u001b[0m\n\u001b[0;32m    162\u001b[0m     wanted \u001b[39m=\u001b[39m \u001b[39m'\u001b[39m\u001b[39m, \u001b[39m\u001b[39m'\u001b[39m\u001b[39m.\u001b[39mjoin(\u001b[39mf\u001b[39m\u001b[39m'\u001b[39m\u001b[39m{\u001b[39;00mname\u001b[39m}\u001b[39;00m\u001b[39m=\u001b[39m\u001b[39m{\u001b[39;00mvalue\u001b[39m!r}\u001b[39;00m\u001b[39m'\u001b[39m\n\u001b[0;32m    163\u001b[0m                        \u001b[39mfor\u001b[39;00m name, value \u001b[39min\u001b[39;00m deprecated\u001b[39m.\u001b[39mitems())\n\u001b[0;32m    164\u001b[0m     warnings\u001b[39m.\u001b[39mwarn(\u001b[39mf\u001b[39m\u001b[39m'\u001b[39m\u001b[39mThe signature of \u001b[39m\u001b[39m{\u001b[39;00mfunc\u001b[39m.\u001b[39m\u001b[39m__name__\u001b[39m\u001b[39m}\u001b[39;00m\u001b[39m will be reduced\u001b[39m\u001b[39m'\u001b[39m\n\u001b[0;32m    165\u001b[0m                   \u001b[39mf\u001b[39m\u001b[39m'\u001b[39m\u001b[39m to \u001b[39m\u001b[39m{\u001b[39;00msupported_number\u001b[39m}\u001b[39;00m\u001b[39m positional args\u001b[39m\u001b[39m'\u001b[39m\n\u001b[0;32m    166\u001b[0m                   \u001b[39mf\u001b[39m\u001b[39m'\u001b[39m\u001b[39m \u001b[39m\u001b[39m{\u001b[39;00m\u001b[39mlist\u001b[39m(supported)\u001b[39m}\u001b[39;00m\u001b[39m: pass \u001b[39m\u001b[39m{\u001b[39;00mwanted\u001b[39m}\u001b[39;00m\u001b[39m'\u001b[39m\n\u001b[0;32m    167\u001b[0m                   \u001b[39m'\u001b[39m\u001b[39m as keyword arg(s)\u001b[39m\u001b[39m'\u001b[39m,\n\u001b[0;32m    168\u001b[0m                   stacklevel\u001b[39m=\u001b[39mstacklevel,\n\u001b[0;32m    169\u001b[0m                   category\u001b[39m=\u001b[39mcategory)\n\u001b[1;32m--> 171\u001b[0m \u001b[39mreturn\u001b[39;00m func(\u001b[39m*\u001b[39;49margs, \u001b[39m*\u001b[39;49m\u001b[39m*\u001b[39;49mkwargs)\n",
            "File \u001b[1;32m~\\AppData\\Local\\Packages\\PythonSoftwareFoundation.Python.3.11_qbz5n2kfra8p0\\LocalCache\\local-packages\\Python311\\site-packages\\graphviz\\backend\\rendering.py:324\u001b[0m, in \u001b[0;36mrender\u001b[1;34m(engine, format, filepath, renderer, formatter, neato_no_op, quiet, outfile, raise_if_result_exists, overwrite_filepath)\u001b[0m\n\u001b[0;32m    320\u001b[0m     \u001b[39mraise\u001b[39;00m exceptions\u001b[39m.\u001b[39mFileExistsError(\u001b[39mf\u001b[39m\u001b[39m'\u001b[39m\u001b[39moutput file exists: \u001b[39m\u001b[39m{\u001b[39;00mos\u001b[39m.\u001b[39mfspath(outfile)\u001b[39m!r}\u001b[39;00m\u001b[39m'\u001b[39m)\n\u001b[0;32m    322\u001b[0m cmd \u001b[39m+\u001b[39m\u001b[39m=\u001b[39m args\n\u001b[1;32m--> 324\u001b[0m execute\u001b[39m.\u001b[39;49mrun_check(cmd,\n\u001b[0;32m    325\u001b[0m                   cwd\u001b[39m=\u001b[39;49mfilepath\u001b[39m.\u001b[39;49mparent \u001b[39mif\u001b[39;49;00m filepath\u001b[39m.\u001b[39;49mparent\u001b[39m.\u001b[39;49mparts \u001b[39melse\u001b[39;49;00m \u001b[39mNone\u001b[39;49;00m,\n\u001b[0;32m    326\u001b[0m                   quiet\u001b[39m=\u001b[39;49mquiet,\n\u001b[0;32m    327\u001b[0m                   capture_output\u001b[39m=\u001b[39;49m\u001b[39mTrue\u001b[39;49;00m)\n\u001b[0;32m    329\u001b[0m \u001b[39mreturn\u001b[39;00m os\u001b[39m.\u001b[39mfspath(outfile)\n",
            "File \u001b[1;32m~\\AppData\\Local\\Packages\\PythonSoftwareFoundation.Python.3.11_qbz5n2kfra8p0\\LocalCache\\local-packages\\Python311\\site-packages\\graphviz\\backend\\execute.py:93\u001b[0m, in \u001b[0;36mrun_check\u001b[1;34m(cmd, input_lines, encoding, quiet, **kwargs)\u001b[0m\n\u001b[0;32m     91\u001b[0m     proc\u001b[39m.\u001b[39mcheck_returncode()\n\u001b[0;32m     92\u001b[0m \u001b[39mexcept\u001b[39;00m subprocess\u001b[39m.\u001b[39mCalledProcessError \u001b[39mas\u001b[39;00m e:\n\u001b[1;32m---> 93\u001b[0m     \u001b[39mraise\u001b[39;00m CalledProcessError(\u001b[39m*\u001b[39me\u001b[39m.\u001b[39margs)\n\u001b[0;32m     95\u001b[0m \u001b[39mreturn\u001b[39;00m proc\n",
            "\u001b[1;31mCalledProcessError\u001b[0m: Command '[WindowsPath('dot'), '-Kdot', '-Tpng', '-O', 'system_context_diagram']' returned non-zero exit status 1. [stderr: b\"Error: not well-formed (invalid token) in line 1 \\r\\n... [<class 'type'> ...\\r\\n\"]"
          ]
        }
      ],
      "source": [
        "#@title System Context Diagram\n",
        "from IPython.display import display, Markdown\n",
        "from diagrams import Diagram\n",
        "from diagrams.c4 import Relationship\n",
        "from _Repository import Personas, Systems\n",
        "\n",
        "settings = { **default_settings, **{\n",
        "  \"name\": \"System Context Diagram\",\n",
        "  \"direction\": \"TB\"\n",
        "}}\n",
        "\n",
        "with Diagram(**settings) as diagram:\n",
        "  customer = Personas.BankingCustomer.Get()\n",
        "  banking = Systems.InternetBankingSystem.Get()\n",
        "  email = Systems.Email.Get()\n",
        "  mainframe = Systems.Mainframe.Get()\n",
        "\n",
        "  customer >> Relationship(\"Sends email to\") >> [email]\n",
        "  customer >> Relationship(\"Views account balances and makes payments using\") >> [banking]\n",
        "  banking >> Relationship(\"Gets account information from and makes payments using\") >> [mainframe]\n",
        "  banking >> Relationship(\"Sends email using\") >> [email]\n",
        "\n",
        "display(Markdown(\"## \" + settings[\"name\"]))\n",
        "display(diagram)"
      ]
    },
    {
      "cell_type": "code",
      "execution_count": null,
      "metadata": {
        "id": "tfcbX9THkvDP",
        "notebookRunGroups": {
          "groupValue": ""
        },
        "tags": [
          "parameters"
        ]
      },
      "outputs": [],
      "source": [
        "#@title Container Diagram\n",
        "from IPython.display import display, Markdown\n",
        "from diagrams import Diagram\n",
        "from diagrams.c4 import SystemBoundary, Relationship\n",
        "from _Repository import Personas, Systems, Applications\n",
        "\n",
        "settings = { **default_settings, **{\n",
        "  \"name\": \"Container Diagram\",\n",
        "  \"direction\": \"LR\"\n",
        "}}\n",
        "\n",
        "with Diagram(**settings) as diagram:\n",
        "  customer = Personas.BankingCustomer.Get()\n",
        "\n",
        "  with SystemBoundary(\"Internet Banking System\"):\n",
        "    webapp = Applications.WebApp.Get()\n",
        "    spa = Applications.SPA.Get()\n",
        "    mobileApp = Applications.MobileApp.Get()\n",
        "    api = Applications.API.Get()\n",
        "    database = Applications.Database.Get()\n",
        "\n",
        "  email = Systems.Email.Get()\n",
        "  mainframe = Systems.Mainframe.Get()\n",
        "\n",
        "  customer >> Relationship(\"Visits big.bank.com/ib using [HTTPS]\") >> [webapp]\n",
        "  customer >> Relationship(\"Views account balances, and makes payments using\") >> [spa, mobileApp]\n",
        "  webapp >> Relationship(\"Delivers to the customer's web browser\") >> [spa]\n",
        "  api << Relationship(\"Make API calls to [JSON/HTTPS]\") << [spa, mobileApp]\n",
        "  api >> Relationship(\"reads from and writes to\") >> [database]\n",
        "  api >> Relationship(\"Sends email using [SMTP]\") >> [email]\n",
        "  api >> Relationship(\"Makes API calls to [XML/HTTPS]\") >> [mainframe]\n",
        "  email >> Relationship(\"Sends e-mails to\") >> [customer]\n",
        "\n",
        "display(Markdown(\"## \" + settings[\"name\"]))\n",
        "display(diagram)"
      ]
    },
    {
      "cell_type": "code",
      "execution_count": null,
      "metadata": {},
      "outputs": [],
      "source": [
        "#@title Component Diagram\n",
        "from IPython.display import display, Markdown\n",
        "from diagrams import Diagram\n",
        "from diagrams.c4 import SystemBoundary, Relationship, Container\n",
        "from _Repository import Systems, Applications\n",
        "\n",
        "settings = { **default_settings, **{\n",
        "  \"name\": \"Component Diagram\",\n",
        "  \"direction\": \"TB\"\n",
        "}}\n",
        "\n",
        "with Diagram(**settings) as diagram:\n",
        "\n",
        "  spa = Applications.SPA.Get()\n",
        "  mobileApp = Applications.MobileApp.Get()\n",
        "\n",
        "  with SystemBoundary(\"API Application\"):\n",
        "    signInController = Container(\"Sign In Controller\", \"Spring MVC Rest Controller\", \"Allows users to sign into the internet banking system\")\n",
        "    passwordController = Container(\"Reset Password Controller\", \"Spring MVC Rest Controller\", \"Allows users to reset their passwords with a single use URL\")\n",
        "    accountController = Container(\"Accounts Summary Controller\", \"Spring MVC Rest Controller\", \"Provides customers with a summary of their bank accounts\")\n",
        "    securityComponent = Container(\"Security Component\", \"Sprint Bean\", \"Provides functionality related to signing in, changing passwords, etc.\")\n",
        "    emailComponent = Container(\"Email Component\", \"Spring Bean\", \"Sends email to users\")\n",
        "    mainframeFacade = Container(\"Mainframe Banking System Facade\", \"Spring Bean\", \"A facade onto the mainframe banking system\")\n",
        " \n",
        "  database = Applications.Database.Get()\n",
        "  email = Systems.Email.Get()\n",
        "  mainframe = Systems.Mainframe.Get()\n",
        "\n",
        "  spa >> Relationship(\"Makes API calls to [JSON/HTTPS]\") >> [signInController, passwordController, accountController]\n",
        "  mobileApp >> Relationship(\"Makes API calls to [JSON/HTTPS]\") >> [signInController, passwordController, accountController]\n",
        "\n",
        "  signInController >> Relationship(\"Uses\") >> [securityComponent]\n",
        "  passwordController >> Relationship(\"Uses\") >> [securityComponent, emailComponent]\n",
        "  accountController >> Relationship(\"Uses\") >> [mainframeFacade]\n",
        "\n",
        "  securityComponent >> Relationship(\"Reads from and writes to\") >> [database]\n",
        "  emailComponent >> Relationship(\"Sends email using\") >> [email]\n",
        "  mainframeFacade >> Relationship(\"A facade onto the mainframe baking system\") >> [mainframe]\n",
        "\n",
        "display(Markdown(\"## \" + settings[\"name\"]))\n",
        "display(diagram)"
      ]
    },
    {
      "cell_type": "code",
      "execution_count": null,
      "metadata": {},
      "outputs": [],
      "source": [
        "#@title Code Diagram\n",
        "from IPython.display import display, Markdown\n",
        "from diagrams import Diagram\n",
        "from diagrams.programming.flowchart import InternalStorage, Inspection, PredefinedProcess\n",
        "from diagrams.c4 import SystemBoundary, Relationship\n",
        "from _Repository import Systems, Applications\n",
        "\n",
        "settings = { **default_settings, **{\n",
        "  \"name\": \"Code Diagram\",\n",
        "  \"direction\": \"TB\"\n",
        "}}\n",
        "\n",
        "with Diagram(**settings) as diagram:\n",
        "\n",
        "  internetBankingSystemException = PredefinedProcess(\"InternetBankingSystemException\")\n",
        "\n",
        "  with SystemBoundary(\"com.bigbankplc.internetbankingcomponent.mainframe\"):\n",
        "    mainframeBankingSystemFacade = Inspection(\"MainframeBankingSystemFacade\")\n",
        "\n",
        "    mainframeBankingSystemFacadeImpl = PredefinedProcess(\"MainframeBankingSystemFacadeImpl\")\n",
        "    mainframeBankingSystemException = PredefinedProcess(\"MainframeBankingSystemException\")\n",
        "\n",
        "    getBalanceResponse = PredefinedProcess(\"GetBalanceResponse\")\n",
        "    getBalanceRequest = PredefinedProcess(\"GetBalanceRequest\")\n",
        "\n",
        "    abstractResponse = InternalStorage(\"AbstractResponse\")\n",
        "    abstractRequest = InternalStorage(\"AbstractRequest\")\n",
        "\n",
        "    bankingSystemConnection = PredefinedProcess(\"BankingSystemConnection\")\n",
        "\n",
        "  mainframeBankingSystemFacade << Relationship() << mainframeBankingSystemFacadeImpl \n",
        "  mainframeBankingSystemFacadeImpl >> Relationship(\"+throws\") >> mainframeBankingSystemException\n",
        "  mainframeBankingSystemFacadeImpl >> Relationship(\"+parses\") >> getBalanceResponse\n",
        "  mainframeBankingSystemFacadeImpl >> Relationship(\"+creates\") >> getBalanceRequest\n",
        "  mainframeBankingSystemFacadeImpl >> Relationship(\"+uses\") >> bankingSystemConnection\n",
        "\n",
        "  mainframeBankingSystemException >> Relationship() >> internetBankingSystemException\n",
        "\n",
        "  getBalanceRequest >> Relationship() >> abstractRequest\n",
        "  getBalanceResponse >> Relationship() >> abstractResponse\n",
        "\n",
        "  bankingSystemConnection >> Relationship(\"+sends\") >> abstractRequest\n",
        "  bankingSystemConnection >> Relationship(\"+receives\") >> abstractResponse\n",
        "\n",
        "display(Markdown(\"## \" + settings[\"name\"]))\n",
        "display(diagram)"
      ]
    }
  ],
  "metadata": {
    "colab": {
      "include_colab_link": true,
      "provenance": []
    },
    "kernelspec": {
      "display_name": "Python 3",
      "language": "python",
      "name": "python3"
    },
    "language_info": {
      "codemirror_mode": {
        "name": "ipython",
        "version": 3
      },
      "file_extension": ".py",
      "mimetype": "text/x-python",
      "name": "python",
      "nbconvert_exporter": "python",
      "pygments_lexer": "ipython3",
      "version": "3.11.4"
    },
    "polyglot_notebook": {
      "kernelInfo": {
        "defaultKernelName": "csharp",
        "items": [
          {
            "aliases": [],
            "name": "csharp"
          }
        ]
      }
    }
  },
  "nbformat": 4,
  "nbformat_minor": 0
}
