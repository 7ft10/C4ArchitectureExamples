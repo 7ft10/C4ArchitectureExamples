{
  "nbformat": 4,
  "nbformat_minor": 0,
  "metadata": {
    "colab": {
      "provenance": [],
      "include_colab_link": true
    },
    "kernelspec": {
      "name": "python3",
      "display_name": "Python 3"
    }
  },
  "cells": [
    {
      "cell_type": "markdown",
      "metadata": {
        "id": "view-in-github",
        "colab_type": "text"
      },
      "source": [
        "<a href=\"https://colab.research.google.com/github/7ft10/C4ArchitectureExamples/blob/main/C4_Architecture_Examples.ipynb\" target=\"_parent\"><img src=\"https://colab.research.google.com/assets/colab-badge.svg\" alt=\"Open In Colab\"/></a>"
      ]
    },
    {
      "cell_type": "markdown",
      "metadata": {
        "id": "j2E0Uo9Nj3ju"
      },
      "source": [
        "# C4 Architecture Examples"
      ]
    },
    {
      "cell_type": "code",
      "metadata": {
        "id": "iIYChmlOj0fT",
        "collapsed": true,
        "cellView": "form"
      },
      "source": [
        "#@title Install Diagrams\n",
        "!pip install diagrams &> /dev/null"
      ],
      "execution_count": 146,
      "outputs": []
    },
    {
      "cell_type": "code",
      "source": [
        "#@title Default Settings\n",
        "\n",
        "from diagrams import Diagram\n",
        "from diagrams.c4 import Person, Container, Database, System, SystemBoundary, Relationship\n",
        "from diagrams.custom import Custom\n",
        "from IPython.display import SVG, display, Image\n",
        "\n",
        "#@markdown + Graph Attributes\n",
        "global_graph_attr = {\n",
        "  \"splines\": \"spline\",\n",
        "  \"fontsize\": \"10\",\n",
        "  \"bgcolor\": \"transparent\"\n",
        "}\n",
        "\n",
        "#@markdown + Node Attributes\n",
        "global_node_attr = {\n",
        "  \"fontsize\": \"8px\",\n",
        "  \"width\": \"1.8\"#,\n",
        "  #\"height\": \"1.4\"\n",
        "}"
      ],
      "metadata": {
        "cellView": "form",
        "id": "CwzcIaUIRE9M"
      },
      "execution_count": 137,
      "outputs": []
    },
    {
      "cell_type": "code",
      "source": [
        "#@title Respository\n",
        "from urllib.request import urlretrieve\n",
        "\n",
        "#@markdown ----------------------------------------------\n",
        "#@markdown # Our Systems\n",
        "class OurSystems():\n",
        "\n",
        "  #@markdown + Web Application (WebApp)\n",
        "  def WebApp(): \n",
        "    return {\n",
        "      \"name\" : \"Web Application\", \n",
        "      \"technology\" : \"Java and Spring MVC\", \n",
        "      \"description\" : \"Delivers the static content and the Internet banking single page application.\",\n",
        "      \"tech-radar-ring\" : \"adopt\",\n",
        "      \"tech-radar-quadrant\" : \"tools\",\n",
        "      \"isNew\" : \"TRUE\"\n",
        "    }\n",
        "\n",
        "  #@markdown + Single Page Application (SPA)\n",
        "  def SPA(): \n",
        "    return { \n",
        "      \"name\" : \"Single-Page Application\",\n",
        "      \"technology\" : \"Javascript and Angular\",\n",
        "      \"description\" : \"Provides all of the Internet banking functionality to customers via their web browser.\",\n",
        "    }\n",
        "\n",
        "  #@markdown + Mobile Application (MobileApp)\n",
        "  def MobileApp(): \n",
        "    return { \n",
        "      \"name\" : \"Mobile App\",\n",
        "      \"technology\" : \"Xamarin\",\n",
        "      \"description\" : \"Provides a limited subset of the Internet banking functionality to customers via their mobile device.\",\n",
        "    }\n",
        "\n",
        "  #@markdown + Application Programming Interface (API)\n",
        "  def API():\n",
        "    return { \n",
        "      \"name\" : \"API Application\",\n",
        "      \"technology\" : \"Java and Spring MVC\",\n",
        "      \"description\" : \"Provides Internet banking functionality via a JSON/HTTPS API.\",\n",
        "    }\n",
        "\n",
        "  #@markdown + Customer Application (CustomerA)\n",
        "  def CustomA():\n",
        "    diagrams_icon = \"diagrams.png\"\n",
        "    urlretrieve(\"https://github.com/mingrammer/diagrams/raw/master/assets/img/diagrams.png\", diagrams_icon)\n",
        "    return { \n",
        "      \"label\" : \"Custom Application\",\n",
        "      \"icon_path\" : diagrams_icon\n",
        "    }\n",
        "\n",
        "#@markdown ---\n",
        "#@markdown # Our Data Stores\n",
        "class OurDataStores(): \n",
        "\n",
        "  #@markdown + Oracle Database (OracleDB)\n",
        "  def OracleDB(): \n",
        "    return { \n",
        "      \"name\" : \"Oracle DB\",\n",
        "      \"technology\" : \"Oracle Database\",\n",
        "      \"description\" : \"Stores user registration information, hashed authentication credentials, access logs, etc.\",\n",
        "    }\n",
        "\n",
        "#@markdown ----------------------------------------------\n",
        "#@markdown # Our External Systems\n",
        "class OurExternalSystems(): \n",
        "\n",
        "  #@markdown + E-mail System (Email)\n",
        "  def Email(): \n",
        "    return { \n",
        "      \"name\" : \"E-mail System\", \n",
        "      \"description\" : \"The internal Microsoft Exchange e-mail system.\", \n",
        "      \"external\" : True\n",
        "    }\n",
        "\n",
        "  #@markdown + Mainframe Banking System (Mainframe)\n",
        "  def Mainframe(): \n",
        "    return { \n",
        "      \"name\" : \"Mainframe Banking System\",\n",
        "      \"description\" : \"Stores all of the core banking information about customers, accounts, transactions, etc.\",\n",
        "      \"external\" : True\n",
        "    }\n",
        "\n",
        "#@markdown ----------------------------------------------\n",
        "#@markdown # Our Personas\n",
        "class OurPersonas(): \n",
        "\n",
        "  #@markdown + Banking Customer (BankingCustomer)\n",
        "  def BankingCustomer(): \n",
        "    return {\n",
        "      \"name\" : \"Personal Banking Customer\", \n",
        "      \"description\" : \"A customer of the bank, with personal bank accounts.\"\n",
        "    }\n"
      ],
      "metadata": {
        "id": "z2eiZ7POfgw0",
        "cellView": "form"
      },
      "execution_count": 138,
      "outputs": []
    },
    {
      "cell_type": "code",
      "metadata": {
        "id": "tfcbX9THkvDP",
        "cellView": "form"
      },
      "source": [
        "#@title Internet Banking System Context Diagram\n",
        "internet_banking_system_settings =  {\n",
        "  \"name\": \"Internet Banking System Context Diagram\", \n",
        "  \"outformat\": \"svg\",  \n",
        "  \"direction\": \"TB\", \n",
        "  \"graph_attr\": global_graph_attr, \n",
        "  \"node_attr\": global_node_attr\n",
        "}\n",
        "\n",
        "with Diagram(** internet_banking_system_settings) as internet_banking_system_context_diagram:\n",
        "  \n",
        "  #@markdown ----------------------------------------------\n",
        "  #@markdown ## Personas\n",
        "\n",
        "  #@markdown + BankingCustomer\n",
        "  customer = Person( **OurPersonas.BankingCustomer() )\n",
        "\n",
        "  #@markdown ----------------------------------------------\n",
        "  #@markdown ## Context\n",
        "\n",
        "  #@markdown System: Internet Banking System\n",
        "  with SystemBoundary(\"Internet Banking System\"):\n",
        "    #@markdown + WebApp\n",
        "    webapp = Container( **OurSystems.WebApp() )\n",
        "\n",
        "    #@markdown + SPA\n",
        "    spa = Container( **OurSystems.SPA() ) \n",
        "\n",
        "    #@markdown + MobileApp\n",
        "    mobileapp = Container( **OurSystems.MobileApp() ) \n",
        "\n",
        "    #@markdown + API\n",
        "    api = Container( **OurSystems.API() )\n",
        "\n",
        "    #@markdown + OracleDB\n",
        "    database = Database( **OurDataStores.OracleDB() )\n",
        "\n",
        "    #@markdown + CustomA\n",
        "    diagrams = Custom( **OurSystems.CustomA() )\n",
        "\n",
        "  #@markdown ----------------------------------------------\n",
        "  #@markdown ## External Systems   \n",
        "\n",
        "  #@markdown + Email\n",
        "  email = System( **OurExternalSystems.Email() )\n",
        "\n",
        "  #@markdown + Mainframe\n",
        "  mainframe = System( **OurExternalSystems.Mainframe() )\n",
        "\n",
        "  #@markdown ----------------------------------------------\n",
        "  #@markdown ## Relationships\n",
        "  #@markdown Shown in code\n",
        "  customer >> Relationship(\"Visits bigbank.com/ib using [HTTPS]\") >> webapp\n",
        "  customer >> Relationship(\"Views account balances, and makes payments using\") >> [spa, mobileapp]\n",
        "  webapp >> Relationship(\"Delivers to the customer's web browser\") >> spa\n",
        "  spa >> Relationship(\"Make API calls to [JSON/HTTPS]\") >> api\n",
        "  mobileapp >> Relationship(\"Make API calls to [JSON/HTTPS]\") >> api\n",
        "\n",
        "  api >> Relationship(\"reads from and writes to\") >> database\n",
        "  api >> Relationship(\"Sends email using [SMTP]\") >> email\n",
        "  api >> Relationship(\"Makes API calls to [XML/HTTPS]\") >> mainframe\n",
        "  customer << Relationship(\"Sends e-mails to\") << email\n",
        "\n",
        "#@markdown ----------------------------------------------\n",
        "#@markdown ![Internet Banking System Context Diagram]([internet_banking_system_context_diagram])\n",
        "## ------------------------------------------------------  \n",
        "##internet_banking_system_context_diagram"
      ],
      "execution_count": 139,
      "outputs": []
    },
    {
      "cell_type": "code",
      "source": [
        "#@markdown ![pp](attachment:/content/internet_banking_system_context_diagram.svg)"
      ],
      "metadata": {
        "id": "qgT8YDhypTEK"
      },
      "execution_count": 140,
      "outputs": []
    },
    {
      "cell_type": "code",
      "source": [
        "#@markdown ![pp](/content/internet_banking_system_context_diagram.svg)"
      ],
      "metadata": {
        "id": "zbIQFElE2sDK"
      },
      "execution_count": 141,
      "outputs": []
    },
    {
      "cell_type": "code",
      "source": [
        "SVG('/content/internet_banking_system_context_diagram.svg')"
      ],
      "metadata": {
        "colab": {
          "resources": {
            "http://localhost:8080/diagrams.png": {
              "data": "CjwhRE9DVFlQRSBodG1sPgo8aHRtbCBsYW5nPWVuPgogIDxtZXRhIGNoYXJzZXQ9dXRmLTg+CiAgPG1ldGEgbmFtZT12aWV3cG9ydCBjb250ZW50PSJpbml0aWFsLXNjYWxlPTEsIG1pbmltdW0tc2NhbGU9MSwgd2lkdGg9ZGV2aWNlLXdpZHRoIj4KICA8dGl0bGU+RXJyb3IgNDA0IChOb3QgRm91bmQpISExPC90aXRsZT4KICA8c3R5bGU+CiAgICAqe21hcmdpbjowO3BhZGRpbmc6MH1odG1sLGNvZGV7Zm9udDoxNXB4LzIycHggYXJpYWwsc2Fucy1zZXJpZn1odG1se2JhY2tncm91bmQ6I2ZmZjtjb2xvcjojMjIyO3BhZGRpbmc6MTVweH1ib2R5e21hcmdpbjo3JSBhdXRvIDA7bWF4LXdpZHRoOjM5MHB4O21pbi1oZWlnaHQ6MTgwcHg7cGFkZGluZzozMHB4IDAgMTVweH0qID4gYm9keXtiYWNrZ3JvdW5kOnVybCgvL3d3dy5nb29nbGUuY29tL2ltYWdlcy9lcnJvcnMvcm9ib3QucG5nKSAxMDAlIDVweCBuby1yZXBlYXQ7cGFkZGluZy1yaWdodDoyMDVweH1we21hcmdpbjoxMXB4IDAgMjJweDtvdmVyZmxvdzpoaWRkZW59aW5ze2NvbG9yOiM3Nzc7dGV4dC1kZWNvcmF0aW9uOm5vbmV9YSBpbWd7Ym9yZGVyOjB9QG1lZGlhIHNjcmVlbiBhbmQgKG1heC13aWR0aDo3NzJweCl7Ym9keXtiYWNrZ3JvdW5kOm5vbmU7bWFyZ2luLXRvcDowO21heC13aWR0aDpub25lO3BhZGRpbmctcmlnaHQ6MH19I2xvZ297YmFja2dyb3VuZDp1cmwoLy93d3cuZ29vZ2xlLmNvbS9pbWFnZXMvbG9nb3MvZXJyb3JwYWdlL2Vycm9yX2xvZ28tMTUweDU0LnBuZykgbm8tcmVwZWF0O21hcmdpbi1sZWZ0Oi01cHh9QG1lZGlhIG9ubHkgc2NyZWVuIGFuZCAobWluLXJlc29sdXRpb246MTkyZHBpKXsjbG9nb3tiYWNrZ3JvdW5kOnVybCgvL3d3dy5nb29nbGUuY29tL2ltYWdlcy9sb2dvcy9lcnJvcnBhZ2UvZXJyb3JfbG9nby0xNTB4NTQtMngucG5nKSBuby1yZXBlYXQgMCUgMCUvMTAwJSAxMDAlOy1tb3otYm9yZGVyLWltYWdlOnVybCgvL3d3dy5nb29nbGUuY29tL2ltYWdlcy9sb2dvcy9lcnJvcnBhZ2UvZXJyb3JfbG9nby0xNTB4NTQtMngucG5nKSAwfX1AbWVkaWEgb25seSBzY3JlZW4gYW5kICgtd2Via2l0LW1pbi1kZXZpY2UtcGl4ZWwtcmF0aW86Mil7I2xvZ297YmFja2dyb3VuZDp1cmwoLy93d3cuZ29vZ2xlLmNvbS9pbWFnZXMvbG9nb3MvZXJyb3JwYWdlL2Vycm9yX2xvZ28tMTUweDU0LTJ4LnBuZykgbm8tcmVwZWF0Oy13ZWJraXQtYmFja2dyb3VuZC1zaXplOjEwMCUgMTAwJX19I2xvZ297ZGlzcGxheTppbmxpbmUtYmxvY2s7aGVpZ2h0OjU0cHg7d2lkdGg6MTUwcHh9CiAgPC9zdHlsZT4KICA8YSBocmVmPS8vd3d3Lmdvb2dsZS5jb20vPjxzcGFuIGlkPWxvZ28gYXJpYS1sYWJlbD1Hb29nbGU+PC9zcGFuPjwvYT4KICA8cD48Yj40MDQuPC9iPiA8aW5zPlRoYXTigJlzIGFuIGVycm9yLjwvaW5zPgogIDxwPiAgPGlucz5UaGF04oCZcyBhbGwgd2Uga25vdy48L2lucz4K",
              "ok": false,
              "headers": [
                [
                  "content-length",
                  "1449"
                ],
                [
                  "content-type",
                  "text/html; charset=utf-8"
                ]
              ],
              "status": 404,
              "status_text": ""
            }
          },
          "base_uri": "https://localhost:8080/",
          "height": 1000
        },
        "id": "BjyDN1qoqIIE",
        "outputId": "a9f72613-b668-462d-b364-09b3f07a5357"
      },
      "execution_count": 142,
      "outputs": [
        {
          "output_type": "execute_result",
          "data": {
            "text/plain": [
              "<IPython.core.display.SVG object>"
            ],
            "image/svg+xml": "<svg xmlns=\"http://www.w3.org/2000/svg\" xmlns:xlink=\"http://www.w3.org/1999/xlink\" width=\"1394pt\" height=\"1250pt\" viewBox=\"0.00 0.00 1393.50 1250.00\">\n<g id=\"graph0\" class=\"graph\" transform=\"scale(1 1) rotate(0) translate(144 1106)\">\n<title>Internet Banking System Context Diagram</title>\n<text text-anchor=\"middle\" x=\"552.75\" y=\"-7\" font-family=\"Sans-Serif\" font-size=\"10.00\" fill=\"#2d3436\">Internet Banking System Context Diagram</text>\n<g id=\"clust1\" class=\"cluster\">\n<title>cluster_Internet Banking System</title>\n<polygon fill=\"white\" stroke=\"#aeb6be\" stroke-dasharray=\"5,2\" points=\"455,-27 455,-790 903,-790 903,-27 455,-27\"/>\n<text text-anchor=\"middle\" x=\"549.5\" y=\"-776.4\" font-family=\"Sans-Serif\" font-size=\"12.00\" fill=\"#2d3436\">Internet Banking System</text>\n</g>\n<!-- 7d8f594d92ff4fe1970bb3149c9c1bce -->\n<g id=\"node1\" class=\"node\">\n<title>7d8f594d92ff4fe1970bb3149c9c1bce</title>\n<path fill=\"#104e8b\" stroke=\"black\" d=\"M304.5,-962C304.5,-962 141.5,-962 141.5,-962 135.5,-962 129.5,-956 129.5,-950 129.5,-950 129.5,-859 129.5,-859 129.5,-853 135.5,-847 141.5,-847 141.5,-847 304.5,-847 304.5,-847 310.5,-847 316.5,-853 316.5,-859 316.5,-859 316.5,-950 316.5,-950 316.5,-956 310.5,-962 304.5,-962\"/>\n<text text-anchor=\"start\" x=\"129\" y=\"-920.4\" font-family=\"Sans-Serif\" font-weight=\"bold\" font-size=\"12.00\" fill=\"white\">Personal Banking Customer</text>\n<text text-anchor=\"start\" x=\"201.5\" y=\"-910.8\" font-family=\"Sans-Serif\" font-size=\"9.00\" fill=\"white\">[Person]</text>\n<text text-anchor=\"start\" x=\"111.5\" y=\"-893\" font-family=\"Sans-Serif\" font-size=\"10.00\" fill=\"white\">A customer of the bank, with personal</text>\n<text text-anchor=\"start\" x=\"180.5\" y=\"-883\" font-family=\"Sans-Serif\" font-size=\"10.00\" fill=\"white\">bank accounts.</text>\n</g>\n<!-- c0bb8ce937764463add32397ec3db450 -->\n<g id=\"node2\" class=\"node\">\n<title>c0bb8ce937764463add32397ec3db450</title>\n<polygon fill=\"#1874cd\" stroke=\"black\" points=\"887.5,-742 700.5,-742 700.5,-627 887.5,-627 887.5,-742\"/>\n<text text-anchor=\"start\" x=\"737.5\" y=\"-705.4\" font-family=\"Sans-Serif\" font-weight=\"bold\" font-size=\"12.00\" fill=\"white\">Web Application</text>\n<text text-anchor=\"start\" x=\"709.5\" y=\"-695.8\" font-family=\"Sans-Serif\" font-size=\"9.00\" fill=\"white\">[Container: Java and Spring MVC]</text>\n<text text-anchor=\"start\" x=\"688.5\" y=\"-678\" font-family=\"Sans-Serif\" font-size=\"10.00\" fill=\"white\">Delivers the static content and the</text>\n<text text-anchor=\"start\" x=\"709.5\" y=\"-668\" font-family=\"Sans-Serif\" font-size=\"10.00\" fill=\"white\">Internet banking single page</text>\n<text text-anchor=\"start\" x=\"757.5\" y=\"-658\" font-family=\"Sans-Serif\" font-size=\"10.00\" fill=\"white\">application.</text>\n</g>\n<!-- 7d8f594d92ff4fe1970bb3149c9c1bce&#45;&gt;c0bb8ce937764463add32397ec3db450 -->\n<g id=\"edge1\" class=\"edge\">\n<title>7d8f594d92ff4fe1970bb3149c9c1bce-&gt;c0bb8ce937764463add32397ec3db450</title>\n<path fill=\"none\" stroke=\"#999999\" stroke-dasharray=\"5,2\" d=\"M316.92,-893.78C412.66,-880.84 563.16,-851.9 679,-790 699.01,-779.3 718.29,-764.36 735.16,-749.1\"/>\n<polygon fill=\"#999999\" stroke=\"#999999\" points=\"737.77,-751.45 742.73,-742.09 733.01,-746.32 737.77,-751.45\"/>\n<text text-anchor=\"start\" x=\"656\" y=\"-812\" font-family=\"Sans-Serif\" font-size=\"10.00\" fill=\"#2d3436\">Visits bigbank.com/ib</text>\n<text text-anchor=\"start\" x=\"680\" y=\"-801\" font-family=\"Sans-Serif\" font-size=\"10.00\" fill=\"#2d3436\">using [HTTPS]</text>\n</g>\n<!-- 133eb9ac66df4a74a07bf5188a1dfb65 -->\n<g id=\"node3\" class=\"node\">\n<title>133eb9ac66df4a74a07bf5188a1dfb65</title>\n<polygon fill=\"#1874cd\" stroke=\"black\" points=\"887.5,-540 700.5,-540 700.5,-425 887.5,-425 887.5,-540\"/>\n<text text-anchor=\"start\" x=\"707.5\" y=\"-503.4\" font-family=\"Sans-Serif\" font-weight=\"bold\" font-size=\"12.00\" fill=\"white\">Single-Page Application</text>\n<text text-anchor=\"start\" x=\"702\" y=\"-493.8\" font-family=\"Sans-Serif\" font-size=\"9.00\" fill=\"white\">[Container: Javascript and Angular]</text>\n<text text-anchor=\"start\" x=\"685.5\" y=\"-476\" font-family=\"Sans-Serif\" font-size=\"10.00\" fill=\"white\">Provides all of the Internet banking</text>\n<text text-anchor=\"start\" x=\"673.5\" y=\"-466\" font-family=\"Sans-Serif\" font-size=\"10.00\" fill=\"white\">functionality to customers via their web</text>\n<text text-anchor=\"start\" x=\"769.5\" y=\"-456\" font-family=\"Sans-Serif\" font-size=\"10.00\" fill=\"white\">browser.</text>\n</g>\n<!-- 7d8f594d92ff4fe1970bb3149c9c1bce&#45;&gt;133eb9ac66df4a74a07bf5188a1dfb65 -->\n<g id=\"edge2\" class=\"edge\">\n<title>7d8f594d92ff4fe1970bb3149c9c1bce-&gt;133eb9ac66df4a74a07bf5188a1dfb65</title>\n<path fill=\"none\" stroke=\"#999999\" stroke-dasharray=\"5,2\" d=\"M260.03,-846.82C270.98,-828.99 282.55,-808.99 292,-790 329.07,-715.53 298.12,-670.47 361,-616 470.83,-520.85 542.28,-589.23 679,-540 682.94,-538.58 686.93,-537.06 690.93,-535.47\"/>\n<polygon fill=\"#999999\" stroke=\"#999999\" points=\"692.36,-538.67 700.28,-531.63 689.7,-532.19 692.36,-538.67\"/>\n<text text-anchor=\"start\" x=\"364\" y=\"-687.5\" font-family=\"Sans-Serif\" font-size=\"10.00\" fill=\"#2d3436\">Views account balances,</text>\n<text text-anchor=\"start\" x=\"361\" y=\"-676.5\" font-family=\"Sans-Serif\" font-size=\"10.00\" fill=\"#2d3436\">and makes payments using</text>\n</g>\n<!-- 00815d7fff7c4300b9f6f4fa223902dd -->\n<g id=\"node4\" class=\"node\">\n<title>00815d7fff7c4300b9f6f4fa223902dd</title>\n<polygon fill=\"#1874cd\" stroke=\"black\" points=\"657.5,-540 470.5,-540 470.5,-425 657.5,-425 657.5,-540\"/>\n<text text-anchor=\"start\" x=\"526\" y=\"-503.4\" font-family=\"Sans-Serif\" font-weight=\"bold\" font-size=\"12.00\" fill=\"white\">Mobile App</text>\n<text text-anchor=\"start\" x=\"511\" y=\"-493.8\" font-family=\"Sans-Serif\" font-size=\"9.00\" fill=\"white\">[Container: Xamarin]</text>\n<text text-anchor=\"start\" x=\"467.5\" y=\"-476\" font-family=\"Sans-Serif\" font-size=\"10.00\" fill=\"white\">Provides a limited subset of the</text>\n<text text-anchor=\"start\" x=\"464.5\" y=\"-466\" font-family=\"Sans-Serif\" font-size=\"10.00\" fill=\"white\">Internet banking functionality to</text>\n<text text-anchor=\"start\" x=\"461.5\" y=\"-456\" font-family=\"Sans-Serif\" font-size=\"10.00\" fill=\"white\">customers via their mobile device.</text>\n</g>\n<!-- 7d8f594d92ff4fe1970bb3149c9c1bce&#45;&gt;00815d7fff7c4300b9f6f4fa223902dd -->\n<g id=\"edge3\" class=\"edge\">\n<title>7d8f594d92ff4fe1970bb3149c9c1bce-&gt;00815d7fff7c4300b9f6f4fa223902dd</title>\n<path fill=\"none\" stroke=\"#999999\" stroke-dasharray=\"5,2\" d=\"M171.48,-846.72C159.06,-829.68 147.51,-810.12 141,-790 117.2,-716.42 95.21,-678.32 141,-616 179.09,-564.15 347.87,-523.51 460.38,-501.55\"/>\n<polygon fill=\"#999999\" stroke=\"#999999\" points=\"461.25,-504.95 470.4,-499.61 459.92,-498.07 461.25,-504.95\"/>\n<text text-anchor=\"start\" x=\"144\" y=\"-687.5\" font-family=\"Sans-Serif\" font-size=\"10.00\" fill=\"#2d3436\">Views account balances,</text>\n<text text-anchor=\"start\" x=\"141\" y=\"-676.5\" font-family=\"Sans-Serif\" font-size=\"10.00\" fill=\"#2d3436\">and makes payments using</text>\n</g>\n<!-- bc8afd789e1d4fabaef87a734a53039e -->\n<g id=\"node8\" class=\"node\">\n<title>bc8afd789e1d4fabaef87a734a53039e</title>\n<polygon fill=\"#999999\" stroke=\"black\" points=\"352.5,-158 165.5,-158 165.5,-43 352.5,-43 352.5,-158\"/>\n<text text-anchor=\"start\" x=\"210\" y=\"-116.4\" font-family=\"Sans-Serif\" font-weight=\"bold\" font-size=\"12.00\" fill=\"white\">E-mail System</text>\n<text text-anchor=\"start\" x=\"214\" y=\"-106.8\" font-family=\"Sans-Serif\" font-size=\"9.00\" fill=\"white\">[External System]</text>\n<text text-anchor=\"start\" x=\"144.5\" y=\"-89\" font-family=\"Sans-Serif\" font-size=\"10.00\" fill=\"white\">The internal Microsoft Exchange e-mail</text>\n<text text-anchor=\"start\" x=\"237.5\" y=\"-79\" font-family=\"Sans-Serif\" font-size=\"10.00\" fill=\"white\">system.</text>\n</g>\n<!-- 7d8f594d92ff4fe1970bb3149c9c1bce&#45;&gt;bc8afd789e1d4fabaef87a734a53039e -->\n<g id=\"edge10\" class=\"edge\">\n<title>7d8f594d92ff4fe1970bb3149c9c1bce-&gt;bc8afd789e1d4fabaef87a734a53039e</title>\n<path fill=\"none\" stroke=\"#999999\" stroke-dasharray=\"5,2\" d=\"M120.77,-852.51C62.11,-815.31 0,-758.65 0,-685.5 0,-685.5 0,-685.5 0,-290.5 0,-205.89 91.31,-155.12 165.5,-127.84\"/>\n<polygon fill=\"#999999\" stroke=\"#999999\" points=\"119.05,-855.56 129.4,-857.85 122.74,-849.61 119.05,-855.56\"/>\n<text text-anchor=\"start\" x=\"0\" y=\"-480\" font-family=\"Sans-Serif\" font-size=\"10.00\" fill=\"#2d3436\">Sends e-mails to</text>\n</g>\n<!-- c0bb8ce937764463add32397ec3db450&#45;&gt;133eb9ac66df4a74a07bf5188a1dfb65 -->\n<g id=\"edge4\" class=\"edge\">\n<title>c0bb8ce937764463add32397ec3db450-&gt;133eb9ac66df4a74a07bf5188a1dfb65</title>\n<path fill=\"none\" stroke=\"#999999\" stroke-dasharray=\"5,2\" d=\"M794,-626.99C794,-603.13 794,-575.17 794,-550.3\"/>\n<polygon fill=\"#999999\" stroke=\"#999999\" points=\"797.5,-550.22 794,-540.22 790.5,-550.22 797.5,-550.22\"/>\n<text text-anchor=\"start\" x=\"815\" y=\"-581\" font-family=\"Sans-Serif\" font-size=\"10.00\" fill=\"#2d3436\">Delivers to the</text>\n<text text-anchor=\"start\" x=\"794\" y=\"-570\" font-family=\"Sans-Serif\" font-size=\"10.00\" fill=\"#2d3436\">customer's web browser</text>\n</g>\n<!-- 9c4a00ac14ee40d892f90b5f902a13b9 -->\n<g id=\"node5\" class=\"node\">\n<title>9c4a00ac14ee40d892f90b5f902a13b9</title>\n<polygon fill=\"#1874cd\" stroke=\"black\" points=\"749.5,-349 562.5,-349 562.5,-234 749.5,-234 749.5,-349\"/>\n<text text-anchor=\"start\" x=\"599.5\" y=\"-307.4\" font-family=\"Sans-Serif\" font-weight=\"bold\" font-size=\"12.00\" fill=\"white\">API Application</text>\n<text text-anchor=\"start\" x=\"571.5\" y=\"-297.8\" font-family=\"Sans-Serif\" font-size=\"9.00\" fill=\"white\">[Container: Java and Spring MVC]</text>\n<text text-anchor=\"start\" x=\"538.5\" y=\"-280\" font-family=\"Sans-Serif\" font-size=\"10.00\" fill=\"white\">Provides Internet banking functionality</text>\n<text text-anchor=\"start\" x=\"592.5\" y=\"-270\" font-family=\"Sans-Serif\" font-size=\"10.00\" fill=\"white\">via a JSON/HTTPS API.</text>\n</g>\n<!-- 133eb9ac66df4a74a07bf5188a1dfb65&#45;&gt;9c4a00ac14ee40d892f90b5f902a13b9 -->\n<g id=\"edge5\" class=\"edge\">\n<title>133eb9ac66df4a74a07bf5188a1dfb65-&gt;9c4a00ac14ee40d892f90b5f902a13b9</title>\n<path fill=\"none\" stroke=\"#999999\" stroke-dasharray=\"5,2\" d=\"M754.2,-424.89C742.92,-409.01 730.55,-391.77 719,-376 714.65,-370.06 710.09,-363.9 705.51,-357.75\"/>\n<polygon fill=\"#999999\" stroke=\"#999999\" points=\"708.05,-355.3 699.26,-349.38 702.44,-359.49 708.05,-355.3\"/>\n<text text-anchor=\"start\" x=\"733\" y=\"-390\" font-family=\"Sans-Serif\" font-size=\"10.00\" fill=\"#2d3436\">Make API calls to</text>\n<text text-anchor=\"start\" x=\"748\" y=\"-379\" font-family=\"Sans-Serif\" font-size=\"10.00\" fill=\"#2d3436\">[JSON/HTTPS]</text>\n</g>\n<!-- 00815d7fff7c4300b9f6f4fa223902dd&#45;&gt;9c4a00ac14ee40d892f90b5f902a13b9 -->\n<g id=\"edge6\" class=\"edge\">\n<title>00815d7fff7c4300b9f6f4fa223902dd-&gt;9c4a00ac14ee40d892f90b5f902a13b9</title>\n<path fill=\"none\" stroke=\"#999999\" stroke-dasharray=\"5,2\" d=\"M587.52,-424.94C594.46,-408.98 602.28,-391.69 610,-376 612.83,-370.25 615.86,-364.33 618.95,-358.42\"/>\n<polygon fill=\"#999999\" stroke=\"#999999\" points=\"622.27,-359.65 623.86,-349.17 616.08,-356.36 622.27,-359.65\"/>\n<text text-anchor=\"start\" x=\"610\" y=\"-390\" font-family=\"Sans-Serif\" font-size=\"10.00\" fill=\"#2d3436\">Make API calls to</text>\n<text text-anchor=\"start\" x=\"625\" y=\"-379\" font-family=\"Sans-Serif\" font-size=\"10.00\" fill=\"#2d3436\">[JSON/HTTPS]</text>\n</g>\n<!-- aa80333b86a649a19419dbf351f69dcc -->\n<g id=\"node6\" class=\"node\">\n<title>aa80333b86a649a19419dbf351f69dcc</title>\n<path fill=\"#1874cd\" stroke=\"black\" d=\"M749.5,-147.55C749.5,-153.31 707.59,-158 656,-158 604.41,-158 562.5,-153.31 562.5,-147.55 562.5,-147.55 562.5,-53.45 562.5,-53.45 562.5,-47.69 604.41,-43 656,-43 707.59,-43 749.5,-47.69 749.5,-53.45 749.5,-53.45 749.5,-147.55 749.5,-147.55\"/>\n<path fill=\"none\" stroke=\"black\" d=\"M749.5,-147.55C749.5,-141.78 707.59,-137.09 656,-137.09 604.41,-137.09 562.5,-141.78 562.5,-147.55\"/>\n<text text-anchor=\"start\" x=\"622\" y=\"-104.96\" font-family=\"Sans-Serif\" font-weight=\"bold\" font-size=\"12.00\" fill=\"white\">Oracle DB</text>\n<text text-anchor=\"start\" x=\"585\" y=\"-95.36\" font-family=\"Sans-Serif\" font-size=\"9.00\" fill=\"white\">[Database: Oracle Database]</text>\n<text text-anchor=\"start\" x=\"544.5\" y=\"-77.56\" font-family=\"Sans-Serif\" font-size=\"10.00\" fill=\"white\">Stores user registration information,</text>\n<text text-anchor=\"start\" x=\"553.5\" y=\"-67.56\" font-family=\"Sans-Serif\" font-size=\"10.00\" fill=\"white\">hashed authentication credentials,</text>\n<text text-anchor=\"start\" x=\"604.5\" y=\"-57.56\" font-family=\"Sans-Serif\" font-size=\"10.00\" fill=\"white\">access logs, etc.</text>\n</g>\n<!-- 9c4a00ac14ee40d892f90b5f902a13b9&#45;&gt;aa80333b86a649a19419dbf351f69dcc -->\n<g id=\"edge7\" class=\"edge\">\n<title>9c4a00ac14ee40d892f90b5f902a13b9-&gt;aa80333b86a649a19419dbf351f69dcc</title>\n<path fill=\"none\" stroke=\"#999999\" stroke-dasharray=\"5,2\" d=\"M656,-233.79C656,-213.14 656,-189.61 656,-168.17\"/>\n<polygon fill=\"#999999\" stroke=\"#999999\" points=\"659.5,-168.17 656,-158.17 652.5,-168.17 659.5,-168.17\"/>\n<text text-anchor=\"start\" x=\"656\" y=\"-193.5\" font-family=\"Sans-Serif\" font-size=\"10.00\" fill=\"#2d3436\">reads from and writes to</text>\n</g>\n<!-- 9c4a00ac14ee40d892f90b5f902a13b9&#45;&gt;bc8afd789e1d4fabaef87a734a53039e -->\n<g id=\"edge8\" class=\"edge\">\n<title>9c4a00ac14ee40d892f90b5f902a13b9-&gt;bc8afd789e1d4fabaef87a734a53039e</title>\n<path fill=\"none\" stroke=\"#999999\" stroke-dasharray=\"5,2\" d=\"M562.42,-245.95C502.24,-217.3 424,-180.05 362.05,-150.56\"/>\n<polygon fill=\"#999999\" stroke=\"#999999\" points=\"363.17,-147.22 352.64,-146.08 360.16,-153.54 363.17,-147.22\"/>\n<text text-anchor=\"start\" x=\"469\" y=\"-193.5\" font-family=\"Sans-Serif\" font-size=\"10.00\" fill=\"#2d3436\">Sends email using [SMTP]</text>\n</g>\n<!-- e64c610590364c1d93bcfdb86d9f9566 -->\n<g id=\"node9\" class=\"node\">\n<title>e64c610590364c1d93bcfdb86d9f9566</title>\n<polygon fill=\"#999999\" stroke=\"black\" points=\"1105.5,-158 918.5,-158 918.5,-43 1105.5,-43 1105.5,-158\"/>\n<text text-anchor=\"start\" x=\"921.5\" y=\"-121.4\" font-family=\"Sans-Serif\" font-weight=\"bold\" font-size=\"12.00\" fill=\"white\">Mainframe Banking System</text>\n<text text-anchor=\"start\" x=\"967\" y=\"-111.8\" font-family=\"Sans-Serif\" font-size=\"9.00\" fill=\"white\">[External System]</text>\n<text text-anchor=\"start\" x=\"921.5\" y=\"-94\" font-family=\"Sans-Serif\" font-size=\"10.00\" fill=\"white\">Stores all of the core banking</text>\n<text text-anchor=\"start\" x=\"897.5\" y=\"-84\" font-family=\"Sans-Serif\" font-size=\"10.00\" fill=\"white\">information about customers, accounts,</text>\n<text text-anchor=\"start\" x=\"957.5\" y=\"-74\" font-family=\"Sans-Serif\" font-size=\"10.00\" fill=\"white\">transactions, etc.</text>\n</g>\n<!-- 9c4a00ac14ee40d892f90b5f902a13b9&#45;&gt;e64c610590364c1d93bcfdb86d9f9566 -->\n<g id=\"edge9\" class=\"edge\">\n<title>9c4a00ac14ee40d892f90b5f902a13b9-&gt;e64c610590364c1d93bcfdb86d9f9566</title>\n<path fill=\"none\" stroke=\"#999999\" stroke-dasharray=\"5,2\" d=\"M749.59,-243.46C796.05,-219.81 853.15,-190.33 909.26,-160.01\"/>\n<polygon fill=\"#999999\" stroke=\"#999999\" points=\"911.13,-162.97 918.26,-155.13 907.8,-156.82 911.13,-162.97\"/>\n<text text-anchor=\"start\" x=\"857\" y=\"-199\" font-family=\"Sans-Serif\" font-size=\"10.00\" fill=\"#2d3436\">Makes API calls to</text>\n<text text-anchor=\"start\" x=\"878\" y=\"-188\" font-family=\"Sans-Serif\" font-size=\"10.00\" fill=\"#2d3436\">[XML/HTTPS]</text>\n</g>\n<!-- 96d9a6ebe88c4b958bf1ffdf1b84fe8e -->\n<g id=\"node7\" class=\"node\">\n<title>96d9a6ebe88c4b958bf1ffdf1b84fe8e</title>\n<image xlink:href=\"diagrams.png\" width=\"130px\" height=\"130px\" preserveAspectRatio=\"xMinYMin meet\" x=\"527\" y=\"-749.5\"/>\n<text text-anchor=\"middle\" x=\"592\" y=\"-618.6\" font-family=\"Sans-Serif\" font-size=\"8.00\" fill=\"#2d3436\">Custom Application</text>\n</g>\n</g>\n</svg>"
          },
          "metadata": {},
          "execution_count": 142
        }
      ]
    }
  ]
}