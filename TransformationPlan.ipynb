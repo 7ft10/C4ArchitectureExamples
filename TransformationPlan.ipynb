{
  "cells": [
    {
      "cell_type": "markdown",
      "metadata": {
        "colab_type": "text",
        "id": "view-in-github"
      },
      "source": [
        "<a href=\"https://colab.research.google.com/github/7ft10/C4ArchitectureExamples/blob/main/TransformationPlan.ipynb\" target=\"_parent\"><img src=\"https://colab.research.google.com/assets/colab-badge.svg\" alt=\"Open In Colab\"/></a>"
      ]
    },
    {
      "attachments": {},
      "cell_type": "markdown",
      "metadata": {},
      "source": [
        "# Transformation Plan"
      ]
    },
    {
      "cell_type": "code",
      "execution_count": 1,
      "metadata": {},
      "outputs": [
        {
          "name": "stdout",
          "output_type": "stream",
          "text": [
            "Defaulting to user installation because normal site-packages is not writeable\n",
            "Collecting sevenft10-c4-diagrams@ git+https://github.com/7ft10/SeventFt10.Python.C4diagrams/ (from -r requirements.txt (line 7))\n",
            "  Cloning https://github.com/7ft10/SeventFt10.Python.C4diagrams/ to /private/var/folders/6g/zfp1b80d6ysdzc09r4k_1bh00000gn/T/pip-install-tk1k10zl/sevenft10-c4-diagrams_9fb1b11faa474fbb9bee0cee37b8a45b\n"
          ]
        },
        {
          "name": "stderr",
          "output_type": "stream",
          "text": [
            "  Running command git clone --filter=blob:none --quiet https://github.com/7ft10/SeventFt10.Python.C4diagrams/ /private/var/folders/6g/zfp1b80d6ysdzc09r4k_1bh00000gn/T/pip-install-tk1k10zl/sevenft10-c4-diagrams_9fb1b11faa474fbb9bee0cee37b8a45b\n"
          ]
        },
        {
          "name": "stdout",
          "output_type": "stream",
          "text": [
            "  Resolved https://github.com/7ft10/SeventFt10.Python.C4diagrams/ to commit b2d28e89a9c2db53f10c43bea8e10ca3ba10791f\n",
            "  Preparing metadata (setup.py): started\n",
            "  Preparing metadata (setup.py): finished with status 'done'\n",
            "Requirement already satisfied: ipython in /Users/mikeburns/Library/Python/3.9/lib/python/site-packages (from -r requirements.txt (line 1)) (8.14.0)\n",
            "Requirement already satisfied: diagrams==0.23.3 in /Users/mikeburns/Library/Python/3.9/lib/python/site-packages (from -r requirements.txt (line 2)) (0.23.3)\n",
            "Requirement already satisfied: graphviz==0.20.1 in /Users/mikeburns/Library/Python/3.9/lib/python/site-packages (from -r requirements.txt (line 3)) (0.20.1)\n",
            "Requirement already satisfied: Jinja2==3.1.2 in /Users/mikeburns/Library/Python/3.9/lib/python/site-packages (from -r requirements.txt (line 4)) (3.1.2)\n",
            "Requirement already satisfied: MarkupSafe==2.1.3 in /Users/mikeburns/Library/Python/3.9/lib/python/site-packages (from -r requirements.txt (line 5)) (2.1.3)\n",
            "Requirement already satisfied: typed-ast==1.5.5 in /Users/mikeburns/Library/Python/3.9/lib/python/site-packages (from -r requirements.txt (line 6)) (1.5.5)\n",
            "Requirement already satisfied: backcall in /Users/mikeburns/Library/Python/3.9/lib/python/site-packages (from ipython->-r requirements.txt (line 1)) (0.2.0)\n",
            "Requirement already satisfied: decorator in /Users/mikeburns/Library/Python/3.9/lib/python/site-packages (from ipython->-r requirements.txt (line 1)) (5.1.1)\n",
            "Requirement already satisfied: jedi>=0.16 in /Users/mikeburns/Library/Python/3.9/lib/python/site-packages (from ipython->-r requirements.txt (line 1)) (0.18.2)\n",
            "Requirement already satisfied: matplotlib-inline in /Users/mikeburns/Library/Python/3.9/lib/python/site-packages (from ipython->-r requirements.txt (line 1)) (0.1.6)\n",
            "Requirement already satisfied: pickleshare in /Users/mikeburns/Library/Python/3.9/lib/python/site-packages (from ipython->-r requirements.txt (line 1)) (0.7.5)\n",
            "Requirement already satisfied: prompt-toolkit!=3.0.37,<3.1.0,>=3.0.30 in /Users/mikeburns/Library/Python/3.9/lib/python/site-packages (from ipython->-r requirements.txt (line 1)) (3.0.39)\n",
            "Requirement already satisfied: pygments>=2.4.0 in /Users/mikeburns/Library/Python/3.9/lib/python/site-packages (from ipython->-r requirements.txt (line 1)) (2.15.1)\n",
            "Requirement already satisfied: stack-data in /Users/mikeburns/Library/Python/3.9/lib/python/site-packages (from ipython->-r requirements.txt (line 1)) (0.6.2)\n",
            "Requirement already satisfied: traitlets>=5 in /Users/mikeburns/Library/Python/3.9/lib/python/site-packages (from ipython->-r requirements.txt (line 1)) (5.9.0)\n",
            "Requirement already satisfied: typing-extensions in /Users/mikeburns/Library/Python/3.9/lib/python/site-packages (from ipython->-r requirements.txt (line 1)) (4.7.1)\n",
            "Requirement already satisfied: pexpect>4.3 in /Users/mikeburns/Library/Python/3.9/lib/python/site-packages (from ipython->-r requirements.txt (line 1)) (4.8.0)\n",
            "Requirement already satisfied: appnope in /Users/mikeburns/Library/Python/3.9/lib/python/site-packages (from ipython->-r requirements.txt (line 1)) (0.1.3)\n",
            "Requirement already satisfied: parso<0.9.0,>=0.8.0 in /Users/mikeburns/Library/Python/3.9/lib/python/site-packages (from jedi>=0.16->ipython->-r requirements.txt (line 1)) (0.8.3)\n",
            "Requirement already satisfied: ptyprocess>=0.5 in /Users/mikeburns/Library/Python/3.9/lib/python/site-packages (from pexpect>4.3->ipython->-r requirements.txt (line 1)) (0.7.0)\n",
            "Requirement already satisfied: wcwidth in /Users/mikeburns/Library/Python/3.9/lib/python/site-packages (from prompt-toolkit!=3.0.37,<3.1.0,>=3.0.30->ipython->-r requirements.txt (line 1)) (0.2.6)\n",
            "Requirement already satisfied: executing>=1.2.0 in /Users/mikeburns/Library/Python/3.9/lib/python/site-packages (from stack-data->ipython->-r requirements.txt (line 1)) (1.2.0)\n",
            "Requirement already satisfied: asttokens>=2.1.0 in /Users/mikeburns/Library/Python/3.9/lib/python/site-packages (from stack-data->ipython->-r requirements.txt (line 1)) (2.2.1)\n",
            "Requirement already satisfied: pure-eval in /Users/mikeburns/Library/Python/3.9/lib/python/site-packages (from stack-data->ipython->-r requirements.txt (line 1)) (0.2.2)\n",
            "Requirement already satisfied: six in /Applications/Xcode.app/Contents/Developer/Library/Frameworks/Python3.framework/Versions/3.9/lib/python3.9/site-packages (from asttokens>=2.1.0->stack-data->ipython->-r requirements.txt (line 1)) (1.15.0)\n"
          ]
        },
        {
          "name": "stderr",
          "output_type": "stream",
          "text": [
            "\n",
            "[notice] A new release of pip is available: 23.1.2 -> 23.2\n",
            "[notice] To update, run: /Applications/Xcode.app/Contents/Developer/usr/bin/python3 -m pip install --upgrade pip\n"
          ]
        }
      ],
      "source": [
        "# Imports\n",
        "import os\n",
        "import importlib.util\n",
        "\n",
        "result = os.system('pip install -r requirements.txt')\n",
        "#result = os.system('pip install drawio-svg-library')\n",
        "\n",
        "pygraphviz_lib = importlib.util.find_spec(\"pygraphviz\")\n",
        "found = pygraphviz_lib is not None\n",
        "if not found:\n",
        "\tresult = os.system('pip install  --global-option=build_ext --global-option=\"-I/opt/homebrew/include\" --global-option=\"-L/opt/homebrew/lib\" pygraphviz')\n",
        "\n",
        "graphviz2drawio_lib = importlib.util.find_spec(\"graphviz2drawio\")\n",
        "found = graphviz2drawio_lib is not None\n",
        "if not found:\n",
        "\tresult = os.system('pip install git+https://github.com/hbmartin/graphviz2drawio/')"
      ]
    },
    {
      "cell_type": "code",
      "execution_count": 2,
      "metadata": {
        "collapsed": true,
        "id": "iIYChmlOj0fT",
        "slideshow": {
          "slide_type": "slide"
        }
      },
      "outputs": [],
      "source": [
        "import html\n",
        "import textwrap\n",
        "\n",
        "def f(description:str) -> str:\n",
        "    wrapper = textwrap.TextWrapper(width = 11, max_lines = 7)\n",
        "    lines = [html.escape(line) for line in wrapper.wrap(description)]    \n",
        "    #return \"\\n\".join(lines)\n",
        "    return description\n",
        "\n",
        "default_settings = {  \n",
        "  \"outformat\": \"png\",\n",
        "  \"show\": False,\n",
        "  \"graph_attr\":  {   \n",
        "    \"newrank\":\"True\", \n",
        "    \"rankdir\":\"TB\", \n",
        "    \"overlap\":\"orthoyx\", \n",
        "    \"splines\":\"False\", \n",
        "    \"compound\":\"True\", \n",
        "    \"concentrate\":\"true\",\n",
        "  },\n",
        "  \"node_attr\": {\n",
        "    \"fontsize\": \"14px\",\n",
        "    \"width\": \"1\"\n",
        "  }\n",
        "}\n",
        "\n",
        "style_activity = { \"shape\": \"square\", \"style\": \"filled\", \"fillcolor\": \"white\" }\n",
        "style_outcome = { \"shape\": \"circle\", \"style\": \"filled\", \"fillcolor\": \"white\" }\n",
        "style_risk = { \"shape\": \"diamond\", \"style\": \"filled\", \"fillcolor\": \"white\" }\n",
        "style_measured_outcome = { \"shape\": \"doublecircle\", \"style\":\"filled\", \"fillcolor\":\"white\" }\n",
        "\n",
        "style_cluster = { }"
      ]
    },
    {
      "cell_type": "code",
      "execution_count": 3,
      "metadata": {},
      "outputs": [],
      "source": [
        "from diagrams import Diagram, Node, Group, Cluster\n",
        "\n",
        "settings = { **default_settings, **{\n",
        "  \"filename\": \"TransformationPlan\",\n",
        "  \"name\": \"Transformation Plan\",\n",
        "  \"direction\": \"TB\"\n",
        "}}\n",
        "\n",
        "with Diagram(**settings) as diagram:\n",
        "\n",
        "  with Cluster(\"Foundation\", graph_attr=style_cluster):\n",
        "\n",
        "    _R_1 = Node(f(\"Fragmented ePMO Functions\"), **style_risk)\n",
        "\n",
        "    _1_1 = Node(f(\"1.1 Position the PMO as a Strategic Partner Driving value-focused Project Delivery\"), **{ **style_outcome, **{ \"style\": \"wedged\", \"fillcolor\":\"lightgray;0.15:white\" }})\n",
        "    _1_1_1 = Node(f(\"1.1.1 Develop a Strategic Alignment Framework\"), **style_activity)\n",
        "    _1_1_2 = Node(f(\"1.1.2 Define a Value-driven Approach\"), **style_activity)\n",
        "    _1_1_3 = Node(f(\"1.1.3 Enhance Stakeholder Engagement\"), **style_activity)\n",
        "    _1_1_4 = Node(f(\"1.1.4 Streamline Governance and Communication\"), **style_activity)\n",
        "\n",
        "    _2_1_3 = Node(f(\"2.1.3 Foster a Productive and Agile Culture\"), **style_activity)\n",
        "    _2_1_4 = Node(f(\"2.1.4 Strengthen Stakeholder Relationships\"), **style_activity)\n",
        "    _2_1_5 = Node(f(\"2.1.5 Establish Effective Communication Channels\"), **style_activity)\n",
        "    _2_1_7 = Node(f(\"2.1.7 Eliminate Busyness and Focus on Value\"), **style_activity)\n",
        "\n",
        "    _3_1 = Node(f(\"3.1 Establish a people-focused ePMO and a Culture of excellence\"), **style_outcome)\n",
        "    _3_1_4 = Node(f(\"3.1.4 Recruitment and Talent Management\"), **style_activity)\n",
        "    _3_1_6 = Node(f(\"3.1.6 Organisational Change Management (OCM) Collaboration\"), **style_activity)\n",
        "    _3_1_7 = Node(f(\"3.1.7 Focus on Value, Benefits, and Strategy Alignment\"), **style_activity)\n",
        "    _3_1_9 = Node(f(\"3.1.9 Regular Communication Cadence\"), **style_activity)\n",
        "    _3_1_10 = Node(f(\"3.1.10 Cultivate a Culture of Portfolio Excellence\"), **style_activity)\n",
        "\n",
        "    _6_1_3 = Node(f(\"6.1.3 Data Governance\"), **style_outcome)\n",
        "    _6_1_4 = Node(f(\"6.1.4 Integration and Automation\"), **style_outcome)\n",
        "\n",
        "  with Cluster(\"Delivery\", graph_attr=style_cluster):\n",
        "\n",
        "    _4_1 = Node(f(\"4.1 Optimise Processes and Streamline Delivery\"), **style_outcome)\n",
        "    _4_1_1 = Node(f(\"4.1.1 Establish a Process Optimisation Initiative\"), **style_activity)\n",
        "    _4_1_2 = Node(f(\"4.1.2 Develop a Governance Framework\"), **style_activity)\n",
        "    _4_1_3 = Node(f(\"4.1.3 Automation and Workflow Automation\"), **style_activity)\n",
        "    _4_1_4 = Node(f(\"4.1.4 Develop a Value-Driven Portfolio Pipeline\"), **style_activity)\n",
        "    _4_1_5 = Node(f(\"4.1.5 Embed ePMO Processes into Work Practices\"), **style_activity)\n",
        "    _4_1_7 = Node(f(\"4.1.7 Continuously Improve Processes\"), **style_activity)\n",
        "\n",
        "    _5_1 = Node(f(\"5.1 Standardise, Consolidate, and Align Systems and Processes\"), **style_outcome)\n",
        "    _5_1_1 = Node(f(\"5.1.1 Standardise Systems and Repositories\"), **style_activity)\n",
        "    _5_1_3 = Node(f(\"5.1.3 Increase visibility and reporting\"), **style_activity)\n",
        "    _5_1_4 = Node(f(\"5.1.4 Optimise Existing Tools\"), **style_activity)\n",
        "    _5_1_5 = Node(f(\"5.1.5 Systems Architecture and Clarity\"), **style_activity)\n",
        "    _5_1_7 = Node(f(\"5.1.7 Online or Mobile/app Capability\"), **style_activity)\n",
        "    _5_1_8 = Node(f(\"5.1.8 Consolidated ePMO Functions\"), **style_activity)\n",
        "\n",
        "    _6_1 = Node(f(\"6.1 Establish a Centralised “Project” Data Management System\"), **style_outcome)\n",
        "    _6_1_2 = Node(f(\"6.1.2 Reporting Dashboard\"), **style_activity)\n",
        "    _6_1_6 = Node(f(\"6.1.6 Data Analysis and Insights\"), **style_activity)\n",
        "    _6_1_7 = Node(f(\"6.1.7 Change Management and Training\"), **style_activity)\n",
        "\n",
        "    _6_R_3 = Node(f(\"Poor Resource Management\"), **style_risk)\n",
        "\n",
        "  with Group(\"Benefits\", graph_attr=style_cluster):\n",
        "\n",
        "    _B_1 = Node(f(\"Enhanced Collaboration\"), **style_measured_outcome)\n",
        "    _B_2 = Node(f(\"Continuous Improvement\"), **style_measured_outcome)\n",
        "    _B_3 = Node(f(\"Cost Savings, Improved Quality, & Increased Efficiency\"), **style_measured_outcome)\n",
        "    _B_4 = Node(f(\"Improved Governance & Decision Making\"), **style_measured_outcome)\n",
        "    _B_5 = Node(f(\"Better Resource Management\"), **style_measured_outcome)\n",
        "\n",
        "  [_1_1_1, _1_1_2, _1_1_3, _2_1_3, _5_1_5] >> _1_1\n",
        "  [_1_1_4, _2_1_4, _3_1_4, _3_1_6, _6_1, _6_1_3, _2_1_5, _R_1] >> _3_1\n",
        "  [_3_1_7, _6_1_4, _2_1_5, _2_1_7] >> _1_1_4\n",
        "  [_1_1_4, _5_1_7, _6_1_3, _6_1_2, _4_1_4] >> _4_1_2\n",
        "  [_3_1] >> _5_1_4\n",
        "  [_3_1, _4_1] >> _5_1 \n",
        "  [_5_1_5, _5_1_4] >> _5_1_3\n",
        "  [_4_1_2] >> _4_1_3\n",
        "  [_5_1_1] >> _3_1_10\n",
        "  [_4_1_1, _4_1_4, _4_1_5] >> _4_1_7\n",
        "  [_4_1_5] >> _4_1_3\n",
        "  [_4_1_3] >> _6_R_3\n",
        "  [_5_1_8, _6_1_4] >> _6_1_6\n",
        "\n",
        "  [_5_1_3, _3_1_9, _3_1_10] >> _B_1\n",
        "  [_4_1_7] >> _B_5\n",
        "  [_6_1_7] >> _B_4\n",
        "  [_B_5] >> _B_3\n",
        "  [_B_3] >> _B_2\n",
        "  \n"
      ]
    },
    {
      "cell_type": "code",
      "execution_count": 4,
      "metadata": {},
      "outputs": [
        {
          "name": "stderr",
          "output_type": "stream",
          "text": [
            "/Users/mikeburns/Library/Python/3.9/lib/python/site-packages/pygraphviz/agraph.py:1407: RuntimeWarning: Warning: node 'e9f18c91a75b4183883c9f7f07ec6e9b', graph 'Transformation Plan' size too small for label\n",
            "Warning: node '820742efdb1d44f8a6ce6877f3cf6311', graph 'Transformation Plan' size too small for label\n",
            "Warning: node '2babd3cd6b6d48a6898652110a5dd573', graph 'Transformation Plan' size too small for label\n",
            "Warning: node '9111583c373843c583257ca3bb6ba5cd', graph 'Transformation Plan' size too small for label\n",
            "Warning: node 'da680442a8b14e54b25db9e99301d9d4', graph 'Transformation Plan' size too small for label\n",
            "Warning: node '1fd2f560d34e497f9fb81c03cf1ec04c', graph 'Transformation Plan' size too small for label\n",
            "Warning: node '72946742cbe246de8e8ddb08f5816449', graph 'Transformation Plan' size too small for label\n",
            "Warning: node 'c9b4f684286b4fe096b9cc45ac7bcbe8', graph 'Transformation Plan' size too small for label\n",
            "Warning: node 'd66fa0316bda4723bdbc2c07aa6de4f5', graph 'Transformation Plan' size too small for label\n",
            "Warning: node '1a8368cdc4984fc9b97b292fd3875b58', graph 'Transformation Plan' size too small for label\n",
            "Warning: node 'eca1dfbb1b9d4c579f02a054bae345a6', graph 'Transformation Plan' size too small for label\n",
            "Warning: node 'ee96ced227ac462dae41a4d1245adb1a', graph 'Transformation Plan' size too small for label\n",
            "Warning: node '10bcbaa8199d460694deff07868a1b74', graph 'Transformation Plan' size too small for label\n",
            "Warning: node '4ae6664859534c98baf730e81a519700', graph 'Transformation Plan' size too small for label\n",
            "Warning: node '07f8c58b160442458e9f563732e53529', graph 'Transformation Plan' size too small for label\n",
            "Warning: node 'efcc2d7fe4214a49a8d2e1ac398faa93', graph 'Transformation Plan' size too small for label\n",
            "Warning: node '5be6f833e1304a61b927f2fe04f469d7', graph 'Transformation Plan' size too small for label\n",
            "Warning: node 'f21489b339654244af38e1cc2d367a41', graph 'Transformation Plan' size too small for label\n",
            "Warning: node 'cbbe39dad59b4b3c99f98ff5d5bcf15e', graph 'Transformation Plan' size too small for label\n",
            "Warning: node '89b611ac3ff645828fbf6574c9f5aaa3', graph 'Transformation Plan' size too small for label\n",
            "Warning: node '8b2c86211c2d4d9a80d101bd6378607e', graph 'Transformation Plan' size too small for label\n",
            "Warning: node '5dd2c7f3b44244e085d8b4726574d427', graph 'Transformation Plan' size too small for label\n",
            "Warning: node '19e4466961e04d049f79240644a6dfbc', graph 'Transformation Plan' size too small for label\n",
            "Warning: node '6bd228d269d840be8aa505709dfe6d13', graph 'Transformation Plan' size too small for label\n",
            "Warning: node 'ce7e3ab846d84a38bb820a5281dc424f', graph 'Transformation Plan' size too small for label\n",
            "Warning: node '779ea08c887e4f6c9a756589379b7faa', graph 'Transformation Plan' size too small for label\n",
            "Warning: node '0eac6f92921740da84374fdcbe744593', graph 'Transformation Plan' size too small for label\n",
            "Warning: node 'f065c35e6f004c76943584f3679d36a1', graph 'Transformation Plan' size too small for label\n",
            "Warning: node 'a8a016708c604d46af24f315cb2eb6ce', graph 'Transformation Plan' size too small for label\n",
            "Warning: node '66c786eccdb84e88afd5cc00fdc9b8e5', graph 'Transformation Plan' size too small for label\n",
            "Warning: node '735052b1ca0c4bbba5fa07099afad7f6', graph 'Transformation Plan' size too small for label\n",
            "Warning: node '798023081e1c44c68ca407cc412ecd5f', graph 'Transformation Plan' size too small for label\n",
            "Warning: node '7803dbe837c746eb8bd739401c077f9b', graph 'Transformation Plan' size too small for label\n",
            "Warning: node '4d3062f8ee294951a91ceb6a969c7815', graph 'Transformation Plan' size too small for label\n",
            "Warning: node 'e69903b883084806ad80d18c93d0d834', graph 'Transformation Plan' size too small for label\n",
            "Warning: node '958653594bc54215b0152b131889d7c9', graph 'Transformation Plan' size too small for label\n",
            "Warning: node 'adb4ec4ac8694c0a8179ffb27bf3db60', graph 'Transformation Plan' size too small for label\n",
            "Warning: node '2fa229da66e04ed5abece83e3f70ea9f', graph 'Transformation Plan' size too small for label\n",
            "Warning: node '51e4e3ac0ab24f1599cc785d3430df02', graph 'Transformation Plan' size too small for label\n",
            "Warning: node '14933f17e8eb4040a9295a359779a8e6', graph 'Transformation Plan' size too small for label\n",
            "Warning: node '4c2039bba2be409fb57a0716aef5db33', graph 'Transformation Plan' size too small for label\n",
            "Warning: node 'e4778e2506324f0bbc86e3b61728f34d', graph 'Transformation Plan' size too small for label\n",
            "\n",
            "  warnings.warn(b\"\".join(errors).decode(self.encoding), RuntimeWarning)\n"
          ]
        }
      ],
      "source": [
        "from graphviz2drawio import graphviz2drawio\n",
        "import xml.etree.ElementTree as ET\n",
        "\n",
        "output = os.getcwd() + \"/\" + settings['filename'] + \".drawio\"\n",
        "\n",
        "dt = diagram.dot.source\n",
        "#Dt = \"digraph G { \" + ' '.join(diagram.dot.body) + \" \\n }\"  ## diagram.dot.source doesn't work for some reason\n",
        "\n",
        "xml = graphviz2drawio.convert(dt)\n",
        "model = ET.fromstring(xml)\n",
        "\n",
        "diagram = ET.Element(\"diagram\")\n",
        "diagram.insert(0, model)\n",
        "\n",
        "mxfile = ET.Element(\"mxfile\")\n",
        "mxfile.insert(0, diagram)\n",
        "\n",
        "tree = ET.ElementTree(mxfile)\n",
        "\n",
        "if os.path.isfile(output):\n",
        "  os.remove(output)\n",
        "tree.write(output)"
      ]
    },
    {
      "cell_type": "markdown",
      "metadata": {},
      "source": [
        "<img src=\"./TransformationPlan.png\" />"
      ]
    }
  ],
  "metadata": {
    "colab": {
      "include_colab_link": true,
      "provenance": []
    },
    "kernelspec": {
      "display_name": "Python 3",
      "language": "python",
      "name": "python3"
    },
    "language_info": {
      "codemirror_mode": {
        "name": "ipython",
        "version": 3
      },
      "file_extension": ".py",
      "mimetype": "text/x-python",
      "name": "python",
      "nbconvert_exporter": "python",
      "pygments_lexer": "ipython3",
      "version": "3.9.6"
    },
    "polyglot_notebook": {
      "kernelInfo": {
        "defaultKernelName": "csharp",
        "items": [
          {
            "aliases": [],
            "name": "csharp"
          }
        ]
      }
    }
  },
  "nbformat": 4,
  "nbformat_minor": 0
}
