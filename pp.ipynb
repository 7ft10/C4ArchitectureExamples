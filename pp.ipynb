{
 "cells": [
  {
   "cell_type": "code",
   "execution_count": 98,
   "metadata": {},
   "outputs": [],
   "source": [
    "from diagrams.c4 import Person, Container, Database, System\n",
    "from diagrams.custom import Custom\n",
    "from urllib.request import urlretrieve\n",
    "from IPython.display import display, Markdown\n",
    "\n",
    "class SevenftNode():\n",
    "  def __init__(self, nodeType):\n",
    "    self.nodeType = nodeType\n",
    "    self.instance = None\n",
    "\n",
    "  @staticmethod\n",
    "  def metadata(args = {}):\n",
    "    def _metadata(func):\n",
    "        func.metadata = args or {}\n",
    "        func.metadata.setdefault('name', \"Name missing\")\n",
    "        func.metadata.setdefault('description', \"\")\n",
    "        return func\n",
    "    return _metadata\n",
    "  \n",
    "  @staticmethod\n",
    "  def GetIcon(name, url):\n",
    "    try:\n",
    "        urlretrieve(url, name)\n",
    "    except:\n",
    "        try:\n",
    "          urlretrieve(\"https://cdn-icons-png.flaticon.com/512/10448/10448063.png\", name)\n",
    "        except:\n",
    "          pass\n",
    "    return name\n",
    "  \n",
    "  @staticmethod\n",
    "  def FormatLabel(name, key, description):\n",
    "    title = f'<font point-size=\"12\"><b>{name}</b></font><br/>'\n",
    "    subtitle = f'<font point-size=\"9\">[{key}]<br/></font>' if key else \"\"\n",
    "    text = f'<br/><font point-size=\"10\">{description}</font>' if description else \"\"\n",
    "    return f\"<{title}{subtitle}{text}>\"\n",
    "\n",
    "  def Print(self):\n",
    "    if (self.metadata != None) and (isinstance(self.metadata, type({}))):\n",
    "      display(Markdown('---'))\n",
    "      display(Markdown('## ' + self.__class__.__name__))\n",
    "\n",
    "      if len(self.metadata.items()) > 0:\n",
    "        table = \"\"\"| Key         | Value       | \n",
    "                   | ----------- | ----------- |\"\"\"\n",
    "        for k, v in self.metadata.items():\n",
    "          table = table + \"\\n| \" + k + \" | \" + (v if isinstance(v, str) else str(v)) + \" |\"\n",
    "        display(Markdown(table))\n",
    "\n",
    "  def Get(self):\n",
    "    md = self.metadata.copy()\n",
    "    if (self.instance == None): \n",
    "      match self.nodeType:\n",
    "        case \"Container\":\n",
    "          md.setdefault('technology', \"Technology missing\")\n",
    "          self.instance = Container( md.pop('name'), md.pop('technology'), md.pop('description'), **md )\n",
    "        case \"Person\":\n",
    "          md.setdefault('external', False)\n",
    "          self.instance = Person( md.pop('name'), md.pop('description'), md.pop('external'), **md )\n",
    "        case \"Custom\":\n",
    "          md.setdefault('icon_path', \"Icon path missing\")\n",
    "          self.instance = Custom( md.pop('name'), md.pop('icon_path'), **md)\n",
    "        case \"Database\":\n",
    "          md.setdefault('technology', \"Technology missing\")\n",
    "          self.instance = Database( md.pop('name'), md.pop('technology'), md.pop('description'), **md )\n",
    "        #case \"System\":\n",
    "        case _:\n",
    "          md.setdefault('external', False)\n",
    "          self.instance = System( md.pop('name'), md.pop('description'), md.pop('external'), **md )\n",
    "    return self.instance"
   ]
  },
  {
   "cell_type": "code",
   "execution_count": 99,
   "metadata": {},
   "outputs": [],
   "source": [
    "#@title Repository\n",
    "\n",
    "#@markdown + Disc (Disc)\n",
    "@SevenftNode.metadata({\n",
    "    \"name\": \"Disc\", \n",
    "    \"technology\": \"IBMi\", \n",
    "    \"description\": \"http://ddafsd/dsf\",\n",
    "    \"icon_path\": SevenftNode.GetIcon(\"NewRelic.png\", \"https://icons/NewRelic.png\"),\n",
    "    \"one\": \"two\"\n",
    "})\n",
    "class Disc(SevenftNode): \n",
    "  def __init__(self):\n",
    "    SevenftNode.__init__(self, \"Custom\")"
   ]
  },
  {
   "cell_type": "code",
   "execution_count": 101,
   "metadata": {},
   "outputs": [
    {
     "data": {
      "text/markdown": [
       "---"
      ],
      "text/plain": [
       "<IPython.core.display.Markdown object>"
      ]
     },
     "metadata": {},
     "output_type": "display_data"
    },
    {
     "data": {
      "text/markdown": [
       "## Disc"
      ],
      "text/plain": [
       "<IPython.core.display.Markdown object>"
      ]
     },
     "metadata": {},
     "output_type": "display_data"
    },
    {
     "data": {
      "text/markdown": [
       "| Key         | Value       | \n",
       "                   | ----------- | ----------- |\n",
       "| name | Disc |\n",
       "| technology | IBMi |\n",
       "| description | http://ddafsd/dsf |\n",
       "| icon_path | NewRelic.png |\n",
       "| one | two |"
      ],
      "text/plain": [
       "<IPython.core.display.Markdown object>"
      ]
     },
     "metadata": {},
     "output_type": "display_data"
    }
   ],
   "source": [
    "#@title Reflected Repository\n",
    "import sys, inspect\n",
    "   \n",
    "for cls in inspect.getmembers(sys.modules[__name__], inspect.isclass):\n",
    "  try:\n",
    "    eval(cls[0] + '()').Print()\n",
    "  except:\n",
    "    pass\n"
   ]
  },
  {
   "cell_type": "code",
   "execution_count": 100,
   "metadata": {},
   "outputs": [
    {
     "data": {
      "image/png": "[encoded data removed]",
      "text/plain": [
       "<diagrams.Diagram at 0x15df2ef5e50>"
      ]
     },
     "execution_count": 100,
     "metadata": {},
     "output_type": "execute_result"
    }
   ],
   "source": [
    "from diagrams import Diagram\n",
    "from diagrams.c4 import SystemBoundary, Relationship\n",
    "\n",
    "with Diagram(**{\n",
    "  \"name\": \"Internet Banking System Context Diagram\",\n",
    "  \"outformat\": \"png\",\n",
    "  \"direction\": \"TB\",\n",
    "  \"graph_attr\": {\n",
    "    \"splines\": \"spline\",\n",
    "    \"fontsize\": \"10\",\n",
    "    \"bgcolor\": \"transparent\"\n",
    "  },\n",
    "  \"node_attr\": {\n",
    "    \"fontsize\": \"8px\",\n",
    "    \"width\": \"1.8\"\n",
    "  }\n",
    "}) as demo:\n",
    "\n",
    "  customer = Disc().Get()\n",
    "\n",
    "demo"
   ]
  }
 ],
 "metadata": {
  "kernelspec": {
   "display_name": "Python 3",
   "language": "python",
   "name": "python3"
  },
  "language_info": {
   "codemirror_mode": {
    "name": "ipython",
    "version": 3
   },
   "file_extension": ".py",
   "mimetype": "text/x-python",
   "name": "python",
   "nbconvert_exporter": "python",
   "pygments_lexer": "ipython3",
   "version": "3.11.3"
  },
  "orig_nbformat": 4
 },
 "nbformat": 4,
 "nbformat_minor": 2
}
