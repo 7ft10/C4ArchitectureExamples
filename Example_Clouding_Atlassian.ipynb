{
  "cells": [
    {
      "attachments": {},
      "cell_type": "markdown",
      "metadata": {
        "colab_type": "text",
        "id": "view-in-github"
      },
      "source": [
        "<a href=\"https://colab.research.google.com/github/7ft10/C4ArchitectureExamples/blob/main/Example_Clouding_Atlassian.ipynb\" target=\"_parent\"><img src=\"https://colab.research.google.com/assets/colab-badge.svg\" alt=\"Open In Colab\"/></a>"
      ]
    },
    {
      "attachments": {},
      "cell_type": "markdown",
      "metadata": {
        "id": "Cadg54w_hC9f"
      },
      "source": [
        "# Clouding Atlassian Architecture Example\n",
        "\n",
        "How to guide can be found in the read me. "
      ]
    },
    {
      "cell_type": "code",
      "execution_count": 6,
      "metadata": {
        "cellView": "form",
        "id": "jDbqa2qJYTcd"
      },
      "outputs": [],
      "source": [
        "#@title Install Diagrams\n",
        "import os\n",
        "result = os.system('pip install diagrams')\n",
        "result = os.system('pip install httpimport')\n",
        "result = os.system('pip install git+https://github.com/7ft10/SeventFt10.Python.C4diagrams/')"
      ]
    },
    {
      "cell_type": "code",
      "execution_count": 2,
      "metadata": {},
      "outputs": [],
      "source": [
        "#@markdown ## Get Repository\n",
        "from urllib import request\n",
        "\n",
        "baseUrl = \"https://raw.githubusercontent.com/7ft10/C4ArchitectureExamples/main/\"\n",
        "[name, response] = request.urlretrieve(baseUrl + 'CloudingRepository/CloudingAtlassianRepository.py', '_CloudingAtlassianRepository.py')"
      ]
    },
    {
      "cell_type": "code",
      "execution_count": 3,
      "metadata": {
        "cellView": "form",
        "id": "wfk4VSnYYcAx"
      },
      "outputs": [],
      "source": [
        "#@markdown ## Settings\n",
        "\n",
        "default_settings = {\n",
        "  \"show\": False,\n",
        "  \"outformat\": \"png\",\n",
        "  \"graph_attr\":  {\n",
        "    \"splines\": \"spline\",\n",
        "    \"fontsize\": \"10\",\n",
        "    \"bgcolor\": \"lightgrey\"\n",
        "  },\n",
        "  \"node_attr\": {\n",
        "    \"fontsize\": \"8px\",\n",
        "    \"width\": \"1.8\"\n",
        "  }\n",
        "} "
      ]
    },
    {
      "cell_type": "code",
      "execution_count": 4,
      "metadata": {},
      "outputs": [
        {
          "data": {
            "text/markdown": [
              "---"
            ],
            "text/plain": [
              "<IPython.core.display.Markdown object>"
            ]
          },
          "metadata": {},
          "output_type": "display_data"
        },
        {
          "data": {
            "text/markdown": [
              "## ExternalUser"
            ],
            "text/plain": [
              "<IPython.core.display.Markdown object>"
            ]
          },
          "metadata": {},
          "output_type": "display_data"
        },
        {
          "data": {
            "text/markdown": [
              "| Key         | Value       |\n",
              "\t\t\t\t\t| ----------- | ----------- |\n",
              "| id | ExternalUser |\n",
              "| nodeType | Persona |\n",
              "| name | External Users |\n",
              "| description | Several lines of text, with some \"quotes\" of various 'types',\n",
              "and also a blank line: and some text with\n",
              "extra indentation on the next line, plus another line at the end. |"
            ],
            "text/plain": [
              "<IPython.core.display.Markdown object>"
            ]
          },
          "metadata": {},
          "output_type": "display_data"
        },
        {
          "data": {
            "text/markdown": [
              "---"
            ],
            "text/plain": [
              "<IPython.core.display.Markdown object>"
            ]
          },
          "metadata": {},
          "output_type": "display_data"
        },
        {
          "data": {
            "text/markdown": [
              "## InternalUser"
            ],
            "text/plain": [
              "<IPython.core.display.Markdown object>"
            ]
          },
          "metadata": {},
          "output_type": "display_data"
        },
        {
          "data": {
            "text/markdown": [
              "| Key         | Value       |\n",
              "\t\t\t\t\t| ----------- | ----------- |\n",
              "| id | InternalUser |\n",
              "| nodeType | Persona |\n",
              "| name | Internal Users |\n",
              "| description | Several lines of text |"
            ],
            "text/plain": [
              "<IPython.core.display.Markdown object>"
            ]
          },
          "metadata": {},
          "output_type": "display_data"
        },
        {
          "data": {
            "text/markdown": [
              "---"
            ],
            "text/plain": [
              "<IPython.core.display.Markdown object>"
            ]
          },
          "metadata": {},
          "output_type": "display_data"
        },
        {
          "data": {
            "text/markdown": [
              "## RemoteUser"
            ],
            "text/plain": [
              "<IPython.core.display.Markdown object>"
            ]
          },
          "metadata": {},
          "output_type": "display_data"
        },
        {
          "data": {
            "text/markdown": [
              "| Key         | Value       |\n",
              "\t\t\t\t\t| ----------- | ----------- |\n",
              "| id | RemoteUser |\n",
              "| nodeType | Persona |\n",
              "| name | Remote Users |\n",
              "| description | Several lines of text |"
            ],
            "text/plain": [
              "<IPython.core.display.Markdown object>"
            ]
          },
          "metadata": {},
          "output_type": "display_data"
        },
        {
          "data": {
            "text/markdown": [
              "---"
            ],
            "text/plain": [
              "<IPython.core.display.Markdown object>"
            ]
          },
          "metadata": {},
          "output_type": "display_data"
        },
        {
          "data": {
            "text/markdown": [
              "## ActiveDirectory"
            ],
            "text/plain": [
              "<IPython.core.display.Markdown object>"
            ]
          },
          "metadata": {},
          "output_type": "display_data"
        },
        {
          "data": {
            "text/markdown": [
              "| Key         | Value       |\n",
              "\t\t\t\t\t| ----------- | ----------- |\n",
              "| id | ActiveDirectory |\n",
              "| nodeType | Custom |\n",
              "| name | Active Directory |\n",
              "| description | Active Directory |\n",
              "| technology | Microsoft Active Directory |\n",
              "| icon | https://www.outsystems.com/Forge_CW/_image.aspx/Q8LvY--6WakOw9afDCuuGXsjTvpZCo5fbFxdpi8oIBI=/active-directory-core-simplified-2023-01-04%2000-00-00-2023-05-05%2011-44-13 |"
            ],
            "text/plain": [
              "<IPython.core.display.Markdown object>"
            ]
          },
          "metadata": {},
          "output_type": "display_data"
        },
        {
          "data": {
            "text/markdown": [
              "---"
            ],
            "text/plain": [
              "<IPython.core.display.Markdown object>"
            ]
          },
          "metadata": {},
          "output_type": "display_data"
        },
        {
          "data": {
            "text/markdown": [
              "## Bamboo"
            ],
            "text/plain": [
              "<IPython.core.display.Markdown object>"
            ]
          },
          "metadata": {},
          "output_type": "display_data"
        },
        {
          "data": {
            "text/markdown": [
              "| Key         | Value       |\n",
              "\t\t\t\t\t| ----------- | ----------- |\n",
              "| id | Bamboo |\n",
              "| nodeType | Container |\n",
              "| name | Bamboo (Server) |\n",
              "| description | Bamboo |\n",
              "| technology | Linux |\n",
              "| icon | https://w7.pngwing.com/pngs/126/46/png-transparent-bamboo-atlassian-continuous-integration-jira-confluence-vision-blue-text-trademark.png |\n",
              "| label | Bamboo (Server)\n",
              "Container Linux\n",
              "bamboo.internal.server.com.au\n",
              "192.168.61.150 |\n",
              "| CPU | None |\n",
              "| RAM | None |\n",
              "| Storage | 124.5GB |\n",
              "| Type | V |\n",
              "| OS | Linux |\n",
              "| Network Zone | None |\n",
              "| Application Version | 8.13.2 |"
            ],
            "text/plain": [
              "<IPython.core.display.Markdown object>"
            ]
          },
          "metadata": {},
          "output_type": "display_data"
        },
        {
          "data": {
            "text/markdown": [
              "---"
            ],
            "text/plain": [
              "<IPython.core.display.Markdown object>"
            ]
          },
          "metadata": {},
          "output_type": "display_data"
        },
        {
          "data": {
            "text/markdown": [
              "## BitBucket"
            ],
            "text/plain": [
              "<IPython.core.display.Markdown object>"
            ]
          },
          "metadata": {},
          "output_type": "display_data"
        },
        {
          "data": {
            "text/markdown": [
              "| Key         | Value       |\n",
              "\t\t\t\t\t| ----------- | ----------- |\n",
              "| id | BitBucket |\n",
              "| nodeType | Container |\n",
              "| name | BitBucket (Server) |\n",
              "| description | BitBucket |\n",
              "| technology | Linux |\n",
              "| icon | https://w7.pngwing.com/pngs/126/46/png-transparent-bitbucket-atlassian-continuous-integration-jira-confluence-vision-blue-text-trademark.png |\n",
              "| label | BitBucket (Server)\n",
              "Container Linux\n",
              "bitbucket.internal.server.com.au\n",
              "192.168.61.350 |\n",
              "| CPU | None |\n",
              "| RAM | None |\n",
              "| Storage | 124.5GB |\n",
              "| Type | V |\n",
              "| OS | Linux |\n",
              "| Network Zone | None |\n",
              "| Application Version | 8.13.2 |"
            ],
            "text/plain": [
              "<IPython.core.display.Markdown object>"
            ]
          },
          "metadata": {},
          "output_type": "display_data"
        },
        {
          "data": {
            "text/markdown": [
              "---"
            ],
            "text/plain": [
              "<IPython.core.display.Markdown object>"
            ]
          },
          "metadata": {},
          "output_type": "display_data"
        },
        {
          "data": {
            "text/markdown": [
              "## Citrix"
            ],
            "text/plain": [
              "<IPython.core.display.Markdown object>"
            ]
          },
          "metadata": {},
          "output_type": "display_data"
        },
        {
          "data": {
            "text/markdown": [
              "| Key         | Value       |\n",
              "\t\t\t\t\t| ----------- | ----------- |\n",
              "| id | Citrix |\n",
              "| nodeType | Custom |\n",
              "| name | Citrix |\n",
              "| description | Citrix |\n",
              "| icon | https://Citrix.icon |"
            ],
            "text/plain": [
              "<IPython.core.display.Markdown object>"
            ]
          },
          "metadata": {},
          "output_type": "display_data"
        },
        {
          "data": {
            "text/markdown": [
              "---"
            ],
            "text/plain": [
              "<IPython.core.display.Markdown object>"
            ]
          },
          "metadata": {},
          "output_type": "display_data"
        },
        {
          "data": {
            "text/markdown": [
              "## Confluence"
            ],
            "text/plain": [
              "<IPython.core.display.Markdown object>"
            ]
          },
          "metadata": {},
          "output_type": "display_data"
        },
        {
          "data": {
            "text/markdown": [
              "| Key         | Value       |\n",
              "\t\t\t\t\t| ----------- | ----------- |\n",
              "| id | Confluence |\n",
              "| nodeType | Container |\n",
              "| name | Confluence (Server) |\n",
              "| description | Confluence |\n",
              "| technology | Linux |\n",
              "| icon | https://w7.pngwing.com/pngs/282/343/png-transparent-confluence-atlassian-logo-jira-sharepoint-confluence-health-mares-building-text-logo-area.png |\n",
              "| label | Bamboo (Server)\n",
              "Container Linux\n",
              "confluence.internal.server.com.au\n",
              "192.168.110.100 |\n",
              "| CPU | None |\n",
              "| RAM | None |\n",
              "| Storage | 124.5GB |\n",
              "| Type | V |\n",
              "| OS | Linux |\n",
              "| Network Zone | None |\n",
              "| Application Version | 8.13.2 |"
            ],
            "text/plain": [
              "<IPython.core.display.Markdown object>"
            ]
          },
          "metadata": {},
          "output_type": "display_data"
        },
        {
          "data": {
            "text/markdown": [
              "---"
            ],
            "text/plain": [
              "<IPython.core.display.Markdown object>"
            ]
          },
          "metadata": {},
          "output_type": "display_data"
        },
        {
          "data": {
            "text/markdown": [
              "## ConfluenceNonProd"
            ],
            "text/plain": [
              "<IPython.core.display.Markdown object>"
            ]
          },
          "metadata": {},
          "output_type": "display_data"
        },
        {
          "data": {
            "text/markdown": [
              "| Key         | Value       |\n",
              "\t\t\t\t\t| ----------- | ----------- |\n",
              "| id | ConfluenceNonProd |\n",
              "| nodeType | Container |\n",
              "| name | Confluence (Server) (Non-Production) |\n",
              "| description | Confluence Non-Production |\n",
              "| technology | Linux |\n",
              "| icon | https://w7.pngwing.com/pngs/282/343/png-transparent-confluence-atlassian-logo-jira-sharepoint-confluence-health-mares-building-text-logo-area.png |\n",
              "| label | Bamboo (Server)\n",
              "Container Linux\n",
              "confluence-dev.internal.server.com.au\n",
              "192.168.110.200 |\n",
              "| CPU | None |\n",
              "| RAM | None |\n",
              "| Storage | 124.5GB |\n",
              "| Type | V |\n",
              "| OS | Linux |\n",
              "| Network Zone | None |\n",
              "| Application Version | 8.13.2 |"
            ],
            "text/plain": [
              "<IPython.core.display.Markdown object>"
            ]
          },
          "metadata": {},
          "output_type": "display_data"
        },
        {
          "data": {
            "text/markdown": [
              "---"
            ],
            "text/plain": [
              "<IPython.core.display.Markdown object>"
            ]
          },
          "metadata": {},
          "output_type": "display_data"
        },
        {
          "data": {
            "text/markdown": [
              "## Disc"
            ],
            "text/plain": [
              "<IPython.core.display.Markdown object>"
            ]
          },
          "metadata": {},
          "output_type": "display_data"
        },
        {
          "data": {
            "text/markdown": [
              "| Key         | Value       |\n",
              "\t\t\t\t\t| ----------- | ----------- |\n",
              "| id | Disc |\n",
              "| nodeType | Custom |\n",
              "| name | Disc |\n",
              "| description | Several lines of text |\n",
              "| technology | IBMi |\n",
              "| icon | https://w7.pngwing.com/pngs/1/875/png-transparent-as400-ibm.png |"
            ],
            "text/plain": [
              "<IPython.core.display.Markdown object>"
            ]
          },
          "metadata": {},
          "output_type": "display_data"
        },
        {
          "data": {
            "text/markdown": [
              "---"
            ],
            "text/plain": [
              "<IPython.core.display.Markdown object>"
            ]
          },
          "metadata": {},
          "output_type": "display_data"
        },
        {
          "data": {
            "text/markdown": [
              "## GitLab"
            ],
            "text/plain": [
              "<IPython.core.display.Markdown object>"
            ]
          },
          "metadata": {},
          "output_type": "display_data"
        },
        {
          "data": {
            "text/markdown": [
              "| Key         | Value       |\n",
              "\t\t\t\t\t| ----------- | ----------- |\n",
              "| id | GitLab |\n",
              "| nodeType | Custom |\n",
              "| name | GitLab |\n",
              "| description | GitLab |\n",
              "| icon | https://raw.githubusercontent.com/7ft10/C4ArchitectureExamples/main/Repository/Internal%20Systems/GitLab.png |"
            ],
            "text/plain": [
              "<IPython.core.display.Markdown object>"
            ]
          },
          "metadata": {},
          "output_type": "display_data"
        },
        {
          "data": {
            "text/markdown": [
              "---"
            ],
            "text/plain": [
              "<IPython.core.display.Markdown object>"
            ]
          },
          "metadata": {},
          "output_type": "display_data"
        },
        {
          "data": {
            "text/markdown": [
              "## GlobalProtect"
            ],
            "text/plain": [
              "<IPython.core.display.Markdown object>"
            ]
          },
          "metadata": {},
          "output_type": "display_data"
        },
        {
          "data": {
            "text/markdown": [
              "| Key         | Value       |\n",
              "\t\t\t\t\t| ----------- | ----------- |\n",
              "| id | GlobalProtect |\n",
              "| nodeType | Custom |\n",
              "| name | GlobalProtect |\n",
              "| description | GlobalProtect |\n",
              "| icon | https://GlobalProtect.icon |"
            ],
            "text/plain": [
              "<IPython.core.display.Markdown object>"
            ]
          },
          "metadata": {},
          "output_type": "display_data"
        },
        {
          "data": {
            "text/markdown": [
              "---"
            ],
            "text/plain": [
              "<IPython.core.display.Markdown object>"
            ]
          },
          "metadata": {},
          "output_type": "display_data"
        },
        {
          "data": {
            "text/markdown": [
              "## Intranet"
            ],
            "text/plain": [
              "<IPython.core.display.Markdown object>"
            ]
          },
          "metadata": {},
          "output_type": "display_data"
        },
        {
          "data": {
            "text/markdown": [
              "| Key         | Value       |\n",
              "\t\t\t\t\t| ----------- | ----------- |\n",
              "| id | Intranet |\n",
              "| nodeType | System |\n",
              "| name | Intranet |\n",
              "| description | The Hub |\n",
              "| notes | Part of the on-prem confluence implementation,\n",
              "to be migrated not a new system. |"
            ],
            "text/plain": [
              "<IPython.core.display.Markdown object>"
            ]
          },
          "metadata": {},
          "output_type": "display_data"
        },
        {
          "data": {
            "text/markdown": [
              "---"
            ],
            "text/plain": [
              "<IPython.core.display.Markdown object>"
            ]
          },
          "metadata": {},
          "output_type": "display_data"
        },
        {
          "data": {
            "text/markdown": [
              "## Jenkins"
            ],
            "text/plain": [
              "<IPython.core.display.Markdown object>"
            ]
          },
          "metadata": {},
          "output_type": "display_data"
        },
        {
          "data": {
            "text/markdown": [
              "| Key         | Value       |\n",
              "\t\t\t\t\t| ----------- | ----------- |\n",
              "| id | Jenkins |\n",
              "| nodeType | Custom |\n",
              "| name | Jenkins |\n",
              "| description | Jenkins |\n",
              "| technology | Jenkins |\n",
              "| icon | https://Jenkins.icon |"
            ],
            "text/plain": [
              "<IPython.core.display.Markdown object>"
            ]
          },
          "metadata": {},
          "output_type": "display_data"
        },
        {
          "data": {
            "text/markdown": [
              "---"
            ],
            "text/plain": [
              "<IPython.core.display.Markdown object>"
            ]
          },
          "metadata": {},
          "output_type": "display_data"
        },
        {
          "data": {
            "text/markdown": [
              "## Jira"
            ],
            "text/plain": [
              "<IPython.core.display.Markdown object>"
            ]
          },
          "metadata": {},
          "output_type": "display_data"
        },
        {
          "data": {
            "text/markdown": [
              "| Key         | Value       |\n",
              "\t\t\t\t\t| ----------- | ----------- |\n",
              "| id | Jira |\n",
              "| nodeType | Container |\n",
              "| name | Jira (Server) |\n",
              "| description | Jira |\n",
              "| technology | Linux |\n",
              "| icon | None |\n",
              "| label | Bamboo (Server)\n",
              "Container Linux\n",
              "jira.internal.server.com.au\n",
              "192.168.110.100 |\n",
              "| CPU | None |\n",
              "| RAM | None |\n",
              "| Storage | 124.5GB |\n",
              "| Type | V |\n",
              "| OS | Linux |\n",
              "| Network Zone | None |\n",
              "| Application Version | 8.13.2 |"
            ],
            "text/plain": [
              "<IPython.core.display.Markdown object>"
            ]
          },
          "metadata": {},
          "output_type": "display_data"
        },
        {
          "data": {
            "text/markdown": [
              "---"
            ],
            "text/plain": [
              "<IPython.core.display.Markdown object>"
            ]
          },
          "metadata": {},
          "output_type": "display_data"
        },
        {
          "data": {
            "text/markdown": [
              "## JiraNonProd"
            ],
            "text/plain": [
              "<IPython.core.display.Markdown object>"
            ]
          },
          "metadata": {},
          "output_type": "display_data"
        },
        {
          "data": {
            "text/markdown": [
              "| Key         | Value       |\n",
              "\t\t\t\t\t| ----------- | ----------- |\n",
              "| id | JiraNonProd |\n",
              "| nodeType | Container |\n",
              "| name | Jira (Server) (Non-Production) |\n",
              "| description | Jira Non-Production |\n",
              "| technology | Linux |\n",
              "| icon | None |\n",
              "| label | Bamboo (Server)\n",
              "Container Linux\n",
              "jira-dev.internal.server.com.au\n",
              "192.168.110.200 |\n",
              "| CPU | None |\n",
              "| RAM | None |\n",
              "| Storage | 124.5GB |\n",
              "| Type | V |\n",
              "| OS | Linux |\n",
              "| Network Zone | None |\n",
              "| Application Version | 8.13.2 |"
            ],
            "text/plain": [
              "<IPython.core.display.Markdown object>"
            ]
          },
          "metadata": {},
          "output_type": "display_data"
        },
        {
          "data": {
            "text/markdown": [
              "---"
            ],
            "text/plain": [
              "<IPython.core.display.Markdown object>"
            ]
          },
          "metadata": {},
          "output_type": "display_data"
        },
        {
          "data": {
            "text/markdown": [
              "## Okta"
            ],
            "text/plain": [
              "<IPython.core.display.Markdown object>"
            ]
          },
          "metadata": {},
          "output_type": "display_data"
        },
        {
          "data": {
            "text/markdown": [
              "| Key         | Value       |\n",
              "\t\t\t\t\t| ----------- | ----------- |\n",
              "| id | Okta |\n",
              "| nodeType | Custom |\n",
              "| name | Okta |\n",
              "| description | Okta |\n",
              "| icon | https://Okta.icon |"
            ],
            "text/plain": [
              "<IPython.core.display.Markdown object>"
            ]
          },
          "metadata": {},
          "output_type": "display_data"
        },
        {
          "data": {
            "text/markdown": [
              "---"
            ],
            "text/plain": [
              "<IPython.core.display.Markdown object>"
            ]
          },
          "metadata": {},
          "output_type": "display_data"
        },
        {
          "data": {
            "text/markdown": [
              "## PowerBi"
            ],
            "text/plain": [
              "<IPython.core.display.Markdown object>"
            ]
          },
          "metadata": {},
          "output_type": "display_data"
        },
        {
          "data": {
            "text/markdown": [
              "| Key         | Value       |\n",
              "\t\t\t\t\t| ----------- | ----------- |\n",
              "| id | PowerBi |\n",
              "| nodeType | Custom |\n",
              "| name | PowerBi |\n",
              "| description | PowerBi |\n",
              "| technology | PowerBi |\n",
              "| icon | https://www.clipartmax.com/png/middle/16-161548_power-bi-logo-microsoft-vector-eps-free-download-icons-power-bi-logo.png |"
            ],
            "text/plain": [
              "<IPython.core.display.Markdown object>"
            ]
          },
          "metadata": {},
          "output_type": "display_data"
        },
        {
          "data": {
            "text/markdown": [
              "---"
            ],
            "text/plain": [
              "<IPython.core.display.Markdown object>"
            ]
          },
          "metadata": {},
          "output_type": "display_data"
        },
        {
          "data": {
            "text/markdown": [
              "## ServiceNow"
            ],
            "text/plain": [
              "<IPython.core.display.Markdown object>"
            ]
          },
          "metadata": {},
          "output_type": "display_data"
        },
        {
          "data": {
            "text/markdown": [
              "| Key         | Value       |\n",
              "\t\t\t\t\t| ----------- | ----------- |\n",
              "| id | ServiceNow |\n",
              "| nodeType | Custom |\n",
              "| name | ServiceNow |\n",
              "| description | ServiceNow |\n",
              "| icon | https://servicenow.icon |"
            ],
            "text/plain": [
              "<IPython.core.display.Markdown object>"
            ]
          },
          "metadata": {},
          "output_type": "display_data"
        },
        {
          "data": {
            "text/markdown": [
              "---"
            ],
            "text/plain": [
              "<IPython.core.display.Markdown object>"
            ]
          },
          "metadata": {},
          "output_type": "display_data"
        },
        {
          "data": {
            "text/markdown": [
              "## ConfluenceCloud"
            ],
            "text/plain": [
              "<IPython.core.display.Markdown object>"
            ]
          },
          "metadata": {},
          "output_type": "display_data"
        },
        {
          "data": {
            "text/markdown": [
              "| Key         | Value       |\n",
              "\t\t\t\t\t| ----------- | ----------- |\n",
              "| id | ConfluenceCloud |\n",
              "| nodeType | Custom |\n",
              "| name | Confluence (Cloud) |\n",
              "| description | Confluence |\n",
              "| icon | https://w7.pngwing.com/pngs/282/343/png-transparent-confluence-atlassian-logo-jira-sharepoint-confluence-health-mares-building-text-logo-area.png |"
            ],
            "text/plain": [
              "<IPython.core.display.Markdown object>"
            ]
          },
          "metadata": {},
          "output_type": "display_data"
        },
        {
          "data": {
            "text/markdown": [
              "---"
            ],
            "text/plain": [
              "<IPython.core.display.Markdown object>"
            ]
          },
          "metadata": {},
          "output_type": "display_data"
        },
        {
          "data": {
            "text/markdown": [
              "## JiraCloud"
            ],
            "text/plain": [
              "<IPython.core.display.Markdown object>"
            ]
          },
          "metadata": {},
          "output_type": "display_data"
        },
        {
          "data": {
            "text/markdown": [
              "| Key         | Value       |\n",
              "\t\t\t\t\t| ----------- | ----------- |\n",
              "| id | JiraCloud |\n",
              "| nodeType | Custom |\n",
              "| name | Jira (Cloud) |\n",
              "| description | Jira |\n",
              "| icon | https://w7.pngwing.com/pngs/282/343/png-transparent-jira-atlassian-logo-jira-sharepoint-jira-health-mares-building-text-logo-area.png |"
            ],
            "text/plain": [
              "<IPython.core.display.Markdown object>"
            ]
          },
          "metadata": {},
          "output_type": "display_data"
        },
        {
          "data": {
            "text/markdown": [
              "---"
            ],
            "text/plain": [
              "<IPython.core.display.Markdown object>"
            ]
          },
          "metadata": {},
          "output_type": "display_data"
        },
        {
          "data": {
            "text/markdown": [
              "## NewRelic"
            ],
            "text/plain": [
              "<IPython.core.display.Markdown object>"
            ]
          },
          "metadata": {},
          "output_type": "display_data"
        },
        {
          "data": {
            "text/markdown": [
              "| Key         | Value       |\n",
              "\t\t\t\t\t| ----------- | ----------- |\n",
              "| id | NewRelic |\n",
              "| nodeType | Custom |\n",
              "| name | NewRelic |\n",
              "| description | NewRelic |\n",
              "| icon | https://newrelic.com/themes/custom/erno/assets/mediakit/new_relic_logo_vertical.png |"
            ],
            "text/plain": [
              "<IPython.core.display.Markdown object>"
            ]
          },
          "metadata": {},
          "output_type": "display_data"
        }
      ],
      "source": [
        "#@markdown ## Print Repository\n",
        "from _CloudingAtlassianRepository import Personas, InternalSystems, ExternalSystems\n",
        "\n",
        "Personas.Print()\n",
        "InternalSystems.Print()\n",
        "ExternalSystems.Print()"
      ]
    },
    {
      "attachments": {},
      "cell_type": "markdown",
      "metadata": {
        "id": "bCGwc4xAOq2p"
      },
      "source": [
        "# Diagrams"
      ]
    },
    {
      "cell_type": "code",
      "execution_count": 7,
      "metadata": {
        "cellView": "form",
        "id": "jJg5kMDcZElg"
      },
      "outputs": [
        {
          "ename": "TypeError",
          "evalue": "Node.__init__() got multiple values for argument 'label'",
          "output_type": "error",
          "traceback": [
            "\u001b[1;31m---------------------------------------------------------------------------\u001b[0m",
            "\u001b[1;31mTypeError\u001b[0m                                 Traceback (most recent call last)",
            "Cell \u001b[1;32mIn[7], line 19\u001b[0m\n\u001b[0;32m     17\u001b[0m activeDirectory \u001b[39m=\u001b[39m InternalSystems\u001b[39m.\u001b[39mActiveDirectory\u001b[39m.\u001b[39mGet()\n\u001b[0;32m     18\u001b[0m globalProtect \u001b[39m=\u001b[39m InternalSystems\u001b[39m.\u001b[39mGlobalProtect\u001b[39m.\u001b[39mGet()\n\u001b[1;32m---> 19\u001b[0m bamboo \u001b[39m=\u001b[39m InternalSystems\u001b[39m.\u001b[39;49mBamboo\u001b[39m.\u001b[39;49mGet()\n\u001b[0;32m     20\u001b[0m confluence \u001b[39m=\u001b[39m InternalSystems\u001b[39m.\u001b[39mConfluence\u001b[39m.\u001b[39mGet()\n\u001b[0;32m     21\u001b[0m jira \u001b[39m=\u001b[39m InternalSystems\u001b[39m.\u001b[39mJira\u001b[39m.\u001b[39mGet()\n",
            "File \u001b[1;32m~\\AppData\\Local\\Packages\\PythonSoftwareFoundation.Python.3.11_qbz5n2kfra8p0\\LocalCache\\local-packages\\Python311\\site-packages\\SeventFt10\\C4\\Factory.py:78\u001b[0m, in \u001b[0;36mFactory.Get\u001b[1;34m(self)\u001b[0m\n\u001b[0;32m     76\u001b[0m \u001b[39mmatch\u001b[39;00m \u001b[39mself\u001b[39m\u001b[39m.\u001b[39mnodeType:\n\u001b[0;32m     77\u001b[0m \t\u001b[39mcase\u001b[39;00m \u001b[39m\"\u001b[39m\u001b[39mContainer\u001b[39m\u001b[39m\"\u001b[39m:\n\u001b[1;32m---> 78\u001b[0m \t\t\u001b[39mreturn\u001b[39;00m Container( md\u001b[39m.\u001b[39;49mpop(\u001b[39m'\u001b[39;49m\u001b[39mname\u001b[39;49m\u001b[39m'\u001b[39;49m), md\u001b[39m.\u001b[39;49mpop(\u001b[39m'\u001b[39;49m\u001b[39msummary\u001b[39;49m\u001b[39m'\u001b[39;49m), md\u001b[39m.\u001b[39;49mpop(\u001b[39m'\u001b[39;49m\u001b[39mdescription\u001b[39;49m\u001b[39m'\u001b[39;49m), \u001b[39m*\u001b[39;49m\u001b[39m*\u001b[39;49mmd )\n\u001b[0;32m     79\u001b[0m \t\u001b[39mcase\u001b[39;00m \u001b[39m\"\u001b[39m\u001b[39mPersona\u001b[39m\u001b[39m\"\u001b[39m:\n\u001b[0;32m     80\u001b[0m \t\tmd\u001b[39m.\u001b[39msetdefault(\u001b[39m'\u001b[39m\u001b[39micon_path\u001b[39m\u001b[39m'\u001b[39m, \u001b[39mself\u001b[39m\u001b[39m.\u001b[39mdefault_persona_icon)\n",
            "File \u001b[1;32m~\\AppData\\Local\\Packages\\PythonSoftwareFoundation.Python.3.11_qbz5n2kfra8p0\\LocalCache\\local-packages\\Python311\\site-packages\\SeventFt10\\C4\\Diagrams.py:61\u001b[0m, in \u001b[0;36mContainer.__init__\u001b[1;34m(self, name, summary, description, **kwargs)\u001b[0m\n\u001b[0;32m     59\u001b[0m attributes:\u001b[39mdict\u001b[39m[\u001b[39mstr\u001b[39m, \u001b[39many\u001b[39m] \u001b[39m=\u001b[39m { }\n\u001b[0;32m     60\u001b[0m attributes\u001b[39m.\u001b[39mupdate(kwargs)\n\u001b[1;32m---> 61\u001b[0m \u001b[39msuper\u001b[39;49m()\u001b[39m.\u001b[39;49m\u001b[39m__init__\u001b[39;49m(name, summary, description, \u001b[39m\"\u001b[39;49m\u001b[39mContainer\u001b[39;49m\u001b[39m\"\u001b[39;49m, \u001b[39m*\u001b[39;49m\u001b[39m*\u001b[39;49mattributes)\n",
            "File \u001b[1;32m~\\AppData\\Local\\Packages\\PythonSoftwareFoundation.Python.3.11_qbz5n2kfra8p0\\LocalCache\\local-packages\\Python311\\site-packages\\SeventFt10\\C4\\Diagrams.py:27\u001b[0m, in \u001b[0;36mC4Node.__init__\u001b[1;34m(self, name, summary, description, type, **kwargs)\u001b[0m\n\u001b[0;32m     25\u001b[0m     attributes\u001b[39m.\u001b[39mupdate({\u001b[39m\"\u001b[39m\u001b[39mwidth\u001b[39m\u001b[39m\"\u001b[39m: \u001b[39m\"\u001b[39m\u001b[39m2\u001b[39m\u001b[39m\"\u001b[39m, \u001b[39m\"\u001b[39m\u001b[39mheight\u001b[39m\u001b[39m\"\u001b[39m: \u001b[39m\"\u001b[39m\u001b[39m1\u001b[39m\u001b[39m\"\u001b[39m})\n\u001b[0;32m     26\u001b[0m attributes\u001b[39m.\u001b[39mupdate(kwargs)\n\u001b[1;32m---> 27\u001b[0m \u001b[39msuper\u001b[39;49m()\u001b[39m.\u001b[39;49m\u001b[39m__init__\u001b[39;49m(label, \u001b[39m*\u001b[39;49m\u001b[39m*\u001b[39;49mattributes)\n",
            "\u001b[1;31mTypeError\u001b[0m: Node.__init__() got multiple values for argument 'label'"
          ]
        }
      ],
      "source": [
        "#@title Current State Definition\n",
        "from IPython.display import display, Markdown\n",
        "from diagrams import Diagram\n",
        "from SeventFt10.C4.Diagrams import SystemBoundary, Relationship\n",
        "from _CloudingAtlassianRepository import Personas, InternalSystems, ExternalSystems\n",
        "\n",
        "settings = { **default_settings, **{\n",
        "  \"name\": \"Current State Atlassian Suite Context Diagram\"\n",
        "}}\n",
        "\n",
        "with Diagram(** settings) as diagram:\n",
        "  internalUsers = Personas.InternalUser.Get()\n",
        "  remoteUsers = Personas.RemoteUser.Get()\n",
        "  externalUsers = Personas.ExternalUser.Get()\n",
        "\n",
        "  with SystemBoundary(\"On-Premise\"):\n",
        "    activeDirectory = InternalSystems.ActiveDirectory.Get()\n",
        "    globalProtect = InternalSystems.GlobalProtect.Get()\n",
        "    bamboo = InternalSystems.Bamboo.Get()\n",
        "    confluence = InternalSystems.Confluence.Get()\n",
        "    jira = InternalSystems.Jira.Get()\n",
        "    disc = InternalSystems.Disc.Get()\n",
        "    citrix = InternalSystems.Citrix.Get()\n",
        "\n",
        "  with SystemBoundary(\"Amazon Cloud\"):\n",
        "    bitBucket = InternalSystems.BitBucket.Get()\n",
        "\n",
        "  jenkins = InternalSystems.Jenkins.Get()\n",
        "  serviceNow = InternalSystems.ServiceNow.Get()\n",
        "  powerBi = InternalSystems.PowerBi.Get()\n",
        "  intranet = InternalSystems.Intranet.Get()\n",
        "  okta = InternalSystems.Okta.Get()\n",
        "  gitLab = InternalSystems.GitLab.Get()\n",
        "\n",
        "  internalUsers >> Relationship(\"Access via\") >> [okta]\n",
        "  remoteUsers >> Relationship(\"Access via\") >> [globalProtect]\n",
        "  externalUsers >> Relationship(\"Access via\") >> [citrix]\n",
        "  okta >> Relationship(\"??\") >> [gitLab, activeDirectory, citrix]\n",
        "  jira >> Relationship(\"??\") >> [serviceNow]\n",
        "  gitLab >> Relationship(\"??\") << [jira]\n",
        "  jira >> Relationship(\"OAuth\") << [bitBucket, confluence]\n",
        "  globalProtect >> Relationship(\"??\") << [activeDirectory]\n",
        "  activeDirectory >> Relationship(\"??\") >> [jira, confluence, bamboo, disc]\n",
        "  confluence >> Relationship(\"??\") >> [intranet]\n",
        "  confluence >> Relationship(\"OAuth\") >> [bitBucket]\n",
        "  jira >> Relationship(\"API\") >> [powerBi]\n",
        "  bitBucket >> Relationship(\"??\") >> [jenkins]\n",
        "\n",
        "display(Markdown(\"## \" + settings[\"name\"]))\n",
        "display(diagram)"
      ]
    },
    {
      "cell_type": "code",
      "execution_count": 8,
      "metadata": {
        "cellView": "form",
        "id": "fQyawgfXelmH"
      },
      "outputs": [
        {
          "ename": "TypeError",
          "evalue": "Node.__init__() got multiple values for argument 'label'",
          "output_type": "error",
          "traceback": [
            "\u001b[1;31m---------------------------------------------------------------------------\u001b[0m",
            "\u001b[1;31mTypeError\u001b[0m                                 Traceback (most recent call last)",
            "Cell \u001b[1;32mIn[8], line 20\u001b[0m\n\u001b[0;32m     18\u001b[0m activeDirectory \u001b[39m=\u001b[39m InternalSystems\u001b[39m.\u001b[39mActiveDirectory\u001b[39m.\u001b[39mGet()\n\u001b[0;32m     19\u001b[0m globalProtect \u001b[39m=\u001b[39m InternalSystems\u001b[39m.\u001b[39mGlobalProtect\u001b[39m.\u001b[39mGet()\n\u001b[1;32m---> 20\u001b[0m bamboo \u001b[39m=\u001b[39m InternalSystems\u001b[39m.\u001b[39;49mBamboo\u001b[39m.\u001b[39;49mGet()\n\u001b[0;32m     21\u001b[0m disc \u001b[39m=\u001b[39m InternalSystems\u001b[39m.\u001b[39mDisc\u001b[39m.\u001b[39mGet()\n\u001b[0;32m     22\u001b[0m citrix \u001b[39m=\u001b[39m InternalSystems\u001b[39m.\u001b[39mCitrix\u001b[39m.\u001b[39mGet()\n",
            "File \u001b[1;32m~\\AppData\\Local\\Packages\\PythonSoftwareFoundation.Python.3.11_qbz5n2kfra8p0\\LocalCache\\local-packages\\Python311\\site-packages\\SeventFt10\\C4\\Factory.py:78\u001b[0m, in \u001b[0;36mFactory.Get\u001b[1;34m(self)\u001b[0m\n\u001b[0;32m     76\u001b[0m \u001b[39mmatch\u001b[39;00m \u001b[39mself\u001b[39m\u001b[39m.\u001b[39mnodeType:\n\u001b[0;32m     77\u001b[0m \t\u001b[39mcase\u001b[39;00m \u001b[39m\"\u001b[39m\u001b[39mContainer\u001b[39m\u001b[39m\"\u001b[39m:\n\u001b[1;32m---> 78\u001b[0m \t\t\u001b[39mreturn\u001b[39;00m Container( md\u001b[39m.\u001b[39;49mpop(\u001b[39m'\u001b[39;49m\u001b[39mname\u001b[39;49m\u001b[39m'\u001b[39;49m), md\u001b[39m.\u001b[39;49mpop(\u001b[39m'\u001b[39;49m\u001b[39msummary\u001b[39;49m\u001b[39m'\u001b[39;49m), md\u001b[39m.\u001b[39;49mpop(\u001b[39m'\u001b[39;49m\u001b[39mdescription\u001b[39;49m\u001b[39m'\u001b[39;49m), \u001b[39m*\u001b[39;49m\u001b[39m*\u001b[39;49mmd )\n\u001b[0;32m     79\u001b[0m \t\u001b[39mcase\u001b[39;00m \u001b[39m\"\u001b[39m\u001b[39mPersona\u001b[39m\u001b[39m\"\u001b[39m:\n\u001b[0;32m     80\u001b[0m \t\tmd\u001b[39m.\u001b[39msetdefault(\u001b[39m'\u001b[39m\u001b[39micon_path\u001b[39m\u001b[39m'\u001b[39m, \u001b[39mself\u001b[39m\u001b[39m.\u001b[39mdefault_persona_icon)\n",
            "File \u001b[1;32m~\\AppData\\Local\\Packages\\PythonSoftwareFoundation.Python.3.11_qbz5n2kfra8p0\\LocalCache\\local-packages\\Python311\\site-packages\\SeventFt10\\C4\\Diagrams.py:61\u001b[0m, in \u001b[0;36mContainer.__init__\u001b[1;34m(self, name, summary, description, **kwargs)\u001b[0m\n\u001b[0;32m     59\u001b[0m attributes:\u001b[39mdict\u001b[39m[\u001b[39mstr\u001b[39m, \u001b[39many\u001b[39m] \u001b[39m=\u001b[39m { }\n\u001b[0;32m     60\u001b[0m attributes\u001b[39m.\u001b[39mupdate(kwargs)\n\u001b[1;32m---> 61\u001b[0m \u001b[39msuper\u001b[39;49m()\u001b[39m.\u001b[39;49m\u001b[39m__init__\u001b[39;49m(name, summary, description, \u001b[39m\"\u001b[39;49m\u001b[39mContainer\u001b[39;49m\u001b[39m\"\u001b[39;49m, \u001b[39m*\u001b[39;49m\u001b[39m*\u001b[39;49mattributes)\n",
            "File \u001b[1;32m~\\AppData\\Local\\Packages\\PythonSoftwareFoundation.Python.3.11_qbz5n2kfra8p0\\LocalCache\\local-packages\\Python311\\site-packages\\SeventFt10\\C4\\Diagrams.py:27\u001b[0m, in \u001b[0;36mC4Node.__init__\u001b[1;34m(self, name, summary, description, type, **kwargs)\u001b[0m\n\u001b[0;32m     25\u001b[0m     attributes\u001b[39m.\u001b[39mupdate({\u001b[39m\"\u001b[39m\u001b[39mwidth\u001b[39m\u001b[39m\"\u001b[39m: \u001b[39m\"\u001b[39m\u001b[39m2\u001b[39m\u001b[39m\"\u001b[39m, \u001b[39m\"\u001b[39m\u001b[39mheight\u001b[39m\u001b[39m\"\u001b[39m: \u001b[39m\"\u001b[39m\u001b[39m1\u001b[39m\u001b[39m\"\u001b[39m})\n\u001b[0;32m     26\u001b[0m attributes\u001b[39m.\u001b[39mupdate(kwargs)\n\u001b[1;32m---> 27\u001b[0m \u001b[39msuper\u001b[39;49m()\u001b[39m.\u001b[39;49m\u001b[39m__init__\u001b[39;49m(label, \u001b[39m*\u001b[39;49m\u001b[39m*\u001b[39;49mattributes)\n",
            "\u001b[1;31mTypeError\u001b[0m: Node.__init__() got multiple values for argument 'label'"
          ]
        }
      ],
      "source": [
        "#@title Transition State Definition\n",
        "from IPython.display import display, Markdown\n",
        "from diagrams import Diagram\n",
        "from SeventFt10.C4.Diagrams import SystemBoundary, Relationship \n",
        "from _CloudingAtlassianRepository import Personas, InternalSystems, ExternalSystems\n",
        "\n",
        "settings = { **default_settings, **{\n",
        "  \"name\": \"Transition State Atlassian Suite Context Diagram\"\n",
        "}}\n",
        "\n",
        "with Diagram(** settings) as diagram:\n",
        "  \n",
        "  internalUsers = Personas.InternalUser.Get()\n",
        "  remoteUsers = Personas.RemoteUser.Get()\n",
        "  externalUsers = Personas.ExternalUser.Get()\n",
        "\n",
        "  with SystemBoundary(\"On-Premise\"):\n",
        "    activeDirectory = InternalSystems.ActiveDirectory.Get()\n",
        "    globalProtect = InternalSystems.GlobalProtect.Get()\n",
        "    bamboo = InternalSystems.Bamboo.Get()\n",
        "    disc = InternalSystems.Disc.Get()\n",
        "    citrix = InternalSystems.Citrix.Get()\n",
        "\n",
        "  with SystemBoundary(\"Amazon Cloud\"):\n",
        "    bitBucket = InternalSystems.BitBucket.Get()\n",
        "\n",
        "  with SystemBoundary(\"Atlassian\"):\n",
        "    confluence = ExternalSystems.ConfluenceCloud.Get()\n",
        "    jira = ExternalSystems.JiraCloud.Get()\n",
        "\n",
        "  jenkins = InternalSystems.Jenkins.Get()\n",
        "  serviceNow = InternalSystems.ServiceNow.Get()\n",
        "  powerBi = InternalSystems.PowerBi.Get()\n",
        "  internet = InternalSystems.Intranet.Get()\n",
        "  okta = InternalSystems.Okta.Get()\n",
        "  gitLab = InternalSystems.GitLab.Get()\n",
        "\n",
        "  internalUsers >> Relationship(\"Access via\") >> [okta]\n",
        "  remoteUsers >> Relationship(\"Access via\") >> [globalProtect]\n",
        "  externalUsers >> Relationship(\"Access via\") >> [citrix]\n",
        "  okta >> Relationship(\"??\") >> [gitLab, activeDirectory, citrix]\n",
        "  jira >> Relationship(\"??\") >> [serviceNow]\n",
        "  gitLab >> Relationship(\"??\") << [jira]\n",
        "  jira >> Relationship(\"OAuth\") << [bitBucket, confluence]\n",
        "  globalProtect >> Relationship(\"??\") << [activeDirectory]\n",
        "  activeDirectory >> Relationship(\"??\") >> [jira, confluence, bamboo, disc]\n",
        "  confluence >> Relationship(\"??\") >> [internet]\n",
        "  confluence >> Relationship(\"OAuth\") >> [bitBucket]\n",
        "  jira >> Relationship(\"API\") >> [powerBi]\n",
        "  bitBucket >> Relationship(\"??\") >> [jenkins]\n",
        "\n",
        "display(Markdown(\"## \" + settings[\"name\"]))\n",
        "display(diagram)"
      ]
    },
    {
      "cell_type": "code",
      "execution_count": 9,
      "metadata": {
        "cellView": "form",
        "id": "KTLL9xa2Oe7e"
      },
      "outputs": [
        {
          "ename": "TypeError",
          "evalue": "Node.__init__() got multiple values for argument 'label'",
          "output_type": "error",
          "traceback": [
            "\u001b[1;31m---------------------------------------------------------------------------\u001b[0m",
            "\u001b[1;31mTypeError\u001b[0m                                 Traceback (most recent call last)",
            "Cell \u001b[1;32mIn[9], line 20\u001b[0m\n\u001b[0;32m     18\u001b[0m activeDirectory \u001b[39m=\u001b[39m InternalSystems\u001b[39m.\u001b[39mActiveDirectory\u001b[39m.\u001b[39mGet()\n\u001b[0;32m     19\u001b[0m globalProtect \u001b[39m=\u001b[39m InternalSystems\u001b[39m.\u001b[39mGlobalProtect\u001b[39m.\u001b[39mGet()\n\u001b[1;32m---> 20\u001b[0m bamboo \u001b[39m=\u001b[39m InternalSystems\u001b[39m.\u001b[39;49mBamboo\u001b[39m.\u001b[39;49mGet()\n\u001b[0;32m     21\u001b[0m disc \u001b[39m=\u001b[39m InternalSystems\u001b[39m.\u001b[39mDisc\u001b[39m.\u001b[39mGet()\n\u001b[0;32m     22\u001b[0m citrix \u001b[39m=\u001b[39m InternalSystems\u001b[39m.\u001b[39mCitrix\u001b[39m.\u001b[39mGet()\n",
            "File \u001b[1;32m~\\AppData\\Local\\Packages\\PythonSoftwareFoundation.Python.3.11_qbz5n2kfra8p0\\LocalCache\\local-packages\\Python311\\site-packages\\SeventFt10\\C4\\Factory.py:78\u001b[0m, in \u001b[0;36mFactory.Get\u001b[1;34m(self)\u001b[0m\n\u001b[0;32m     76\u001b[0m \u001b[39mmatch\u001b[39;00m \u001b[39mself\u001b[39m\u001b[39m.\u001b[39mnodeType:\n\u001b[0;32m     77\u001b[0m \t\u001b[39mcase\u001b[39;00m \u001b[39m\"\u001b[39m\u001b[39mContainer\u001b[39m\u001b[39m\"\u001b[39m:\n\u001b[1;32m---> 78\u001b[0m \t\t\u001b[39mreturn\u001b[39;00m Container( md\u001b[39m.\u001b[39;49mpop(\u001b[39m'\u001b[39;49m\u001b[39mname\u001b[39;49m\u001b[39m'\u001b[39;49m), md\u001b[39m.\u001b[39;49mpop(\u001b[39m'\u001b[39;49m\u001b[39msummary\u001b[39;49m\u001b[39m'\u001b[39;49m), md\u001b[39m.\u001b[39;49mpop(\u001b[39m'\u001b[39;49m\u001b[39mdescription\u001b[39;49m\u001b[39m'\u001b[39;49m), \u001b[39m*\u001b[39;49m\u001b[39m*\u001b[39;49mmd )\n\u001b[0;32m     79\u001b[0m \t\u001b[39mcase\u001b[39;00m \u001b[39m\"\u001b[39m\u001b[39mPersona\u001b[39m\u001b[39m\"\u001b[39m:\n\u001b[0;32m     80\u001b[0m \t\tmd\u001b[39m.\u001b[39msetdefault(\u001b[39m'\u001b[39m\u001b[39micon_path\u001b[39m\u001b[39m'\u001b[39m, \u001b[39mself\u001b[39m\u001b[39m.\u001b[39mdefault_persona_icon)\n",
            "File \u001b[1;32m~\\AppData\\Local\\Packages\\PythonSoftwareFoundation.Python.3.11_qbz5n2kfra8p0\\LocalCache\\local-packages\\Python311\\site-packages\\SeventFt10\\C4\\Diagrams.py:61\u001b[0m, in \u001b[0;36mContainer.__init__\u001b[1;34m(self, name, summary, description, **kwargs)\u001b[0m\n\u001b[0;32m     59\u001b[0m attributes:\u001b[39mdict\u001b[39m[\u001b[39mstr\u001b[39m, \u001b[39many\u001b[39m] \u001b[39m=\u001b[39m { }\n\u001b[0;32m     60\u001b[0m attributes\u001b[39m.\u001b[39mupdate(kwargs)\n\u001b[1;32m---> 61\u001b[0m \u001b[39msuper\u001b[39;49m()\u001b[39m.\u001b[39;49m\u001b[39m__init__\u001b[39;49m(name, summary, description, \u001b[39m\"\u001b[39;49m\u001b[39mContainer\u001b[39;49m\u001b[39m\"\u001b[39;49m, \u001b[39m*\u001b[39;49m\u001b[39m*\u001b[39;49mattributes)\n",
            "File \u001b[1;32m~\\AppData\\Local\\Packages\\PythonSoftwareFoundation.Python.3.11_qbz5n2kfra8p0\\LocalCache\\local-packages\\Python311\\site-packages\\SeventFt10\\C4\\Diagrams.py:27\u001b[0m, in \u001b[0;36mC4Node.__init__\u001b[1;34m(self, name, summary, description, type, **kwargs)\u001b[0m\n\u001b[0;32m     25\u001b[0m     attributes\u001b[39m.\u001b[39mupdate({\u001b[39m\"\u001b[39m\u001b[39mwidth\u001b[39m\u001b[39m\"\u001b[39m: \u001b[39m\"\u001b[39m\u001b[39m2\u001b[39m\u001b[39m\"\u001b[39m, \u001b[39m\"\u001b[39m\u001b[39mheight\u001b[39m\u001b[39m\"\u001b[39m: \u001b[39m\"\u001b[39m\u001b[39m1\u001b[39m\u001b[39m\"\u001b[39m})\n\u001b[0;32m     26\u001b[0m attributes\u001b[39m.\u001b[39mupdate(kwargs)\n\u001b[1;32m---> 27\u001b[0m \u001b[39msuper\u001b[39;49m()\u001b[39m.\u001b[39;49m\u001b[39m__init__\u001b[39;49m(label, \u001b[39m*\u001b[39;49m\u001b[39m*\u001b[39;49mattributes)\n",
            "\u001b[1;31mTypeError\u001b[0m: Node.__init__() got multiple values for argument 'label'"
          ]
        }
      ],
      "source": [
        "#@title Future State Definition\n",
        "from IPython.display import display, Markdown\n",
        "from diagrams import Diagram\n",
        "from SeventFt10.C4.Diagrams import SystemBoundary, Relationship\n",
        "from _CloudingAtlassianRepository import Personas, InternalSystems, ExternalSystems\n",
        "\n",
        "settings = { **default_settings, **{\n",
        "  \"name\": \"Future State Atlassian Suite Context Diagram\"\n",
        "}}\n",
        "\n",
        "with Diagram(** settings) as diagram:\n",
        "  \n",
        "  internalUsers = Personas.InternalUser.Get()\n",
        "  remoteUsers = Personas.RemoteUser.Get()\n",
        "  externalUsers = Personas.ExternalUser.Get()\n",
        "\n",
        "  with SystemBoundary(\"On-Premise\"):\n",
        "    activeDirectory = InternalSystems.ActiveDirectory.Get()\n",
        "    globalProtect = InternalSystems.GlobalProtect.Get()\n",
        "    bamboo = InternalSystems.Bamboo.Get()\n",
        "    disc = InternalSystems.Disc.Get()\n",
        "    citrix = InternalSystems.Citrix.Get()\n",
        "\n",
        "  with SystemBoundary(\"Amazon Cloud\"):\n",
        "    bitBucket = InternalSystems.BitBucket.Get()\n",
        "\n",
        "  with SystemBoundary(\"Atlassian\"):\n",
        "    confluence = ExternalSystems.ConfluenceCloud.Get()\n",
        "    jira = ExternalSystems.JiraCloud.Get()\n",
        "\n",
        "  jenkins = InternalSystems.Jenkins.Get()\n",
        "  serviceNow = InternalSystems.ServiceNow.Get()\n",
        "  powerBi = InternalSystems.PowerBi.Get()\n",
        "  intranet = InternalSystems.Intranet.Get()\n",
        "  okta = InternalSystems.Okta.Get()\n",
        "  gitLab = InternalSystems.GitLab.Get()\n",
        "\n",
        "  internalUsers >> Relationship(\"Access via\") >> [okta]\n",
        "  remoteUsers >> Relationship(\"Access via\") >> [globalProtect]\n",
        "  externalUsers >> Relationship(\"Access via\") >> [citrix]\n",
        "  okta >> Relationship(\"??\") >> [gitLab, activeDirectory, citrix]\n",
        "  jira >> Relationship(\"??\") >> [serviceNow]\n",
        "  gitLab >> Relationship(\"??\") << [jira]\n",
        "  jira >> Relationship(\"OAuth\") << [bitBucket, confluence]\n",
        "  globalProtect >> Relationship(\"??\") << [activeDirectory]\n",
        "  activeDirectory >> Relationship(\"??\") >> [jira, confluence, bamboo, disc]\n",
        "  confluence >> Relationship(\"??\") >> [intranet]\n",
        "  confluence >> Relationship(\"OAuth\") >> [bitBucket]\n",
        "  jira >> Relationship(\"API\") >> [powerBi]\n",
        "  bitBucket >> Relationship(\"??\") >> [jenkins]\n",
        "\n",
        "display(Markdown(\"## \" + settings[\"name\"]))\n",
        "display(diagram)\n"
      ]
    }
  ],
  "metadata": {
    "colab": {
      "authorship_tag": "ABX9TyPmdJeuO2F7PLw7eY64cKcm",
      "include_colab_link": true,
      "provenance": [],
      "toc_visible": true
    },
    "kernelspec": {
      "display_name": "Python 3",
      "name": "python3"
    },
    "language_info": {
      "codemirror_mode": {
        "name": "ipython",
        "version": 3
      },
      "file_extension": ".py",
      "mimetype": "text/x-python",
      "name": "python",
      "nbconvert_exporter": "python",
      "pygments_lexer": "ipython3",
      "version": "3.11.4"
    }
  },
  "nbformat": 4,
  "nbformat_minor": 0
}
