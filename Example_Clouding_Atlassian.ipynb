{
  "cells": [
    {
      "attachments": {},
      "cell_type": "markdown",
      "metadata": {
        "colab_type": "text",
        "id": "view-in-github"
      },
      "source": [
        "<a href=\"https://colab.research.google.com/github/7ft10/C4ArchitectureExamples/blob/main/Example_Clouding_Atlassian.ipynb\" target=\"_parent\"><img src=\"https://colab.research.google.com/assets/colab-badge.svg\" alt=\"Open In Colab\"/></a>"
      ]
    },
    {
      "attachments": {},
      "cell_type": "markdown",
      "metadata": {
        "id": "Cadg54w_hC9f"
      },
      "source": [
        "#Clouding Atlassian Architecture Example\n",
        "\n",
        "* [Current State Diagram](https://colab.research.google.com/drive/15XPAFlQwWtpUbDZC_yBMFfKjrfuFEIf8#scrollTo=wVFxWnQnazpr&line=1&uniqifier=1)\n",
        "* [Future State Diagram](https://colab.research.google.com/drive/15XPAFlQwWtpUbDZC_yBMFfKjrfuFEIf8#scrollTo=8cRYTJwteobu&line=1&uniqifier=1)\n",
        "\n",
        "## Why \n",
        "\n",
        "Keeping architecture diagrams up to date is difficult. Creating them is just as difficult. Architects spend most of their time gathering the right icons, drawing lines in Miro or Viso making sure that they are the right type etc. etc. etc. What a waste of time. \n",
        "\n",
        "Instead architects should be focused on ensuring that the current state is correct and that proposed changes to the enterprise ecosystem have taken into account all other systems that may be impacted. \n",
        "\n",
        "Architecture diagrams as code (ADAC) is a way of allowing architects to focus on the right things and stop wasting time. It can also help other areas of the business by creating or leveraging a configuration management database (CMDB). \n",
        "\n",
        "ADAC can also be extended to include the personas that interact with the systems. This is an important part of the impact analysis and can be the starting point for other agile techniques such as epic and story writing. \n",
        "\n",
        "## Guide \n",
        "\n",
        "Colab is a free tool for google users which makes it a perfect candidate for any company but especially a company that uses google drive. It is possible to connect this repository to Google Drive and/or Github for further document control and archiving. \n",
        "\n",
        "*C4 Model* is a great starting point for any architecture diagram repository as they can easily map to the the levels of testing, for example context is system testing, code is unit testing. With the right diagrams and subsequently the right level of thinking architecture, development and testing can all use the same diagrams to create meaningful and valuable assets for the company. See https://c4model.com/ for more details. \n",
        "\n",
        "*Diagrams* is a phyton library that allows for diagrams to be created from code. See https://diagrams.mingrammer.com/docs/nodes/c4 for more details. \n",
        "\n",
        "## How to run \n",
        "\n",
        "Run notebook cells in order. Please install \"diagrams\" first, and then default settings to correctly set up the environment.\n",
        "\n",
        "The simplest way to do this is Ctrl-F9 to \"Run all\".\n",
        "\n",
        "## Things to do \n",
        "\n",
        "This is just an example, as such there are a few things that can be created to ensure that this is enterprise ready. \n",
        "\n",
        "Obviously, not all the icons are coming through and instead being replaced by the *dead folder* icon, icons need to be able to be downloaded by colab - a google drive location would be best. \n",
        "\n",
        "The repository can be extracted into a stand alone Python file (.py). This file can be generated from the CMDB or json or whatever. \n",
        "\n",
        "```python \n",
        "from urllib import request\n",
        "request.urlretrieve('https://git/main/Repository.py', 'Repository.py')\n",
        "```\n",
        "then loading the model and classes \n",
        "```python \n",
        "from Repository import OurSystems, OurPersonas, OurDataStores, OurExternalSystems\n",
        "```\n",
        "\n",
        "Obviously, this also means that we could create separate files for systems, external systems, personas, etc. and load them into the context. These can continue to be extended by delivery teams with new personas or systems. \n",
        "\n",
        "Repositories could also be versioned and released as required with leadership oversight and approvals.\n",
        "\n",
        "There could also be current state and future state repositories which update as new systems are added and retired.\n",
        "\n",
        "The created images can be exported to google drive or downloaded manually and included in confluence documentation. There is also Jupyter plugins for confluence that allow for visualisation (e.g. https://marketplace.atlassian.com/apps/1220365/jupyter-notebook-viewer-for-confluence?tab=overview&hosting=cloud) \n",
        "\n",
        "Finally, the cell called *\"Reflected Repository\"* prints out the details of the components available in the repository. The script includes the following line:\n",
        "```python \n",
        "  if cls[0].startswith('Our'):\n",
        "```\n",
        "which shows only those classes that start with Our, e.g. OurSystems, OurPersonas. "
      ]
    },
    {
      "cell_type": "code",
      "execution_count": 17,
      "metadata": {
        "cellView": "form",
        "id": "jDbqa2qJYTcd"
      },
      "outputs": [],
      "source": [
        "#@title Install Diagrams\n",
        "import os\n",
        "result = os.system('pip install diagrams')"
      ]
    },
    {
      "cell_type": "code",
      "execution_count": 18,
      "metadata": {},
      "outputs": [],
      "source": [
        "from urllib import request\n",
        "\n",
        "baseUrl = \"https://raw.githubusercontent.com/7ft10/C4ArchitectureExamples/main/\"\n",
        "[name, response] = request.urlretrieve(baseUrl + 'Repository/CloudingAtlassianRepository.py', '_CloudingAtlassianRepository.py')"
      ]
    },
    {
      "cell_type": "code",
      "execution_count": 19,
      "metadata": {
        "cellView": "form",
        "id": "wfk4VSnYYcAx"
      },
      "outputs": [],
      "source": [
        "#@markdown ----------------------------------------------\n",
        "#@markdown ## Settings\n",
        "\n",
        "#@markdown + Graph Attributes\n",
        "global_graph_attr = {\n",
        "  \"splines\": \"spline\",\n",
        "  \"fontsize\": \"10\",\n",
        "  \"bgcolor\": \"transparent\"\n",
        "}\n",
        "\n",
        "#@markdown + Node Attributes\n",
        "global_node_attr = {\n",
        "  \"fontsize\": \"8px\",\n",
        "  \"width\": \"1.8\"#,\n",
        "  #\"height\": \"1.4\"\n",
        "\n",
        "}"
      ]
    },
    {
      "cell_type": "code",
      "execution_count": 20,
      "metadata": {},
      "outputs": [
        {
          "data": {
            "text/markdown": [
              "---"
            ],
            "text/plain": [
              "<IPython.core.display.Markdown object>"
            ]
          },
          "metadata": {},
          "output_type": "display_data"
        },
        {
          "data": {
            "text/markdown": [
              "## ExternalUser"
            ],
            "text/plain": [
              "<IPython.core.display.Markdown object>"
            ]
          },
          "metadata": {},
          "output_type": "display_data"
        },
        {
          "data": {
            "text/markdown": [
              "| Key         | Value       |\n",
              "                   | ----------- | ----------- |\n",
              "| id | ExternalUser |\n",
              "| name | External Users |\n",
              "| description | Several lines of text,\n",
              "with some \"quotes\" of various 'types',\n",
              "and also a blank line:\n",
              "\n",
              "and some text with\n",
              "  extra indentation\n",
              "on the next line,\n",
              "plus another line at the end. |"
            ],
            "text/plain": [
              "<IPython.core.display.Markdown object>"
            ]
          },
          "metadata": {},
          "output_type": "display_data"
        },
        {
          "data": {
            "text/markdown": [
              "---"
            ],
            "text/plain": [
              "<IPython.core.display.Markdown object>"
            ]
          },
          "metadata": {},
          "output_type": "display_data"
        },
        {
          "data": {
            "text/markdown": [
              "## InternalUser"
            ],
            "text/plain": [
              "<IPython.core.display.Markdown object>"
            ]
          },
          "metadata": {},
          "output_type": "display_data"
        },
        {
          "data": {
            "text/markdown": [
              "| Key         | Value       |\n",
              "                   | ----------- | ----------- |\n",
              "| id | InternalUser |\n",
              "| name | Internal Users |\n",
              "| description | Several lines of text,\n",
              "with some \"quotes\" of various 'types',\n",
              "and also a blank line:\n",
              "\n",
              "and some text with\n",
              "  extra indentation\n",
              "on the next line,\n",
              "plus another line at the end. |"
            ],
            "text/plain": [
              "<IPython.core.display.Markdown object>"
            ]
          },
          "metadata": {},
          "output_type": "display_data"
        },
        {
          "data": {
            "text/markdown": [
              "---"
            ],
            "text/plain": [
              "<IPython.core.display.Markdown object>"
            ]
          },
          "metadata": {},
          "output_type": "display_data"
        },
        {
          "data": {
            "text/markdown": [
              "## RemoteUser"
            ],
            "text/plain": [
              "<IPython.core.display.Markdown object>"
            ]
          },
          "metadata": {},
          "output_type": "display_data"
        },
        {
          "data": {
            "text/markdown": [
              "| Key         | Value       |\n",
              "                   | ----------- | ----------- |\n",
              "| id | RemoteUser |\n",
              "| name | Remote Users |\n",
              "| description | Several lines of text, |"
            ],
            "text/plain": [
              "<IPython.core.display.Markdown object>"
            ]
          },
          "metadata": {},
          "output_type": "display_data"
        },
        {
          "data": {
            "text/markdown": [
              "---"
            ],
            "text/plain": [
              "<IPython.core.display.Markdown object>"
            ]
          },
          "metadata": {},
          "output_type": "display_data"
        },
        {
          "data": {
            "text/markdown": [
              "## ActiveDirectory"
            ],
            "text/plain": [
              "<IPython.core.display.Markdown object>"
            ]
          },
          "metadata": {},
          "output_type": "display_data"
        },
        {
          "data": {
            "text/markdown": [
              "| Key         | Value       |\n",
              "                   | ----------- | ----------- |\n",
              "| id | ActiveDirectory |\n",
              "| name | Active Directory |\n",
              "| description | Active Directory |\n",
              "| technology | Microsoft Active Directory |\n",
              "| icon | https://www.outsystems.com/Forge_CW/_image.aspx/Q8LvY--6WakOw9afDCuuGXsjTvpZCo5fbFxdpi8oIBI=/active-directory-core-simplified-2023-01-04%2000-00-00-2023-05-05%2011-44-13 |"
            ],
            "text/plain": [
              "<IPython.core.display.Markdown object>"
            ]
          },
          "metadata": {},
          "output_type": "display_data"
        },
        {
          "data": {
            "text/markdown": [
              "---"
            ],
            "text/plain": [
              "<IPython.core.display.Markdown object>"
            ]
          },
          "metadata": {},
          "output_type": "display_data"
        },
        {
          "data": {
            "text/markdown": [
              "## Bamboo"
            ],
            "text/plain": [
              "<IPython.core.display.Markdown object>"
            ]
          },
          "metadata": {},
          "output_type": "display_data"
        },
        {
          "data": {
            "text/markdown": [
              "| Key         | Value       |\n",
              "                   | ----------- | ----------- |\n",
              "| id | Bamboo |\n",
              "| name | Bamboo (Server) |\n",
              "| description | Bamboo |\n",
              "| technology | Linux |\n",
              "| icon | https://w7.pngwing.com/pngs/126/46/png-transparent-bamboo-atlassian-continuous-integration-jira-confluence-vision-blue-text-trademark.png |\n",
              "| label | Bamboo (Server)\n",
              "Container Linux <br/>\n",
              "bamboo.internal.server.com.au <br/>\n",
              "192.168.61.150 |\n",
              "| CPU | None |\n",
              "| RAM | None |\n",
              "| Storage | 124.5GB |\n",
              "| Type | V |\n",
              "| OS | Linux |\n",
              "| Network Zone | None |\n",
              "| Application Version | 8.13.2 |"
            ],
            "text/plain": [
              "<IPython.core.display.Markdown object>"
            ]
          },
          "metadata": {},
          "output_type": "display_data"
        },
        {
          "data": {
            "text/markdown": [
              "---"
            ],
            "text/plain": [
              "<IPython.core.display.Markdown object>"
            ]
          },
          "metadata": {},
          "output_type": "display_data"
        },
        {
          "data": {
            "text/markdown": [
              "## BitBucket"
            ],
            "text/plain": [
              "<IPython.core.display.Markdown object>"
            ]
          },
          "metadata": {},
          "output_type": "display_data"
        },
        {
          "data": {
            "text/markdown": [
              "| Key         | Value       |\n",
              "                   | ----------- | ----------- |\n",
              "| id | BitBucket |\n",
              "| name | BitBucket (Server) |\n",
              "| description | BitBucket |\n",
              "| technology | Linux |\n",
              "| icon | https://w7.pngwing.com/pngs/126/46/png-transparent-bitbucket-atlassian-continuous-integration-jira-confluence-vision-blue-text-trademark.png |\n",
              "| label | BitBucket (Server)\n",
              "Container Linux <br/>\n",
              "bitbucket.internal.server.com.au <br/>\n",
              "192.168.61.350 |\n",
              "| CPU | None |\n",
              "| RAM | None |\n",
              "| Storage | 124.5GB |\n",
              "| Type | V |\n",
              "| OS | Linux |\n",
              "| Network Zone | None |\n",
              "| Application Version | 8.13.2 |"
            ],
            "text/plain": [
              "<IPython.core.display.Markdown object>"
            ]
          },
          "metadata": {},
          "output_type": "display_data"
        },
        {
          "data": {
            "text/markdown": [
              "---"
            ],
            "text/plain": [
              "<IPython.core.display.Markdown object>"
            ]
          },
          "metadata": {},
          "output_type": "display_data"
        },
        {
          "data": {
            "text/markdown": [
              "## Citrix"
            ],
            "text/plain": [
              "<IPython.core.display.Markdown object>"
            ]
          },
          "metadata": {},
          "output_type": "display_data"
        },
        {
          "data": {
            "text/markdown": [
              "| Key         | Value       |\n",
              "                   | ----------- | ----------- |\n",
              "| id | Citrix |\n",
              "| name | Citrix |\n",
              "| description | Citrix |\n",
              "| icon | https://Citrix.icon |"
            ],
            "text/plain": [
              "<IPython.core.display.Markdown object>"
            ]
          },
          "metadata": {},
          "output_type": "display_data"
        },
        {
          "data": {
            "text/markdown": [
              "---"
            ],
            "text/plain": [
              "<IPython.core.display.Markdown object>"
            ]
          },
          "metadata": {},
          "output_type": "display_data"
        },
        {
          "data": {
            "text/markdown": [
              "## Confluence"
            ],
            "text/plain": [
              "<IPython.core.display.Markdown object>"
            ]
          },
          "metadata": {},
          "output_type": "display_data"
        },
        {
          "data": {
            "text/markdown": [
              "| Key         | Value       |\n",
              "                   | ----------- | ----------- |\n",
              "| id | Confluence |\n",
              "| name | Confluence (Server) |\n",
              "| description | Confluence |\n",
              "| technology | Linux |\n",
              "| icon | https://w7.pngwing.com/pngs/282/343/png-transparent-confluence-atlassian-logo-jira-sharepoint-confluence-health-mares-building-text-logo-area.png |\n",
              "| label | Bamboo (Server)\n",
              "Container Linux <br/>\n",
              "confluence.internal.server.com.au <br/>\n",
              "192.168.110.100 |\n",
              "| CPU | None |\n",
              "| RAM | None |\n",
              "| Storage | 124.5GB |\n",
              "| Type | V |\n",
              "| OS | Linux |\n",
              "| Network Zone | None |\n",
              "| Application Version | 8.13.2 |"
            ],
            "text/plain": [
              "<IPython.core.display.Markdown object>"
            ]
          },
          "metadata": {},
          "output_type": "display_data"
        },
        {
          "data": {
            "text/markdown": [
              "---"
            ],
            "text/plain": [
              "<IPython.core.display.Markdown object>"
            ]
          },
          "metadata": {},
          "output_type": "display_data"
        },
        {
          "data": {
            "text/markdown": [
              "## ConfluenceNonProd"
            ],
            "text/plain": [
              "<IPython.core.display.Markdown object>"
            ]
          },
          "metadata": {},
          "output_type": "display_data"
        },
        {
          "data": {
            "text/markdown": [
              "| Key         | Value       |\n",
              "                   | ----------- | ----------- |\n",
              "| id | ConfluenceNonProd |\n",
              "| name | Confluence (Server) (Non-Production) |\n",
              "| description | Confluence Non-Production |\n",
              "| technology | Linux |\n",
              "| icon | https://w7.pngwing.com/pngs/282/343/png-transparent-confluence-atlassian-logo-jira-sharepoint-confluence-health-mares-building-text-logo-area.png |\n",
              "| label | Bamboo (Server)\n",
              "Container Linux <br/>\n",
              "confluence-dev.internal.server.com.au <br/>\n",
              "192.168.110.200 |\n",
              "| CPU | None |\n",
              "| RAM | None |\n",
              "| Storage | 124.5GB |\n",
              "| Type | V |\n",
              "| OS | Linux |\n",
              "| Network Zone | None |\n",
              "| Application Version | 8.13.2 |"
            ],
            "text/plain": [
              "<IPython.core.display.Markdown object>"
            ]
          },
          "metadata": {},
          "output_type": "display_data"
        },
        {
          "data": {
            "text/markdown": [
              "---"
            ],
            "text/plain": [
              "<IPython.core.display.Markdown object>"
            ]
          },
          "metadata": {},
          "output_type": "display_data"
        },
        {
          "data": {
            "text/markdown": [
              "## Disc"
            ],
            "text/plain": [
              "<IPython.core.display.Markdown object>"
            ]
          },
          "metadata": {},
          "output_type": "display_data"
        },
        {
          "data": {
            "text/markdown": [
              "| Key         | Value       |\n",
              "                   | ----------- | ----------- |\n",
              "| id | Disc |\n",
              "| name | Disc |\n",
              "| description | Several lines of text |\n",
              "| technology | IBMi |\n",
              "| icon | https://w7.pngwing.com/pngs/1/875/png-transparent-as400-ibm.png |"
            ],
            "text/plain": [
              "<IPython.core.display.Markdown object>"
            ]
          },
          "metadata": {},
          "output_type": "display_data"
        },
        {
          "data": {
            "text/markdown": [
              "---"
            ],
            "text/plain": [
              "<IPython.core.display.Markdown object>"
            ]
          },
          "metadata": {},
          "output_type": "display_data"
        },
        {
          "data": {
            "text/markdown": [
              "## GitLab"
            ],
            "text/plain": [
              "<IPython.core.display.Markdown object>"
            ]
          },
          "metadata": {},
          "output_type": "display_data"
        },
        {
          "data": {
            "text/markdown": [
              "| Key         | Value       |\n",
              "                   | ----------- | ----------- |\n",
              "| id | GitLab |\n",
              "| name | GitLab |\n",
              "| description | GitLab |\n",
              "| icon | https://about.gitlab.com/images/press/logo/png/gitlab-logo-100.png |"
            ],
            "text/plain": [
              "<IPython.core.display.Markdown object>"
            ]
          },
          "metadata": {},
          "output_type": "display_data"
        },
        {
          "data": {
            "text/markdown": [
              "---"
            ],
            "text/plain": [
              "<IPython.core.display.Markdown object>"
            ]
          },
          "metadata": {},
          "output_type": "display_data"
        },
        {
          "data": {
            "text/markdown": [
              "## GlobalProtect"
            ],
            "text/plain": [
              "<IPython.core.display.Markdown object>"
            ]
          },
          "metadata": {},
          "output_type": "display_data"
        },
        {
          "data": {
            "text/markdown": [
              "| Key         | Value       |\n",
              "                   | ----------- | ----------- |\n",
              "| id | GlobalProtect |\n",
              "| name | GlobalProtect |\n",
              "| description | GlobalProtect |\n",
              "| icon | https://GlobalProtect.icon |"
            ],
            "text/plain": [
              "<IPython.core.display.Markdown object>"
            ]
          },
          "metadata": {},
          "output_type": "display_data"
        },
        {
          "data": {
            "text/markdown": [
              "---"
            ],
            "text/plain": [
              "<IPython.core.display.Markdown object>"
            ]
          },
          "metadata": {},
          "output_type": "display_data"
        },
        {
          "data": {
            "text/markdown": [
              "## Intranet"
            ],
            "text/plain": [
              "<IPython.core.display.Markdown object>"
            ]
          },
          "metadata": {},
          "output_type": "display_data"
        },
        {
          "data": {
            "text/markdown": [
              "| Key         | Value       |\n",
              "                   | ----------- | ----------- |\n",
              "| id | Intranet |\n",
              "| name | Intranet |\n",
              "| description | The Hub |\n",
              "| notes | Part of the on-prem confluence implementation,\n",
              "to be migrated not a new system. |"
            ],
            "text/plain": [
              "<IPython.core.display.Markdown object>"
            ]
          },
          "metadata": {},
          "output_type": "display_data"
        },
        {
          "data": {
            "text/markdown": [
              "---"
            ],
            "text/plain": [
              "<IPython.core.display.Markdown object>"
            ]
          },
          "metadata": {},
          "output_type": "display_data"
        },
        {
          "data": {
            "text/markdown": [
              "## Jenkins"
            ],
            "text/plain": [
              "<IPython.core.display.Markdown object>"
            ]
          },
          "metadata": {},
          "output_type": "display_data"
        },
        {
          "data": {
            "text/markdown": [
              "| Key         | Value       |\n",
              "                   | ----------- | ----------- |\n",
              "| id | Jenkins |\n",
              "| name | Jenkins |\n",
              "| description | Jenkins |\n",
              "| technology | Jenkins |\n",
              "| icon | https://Jenkins.icon |"
            ],
            "text/plain": [
              "<IPython.core.display.Markdown object>"
            ]
          },
          "metadata": {},
          "output_type": "display_data"
        },
        {
          "data": {
            "text/markdown": [
              "---"
            ],
            "text/plain": [
              "<IPython.core.display.Markdown object>"
            ]
          },
          "metadata": {},
          "output_type": "display_data"
        },
        {
          "data": {
            "text/markdown": [
              "## Jira"
            ],
            "text/plain": [
              "<IPython.core.display.Markdown object>"
            ]
          },
          "metadata": {},
          "output_type": "display_data"
        },
        {
          "data": {
            "text/markdown": [
              "| Key         | Value       |\n",
              "                   | ----------- | ----------- |\n",
              "| id | Jira |\n",
              "| name | Jira (Server) |\n",
              "| description | Jira |\n",
              "| technology | Linux |\n",
              "| icon | None |\n",
              "| label | Bamboo (Server)\n",
              "Container Linux <br/>\n",
              "jira.internal.server.com.au <br/>\n",
              "192.168.110.100 |\n",
              "| CPU | None |\n",
              "| RAM | None |\n",
              "| Storage | 124.5GB |\n",
              "| Type | V |\n",
              "| OS | Linux |\n",
              "| Network Zone | None |\n",
              "| Application Version | 8.13.2 |"
            ],
            "text/plain": [
              "<IPython.core.display.Markdown object>"
            ]
          },
          "metadata": {},
          "output_type": "display_data"
        },
        {
          "data": {
            "text/markdown": [
              "---"
            ],
            "text/plain": [
              "<IPython.core.display.Markdown object>"
            ]
          },
          "metadata": {},
          "output_type": "display_data"
        },
        {
          "data": {
            "text/markdown": [
              "## JiraNonProd"
            ],
            "text/plain": [
              "<IPython.core.display.Markdown object>"
            ]
          },
          "metadata": {},
          "output_type": "display_data"
        },
        {
          "data": {
            "text/markdown": [
              "| Key         | Value       |\n",
              "                   | ----------- | ----------- |\n",
              "| id | JiraNonProd |\n",
              "| name | Jira (Server) (Non-Production) |\n",
              "| description | Jira Non-Production |\n",
              "| technology | Linux |\n",
              "| icon | None |\n",
              "| label | Bamboo (Server)\n",
              "Container Linux <br/>\n",
              "jira-dev.internal.server.com.au <br/>\n",
              "192.168.110.200 |\n",
              "| CPU | None |\n",
              "| RAM | None |\n",
              "| Storage | 124.5GB |\n",
              "| Type | V |\n",
              "| OS | Linux |\n",
              "| Network Zone | None |\n",
              "| Application Version | 8.13.2 |"
            ],
            "text/plain": [
              "<IPython.core.display.Markdown object>"
            ]
          },
          "metadata": {},
          "output_type": "display_data"
        },
        {
          "data": {
            "text/markdown": [
              "---"
            ],
            "text/plain": [
              "<IPython.core.display.Markdown object>"
            ]
          },
          "metadata": {},
          "output_type": "display_data"
        },
        {
          "data": {
            "text/markdown": [
              "## Okta"
            ],
            "text/plain": [
              "<IPython.core.display.Markdown object>"
            ]
          },
          "metadata": {},
          "output_type": "display_data"
        },
        {
          "data": {
            "text/markdown": [
              "| Key         | Value       |\n",
              "                   | ----------- | ----------- |\n",
              "| id | Okta |\n",
              "| name | Okta |\n",
              "| description | Okta |\n",
              "| icon | https://Okta.icon |"
            ],
            "text/plain": [
              "<IPython.core.display.Markdown object>"
            ]
          },
          "metadata": {},
          "output_type": "display_data"
        },
        {
          "data": {
            "text/markdown": [
              "---"
            ],
            "text/plain": [
              "<IPython.core.display.Markdown object>"
            ]
          },
          "metadata": {},
          "output_type": "display_data"
        },
        {
          "data": {
            "text/markdown": [
              "## PowerBi"
            ],
            "text/plain": [
              "<IPython.core.display.Markdown object>"
            ]
          },
          "metadata": {},
          "output_type": "display_data"
        },
        {
          "data": {
            "text/markdown": [
              "| Key         | Value       |\n",
              "                   | ----------- | ----------- |\n",
              "| id | PowerBi |\n",
              "| name | PowerBi |\n",
              "| description | PowerBi |\n",
              "| technology | PowerBi |\n",
              "| icon | https://www.clipartmax.com/png/middle/16-161548_power-bi-logo-microsoft-vector-eps-free-download-icons-power-bi-logo.png |"
            ],
            "text/plain": [
              "<IPython.core.display.Markdown object>"
            ]
          },
          "metadata": {},
          "output_type": "display_data"
        },
        {
          "data": {
            "text/markdown": [
              "---"
            ],
            "text/plain": [
              "<IPython.core.display.Markdown object>"
            ]
          },
          "metadata": {},
          "output_type": "display_data"
        },
        {
          "data": {
            "text/markdown": [
              "## ServiceNow"
            ],
            "text/plain": [
              "<IPython.core.display.Markdown object>"
            ]
          },
          "metadata": {},
          "output_type": "display_data"
        },
        {
          "data": {
            "text/markdown": [
              "| Key         | Value       |\n",
              "                   | ----------- | ----------- |\n",
              "| id | ServiceNow |\n",
              "| name | ServiceNow |\n",
              "| description | ServiceNow |\n",
              "| icon | https://servicenow.icon |"
            ],
            "text/plain": [
              "<IPython.core.display.Markdown object>"
            ]
          },
          "metadata": {},
          "output_type": "display_data"
        },
        {
          "data": {
            "text/markdown": [
              "---"
            ],
            "text/plain": [
              "<IPython.core.display.Markdown object>"
            ]
          },
          "metadata": {},
          "output_type": "display_data"
        },
        {
          "data": {
            "text/markdown": [
              "## ConfluenceCloud"
            ],
            "text/plain": [
              "<IPython.core.display.Markdown object>"
            ]
          },
          "metadata": {},
          "output_type": "display_data"
        },
        {
          "data": {
            "text/markdown": [
              "| Key         | Value       |\n",
              "                   | ----------- | ----------- |\n",
              "| id | ConfluenceCloud |\n",
              "| name | Confluence (Cloud) |\n",
              "| description | Confluence |\n",
              "| icon | https://w7.pngwing.com/pngs/282/343/png-transparent-confluence-atlassian-logo-jira-sharepoint-confluence-health-mares-building-text-logo-area.png |"
            ],
            "text/plain": [
              "<IPython.core.display.Markdown object>"
            ]
          },
          "metadata": {},
          "output_type": "display_data"
        },
        {
          "data": {
            "text/markdown": [
              "---"
            ],
            "text/plain": [
              "<IPython.core.display.Markdown object>"
            ]
          },
          "metadata": {},
          "output_type": "display_data"
        },
        {
          "data": {
            "text/markdown": [
              "## JiraCloud"
            ],
            "text/plain": [
              "<IPython.core.display.Markdown object>"
            ]
          },
          "metadata": {},
          "output_type": "display_data"
        },
        {
          "data": {
            "text/markdown": [
              "| Key         | Value       |\n",
              "                   | ----------- | ----------- |\n",
              "| id | JiraCloud |\n",
              "| name | Jira (Cloud) |\n",
              "| description | Jira |\n",
              "| icon | https://w7.pngwing.com/pngs/282/343/png-transparent-jira-atlassian-logo-jira-sharepoint-jira-health-mares-building-text-logo-area.png |"
            ],
            "text/plain": [
              "<IPython.core.display.Markdown object>"
            ]
          },
          "metadata": {},
          "output_type": "display_data"
        },
        {
          "data": {
            "text/markdown": [
              "---"
            ],
            "text/plain": [
              "<IPython.core.display.Markdown object>"
            ]
          },
          "metadata": {},
          "output_type": "display_data"
        },
        {
          "data": {
            "text/markdown": [
              "## NewRelic"
            ],
            "text/plain": [
              "<IPython.core.display.Markdown object>"
            ]
          },
          "metadata": {},
          "output_type": "display_data"
        },
        {
          "data": {
            "text/markdown": [
              "| Key         | Value       |\n",
              "                   | ----------- | ----------- |\n",
              "| id | NewRelic |\n",
              "| name | NewRelic |\n",
              "| description | NewRelic |\n",
              "| icon | https://newrelic.com/themes/custom/erno/assets/mediakit/new_relic_logo_vertical.png |"
            ],
            "text/plain": [
              "<IPython.core.display.Markdown object>"
            ]
          },
          "metadata": {},
          "output_type": "display_data"
        }
      ],
      "source": [
        "from _CloudingAtlassianRepository import Personas, InternalSystems, ExternalSystems\n",
        "\n",
        "Personas.Print()\n",
        "InternalSystems.Print()\n",
        "ExternalSystems.Print()"
      ]
    },
    {
      "attachments": {},
      "cell_type": "markdown",
      "metadata": {
        "id": "bCGwc4xAOq2p"
      },
      "source": [
        "# Diagrams"
      ]
    },
    {
      "cell_type": "code",
      "execution_count": 24,
      "metadata": {
        "cellView": "form",
        "id": "jJg5kMDcZElg"
      },
      "outputs": [
        {
          "name": "stderr",
          "output_type": "stream",
          "text": [
            "Warning: No such file or directory while opening _default_icon.png\n",
            "Warning: No or improper image=\"_default_icon.png\" for node \"99a2443cf63049f080c4f8a74b60a4a7\"\n",
            "Warning: No such file or directory while opening _default_icon.png\n",
            "Warning: No or improper image=\"_default_icon.png\" for node \"66c5d1770e6f460fa6c6818bb139cdb1\"\n",
            "Warning: No such file or directory while opening _default_icon.png\n",
            "Warning: No or improper image=\"_default_icon.png\" for node \"adb24d9abd5c4a7ca77c7d3c4352009d\"\n",
            "Warning: No such file or directory while opening _default_icon.png\n",
            "Warning: No or improper image=\"_default_icon.png\" for node \"c359e21069dc4ada970c96ae522e4192\"\n",
            "Warning: No such file or directory while opening _default_icon.png\n",
            "Warning: No or improper image=\"_default_icon.png\" for node \"293566859cde48a6941b6c97d677b85f\"\n",
            "Warning: No such file or directory while opening _default_icon.png\n",
            "Warning: No or improper image=\"_default_icon.png\" for node \"2121c780e78049f7ac1e55390a0e45b4\"\n",
            "Warning: No loadimage plugin for \"jpeg:cairo\"\n"
          ]
        },
        {
          "data": {
            "image/png": "[encoded data removed]",
            "text/plain": [
              "<diagrams.Diagram at 0x1fd5071a590>"
            ]
          },
          "execution_count": 24,
          "metadata": {},
          "output_type": "execute_result"
        }
      ],
      "source": [
        "#@title Current State Definition\n",
        "from diagrams import Diagram\n",
        "from diagrams.c4 import SystemBoundary, Relationship\n",
        "from _CloudingAtlassianRepository import Personas, InternalSystems, ExternalSystems\n",
        "\n",
        "settings =  {\n",
        "  \"name\": \"_Current State Atlassian Suite Context Diagram\",\n",
        "  \"show\": False,\n",
        "  \"outformat\": \"png\",\n",
        "  \"direction\": \"TB\",\n",
        "  \"graph_attr\": global_graph_attr,\n",
        "  \"node_attr\": global_node_attr\n",
        "}\n",
        "\n",
        "with Diagram(** settings) as diagram:\n",
        "  internalUsers = Personas.InternalUser.Get()\n",
        "  remoteUsers = Personas.RemoteUser.Get()\n",
        "  externalUsers = Personas.ExternalUser.Get()\n",
        "\n",
        "  with SystemBoundary(\"On-Premise\"):\n",
        "    activeDirectory = InternalSystems.ActiveDirectory.Get()\n",
        "    globalProtect = InternalSystems.GlobalProtect.Get()\n",
        "    bamboo = InternalSystems.Bamboo.Get()\n",
        "    confluence = InternalSystems.Confluence.Get()\n",
        "    jira = InternalSystems.Jira.Get()\n",
        "    disc = InternalSystems.Disc.Get()\n",
        "    citrix = InternalSystems.Citrix.Get()\n",
        "\n",
        "  with SystemBoundary(\"Amazon Cloud\"):\n",
        "    bitBucket = InternalSystems.BitBucket.Get()\n",
        "\n",
        "  jenkins = InternalSystems.Jenkins.Get()\n",
        "  serviceNow = InternalSystems.ServiceNow.Get()\n",
        "  powerBi = InternalSystems.PowerBi.Get()\n",
        "  intranet = InternalSystems.Intranet.Get()\n",
        "  okta = InternalSystems.Okta.Get()\n",
        "  gitLab = InternalSystems.GitLab.Get()\n",
        "\n",
        "  internalUsers >> Relationship(\"Access via\") >> [okta]\n",
        "  remoteUsers >> Relationship(\"Access via\") >> [globalProtect]\n",
        "  externalUsers >> Relationship(\"Access via\") >> [citrix]\n",
        "  okta >> Relationship(\"??\") >> [gitLab, activeDirectory, citrix]\n",
        "  jira >> Relationship(\"??\") >> [serviceNow]\n",
        "  gitLab >> Relationship(\"??\") << jira\n",
        "  jira >> Relationship(\"OAuth\") << [bitBucket, confluence]\n",
        "  globalProtect >> Relationship(\"??\") << [activeDirectory]\n",
        "  activeDirectory >> Relationship(\"??\") >> [jira, confluence, bamboo, disc]\n",
        "  confluence >> Relationship(\"??\") >> [intranet]\n",
        "  confluence >> Relationship(\"OAuth\") >> [bitBucket]\n",
        "  jira >> Relationship(\"API\") >> [powerBi]\n",
        "  bitBucket >> Relationship(\"??\") >> [jenkins]\n",
        "\n",
        "diagram"
      ]
    },
    {
      "cell_type": "code",
      "execution_count": 22,
      "metadata": {
        "cellView": "form",
        "id": "fQyawgfXelmH"
      },
      "outputs": [
        {
          "name": "stderr",
          "output_type": "stream",
          "text": [
            "Warning: No such file or directory while opening _default_icon.png\n",
            "Warning: No or improper image=\"_default_icon.png\" for node \"a2337a4d58824108856154df33104057\"\n",
            "Warning: No such file or directory while opening _default_icon.png\n",
            "Warning: No or improper image=\"_default_icon.png\" for node \"913f8dd52c5f46789e3f77ddf9ac7241\"\n",
            "Warning: No such file or directory while opening _default_icon.png\n",
            "Warning: No or improper image=\"_default_icon.png\" for node \"c2e8df30b1a64d3a9f567ba6a5a159dd\"\n",
            "Warning: No such file or directory while opening _default_icon.png\n",
            "Warning: No or improper image=\"_default_icon.png\" for node \"fdd6e4614ef14118b08596322916a27f\"\n",
            "Warning: No such file or directory while opening _default_icon.png\n",
            "Warning: No or improper image=\"_default_icon.png\" for node \"95391ef09dde4b3aaf62ae712a7dfe46\"\n",
            "Warning: No such file or directory while opening _default_icon.png\n",
            "Warning: No or improper image=\"_default_icon.png\" for node \"ffac0e0a7b46443c837c3aca632866f3\"\n",
            "Warning: No such file or directory while opening _default_icon.png\n",
            "Warning: No or improper image=\"_default_icon.png\" for node \"f6782ee01de546d8b26f5fc506f553a0\"\n",
            "Warning: No such file or directory while opening _default_icon.png\n",
            "Warning: No or improper image=\"_default_icon.png\" for node \"cd48a5d8fb7443c0ab19ed195d5ddbe6\"\n",
            "Warning: No loadimage plugin for \"jpeg:cairo\"\n"
          ]
        },
        {
          "data": {
            "image/png": "[encoded data removed]",
            "text/plain": [
              "<diagrams.Diagram at 0x1fd4faf3fd0>"
            ]
          },
          "execution_count": 22,
          "metadata": {},
          "output_type": "execute_result"
        }
      ],
      "source": [
        "#@title Transition State Definition\n",
        "from diagrams import Diagram\n",
        "from diagrams.c4 import SystemBoundary, Relationship \n",
        "from _CloudingAtlassianRepository import Personas, InternalSystems, ExternalSystems\n",
        "\n",
        "settings =  {\n",
        "  \"name\": \"_Transition State Atlassian Suite Context Diagram\",\n",
        "  \"show\": False,\n",
        "  \"outformat\": \"png\",\n",
        "  \"direction\": \"TB\",\n",
        "  \"graph_attr\": global_graph_attr,\n",
        "  \"node_attr\": global_node_attr\n",
        "}\n",
        "\n",
        "with Diagram(** settings) as diagram:\n",
        "  internalUsers = Personas.InternalUser.Get()\n",
        "  remoteUsers = Personas.RemoteUser.Get()\n",
        "  externalUsers = Personas.ExternalUser.Get()\n",
        "\n",
        "  with SystemBoundary(\"On-Premise\"):\n",
        "    activeDirectory = InternalSystems.ActiveDirectory.Get()\n",
        "    globalProtect = InternalSystems.GlobalProtect.Get()\n",
        "    bamboo = InternalSystems.Bamboo.Get()\n",
        "    disc = InternalSystems.Disc.Get()\n",
        "    citrix = InternalSystems.Citrix.Get()\n",
        "\n",
        "  with SystemBoundary(\"Amazon Cloud\"):\n",
        "    bitBucket = InternalSystems.BitBucket.Get()\n",
        "\n",
        "  with SystemBoundary(\"Atlassian\"):\n",
        "    confluence = ExternalSystems.ConfluenceCloud.Get()\n",
        "    jira = ExternalSystems.JiraCloud.Get()\n",
        "\n",
        "  jenkins = InternalSystems.Jenkins.Get()\n",
        "  serviceNow = InternalSystems.ServiceNow.Get()\n",
        "  powerBi = InternalSystems.PowerBi.Get()\n",
        "  internet = InternalSystems.Intranet.Get()\n",
        "  okta = InternalSystems.Okta.Get()\n",
        "  gitLab = InternalSystems.GitLab.Get()\n",
        "\n",
        "  internalUsers >> Relationship(\"Access via\") >> [okta]\n",
        "  remoteUsers >> Relationship(\"Access via\") >> [globalProtect]\n",
        "  externalUsers >> Relationship(\"Access via\") >> [citrix]\n",
        "  okta >> Relationship(\"??\") >> [gitLab, activeDirectory, citrix]\n",
        "  jira >> Relationship(\"??\") >> [serviceNow]\n",
        "  gitLab >> Relationship(\"??\") << jira\n",
        "  jira >> Relationship(\"OAuth\") << [bitBucket, confluence]\n",
        "  globalProtect >> Relationship(\"??\") << [activeDirectory]\n",
        "  activeDirectory >> Relationship(\"??\") >> [jira, confluence, bamboo, disc]\n",
        "  confluence >> Relationship(\"??\") >> [internet]\n",
        "  confluence >> Relationship(\"OAuth\") >> [bitBucket]\n",
        "  jira >> Relationship(\"API\") >> [powerBi]\n",
        "  bitBucket >> Relationship(\"??\") >> [jenkins]\n",
        "\n",
        "diagram"
      ]
    },
    {
      "cell_type": "code",
      "execution_count": 23,
      "metadata": {
        "cellView": "form",
        "id": "KTLL9xa2Oe7e"
      },
      "outputs": [
        {
          "name": "stderr",
          "output_type": "stream",
          "text": [
            "Warning: No such file or directory while opening _default_icon.png\n",
            "Warning: No or improper image=\"_default_icon.png\" for node \"6db79285c7524cc8bc7f1960197a4422\"\n",
            "Warning: No such file or directory while opening _default_icon.png\n",
            "Warning: No or improper image=\"_default_icon.png\" for node \"7e109648ff9d4f0ca3e3b12993b9a0a8\"\n",
            "Warning: No such file or directory while opening _default_icon.png\n",
            "Warning: No or improper image=\"_default_icon.png\" for node \"e8f6af8f14b9446fb28eba5e514e9638\"\n",
            "Warning: No such file or directory while opening _default_icon.png\n",
            "Warning: No or improper image=\"_default_icon.png\" for node \"ce0fd567e3974498878ad00ef38222ad\"\n",
            "Warning: No such file or directory while opening _default_icon.png\n",
            "Warning: No or improper image=\"_default_icon.png\" for node \"cc496819fb28449f962571e116f51b70\"\n",
            "Warning: No such file or directory while opening _default_icon.png\n",
            "Warning: No or improper image=\"_default_icon.png\" for node \"bef55942719842ef8b0f6af7a5134f0c\"\n",
            "Warning: No such file or directory while opening _default_icon.png\n",
            "Warning: No or improper image=\"_default_icon.png\" for node \"84c1704a73a84c8e8037539e0f5c7e9b\"\n",
            "Warning: No such file or directory while opening _default_icon.png\n",
            "Warning: No or improper image=\"_default_icon.png\" for node \"9fd80a6b79624cca8026b2b6fad04779\"\n",
            "Warning: No loadimage plugin for \"jpeg:cairo\"\n"
          ]
        },
        {
          "data": {
            "image/png": "[encoded data removed]",
            "text/plain": [
              "<diagrams.Diagram at 0x1fd50751650>"
            ]
          },
          "execution_count": 23,
          "metadata": {},
          "output_type": "execute_result"
        }
      ],
      "source": [
        "#@title Future State Definition\n",
        "from diagrams import Diagram\n",
        "from diagrams.c4 import SystemBoundary, Relationship\n",
        "from _CloudingAtlassianRepository import Personas, InternalSystems, ExternalSystems\n",
        "\n",
        "settings =  {\n",
        "  \"name\": \"_Future State Atlassian Suite Context Diagram\",\n",
        "  \"show\": False,\n",
        "  \"outformat\": \"png\",\n",
        "  \"direction\": \"TB\",\n",
        "  \"graph_attr\": global_graph_attr,\n",
        "  \"node_attr\": global_node_attr\n",
        "}\n",
        "\n",
        "with Diagram(** settings) as diagram:\n",
        "  internalUsers = Personas.InternalUser.Get()\n",
        "  remoteUsers = Personas.RemoteUser.Get()\n",
        "  externalUsers = Personas.ExternalUser.Get()\n",
        "\n",
        "  with SystemBoundary(\"On-Premise\"):\n",
        "    activeDirectory = InternalSystems.ActiveDirectory.Get()\n",
        "    globalProtect = InternalSystems.GlobalProtect.Get()\n",
        "    bamboo = InternalSystems.Bamboo.Get()\n",
        "    disc = InternalSystems.Disc.Get()\n",
        "    citrix = InternalSystems.Citrix.Get()\n",
        "\n",
        "  with SystemBoundary(\"Amazon Cloud\"):\n",
        "    bitBucket = InternalSystems.BitBucket.Get()\n",
        "\n",
        "  with SystemBoundary(\"Atlassian\"):\n",
        "    confluence = ExternalSystems.ConfluenceCloud.Get()\n",
        "    jira = ExternalSystems.JiraCloud.Get()\n",
        "\n",
        "  jenkins = InternalSystems.Jenkins.Get()\n",
        "  serviceNow = InternalSystems.ServiceNow.Get()\n",
        "  powerBi = InternalSystems.PowerBi.Get()\n",
        "  intranet = InternalSystems.Intranet.Get()\n",
        "  okta = InternalSystems.Okta.Get()\n",
        "  gitLab = InternalSystems.GitLab.Get()\n",
        "\n",
        "  internalUsers >> Relationship(\"Access via\") >> [okta]\n",
        "  remoteUsers >> Relationship(\"Access via\") >> [globalProtect]\n",
        "  externalUsers >> Relationship(\"Access via\") >> [citrix]\n",
        "  okta >> Relationship(\"??\") >> [gitLab, activeDirectory, citrix]\n",
        "  jira >> Relationship(\"??\") >> [serviceNow]\n",
        "  gitLab >> Relationship(\"??\") << jira\n",
        "  jira >> Relationship(\"OAuth\") << [bitBucket, confluence]\n",
        "  globalProtect >> Relationship(\"??\") << [activeDirectory]\n",
        "  activeDirectory >> Relationship(\"??\") >> [jira, confluence, bamboo, disc]\n",
        "  confluence >> Relationship(\"??\") >> [intranet]\n",
        "  confluence >> Relationship(\"OAuth\") >> [bitBucket]\n",
        "  jira >> Relationship(\"API\") >> [powerBi]\n",
        "  bitBucket >> Relationship(\"??\") >> [jenkins]\n",
        "\n",
        "diagram"
      ]
    }
  ],
  "metadata": {
    "colab": {
      "authorship_tag": "ABX9TyPmdJeuO2F7PLw7eY64cKcm",
      "include_colab_link": true,
      "provenance": [],
      "toc_visible": true
    },
    "kernelspec": {
      "display_name": "Python 3",
      "name": "python3"
    },
    "language_info": {
      "codemirror_mode": {
        "name": "ipython",
        "version": 3
      },
      "file_extension": ".py",
      "mimetype": "text/x-python",
      "name": "python",
      "nbconvert_exporter": "python",
      "pygments_lexer": "ipython3",
      "version": "3.11.4"
    }
  },
  "nbformat": 4,
  "nbformat_minor": 0
}
